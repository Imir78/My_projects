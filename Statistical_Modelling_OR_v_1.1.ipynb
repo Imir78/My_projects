{
 "cells": [
  {
   "cell_type": "markdown",
   "id": "ff67bd2e",
   "metadata": {},
   "source": [
    "## <center>STATISTICAL MODELLING OF OPERATIONAL RISK LOSSES (v 1.0)</center>\n",
    "### <center>USING PYTHON PROGRAMMING LANGUAGE</center>\n",
    "Operational Risk Value at Risk Calculation using Monte-Carlo simulation of Inverse Binomial Distribution and Poisson Distribution to generate frequency of risks and Inverse Lognormal Distribution to generate loss severity.\n",
    "The data for operational risk losses is downloaded from \"OpVar\" package for R and is used for computation within this notebook.\n",
    "\n",
    "Prepared by Imir Osmanov.\n",
    "Date: 03.04.2024."
   ]
  },
  {
   "cell_type": "markdown",
   "id": "e705ba77",
   "metadata": {},
   "source": [
    "## <center> EXECUTIVE SUMMARY </center>\n",
    "### Purpose:\n",
    "The purpose of this analysis is to compare 2 different approaches for computation of Operational Risk Value-at-Risk (VaR) based on Monte-Carlo simulation.\n",
    "The scope is methodology for Operational Risk Value-at-Risk (VaR) computation.\n",
    "### Main findings:\n",
    "2 different approaches show different results of calculations with the significant differences. In particular, monthly VaR with 95% confidence using Inverse Binomial Distribution for generating frequency/number of Operational Risk events is 204 529.03 and for Poisson Distribution is 160 642.86.\n",
    "As per Basel II requirements for Advanced Measurement Approaches with 99% confidence monthly VaR for Binomial Distribution is 376 601.27 and Poisson is 279 687.32.\n",
    "Monthly Expected Loss (Mean) for Binomial is 74 519.26 and Poisson is 74 885.17.\n",
    "Monthly Expected Loss (Median) for Binomial 52 724.26 and for Poisson 61 742.08. \n",
    "Unexpected Loss for Binomial is 302 081.65 and Poisson is 204 802.15, which are very distinct.\n",
    "Annual VaR with 95% confidence also show distinct resuls like 708 509.36 for Binomial and 556 483.19 for Poisson distribution.\n",
    "### Methodology:\n",
    "The methodology for statistical modelling of Operational Risk Losses is based on Monte-Carlo simulation to generate frequency/number of Operational Risk events using 2 differenct approaches as Inverse Binomial Distribution and Poisson Distribution and Inverse Lognormal Distribution to generate Operational Risk Losses/amounts of losses with Python programming language.\n",
    "### Recommendations:\n",
    "It is recommended to further review both approaches and apply them for different Operational Risk Losses to make final conclusion on what approach to use and apply for computation of Operational Risk Capital.\n",
    "It is also recommended to carry out numerous of iterations for computations of VaR as well as using statistical bootstraping technique, for example, about 10 000 iterations (samples) for computation of VaR and making final decision.\n",
    "### Next Steps:\n",
    "The next steps and areas for further development of methodology are:\n",
    "1. To carry out further analysis using applicable statistical distributions (Normal (Gaussian), Paretto, Exponential, Beta).\n",
    "2. To carry out generation of tails of distribution for extreme events using Extreme Value Theory using available distributions (Gumbel, Frechet, Weibull) and account them in VaR computation.\n",
    "3. To apply adjustment of Operational Risk Losses to annual inflation rate.\n",
    "4. To apply bootstraping technique for iterations of VaR computation and calculation of confidence intervals."
   ]
  },
  {
   "cell_type": "code",
   "execution_count": 194,
   "id": "668a9e96",
   "metadata": {},
   "outputs": [],
   "source": [
    "# Import required libraries\n",
    "import numpy as np\n",
    "import pandas as pd\n",
    "import seaborn as sns\n",
    "import matplotlib.pyplot as plt\n",
    "import scipy.stats as stats\n",
    "import math"
   ]
  },
  {
   "cell_type": "code",
   "execution_count": 195,
   "id": "01fb9df1",
   "metadata": {},
   "outputs": [
    {
     "data": {
      "text/html": [
       "<div>\n",
       "<style scoped>\n",
       "    .dataframe tbody tr th:only-of-type {\n",
       "        vertical-align: middle;\n",
       "    }\n",
       "\n",
       "    .dataframe tbody tr th {\n",
       "        vertical-align: top;\n",
       "    }\n",
       "\n",
       "    .dataframe thead th {\n",
       "        text-align: right;\n",
       "    }\n",
       "</style>\n",
       "<table border=\"1\" class=\"dataframe\">\n",
       "  <thead>\n",
       "    <tr style=\"text-align: right;\">\n",
       "      <th></th>\n",
       "      <th>Loss</th>\n",
       "      <th>Period</th>\n",
       "      <th>Date</th>\n",
       "    </tr>\n",
       "  </thead>\n",
       "  <tbody>\n",
       "    <tr>\n",
       "      <th>0</th>\n",
       "      <td>1877</td>\n",
       "      <td>1</td>\n",
       "      <td>2016-12-31</td>\n",
       "    </tr>\n",
       "    <tr>\n",
       "      <th>1</th>\n",
       "      <td>1807</td>\n",
       "      <td>1</td>\n",
       "      <td>2016-12-30</td>\n",
       "    </tr>\n",
       "    <tr>\n",
       "      <th>2</th>\n",
       "      <td>918</td>\n",
       "      <td>1</td>\n",
       "      <td>2016-12-30</td>\n",
       "    </tr>\n",
       "    <tr>\n",
       "      <th>3</th>\n",
       "      <td>1480</td>\n",
       "      <td>1</td>\n",
       "      <td>2016-12-29</td>\n",
       "    </tr>\n",
       "    <tr>\n",
       "      <th>4</th>\n",
       "      <td>1218</td>\n",
       "      <td>1</td>\n",
       "      <td>2016-12-27</td>\n",
       "    </tr>\n",
       "  </tbody>\n",
       "</table>\n",
       "</div>"
      ],
      "text/plain": [
       "   Loss  Period       Date\n",
       "0  1877       1 2016-12-31\n",
       "1  1807       1 2016-12-30\n",
       "2   918       1 2016-12-30\n",
       "3  1480       1 2016-12-29\n",
       "4  1218       1 2016-12-27"
      ]
     },
     "execution_count": 195,
     "metadata": {},
     "output_type": "execute_result"
    }
   ],
   "source": [
    "# Downloading necessary files\n",
    "# Operational losses type 1\n",
    "filepath_1 = 'C:/Users/user/Documents/R studio/file1.xlsx'\n",
    "df_loss_1 = pd.read_excel(filepath_1)\n",
    "df_loss_1.head()"
   ]
  },
  {
   "cell_type": "code",
   "execution_count": 196,
   "id": "a9d1ccd8",
   "metadata": {},
   "outputs": [
    {
     "data": {
      "text/html": [
       "<div>\n",
       "<style scoped>\n",
       "    .dataframe tbody tr th:only-of-type {\n",
       "        vertical-align: middle;\n",
       "    }\n",
       "\n",
       "    .dataframe tbody tr th {\n",
       "        vertical-align: top;\n",
       "    }\n",
       "\n",
       "    .dataframe thead th {\n",
       "        text-align: right;\n",
       "    }\n",
       "</style>\n",
       "<table border=\"1\" class=\"dataframe\">\n",
       "  <thead>\n",
       "    <tr style=\"text-align: right;\">\n",
       "      <th></th>\n",
       "      <th>Loss</th>\n",
       "      <th>Period</th>\n",
       "      <th>Date</th>\n",
       "    </tr>\n",
       "  </thead>\n",
       "  <tbody>\n",
       "    <tr>\n",
       "      <th>0</th>\n",
       "      <td>181</td>\n",
       "      <td>1</td>\n",
       "      <td>2016-12-31</td>\n",
       "    </tr>\n",
       "    <tr>\n",
       "      <th>1</th>\n",
       "      <td>610</td>\n",
       "      <td>1</td>\n",
       "      <td>2016-12-23</td>\n",
       "    </tr>\n",
       "    <tr>\n",
       "      <th>2</th>\n",
       "      <td>961</td>\n",
       "      <td>1</td>\n",
       "      <td>2016-12-19</td>\n",
       "    </tr>\n",
       "    <tr>\n",
       "      <th>3</th>\n",
       "      <td>1312</td>\n",
       "      <td>1</td>\n",
       "      <td>2016-12-19</td>\n",
       "    </tr>\n",
       "    <tr>\n",
       "      <th>4</th>\n",
       "      <td>259</td>\n",
       "      <td>1</td>\n",
       "      <td>2016-12-14</td>\n",
       "    </tr>\n",
       "  </tbody>\n",
       "</table>\n",
       "</div>"
      ],
      "text/plain": [
       "   Loss  Period       Date\n",
       "0   181       1 2016-12-31\n",
       "1   610       1 2016-12-23\n",
       "2   961       1 2016-12-19\n",
       "3  1312       1 2016-12-19\n",
       "4   259       1 2016-12-14"
      ]
     },
     "execution_count": 196,
     "metadata": {},
     "output_type": "execute_result"
    }
   ],
   "source": [
    "# Downloading necessary files\n",
    "# Operational losses type 2\n",
    "filepath_2 = 'C:/Users/user/Documents/R studio/file2.xlsx'\n",
    "df_loss_2 = pd.read_excel(filepath_2)\n",
    "df_loss_2.head()"
   ]
  },
  {
   "cell_type": "code",
   "execution_count": 197,
   "id": "bd85ab10",
   "metadata": {},
   "outputs": [
    {
     "data": {
      "text/html": [
       "<div>\n",
       "<style scoped>\n",
       "    .dataframe tbody tr th:only-of-type {\n",
       "        vertical-align: middle;\n",
       "    }\n",
       "\n",
       "    .dataframe tbody tr th {\n",
       "        vertical-align: top;\n",
       "    }\n",
       "\n",
       "    .dataframe thead th {\n",
       "        text-align: right;\n",
       "    }\n",
       "</style>\n",
       "<table border=\"1\" class=\"dataframe\">\n",
       "  <thead>\n",
       "    <tr style=\"text-align: right;\">\n",
       "      <th></th>\n",
       "      <th>Loss</th>\n",
       "      <th>Period</th>\n",
       "      <th>Date</th>\n",
       "    </tr>\n",
       "  </thead>\n",
       "  <tbody>\n",
       "    <tr>\n",
       "      <th>0</th>\n",
       "      <td>1334</td>\n",
       "      <td>1</td>\n",
       "      <td>2016-12-31</td>\n",
       "    </tr>\n",
       "    <tr>\n",
       "      <th>1</th>\n",
       "      <td>1067</td>\n",
       "      <td>1</td>\n",
       "      <td>2016-12-30</td>\n",
       "    </tr>\n",
       "    <tr>\n",
       "      <th>2</th>\n",
       "      <td>1068</td>\n",
       "      <td>1</td>\n",
       "      <td>2016-12-29</td>\n",
       "    </tr>\n",
       "    <tr>\n",
       "      <th>3</th>\n",
       "      <td>714</td>\n",
       "      <td>1</td>\n",
       "      <td>2016-12-26</td>\n",
       "    </tr>\n",
       "    <tr>\n",
       "      <th>4</th>\n",
       "      <td>1590</td>\n",
       "      <td>1</td>\n",
       "      <td>2016-12-26</td>\n",
       "    </tr>\n",
       "  </tbody>\n",
       "</table>\n",
       "</div>"
      ],
      "text/plain": [
       "   Loss  Period       Date\n",
       "0  1334       1 2016-12-31\n",
       "1  1067       1 2016-12-30\n",
       "2  1068       1 2016-12-29\n",
       "3   714       1 2016-12-26\n",
       "4  1590       1 2016-12-26"
      ]
     },
     "execution_count": 197,
     "metadata": {},
     "output_type": "execute_result"
    }
   ],
   "source": [
    "# Downloading necessary files\n",
    "# Operational losses type 3\n",
    "filepath_3 = 'C:/Users/user/Documents/R studio/file3.xlsx'\n",
    "df_loss_3 = pd.read_excel(filepath_3)\n",
    "df_loss_3.head()"
   ]
  },
  {
   "cell_type": "code",
   "execution_count": 198,
   "id": "3a6a2132",
   "metadata": {},
   "outputs": [
    {
     "data": {
      "text/html": [
       "<div>\n",
       "<style scoped>\n",
       "    .dataframe tbody tr th:only-of-type {\n",
       "        vertical-align: middle;\n",
       "    }\n",
       "\n",
       "    .dataframe tbody tr th {\n",
       "        vertical-align: top;\n",
       "    }\n",
       "\n",
       "    .dataframe thead th {\n",
       "        text-align: right;\n",
       "    }\n",
       "</style>\n",
       "<table border=\"1\" class=\"dataframe\">\n",
       "  <thead>\n",
       "    <tr style=\"text-align: right;\">\n",
       "      <th></th>\n",
       "      <th>Loss</th>\n",
       "      <th>Period</th>\n",
       "      <th>Date</th>\n",
       "    </tr>\n",
       "  </thead>\n",
       "  <tbody>\n",
       "    <tr>\n",
       "      <th>0</th>\n",
       "      <td>650</td>\n",
       "      <td>1</td>\n",
       "      <td>2016-12-31</td>\n",
       "    </tr>\n",
       "    <tr>\n",
       "      <th>1</th>\n",
       "      <td>847</td>\n",
       "      <td>1</td>\n",
       "      <td>2016-12-30</td>\n",
       "    </tr>\n",
       "    <tr>\n",
       "      <th>2</th>\n",
       "      <td>242</td>\n",
       "      <td>1</td>\n",
       "      <td>2016-12-11</td>\n",
       "    </tr>\n",
       "    <tr>\n",
       "      <th>3</th>\n",
       "      <td>513</td>\n",
       "      <td>1</td>\n",
       "      <td>2016-12-09</td>\n",
       "    </tr>\n",
       "    <tr>\n",
       "      <th>4</th>\n",
       "      <td>264</td>\n",
       "      <td>1</td>\n",
       "      <td>2016-12-07</td>\n",
       "    </tr>\n",
       "  </tbody>\n",
       "</table>\n",
       "</div>"
      ],
      "text/plain": [
       "   Loss  Period       Date\n",
       "0   650       1 2016-12-31\n",
       "1   847       1 2016-12-30\n",
       "2   242       1 2016-12-11\n",
       "3   513       1 2016-12-09\n",
       "4   264       1 2016-12-07"
      ]
     },
     "execution_count": 198,
     "metadata": {},
     "output_type": "execute_result"
    }
   ],
   "source": [
    "# Downloading necessary files\n",
    "# Operational losses type 4\n",
    "filepath_4 = 'C:/Users/user/Documents/R studio/file4.xlsx'\n",
    "df_loss_4 = pd.read_excel(filepath_4)\n",
    "df_loss_4.head()"
   ]
  },
  {
   "cell_type": "markdown",
   "id": "8db6dbbf",
   "metadata": {},
   "source": [
    "# 1. Exploratory Data Analysis"
   ]
  },
  {
   "cell_type": "code",
   "execution_count": 199,
   "id": "ea59b997",
   "metadata": {},
   "outputs": [
    {
     "name": "stdout",
     "output_type": "stream",
     "text": [
      "Shape of df_loss_1 : (1965, 3)\n",
      "Total number of rows : 1965\n",
      "Total number of columns : 3\n"
     ]
    }
   ],
   "source": [
    "print(f'Shape of df_loss_1 : {df_loss_1.shape}')\n",
    "print(f'Total number of rows : {df_loss_1.shape[0]}')\n",
    "print(f'Total number of columns : {df_loss_1.shape[1]}')"
   ]
  },
  {
   "cell_type": "code",
   "execution_count": 200,
   "id": "d9a46720",
   "metadata": {},
   "outputs": [
    {
     "name": "stdout",
     "output_type": "stream",
     "text": [
      "Shape of df_loss_2 : (2025, 3)\n",
      "Total number of rows : 2025\n",
      "Total number of columns : 3\n"
     ]
    }
   ],
   "source": [
    "print(f'Shape of df_loss_2 : {df_loss_2.shape}')\n",
    "print(f'Total number of rows : {df_loss_2.shape[0]}')\n",
    "print(f'Total number of columns : {df_loss_2.shape[1]}')"
   ]
  },
  {
   "cell_type": "code",
   "execution_count": 201,
   "id": "c5382608",
   "metadata": {},
   "outputs": [
    {
     "name": "stdout",
     "output_type": "stream",
     "text": [
      "Shape of df_loss_3 : (1995, 3)\n",
      "Total number of rows : 1995\n",
      "Total number of columns : 3\n"
     ]
    }
   ],
   "source": [
    "print(f'Shape of df_loss_3 : {df_loss_3.shape}')\n",
    "print(f'Total number of rows : {df_loss_3.shape[0]}')\n",
    "print(f'Total number of columns : {df_loss_3.shape[1]}')"
   ]
  },
  {
   "cell_type": "code",
   "execution_count": 202,
   "id": "a7dd09a9",
   "metadata": {},
   "outputs": [
    {
     "name": "stdout",
     "output_type": "stream",
     "text": [
      "Shape of df_loss_4 : (1941, 3)\n",
      "Total number of rows : 1941\n",
      "Total number of columns : 3\n"
     ]
    }
   ],
   "source": [
    "print(f'Shape of df_loss_4 : {df_loss_4.shape}')\n",
    "print(f'Total number of rows : {df_loss_4.shape[0]}')\n",
    "print(f'Total number of columns : {df_loss_4.shape[1]}')"
   ]
  },
  {
   "cell_type": "markdown",
   "id": "7e225d06",
   "metadata": {},
   "source": [
    "Checking dataframes"
   ]
  },
  {
   "cell_type": "code",
   "execution_count": 203,
   "id": "dfc5a8bc",
   "metadata": {},
   "outputs": [
    {
     "name": "stdout",
     "output_type": "stream",
     "text": [
      "<class 'pandas.core.frame.DataFrame'>\n",
      "RangeIndex: 1965 entries, 0 to 1964\n",
      "Data columns (total 3 columns):\n",
      " #   Column  Non-Null Count  Dtype         \n",
      "---  ------  --------------  -----         \n",
      " 0   Loss    1965 non-null   int64         \n",
      " 1   Period  1965 non-null   int64         \n",
      " 2   Date    1965 non-null   datetime64[ns]\n",
      "dtypes: datetime64[ns](1), int64(2)\n",
      "memory usage: 46.2 KB\n"
     ]
    }
   ],
   "source": [
    "df_loss_1.info()"
   ]
  },
  {
   "cell_type": "code",
   "execution_count": 204,
   "id": "5851ec32",
   "metadata": {},
   "outputs": [
    {
     "name": "stdout",
     "output_type": "stream",
     "text": [
      "<class 'pandas.core.frame.DataFrame'>\n",
      "RangeIndex: 2025 entries, 0 to 2024\n",
      "Data columns (total 3 columns):\n",
      " #   Column  Non-Null Count  Dtype         \n",
      "---  ------  --------------  -----         \n",
      " 0   Loss    2025 non-null   int64         \n",
      " 1   Period  2025 non-null   int64         \n",
      " 2   Date    2025 non-null   datetime64[ns]\n",
      "dtypes: datetime64[ns](1), int64(2)\n",
      "memory usage: 47.6 KB\n"
     ]
    }
   ],
   "source": [
    "df_loss_2.info()"
   ]
  },
  {
   "cell_type": "code",
   "execution_count": 205,
   "id": "9661bece",
   "metadata": {},
   "outputs": [
    {
     "name": "stdout",
     "output_type": "stream",
     "text": [
      "<class 'pandas.core.frame.DataFrame'>\n",
      "RangeIndex: 1995 entries, 0 to 1994\n",
      "Data columns (total 3 columns):\n",
      " #   Column  Non-Null Count  Dtype         \n",
      "---  ------  --------------  -----         \n",
      " 0   Loss    1995 non-null   int64         \n",
      " 1   Period  1995 non-null   int64         \n",
      " 2   Date    1995 non-null   datetime64[ns]\n",
      "dtypes: datetime64[ns](1), int64(2)\n",
      "memory usage: 46.9 KB\n"
     ]
    }
   ],
   "source": [
    "df_loss_3.info()"
   ]
  },
  {
   "cell_type": "code",
   "execution_count": 206,
   "id": "695da2ea",
   "metadata": {},
   "outputs": [
    {
     "name": "stdout",
     "output_type": "stream",
     "text": [
      "<class 'pandas.core.frame.DataFrame'>\n",
      "RangeIndex: 1941 entries, 0 to 1940\n",
      "Data columns (total 3 columns):\n",
      " #   Column  Non-Null Count  Dtype         \n",
      "---  ------  --------------  -----         \n",
      " 0   Loss    1941 non-null   int64         \n",
      " 1   Period  1941 non-null   int64         \n",
      " 2   Date    1941 non-null   datetime64[ns]\n",
      "dtypes: datetime64[ns](1), int64(2)\n",
      "memory usage: 45.6 KB\n"
     ]
    }
   ],
   "source": [
    "df_loss_4.info()"
   ]
  },
  {
   "cell_type": "markdown",
   "id": "15b6836d",
   "metadata": {},
   "source": [
    "Observations:\n",
    "\n",
    "Numeric features have int64 dtype:\n",
    "1. Loss\n",
    "2. Period\n",
    "\n",
    "Date feature has datetime64[ns] dtype."
   ]
  },
  {
   "cell_type": "markdown",
   "id": "28aa06ef",
   "metadata": {},
   "source": [
    "# 2. Checking for null and duplicate values"
   ]
  },
  {
   "cell_type": "code",
   "execution_count": 207,
   "id": "4823ca1c",
   "metadata": {},
   "outputs": [
    {
     "data": {
      "text/plain": [
       "Loss      0\n",
       "Period    0\n",
       "Date      0\n",
       "dtype: int64"
      ]
     },
     "execution_count": 207,
     "metadata": {},
     "output_type": "execute_result"
    }
   ],
   "source": [
    "df_loss_1.isna().sum()"
   ]
  },
  {
   "cell_type": "code",
   "execution_count": 208,
   "id": "6c317f5b",
   "metadata": {},
   "outputs": [
    {
     "data": {
      "text/plain": [
       "0"
      ]
     },
     "execution_count": 208,
     "metadata": {},
     "output_type": "execute_result"
    }
   ],
   "source": [
    "df_loss_1.duplicated().sum()"
   ]
  },
  {
   "cell_type": "code",
   "execution_count": 209,
   "id": "ff619ab5",
   "metadata": {},
   "outputs": [
    {
     "data": {
      "text/plain": [
       "Loss      0\n",
       "Period    0\n",
       "Date      0\n",
       "dtype: int64"
      ]
     },
     "execution_count": 209,
     "metadata": {},
     "output_type": "execute_result"
    }
   ],
   "source": [
    "df_loss_2.isna().sum()"
   ]
  },
  {
   "cell_type": "code",
   "execution_count": 210,
   "id": "f1b206e3",
   "metadata": {},
   "outputs": [
    {
     "data": {
      "text/plain": [
       "0"
      ]
     },
     "execution_count": 210,
     "metadata": {},
     "output_type": "execute_result"
    }
   ],
   "source": [
    "df_loss_2.duplicated().sum()"
   ]
  },
  {
   "cell_type": "code",
   "execution_count": 211,
   "id": "3647ea5d",
   "metadata": {},
   "outputs": [
    {
     "data": {
      "text/plain": [
       "Loss      0\n",
       "Period    0\n",
       "Date      0\n",
       "dtype: int64"
      ]
     },
     "execution_count": 211,
     "metadata": {},
     "output_type": "execute_result"
    }
   ],
   "source": [
    "df_loss_3.isna().sum()"
   ]
  },
  {
   "cell_type": "code",
   "execution_count": 212,
   "id": "31534c35",
   "metadata": {},
   "outputs": [
    {
     "data": {
      "text/plain": [
       "0"
      ]
     },
     "execution_count": 212,
     "metadata": {},
     "output_type": "execute_result"
    }
   ],
   "source": [
    "df_loss_3.duplicated().sum()"
   ]
  },
  {
   "cell_type": "code",
   "execution_count": 213,
   "id": "161a4f7b",
   "metadata": {},
   "outputs": [
    {
     "data": {
      "text/plain": [
       "Loss      0\n",
       "Period    0\n",
       "Date      0\n",
       "dtype: int64"
      ]
     },
     "execution_count": 213,
     "metadata": {},
     "output_type": "execute_result"
    }
   ],
   "source": [
    "df_loss_4.isna().sum()"
   ]
  },
  {
   "cell_type": "code",
   "execution_count": 214,
   "id": "06ba6415",
   "metadata": {},
   "outputs": [
    {
     "data": {
      "text/plain": [
       "0"
      ]
     },
     "execution_count": 214,
     "metadata": {},
     "output_type": "execute_result"
    }
   ],
   "source": [
    "df_loss_4.duplicated().sum()"
   ]
  },
  {
   "cell_type": "code",
   "execution_count": 215,
   "id": "b0ddf601",
   "metadata": {},
   "outputs": [
    {
     "data": {
      "text/html": [
       "<div>\n",
       "<style scoped>\n",
       "    .dataframe tbody tr th:only-of-type {\n",
       "        vertical-align: middle;\n",
       "    }\n",
       "\n",
       "    .dataframe tbody tr th {\n",
       "        vertical-align: top;\n",
       "    }\n",
       "\n",
       "    .dataframe thead th {\n",
       "        text-align: right;\n",
       "    }\n",
       "</style>\n",
       "<table border=\"1\" class=\"dataframe\">\n",
       "  <thead>\n",
       "    <tr style=\"text-align: right;\">\n",
       "      <th></th>\n",
       "      <th>count</th>\n",
       "      <th>mean</th>\n",
       "      <th>std</th>\n",
       "      <th>min</th>\n",
       "      <th>25%</th>\n",
       "      <th>50%</th>\n",
       "      <th>75%</th>\n",
       "      <th>max</th>\n",
       "    </tr>\n",
       "  </thead>\n",
       "  <tbody>\n",
       "    <tr>\n",
       "      <th>Loss</th>\n",
       "      <td>1965.0</td>\n",
       "      <td>1016.951145</td>\n",
       "      <td>881.787605</td>\n",
       "      <td>5.0</td>\n",
       "      <td>359.0</td>\n",
       "      <td>760.0</td>\n",
       "      <td>1428.0</td>\n",
       "      <td>6382.0</td>\n",
       "    </tr>\n",
       "    <tr>\n",
       "      <th>Period</th>\n",
       "      <td>1965.0</td>\n",
       "      <td>20.513995</td>\n",
       "      <td>11.514377</td>\n",
       "      <td>1.0</td>\n",
       "      <td>10.0</td>\n",
       "      <td>21.0</td>\n",
       "      <td>30.0</td>\n",
       "      <td>40.0</td>\n",
       "    </tr>\n",
       "  </tbody>\n",
       "</table>\n",
       "</div>"
      ],
      "text/plain": [
       "         count         mean         std  min    25%    50%     75%     max\n",
       "Loss    1965.0  1016.951145  881.787605  5.0  359.0  760.0  1428.0  6382.0\n",
       "Period  1965.0    20.513995   11.514377  1.0   10.0   21.0    30.0    40.0"
      ]
     },
     "metadata": {},
     "output_type": "display_data"
    }
   ],
   "source": [
    "display(df_loss_1.describe().transpose())"
   ]
  },
  {
   "cell_type": "code",
   "execution_count": 216,
   "id": "ef56709a",
   "metadata": {},
   "outputs": [
    {
     "data": {
      "text/html": [
       "<div>\n",
       "<style scoped>\n",
       "    .dataframe tbody tr th:only-of-type {\n",
       "        vertical-align: middle;\n",
       "    }\n",
       "\n",
       "    .dataframe tbody tr th {\n",
       "        vertical-align: top;\n",
       "    }\n",
       "\n",
       "    .dataframe thead th {\n",
       "        text-align: right;\n",
       "    }\n",
       "</style>\n",
       "<table border=\"1\" class=\"dataframe\">\n",
       "  <thead>\n",
       "    <tr style=\"text-align: right;\">\n",
       "      <th></th>\n",
       "      <th>count</th>\n",
       "      <th>mean</th>\n",
       "      <th>std</th>\n",
       "      <th>min</th>\n",
       "      <th>25%</th>\n",
       "      <th>50%</th>\n",
       "      <th>75%</th>\n",
       "      <th>max</th>\n",
       "    </tr>\n",
       "  </thead>\n",
       "  <tbody>\n",
       "    <tr>\n",
       "      <th>Loss</th>\n",
       "      <td>2025.0</td>\n",
       "      <td>1139.487901</td>\n",
       "      <td>1000.868135</td>\n",
       "      <td>3.0</td>\n",
       "      <td>388.0</td>\n",
       "      <td>850.0</td>\n",
       "      <td>1603.0</td>\n",
       "      <td>6213.0</td>\n",
       "    </tr>\n",
       "    <tr>\n",
       "      <th>Period</th>\n",
       "      <td>2025.0</td>\n",
       "      <td>20.395062</td>\n",
       "      <td>11.628088</td>\n",
       "      <td>1.0</td>\n",
       "      <td>10.0</td>\n",
       "      <td>20.0</td>\n",
       "      <td>31.0</td>\n",
       "      <td>40.0</td>\n",
       "    </tr>\n",
       "  </tbody>\n",
       "</table>\n",
       "</div>"
      ],
      "text/plain": [
       "         count         mean          std  min    25%    50%     75%     max\n",
       "Loss    2025.0  1139.487901  1000.868135  3.0  388.0  850.0  1603.0  6213.0\n",
       "Period  2025.0    20.395062    11.628088  1.0   10.0   20.0    31.0    40.0"
      ]
     },
     "metadata": {},
     "output_type": "display_data"
    }
   ],
   "source": [
    "display(df_loss_2.describe().transpose())"
   ]
  },
  {
   "cell_type": "code",
   "execution_count": 217,
   "id": "1019dbc2",
   "metadata": {},
   "outputs": [
    {
     "data": {
      "text/html": [
       "<div>\n",
       "<style scoped>\n",
       "    .dataframe tbody tr th:only-of-type {\n",
       "        vertical-align: middle;\n",
       "    }\n",
       "\n",
       "    .dataframe tbody tr th {\n",
       "        vertical-align: top;\n",
       "    }\n",
       "\n",
       "    .dataframe thead th {\n",
       "        text-align: right;\n",
       "    }\n",
       "</style>\n",
       "<table border=\"1\" class=\"dataframe\">\n",
       "  <thead>\n",
       "    <tr style=\"text-align: right;\">\n",
       "      <th></th>\n",
       "      <th>count</th>\n",
       "      <th>mean</th>\n",
       "      <th>std</th>\n",
       "      <th>min</th>\n",
       "      <th>25%</th>\n",
       "      <th>50%</th>\n",
       "      <th>75%</th>\n",
       "      <th>max</th>\n",
       "    </tr>\n",
       "  </thead>\n",
       "  <tbody>\n",
       "    <tr>\n",
       "      <th>Loss</th>\n",
       "      <td>1995.0</td>\n",
       "      <td>1051.507268</td>\n",
       "      <td>940.738532</td>\n",
       "      <td>48.0</td>\n",
       "      <td>464.0</td>\n",
       "      <td>788.0</td>\n",
       "      <td>1325.0</td>\n",
       "      <td>12092.0</td>\n",
       "    </tr>\n",
       "    <tr>\n",
       "      <th>Period</th>\n",
       "      <td>1995.0</td>\n",
       "      <td>20.231579</td>\n",
       "      <td>11.871702</td>\n",
       "      <td>1.0</td>\n",
       "      <td>10.0</td>\n",
       "      <td>20.0</td>\n",
       "      <td>31.0</td>\n",
       "      <td>40.0</td>\n",
       "    </tr>\n",
       "  </tbody>\n",
       "</table>\n",
       "</div>"
      ],
      "text/plain": [
       "         count         mean         std   min    25%    50%     75%      max\n",
       "Loss    1995.0  1051.507268  940.738532  48.0  464.0  788.0  1325.0  12092.0\n",
       "Period  1995.0    20.231579   11.871702   1.0   10.0   20.0    31.0     40.0"
      ]
     },
     "metadata": {},
     "output_type": "display_data"
    }
   ],
   "source": [
    "display(df_loss_3.describe().transpose())"
   ]
  },
  {
   "cell_type": "code",
   "execution_count": 218,
   "id": "d20d8987",
   "metadata": {},
   "outputs": [
    {
     "data": {
      "text/html": [
       "<div>\n",
       "<style scoped>\n",
       "    .dataframe tbody tr th:only-of-type {\n",
       "        vertical-align: middle;\n",
       "    }\n",
       "\n",
       "    .dataframe tbody tr th {\n",
       "        vertical-align: top;\n",
       "    }\n",
       "\n",
       "    .dataframe thead th {\n",
       "        text-align: right;\n",
       "    }\n",
       "</style>\n",
       "<table border=\"1\" class=\"dataframe\">\n",
       "  <thead>\n",
       "    <tr style=\"text-align: right;\">\n",
       "      <th></th>\n",
       "      <th>count</th>\n",
       "      <th>mean</th>\n",
       "      <th>std</th>\n",
       "      <th>min</th>\n",
       "      <th>25%</th>\n",
       "      <th>50%</th>\n",
       "      <th>75%</th>\n",
       "      <th>max</th>\n",
       "    </tr>\n",
       "  </thead>\n",
       "  <tbody>\n",
       "    <tr>\n",
       "      <th>Loss</th>\n",
       "      <td>1941.0</td>\n",
       "      <td>969.105100</td>\n",
       "      <td>781.152228</td>\n",
       "      <td>201.0</td>\n",
       "      <td>411.0</td>\n",
       "      <td>717.0</td>\n",
       "      <td>1255.0</td>\n",
       "      <td>6215.0</td>\n",
       "    </tr>\n",
       "    <tr>\n",
       "      <th>Period</th>\n",
       "      <td>1941.0</td>\n",
       "      <td>20.519835</td>\n",
       "      <td>11.498106</td>\n",
       "      <td>1.0</td>\n",
       "      <td>11.0</td>\n",
       "      <td>20.0</td>\n",
       "      <td>30.0</td>\n",
       "      <td>40.0</td>\n",
       "    </tr>\n",
       "  </tbody>\n",
       "</table>\n",
       "</div>"
      ],
      "text/plain": [
       "         count        mean         std    min    25%    50%     75%     max\n",
       "Loss    1941.0  969.105100  781.152228  201.0  411.0  717.0  1255.0  6215.0\n",
       "Period  1941.0   20.519835   11.498106    1.0   11.0   20.0    30.0    40.0"
      ]
     },
     "metadata": {},
     "output_type": "display_data"
    }
   ],
   "source": [
    "display(df_loss_4.describe().transpose())"
   ]
  },
  {
   "cell_type": "markdown",
   "id": "c34d7dd3",
   "metadata": {},
   "source": [
    "Observations:\n",
    "\n",
    "1. There are no null and duplicated values in all dataframes (Operational Risk Type 1, Type 2, Type 3 and Type 4).\n",
    "2. For all dataframes the mean and median have significant difference that shows the Operational Risk Loss data is skewed. "
   ]
  },
  {
   "cell_type": "markdown",
   "id": "737bff92",
   "metadata": {},
   "source": [
    "# 3. Numerical Features Data Analysis"
   ]
  },
  {
   "cell_type": "markdown",
   "id": "ea83a995",
   "metadata": {},
   "source": [
    "1. Operational Risk Loss Type 1"
   ]
  },
  {
   "cell_type": "code",
   "execution_count": 219,
   "id": "d34414d9",
   "metadata": {},
   "outputs": [
    {
     "data": {
      "text/plain": [
       "Text(0.5, 1.0, 'Operational loss type 1')"
      ]
     },
     "execution_count": 219,
     "metadata": {},
     "output_type": "execute_result"
    },
    {
     "data": {
      "image/png": "[encoded data removed]",
      "text/plain": [
       "<Figure size 640x480 with 1 Axes>"
      ]
     },
     "metadata": {},
     "output_type": "display_data"
    }
   ],
   "source": [
    "# Histogram of distribution of Operational Risk Losses type 1\n",
    "sns.histplot(df_loss_1['Loss'], bins = 10, color = 'skyblue', kde = True)\n",
    "plt.xlabel('Operational loss (amount)')\n",
    "plt.ylabel('Frequency')\n",
    "plt.title('Operational loss type 1')"
   ]
  },
  {
   "cell_type": "code",
   "execution_count": 220,
   "id": "b0ed7978",
   "metadata": {},
   "outputs": [
    {
     "data": {
      "text/plain": [
       "Text(0.5, 1.0, 'Boxplot Operational Loss Type 1')"
      ]
     },
     "execution_count": 220,
     "metadata": {},
     "output_type": "execute_result"
    },
    {
     "data": {
      "image/png": "[encoded data removed]",
      "text/plain": [
       "<Figure size 640x480 with 1 Axes>"
      ]
     },
     "metadata": {},
     "output_type": "display_data"
    }
   ],
   "source": [
    "# Boxplot of distribution of Operational Risk Losses type 1\n",
    "sns.boxplot(x = 'Loss', data = df_loss_1, showfliers = True, showbox = True)\n",
    "plt.title('Boxplot Operational Loss Type 1')"
   ]
  },
  {
   "cell_type": "markdown",
   "id": "7cea7816",
   "metadata": {},
   "source": [
    "2. Operational Risk Loss Type 2"
   ]
  },
  {
   "cell_type": "code",
   "execution_count": 221,
   "id": "4a29770f",
   "metadata": {},
   "outputs": [
    {
     "data": {
      "text/plain": [
       "Text(0.5, 1.0, 'Operational loss type 2')"
      ]
     },
     "execution_count": 221,
     "metadata": {},
     "output_type": "execute_result"
    },
    {
     "data": {
      "image/png": "[encoded data removed]",
      "text/plain": [
       "<Figure size 640x480 with 1 Axes>"
      ]
     },
     "metadata": {},
     "output_type": "display_data"
    }
   ],
   "source": [
    "# Histogram of distribution of Operational Risk Losses type 2\n",
    "sns.histplot(df_loss_2['Loss'], bins = 10, color = 'red', kde = True)\n",
    "plt.xlabel('Operational loss (amount)')\n",
    "plt.ylabel('Frequency')\n",
    "plt.title('Operational loss type 2')"
   ]
  },
  {
   "cell_type": "code",
   "execution_count": 222,
   "id": "bb6fa098",
   "metadata": {},
   "outputs": [
    {
     "data": {
      "text/plain": [
       "Text(0.5, 1.0, 'Boxplot Operational Loss Type 2')"
      ]
     },
     "execution_count": 222,
     "metadata": {},
     "output_type": "execute_result"
    },
    {
     "data": {
      "image/png": "[encoded data removed]",
      "text/plain": [
       "<Figure size 640x480 with 1 Axes>"
      ]
     },
     "metadata": {},
     "output_type": "display_data"
    }
   ],
   "source": [
    "# Boxplot of distribution of Operational Risk Losses type 2\n",
    "sns.boxplot(x = 'Loss', data = df_loss_2, showfliers = True, showbox = True)\n",
    "plt.title('Boxplot Operational Loss Type 2')"
   ]
  },
  {
   "cell_type": "markdown",
   "id": "f75afdf5",
   "metadata": {},
   "source": [
    "3. Operational Risk Loss Type 3"
   ]
  },
  {
   "cell_type": "code",
   "execution_count": 223,
   "id": "55312ced",
   "metadata": {},
   "outputs": [
    {
     "data": {
      "text/plain": [
       "Text(0.5, 1.0, 'Operational loss type 3')"
      ]
     },
     "execution_count": 223,
     "metadata": {},
     "output_type": "execute_result"
    },
    {
     "data": {
      "image/png": "[encoded data removed]",
      "text/plain": [
       "<Figure size 640x480 with 1 Axes>"
      ]
     },
     "metadata": {},
     "output_type": "display_data"
    }
   ],
   "source": [
    "# Histogram of distribution of Operational Risk Losses type 3\n",
    "sns.histplot(df_loss_3['Loss'], bins = 10, color = 'green', kde = True)\n",
    "plt.xlabel('Operational loss (amount)')\n",
    "plt.ylabel('Frequency')\n",
    "plt.title('Operational loss type 3')"
   ]
  },
  {
   "cell_type": "code",
   "execution_count": 224,
   "id": "7016aba8",
   "metadata": {},
   "outputs": [
    {
     "data": {
      "text/plain": [
       "Text(0.5, 1.0, 'Boxplot Operational Loss Type 3')"
      ]
     },
     "execution_count": 224,
     "metadata": {},
     "output_type": "execute_result"
    },
    {
     "data": {
      "image/png": "[encoded data removed]",
      "text/plain": [
       "<Figure size 640x480 with 1 Axes>"
      ]
     },
     "metadata": {},
     "output_type": "display_data"
    }
   ],
   "source": [
    "# Boxplot of distribution of Operational Risk Losses type 3\n",
    "sns.boxplot(x = 'Loss', data = df_loss_3, showfliers = True, showbox = True)\n",
    "plt.title('Boxplot Operational Loss Type 3')"
   ]
  },
  {
   "cell_type": "markdown",
   "id": "b0255b94",
   "metadata": {},
   "source": [
    "4. Operational Risk Loss Type 4"
   ]
  },
  {
   "cell_type": "code",
   "execution_count": 225,
   "id": "ce56ea86",
   "metadata": {},
   "outputs": [
    {
     "data": {
      "text/plain": [
       "Text(0.5, 1.0, 'Operational loss type 4')"
      ]
     },
     "execution_count": 225,
     "metadata": {},
     "output_type": "execute_result"
    },
    {
     "data": {
      "image/png": "[encoded data removed]",
      "text/plain": [
       "<Figure size 640x480 with 1 Axes>"
      ]
     },
     "metadata": {},
     "output_type": "display_data"
    }
   ],
   "source": [
    "# Histogram of distribution of Operational Risk Losses type 4\n",
    "sns.histplot(df_loss_4['Loss'], bins = 10, color = 'orange', kde = True)\n",
    "plt.xlabel('Operational loss (amount)')\n",
    "plt.ylabel('Frequency')\n",
    "plt.title('Operational loss type 4')"
   ]
  },
  {
   "cell_type": "code",
   "execution_count": 226,
   "id": "d86103bc",
   "metadata": {},
   "outputs": [
    {
     "data": {
      "text/plain": [
       "Text(0.5, 1.0, 'Boxplot Operational Loss Type 4')"
      ]
     },
     "execution_count": 226,
     "metadata": {},
     "output_type": "execute_result"
    },
    {
     "data": {
      "image/png": "[encoded data removed]",
      "text/plain": [
       "<Figure size 640x480 with 1 Axes>"
      ]
     },
     "metadata": {},
     "output_type": "display_data"
    }
   ],
   "source": [
    "# Boxplot of distribution of Operational Risk Losses type 4\n",
    "sns.boxplot(x = 'Loss', data = df_loss_4, showfliers = True, showbox = True)\n",
    "plt.title('Boxplot Operational Loss Type 4')"
   ]
  },
  {
   "cell_type": "markdown",
   "id": "8c7ebb43",
   "metadata": {},
   "source": [
    "Observations:\n",
    "\n",
    "Operational Risk Losses of Type 1, Type 2, Type 3 and Type 4 are skewed to the left of distribution which tells that data has more Operational Risk Losses with small amount, but having values at the right of the distributions shows presence of outliers which is confirmed by Boxplots of each distribution."
   ]
  },
  {
   "cell_type": "markdown",
   "id": "5a01efbb",
   "metadata": {},
   "source": [
    "# 4. Data Preprocessing"
   ]
  },
  {
   "cell_type": "markdown",
   "id": "5e848b34",
   "metadata": {},
   "source": [
    "# Number/frequency of Operational Risk Losses"
   ]
  },
  {
   "cell_type": "markdown",
   "id": "3356ddf4",
   "metadata": {},
   "source": [
    "1. Operational Risk Loss Type 1"
   ]
  },
  {
   "cell_type": "code",
   "execution_count": 227,
   "id": "1a48e7f7",
   "metadata": {},
   "outputs": [
    {
     "data": {
      "text/plain": [
       "Date\n",
       "2007-01    14\n",
       "2007-02    20\n",
       "2007-03    17\n",
       "2007-04    15\n",
       "2007-05    17\n",
       "           ..\n",
       "2016-08    16\n",
       "2016-09    16\n",
       "2016-10    18\n",
       "2016-11    14\n",
       "2016-12    13\n",
       "Freq: M, Length: 120, dtype: int64"
      ]
     },
     "execution_count": 227,
     "metadata": {},
     "output_type": "execute_result"
    }
   ],
   "source": [
    "# Calculating number/frequency of operational losses per month for type 1\n",
    "freq_monthly_type1 = df_loss_1.groupby(df_loss_1['Date'].dt.to_period('M')).size()\n",
    "freq_monthly_type1"
   ]
  },
  {
   "cell_type": "code",
   "execution_count": 228,
   "id": "93ae9f40",
   "metadata": {},
   "outputs": [
    {
     "data": {
      "text/html": [
       "<div>\n",
       "<style scoped>\n",
       "    .dataframe tbody tr th:only-of-type {\n",
       "        vertical-align: middle;\n",
       "    }\n",
       "\n",
       "    .dataframe tbody tr th {\n",
       "        vertical-align: top;\n",
       "    }\n",
       "\n",
       "    .dataframe thead th {\n",
       "        text-align: right;\n",
       "    }\n",
       "</style>\n",
       "<table border=\"1\" class=\"dataframe\">\n",
       "  <thead>\n",
       "    <tr style=\"text-align: right;\">\n",
       "      <th></th>\n",
       "      <th>0</th>\n",
       "    </tr>\n",
       "    <tr>\n",
       "      <th>Date</th>\n",
       "      <th></th>\n",
       "    </tr>\n",
       "  </thead>\n",
       "  <tbody>\n",
       "    <tr>\n",
       "      <th>2007-01</th>\n",
       "      <td>14</td>\n",
       "    </tr>\n",
       "    <tr>\n",
       "      <th>2007-02</th>\n",
       "      <td>20</td>\n",
       "    </tr>\n",
       "    <tr>\n",
       "      <th>2007-03</th>\n",
       "      <td>17</td>\n",
       "    </tr>\n",
       "    <tr>\n",
       "      <th>2007-04</th>\n",
       "      <td>15</td>\n",
       "    </tr>\n",
       "    <tr>\n",
       "      <th>2007-05</th>\n",
       "      <td>17</td>\n",
       "    </tr>\n",
       "  </tbody>\n",
       "</table>\n",
       "</div>"
      ],
      "text/plain": [
       "          0\n",
       "Date       \n",
       "2007-01  14\n",
       "2007-02  20\n",
       "2007-03  17\n",
       "2007-04  15\n",
       "2007-05  17"
      ]
     },
     "execution_count": 228,
     "metadata": {},
     "output_type": "execute_result"
    }
   ],
   "source": [
    "# Converting to dataframe\n",
    "freq_monthly_type1 = pd.DataFrame(freq_monthly_type1)\n",
    "freq_monthly_type1.head()"
   ]
  },
  {
   "cell_type": "code",
   "execution_count": 229,
   "id": "aa706ebf",
   "metadata": {},
   "outputs": [
    {
     "data": {
      "text/html": [
       "<div>\n",
       "<style scoped>\n",
       "    .dataframe tbody tr th:only-of-type {\n",
       "        vertical-align: middle;\n",
       "    }\n",
       "\n",
       "    .dataframe tbody tr th {\n",
       "        vertical-align: top;\n",
       "    }\n",
       "\n",
       "    .dataframe thead th {\n",
       "        text-align: right;\n",
       "    }\n",
       "</style>\n",
       "<table border=\"1\" class=\"dataframe\">\n",
       "  <thead>\n",
       "    <tr style=\"text-align: right;\">\n",
       "      <th></th>\n",
       "      <th>Date</th>\n",
       "      <th>0</th>\n",
       "    </tr>\n",
       "  </thead>\n",
       "  <tbody>\n",
       "    <tr>\n",
       "      <th>0</th>\n",
       "      <td>2007-01</td>\n",
       "      <td>14</td>\n",
       "    </tr>\n",
       "    <tr>\n",
       "      <th>1</th>\n",
       "      <td>2007-02</td>\n",
       "      <td>20</td>\n",
       "    </tr>\n",
       "    <tr>\n",
       "      <th>2</th>\n",
       "      <td>2007-03</td>\n",
       "      <td>17</td>\n",
       "    </tr>\n",
       "    <tr>\n",
       "      <th>3</th>\n",
       "      <td>2007-04</td>\n",
       "      <td>15</td>\n",
       "    </tr>\n",
       "    <tr>\n",
       "      <th>4</th>\n",
       "      <td>2007-05</td>\n",
       "      <td>17</td>\n",
       "    </tr>\n",
       "    <tr>\n",
       "      <th>...</th>\n",
       "      <td>...</td>\n",
       "      <td>...</td>\n",
       "    </tr>\n",
       "    <tr>\n",
       "      <th>115</th>\n",
       "      <td>2016-08</td>\n",
       "      <td>16</td>\n",
       "    </tr>\n",
       "    <tr>\n",
       "      <th>116</th>\n",
       "      <td>2016-09</td>\n",
       "      <td>16</td>\n",
       "    </tr>\n",
       "    <tr>\n",
       "      <th>117</th>\n",
       "      <td>2016-10</td>\n",
       "      <td>18</td>\n",
       "    </tr>\n",
       "    <tr>\n",
       "      <th>118</th>\n",
       "      <td>2016-11</td>\n",
       "      <td>14</td>\n",
       "    </tr>\n",
       "    <tr>\n",
       "      <th>119</th>\n",
       "      <td>2016-12</td>\n",
       "      <td>13</td>\n",
       "    </tr>\n",
       "  </tbody>\n",
       "</table>\n",
       "<p>120 rows × 2 columns</p>\n",
       "</div>"
      ],
      "text/plain": [
       "        Date   0\n",
       "0    2007-01  14\n",
       "1    2007-02  20\n",
       "2    2007-03  17\n",
       "3    2007-04  15\n",
       "4    2007-05  17\n",
       "..       ...  ..\n",
       "115  2016-08  16\n",
       "116  2016-09  16\n",
       "117  2016-10  18\n",
       "118  2016-11  14\n",
       "119  2016-12  13\n",
       "\n",
       "[120 rows x 2 columns]"
      ]
     },
     "execution_count": 229,
     "metadata": {},
     "output_type": "execute_result"
    }
   ],
   "source": [
    "# Reseting index\n",
    "freq_monthly_type1.reset_index(inplace = True)\n",
    "freq_monthly_type1"
   ]
  },
  {
   "cell_type": "code",
   "execution_count": 230,
   "id": "f2f9e072",
   "metadata": {},
   "outputs": [
    {
     "data": {
      "text/html": [
       "<div>\n",
       "<style scoped>\n",
       "    .dataframe tbody tr th:only-of-type {\n",
       "        vertical-align: middle;\n",
       "    }\n",
       "\n",
       "    .dataframe tbody tr th {\n",
       "        vertical-align: top;\n",
       "    }\n",
       "\n",
       "    .dataframe thead th {\n",
       "        text-align: right;\n",
       "    }\n",
       "</style>\n",
       "<table border=\"1\" class=\"dataframe\">\n",
       "  <thead>\n",
       "    <tr style=\"text-align: right;\">\n",
       "      <th></th>\n",
       "      <th>Date</th>\n",
       "      <th>Frequency</th>\n",
       "    </tr>\n",
       "  </thead>\n",
       "  <tbody>\n",
       "    <tr>\n",
       "      <th>0</th>\n",
       "      <td>2007-01</td>\n",
       "      <td>14</td>\n",
       "    </tr>\n",
       "    <tr>\n",
       "      <th>1</th>\n",
       "      <td>2007-02</td>\n",
       "      <td>20</td>\n",
       "    </tr>\n",
       "    <tr>\n",
       "      <th>2</th>\n",
       "      <td>2007-03</td>\n",
       "      <td>17</td>\n",
       "    </tr>\n",
       "  </tbody>\n",
       "</table>\n",
       "</div>"
      ],
      "text/plain": [
       "      Date  Frequency\n",
       "0  2007-01         14\n",
       "1  2007-02         20\n",
       "2  2007-03         17"
      ]
     },
     "execution_count": 230,
     "metadata": {},
     "output_type": "execute_result"
    }
   ],
   "source": [
    "# Renaming column names\n",
    "freq_monthly_type1 = freq_monthly_type1.rename(columns = {0: 'Frequency'})\n",
    "freq_monthly_type1.head(3)"
   ]
  },
  {
   "cell_type": "markdown",
   "id": "c460555f",
   "metadata": {},
   "source": [
    "2. Operational Risk Loss Type 2"
   ]
  },
  {
   "cell_type": "code",
   "execution_count": 231,
   "id": "c2567d0e",
   "metadata": {},
   "outputs": [
    {
     "data": {
      "text/plain": [
       "Date\n",
       "2007-01    15\n",
       "2007-02    18\n",
       "2007-03    19\n",
       "2007-04    16\n",
       "2007-05    17\n",
       "           ..\n",
       "2016-08    24\n",
       "2016-09    12\n",
       "2016-10    19\n",
       "2016-11    23\n",
       "2016-12     9\n",
       "Freq: M, Length: 120, dtype: int64"
      ]
     },
     "execution_count": 231,
     "metadata": {},
     "output_type": "execute_result"
    }
   ],
   "source": [
    "# Calculating number/frequency of operational losses per month for type 2\n",
    "freq_monthly_type2 = df_loss_2.groupby(df_loss_2['Date'].dt.to_period('M')).size()\n",
    "freq_monthly_type2"
   ]
  },
  {
   "cell_type": "code",
   "execution_count": 232,
   "id": "9604ceb1",
   "metadata": {},
   "outputs": [
    {
     "data": {
      "text/html": [
       "<div>\n",
       "<style scoped>\n",
       "    .dataframe tbody tr th:only-of-type {\n",
       "        vertical-align: middle;\n",
       "    }\n",
       "\n",
       "    .dataframe tbody tr th {\n",
       "        vertical-align: top;\n",
       "    }\n",
       "\n",
       "    .dataframe thead th {\n",
       "        text-align: right;\n",
       "    }\n",
       "</style>\n",
       "<table border=\"1\" class=\"dataframe\">\n",
       "  <thead>\n",
       "    <tr style=\"text-align: right;\">\n",
       "      <th></th>\n",
       "      <th>0</th>\n",
       "    </tr>\n",
       "    <tr>\n",
       "      <th>Date</th>\n",
       "      <th></th>\n",
       "    </tr>\n",
       "  </thead>\n",
       "  <tbody>\n",
       "    <tr>\n",
       "      <th>2007-01</th>\n",
       "      <td>15</td>\n",
       "    </tr>\n",
       "    <tr>\n",
       "      <th>2007-02</th>\n",
       "      <td>18</td>\n",
       "    </tr>\n",
       "    <tr>\n",
       "      <th>2007-03</th>\n",
       "      <td>19</td>\n",
       "    </tr>\n",
       "    <tr>\n",
       "      <th>2007-04</th>\n",
       "      <td>16</td>\n",
       "    </tr>\n",
       "    <tr>\n",
       "      <th>2007-05</th>\n",
       "      <td>17</td>\n",
       "    </tr>\n",
       "  </tbody>\n",
       "</table>\n",
       "</div>"
      ],
      "text/plain": [
       "          0\n",
       "Date       \n",
       "2007-01  15\n",
       "2007-02  18\n",
       "2007-03  19\n",
       "2007-04  16\n",
       "2007-05  17"
      ]
     },
     "execution_count": 232,
     "metadata": {},
     "output_type": "execute_result"
    }
   ],
   "source": [
    "# Converting to dataframe\n",
    "freq_monthly_type2 = pd.DataFrame(freq_monthly_type2)\n",
    "freq_monthly_type2.head()"
   ]
  },
  {
   "cell_type": "code",
   "execution_count": 233,
   "id": "21c0bb2a",
   "metadata": {},
   "outputs": [
    {
     "data": {
      "text/html": [
       "<div>\n",
       "<style scoped>\n",
       "    .dataframe tbody tr th:only-of-type {\n",
       "        vertical-align: middle;\n",
       "    }\n",
       "\n",
       "    .dataframe tbody tr th {\n",
       "        vertical-align: top;\n",
       "    }\n",
       "\n",
       "    .dataframe thead th {\n",
       "        text-align: right;\n",
       "    }\n",
       "</style>\n",
       "<table border=\"1\" class=\"dataframe\">\n",
       "  <thead>\n",
       "    <tr style=\"text-align: right;\">\n",
       "      <th></th>\n",
       "      <th>Date</th>\n",
       "      <th>0</th>\n",
       "    </tr>\n",
       "  </thead>\n",
       "  <tbody>\n",
       "    <tr>\n",
       "      <th>0</th>\n",
       "      <td>2007-01</td>\n",
       "      <td>15</td>\n",
       "    </tr>\n",
       "    <tr>\n",
       "      <th>1</th>\n",
       "      <td>2007-02</td>\n",
       "      <td>18</td>\n",
       "    </tr>\n",
       "    <tr>\n",
       "      <th>2</th>\n",
       "      <td>2007-03</td>\n",
       "      <td>19</td>\n",
       "    </tr>\n",
       "    <tr>\n",
       "      <th>3</th>\n",
       "      <td>2007-04</td>\n",
       "      <td>16</td>\n",
       "    </tr>\n",
       "    <tr>\n",
       "      <th>4</th>\n",
       "      <td>2007-05</td>\n",
       "      <td>17</td>\n",
       "    </tr>\n",
       "    <tr>\n",
       "      <th>...</th>\n",
       "      <td>...</td>\n",
       "      <td>...</td>\n",
       "    </tr>\n",
       "    <tr>\n",
       "      <th>115</th>\n",
       "      <td>2016-08</td>\n",
       "      <td>24</td>\n",
       "    </tr>\n",
       "    <tr>\n",
       "      <th>116</th>\n",
       "      <td>2016-09</td>\n",
       "      <td>12</td>\n",
       "    </tr>\n",
       "    <tr>\n",
       "      <th>117</th>\n",
       "      <td>2016-10</td>\n",
       "      <td>19</td>\n",
       "    </tr>\n",
       "    <tr>\n",
       "      <th>118</th>\n",
       "      <td>2016-11</td>\n",
       "      <td>23</td>\n",
       "    </tr>\n",
       "    <tr>\n",
       "      <th>119</th>\n",
       "      <td>2016-12</td>\n",
       "      <td>9</td>\n",
       "    </tr>\n",
       "  </tbody>\n",
       "</table>\n",
       "<p>120 rows × 2 columns</p>\n",
       "</div>"
      ],
      "text/plain": [
       "        Date   0\n",
       "0    2007-01  15\n",
       "1    2007-02  18\n",
       "2    2007-03  19\n",
       "3    2007-04  16\n",
       "4    2007-05  17\n",
       "..       ...  ..\n",
       "115  2016-08  24\n",
       "116  2016-09  12\n",
       "117  2016-10  19\n",
       "118  2016-11  23\n",
       "119  2016-12   9\n",
       "\n",
       "[120 rows x 2 columns]"
      ]
     },
     "execution_count": 233,
     "metadata": {},
     "output_type": "execute_result"
    }
   ],
   "source": [
    "# Reseting index\n",
    "freq_monthly_type2.reset_index(inplace = True)\n",
    "freq_monthly_type2"
   ]
  },
  {
   "cell_type": "code",
   "execution_count": 234,
   "id": "a5fd72b3",
   "metadata": {},
   "outputs": [
    {
     "data": {
      "text/html": [
       "<div>\n",
       "<style scoped>\n",
       "    .dataframe tbody tr th:only-of-type {\n",
       "        vertical-align: middle;\n",
       "    }\n",
       "\n",
       "    .dataframe tbody tr th {\n",
       "        vertical-align: top;\n",
       "    }\n",
       "\n",
       "    .dataframe thead th {\n",
       "        text-align: right;\n",
       "    }\n",
       "</style>\n",
       "<table border=\"1\" class=\"dataframe\">\n",
       "  <thead>\n",
       "    <tr style=\"text-align: right;\">\n",
       "      <th></th>\n",
       "      <th>Date</th>\n",
       "      <th>Frequency</th>\n",
       "    </tr>\n",
       "  </thead>\n",
       "  <tbody>\n",
       "    <tr>\n",
       "      <th>0</th>\n",
       "      <td>2007-01</td>\n",
       "      <td>15</td>\n",
       "    </tr>\n",
       "    <tr>\n",
       "      <th>1</th>\n",
       "      <td>2007-02</td>\n",
       "      <td>18</td>\n",
       "    </tr>\n",
       "    <tr>\n",
       "      <th>2</th>\n",
       "      <td>2007-03</td>\n",
       "      <td>19</td>\n",
       "    </tr>\n",
       "  </tbody>\n",
       "</table>\n",
       "</div>"
      ],
      "text/plain": [
       "      Date  Frequency\n",
       "0  2007-01         15\n",
       "1  2007-02         18\n",
       "2  2007-03         19"
      ]
     },
     "execution_count": 234,
     "metadata": {},
     "output_type": "execute_result"
    }
   ],
   "source": [
    "# Renaming column names\n",
    "freq_monthly_type2 = freq_monthly_type2.rename(columns = {0: 'Frequency'})\n",
    "freq_monthly_type2.head(3)"
   ]
  },
  {
   "cell_type": "markdown",
   "id": "d26393ec",
   "metadata": {},
   "source": [
    "3. Operational Risk Loss Type 3"
   ]
  },
  {
   "cell_type": "code",
   "execution_count": 235,
   "id": "4f462493",
   "metadata": {},
   "outputs": [
    {
     "data": {
      "text/plain": [
       "Date\n",
       "2007-01    16\n",
       "2007-02    14\n",
       "2007-03    18\n",
       "2007-04    18\n",
       "2007-05    18\n",
       "           ..\n",
       "2016-08    17\n",
       "2016-09    16\n",
       "2016-10    18\n",
       "2016-11    15\n",
       "2016-12    24\n",
       "Freq: M, Length: 120, dtype: int64"
      ]
     },
     "execution_count": 235,
     "metadata": {},
     "output_type": "execute_result"
    }
   ],
   "source": [
    "# Calculating number/frequency of operational losses per month for type 3\n",
    "freq_monthly_type3 = df_loss_3.groupby(df_loss_3['Date'].dt.to_period('M')).size()\n",
    "freq_monthly_type3"
   ]
  },
  {
   "cell_type": "code",
   "execution_count": 236,
   "id": "5739e0bb",
   "metadata": {},
   "outputs": [
    {
     "data": {
      "text/html": [
       "<div>\n",
       "<style scoped>\n",
       "    .dataframe tbody tr th:only-of-type {\n",
       "        vertical-align: middle;\n",
       "    }\n",
       "\n",
       "    .dataframe tbody tr th {\n",
       "        vertical-align: top;\n",
       "    }\n",
       "\n",
       "    .dataframe thead th {\n",
       "        text-align: right;\n",
       "    }\n",
       "</style>\n",
       "<table border=\"1\" class=\"dataframe\">\n",
       "  <thead>\n",
       "    <tr style=\"text-align: right;\">\n",
       "      <th></th>\n",
       "      <th>0</th>\n",
       "    </tr>\n",
       "    <tr>\n",
       "      <th>Date</th>\n",
       "      <th></th>\n",
       "    </tr>\n",
       "  </thead>\n",
       "  <tbody>\n",
       "    <tr>\n",
       "      <th>2007-01</th>\n",
       "      <td>16</td>\n",
       "    </tr>\n",
       "    <tr>\n",
       "      <th>2007-02</th>\n",
       "      <td>14</td>\n",
       "    </tr>\n",
       "    <tr>\n",
       "      <th>2007-03</th>\n",
       "      <td>18</td>\n",
       "    </tr>\n",
       "    <tr>\n",
       "      <th>2007-04</th>\n",
       "      <td>18</td>\n",
       "    </tr>\n",
       "    <tr>\n",
       "      <th>2007-05</th>\n",
       "      <td>18</td>\n",
       "    </tr>\n",
       "  </tbody>\n",
       "</table>\n",
       "</div>"
      ],
      "text/plain": [
       "          0\n",
       "Date       \n",
       "2007-01  16\n",
       "2007-02  14\n",
       "2007-03  18\n",
       "2007-04  18\n",
       "2007-05  18"
      ]
     },
     "execution_count": 236,
     "metadata": {},
     "output_type": "execute_result"
    }
   ],
   "source": [
    "# Converting to dataframe\n",
    "freq_monthly_type3 = pd.DataFrame(freq_monthly_type3)\n",
    "freq_monthly_type3.head()"
   ]
  },
  {
   "cell_type": "code",
   "execution_count": 237,
   "id": "8a435635",
   "metadata": {},
   "outputs": [
    {
     "data": {
      "text/html": [
       "<div>\n",
       "<style scoped>\n",
       "    .dataframe tbody tr th:only-of-type {\n",
       "        vertical-align: middle;\n",
       "    }\n",
       "\n",
       "    .dataframe tbody tr th {\n",
       "        vertical-align: top;\n",
       "    }\n",
       "\n",
       "    .dataframe thead th {\n",
       "        text-align: right;\n",
       "    }\n",
       "</style>\n",
       "<table border=\"1\" class=\"dataframe\">\n",
       "  <thead>\n",
       "    <tr style=\"text-align: right;\">\n",
       "      <th></th>\n",
       "      <th>Date</th>\n",
       "      <th>0</th>\n",
       "    </tr>\n",
       "  </thead>\n",
       "  <tbody>\n",
       "    <tr>\n",
       "      <th>0</th>\n",
       "      <td>2007-01</td>\n",
       "      <td>16</td>\n",
       "    </tr>\n",
       "    <tr>\n",
       "      <th>1</th>\n",
       "      <td>2007-02</td>\n",
       "      <td>14</td>\n",
       "    </tr>\n",
       "    <tr>\n",
       "      <th>2</th>\n",
       "      <td>2007-03</td>\n",
       "      <td>18</td>\n",
       "    </tr>\n",
       "    <tr>\n",
       "      <th>3</th>\n",
       "      <td>2007-04</td>\n",
       "      <td>18</td>\n",
       "    </tr>\n",
       "    <tr>\n",
       "      <th>4</th>\n",
       "      <td>2007-05</td>\n",
       "      <td>18</td>\n",
       "    </tr>\n",
       "    <tr>\n",
       "      <th>...</th>\n",
       "      <td>...</td>\n",
       "      <td>...</td>\n",
       "    </tr>\n",
       "    <tr>\n",
       "      <th>115</th>\n",
       "      <td>2016-08</td>\n",
       "      <td>17</td>\n",
       "    </tr>\n",
       "    <tr>\n",
       "      <th>116</th>\n",
       "      <td>2016-09</td>\n",
       "      <td>16</td>\n",
       "    </tr>\n",
       "    <tr>\n",
       "      <th>117</th>\n",
       "      <td>2016-10</td>\n",
       "      <td>18</td>\n",
       "    </tr>\n",
       "    <tr>\n",
       "      <th>118</th>\n",
       "      <td>2016-11</td>\n",
       "      <td>15</td>\n",
       "    </tr>\n",
       "    <tr>\n",
       "      <th>119</th>\n",
       "      <td>2016-12</td>\n",
       "      <td>24</td>\n",
       "    </tr>\n",
       "  </tbody>\n",
       "</table>\n",
       "<p>120 rows × 2 columns</p>\n",
       "</div>"
      ],
      "text/plain": [
       "        Date   0\n",
       "0    2007-01  16\n",
       "1    2007-02  14\n",
       "2    2007-03  18\n",
       "3    2007-04  18\n",
       "4    2007-05  18\n",
       "..       ...  ..\n",
       "115  2016-08  17\n",
       "116  2016-09  16\n",
       "117  2016-10  18\n",
       "118  2016-11  15\n",
       "119  2016-12  24\n",
       "\n",
       "[120 rows x 2 columns]"
      ]
     },
     "execution_count": 237,
     "metadata": {},
     "output_type": "execute_result"
    }
   ],
   "source": [
    "# Reseting index\n",
    "freq_monthly_type3.reset_index(inplace = True)\n",
    "freq_monthly_type3"
   ]
  },
  {
   "cell_type": "code",
   "execution_count": 238,
   "id": "79a2d66a",
   "metadata": {},
   "outputs": [
    {
     "data": {
      "text/html": [
       "<div>\n",
       "<style scoped>\n",
       "    .dataframe tbody tr th:only-of-type {\n",
       "        vertical-align: middle;\n",
       "    }\n",
       "\n",
       "    .dataframe tbody tr th {\n",
       "        vertical-align: top;\n",
       "    }\n",
       "\n",
       "    .dataframe thead th {\n",
       "        text-align: right;\n",
       "    }\n",
       "</style>\n",
       "<table border=\"1\" class=\"dataframe\">\n",
       "  <thead>\n",
       "    <tr style=\"text-align: right;\">\n",
       "      <th></th>\n",
       "      <th>Date</th>\n",
       "      <th>Frequency</th>\n",
       "    </tr>\n",
       "  </thead>\n",
       "  <tbody>\n",
       "    <tr>\n",
       "      <th>0</th>\n",
       "      <td>2007-01</td>\n",
       "      <td>16</td>\n",
       "    </tr>\n",
       "    <tr>\n",
       "      <th>1</th>\n",
       "      <td>2007-02</td>\n",
       "      <td>14</td>\n",
       "    </tr>\n",
       "    <tr>\n",
       "      <th>2</th>\n",
       "      <td>2007-03</td>\n",
       "      <td>18</td>\n",
       "    </tr>\n",
       "  </tbody>\n",
       "</table>\n",
       "</div>"
      ],
      "text/plain": [
       "      Date  Frequency\n",
       "0  2007-01         16\n",
       "1  2007-02         14\n",
       "2  2007-03         18"
      ]
     },
     "execution_count": 238,
     "metadata": {},
     "output_type": "execute_result"
    }
   ],
   "source": [
    "# Renaming column names\n",
    "freq_monthly_type3 = freq_monthly_type3.rename(columns = {0: 'Frequency'})\n",
    "freq_monthly_type3.head(3)"
   ]
  },
  {
   "cell_type": "markdown",
   "id": "b5c93fc7",
   "metadata": {},
   "source": [
    "4. Operational Risk Loss Type 4"
   ]
  },
  {
   "cell_type": "code",
   "execution_count": 239,
   "id": "f997b9d8",
   "metadata": {},
   "outputs": [
    {
     "data": {
      "text/plain": [
       "Date\n",
       "2007-01    17\n",
       "2007-02    16\n",
       "2007-03    15\n",
       "2007-04    15\n",
       "2007-05    14\n",
       "           ..\n",
       "2016-08    19\n",
       "2016-09    15\n",
       "2016-10    18\n",
       "2016-11    21\n",
       "2016-12     8\n",
       "Freq: M, Length: 120, dtype: int64"
      ]
     },
     "execution_count": 239,
     "metadata": {},
     "output_type": "execute_result"
    }
   ],
   "source": [
    "# Calculating number/frequency of operational losses per month for type 4\n",
    "freq_monthly_type4 = df_loss_4.groupby(df_loss_4['Date'].dt.to_period('M')).size()\n",
    "freq_monthly_type4"
   ]
  },
  {
   "cell_type": "code",
   "execution_count": 240,
   "id": "2194280b",
   "metadata": {},
   "outputs": [
    {
     "data": {
      "text/html": [
       "<div>\n",
       "<style scoped>\n",
       "    .dataframe tbody tr th:only-of-type {\n",
       "        vertical-align: middle;\n",
       "    }\n",
       "\n",
       "    .dataframe tbody tr th {\n",
       "        vertical-align: top;\n",
       "    }\n",
       "\n",
       "    .dataframe thead th {\n",
       "        text-align: right;\n",
       "    }\n",
       "</style>\n",
       "<table border=\"1\" class=\"dataframe\">\n",
       "  <thead>\n",
       "    <tr style=\"text-align: right;\">\n",
       "      <th></th>\n",
       "      <th>0</th>\n",
       "    </tr>\n",
       "    <tr>\n",
       "      <th>Date</th>\n",
       "      <th></th>\n",
       "    </tr>\n",
       "  </thead>\n",
       "  <tbody>\n",
       "    <tr>\n",
       "      <th>2007-01</th>\n",
       "      <td>17</td>\n",
       "    </tr>\n",
       "    <tr>\n",
       "      <th>2007-02</th>\n",
       "      <td>16</td>\n",
       "    </tr>\n",
       "    <tr>\n",
       "      <th>2007-03</th>\n",
       "      <td>15</td>\n",
       "    </tr>\n",
       "    <tr>\n",
       "      <th>2007-04</th>\n",
       "      <td>15</td>\n",
       "    </tr>\n",
       "    <tr>\n",
       "      <th>2007-05</th>\n",
       "      <td>14</td>\n",
       "    </tr>\n",
       "  </tbody>\n",
       "</table>\n",
       "</div>"
      ],
      "text/plain": [
       "          0\n",
       "Date       \n",
       "2007-01  17\n",
       "2007-02  16\n",
       "2007-03  15\n",
       "2007-04  15\n",
       "2007-05  14"
      ]
     },
     "execution_count": 240,
     "metadata": {},
     "output_type": "execute_result"
    }
   ],
   "source": [
    "# Converting to dataframe\n",
    "freq_monthly_type4 = pd.DataFrame(freq_monthly_type4)\n",
    "freq_monthly_type4.head()"
   ]
  },
  {
   "cell_type": "code",
   "execution_count": 241,
   "id": "c49de7fb",
   "metadata": {},
   "outputs": [
    {
     "data": {
      "text/html": [
       "<div>\n",
       "<style scoped>\n",
       "    .dataframe tbody tr th:only-of-type {\n",
       "        vertical-align: middle;\n",
       "    }\n",
       "\n",
       "    .dataframe tbody tr th {\n",
       "        vertical-align: top;\n",
       "    }\n",
       "\n",
       "    .dataframe thead th {\n",
       "        text-align: right;\n",
       "    }\n",
       "</style>\n",
       "<table border=\"1\" class=\"dataframe\">\n",
       "  <thead>\n",
       "    <tr style=\"text-align: right;\">\n",
       "      <th></th>\n",
       "      <th>Date</th>\n",
       "      <th>0</th>\n",
       "    </tr>\n",
       "  </thead>\n",
       "  <tbody>\n",
       "    <tr>\n",
       "      <th>0</th>\n",
       "      <td>2007-01</td>\n",
       "      <td>17</td>\n",
       "    </tr>\n",
       "    <tr>\n",
       "      <th>1</th>\n",
       "      <td>2007-02</td>\n",
       "      <td>16</td>\n",
       "    </tr>\n",
       "    <tr>\n",
       "      <th>2</th>\n",
       "      <td>2007-03</td>\n",
       "      <td>15</td>\n",
       "    </tr>\n",
       "    <tr>\n",
       "      <th>3</th>\n",
       "      <td>2007-04</td>\n",
       "      <td>15</td>\n",
       "    </tr>\n",
       "    <tr>\n",
       "      <th>4</th>\n",
       "      <td>2007-05</td>\n",
       "      <td>14</td>\n",
       "    </tr>\n",
       "    <tr>\n",
       "      <th>...</th>\n",
       "      <td>...</td>\n",
       "      <td>...</td>\n",
       "    </tr>\n",
       "    <tr>\n",
       "      <th>115</th>\n",
       "      <td>2016-08</td>\n",
       "      <td>19</td>\n",
       "    </tr>\n",
       "    <tr>\n",
       "      <th>116</th>\n",
       "      <td>2016-09</td>\n",
       "      <td>15</td>\n",
       "    </tr>\n",
       "    <tr>\n",
       "      <th>117</th>\n",
       "      <td>2016-10</td>\n",
       "      <td>18</td>\n",
       "    </tr>\n",
       "    <tr>\n",
       "      <th>118</th>\n",
       "      <td>2016-11</td>\n",
       "      <td>21</td>\n",
       "    </tr>\n",
       "    <tr>\n",
       "      <th>119</th>\n",
       "      <td>2016-12</td>\n",
       "      <td>8</td>\n",
       "    </tr>\n",
       "  </tbody>\n",
       "</table>\n",
       "<p>120 rows × 2 columns</p>\n",
       "</div>"
      ],
      "text/plain": [
       "        Date   0\n",
       "0    2007-01  17\n",
       "1    2007-02  16\n",
       "2    2007-03  15\n",
       "3    2007-04  15\n",
       "4    2007-05  14\n",
       "..       ...  ..\n",
       "115  2016-08  19\n",
       "116  2016-09  15\n",
       "117  2016-10  18\n",
       "118  2016-11  21\n",
       "119  2016-12   8\n",
       "\n",
       "[120 rows x 2 columns]"
      ]
     },
     "execution_count": 241,
     "metadata": {},
     "output_type": "execute_result"
    }
   ],
   "source": [
    "# Reseting index\n",
    "freq_monthly_type4.reset_index(inplace = True)\n",
    "freq_monthly_type4"
   ]
  },
  {
   "cell_type": "code",
   "execution_count": 242,
   "id": "b62f0d2e",
   "metadata": {},
   "outputs": [
    {
     "data": {
      "text/html": [
       "<div>\n",
       "<style scoped>\n",
       "    .dataframe tbody tr th:only-of-type {\n",
       "        vertical-align: middle;\n",
       "    }\n",
       "\n",
       "    .dataframe tbody tr th {\n",
       "        vertical-align: top;\n",
       "    }\n",
       "\n",
       "    .dataframe thead th {\n",
       "        text-align: right;\n",
       "    }\n",
       "</style>\n",
       "<table border=\"1\" class=\"dataframe\">\n",
       "  <thead>\n",
       "    <tr style=\"text-align: right;\">\n",
       "      <th></th>\n",
       "      <th>Date</th>\n",
       "      <th>Frequency</th>\n",
       "    </tr>\n",
       "  </thead>\n",
       "  <tbody>\n",
       "    <tr>\n",
       "      <th>0</th>\n",
       "      <td>2007-01</td>\n",
       "      <td>17</td>\n",
       "    </tr>\n",
       "    <tr>\n",
       "      <th>1</th>\n",
       "      <td>2007-02</td>\n",
       "      <td>16</td>\n",
       "    </tr>\n",
       "    <tr>\n",
       "      <th>2</th>\n",
       "      <td>2007-03</td>\n",
       "      <td>15</td>\n",
       "    </tr>\n",
       "  </tbody>\n",
       "</table>\n",
       "</div>"
      ],
      "text/plain": [
       "      Date  Frequency\n",
       "0  2007-01         17\n",
       "1  2007-02         16\n",
       "2  2007-03         15"
      ]
     },
     "execution_count": 242,
     "metadata": {},
     "output_type": "execute_result"
    }
   ],
   "source": [
    "# Renaming column names\n",
    "freq_monthly_type4 = freq_monthly_type4.rename(columns = {0: 'Frequency'})\n",
    "freq_monthly_type4.head(3)"
   ]
  },
  {
   "cell_type": "markdown",
   "id": "934dbf63",
   "metadata": {},
   "source": [
    "# 5. Statistical Modelling"
   ]
  },
  {
   "cell_type": "markdown",
   "id": "efdefd1a",
   "metadata": {},
   "source": [
    "Generation of Inverse Binomial Distribution"
   ]
  },
  {
   "cell_type": "markdown",
   "id": "a320c9c4",
   "metadata": {},
   "source": [
    "1. Operational Risk Loss Type 1"
   ]
  },
  {
   "cell_type": "code",
   "execution_count": 243,
   "id": "ed115ba3",
   "metadata": {},
   "outputs": [
    {
     "name": "stdout",
     "output_type": "stream",
     "text": [
      "Mean of Type 1 =  16.375\n",
      "Variance of Type 1 =  12.219537815126051\n"
     ]
    }
   ],
   "source": [
    "# Calculating mean and variance for monthly events of Operational risk type 1\n",
    "mean_events_type1 = freq_monthly_type1['Frequency'].mean()\n",
    "variance_events_type1 = freq_monthly_type1['Frequency'].var()\n",
    "print('Mean of Type 1 = ', mean_events_type1)\n",
    "print('Variance of Type 1 = ', variance_events_type1)"
   ]
  },
  {
   "cell_type": "code",
   "execution_count": 244,
   "id": "c49085c8",
   "metadata": {},
   "outputs": [
    {
     "name": "stdout",
     "output_type": "stream",
     "text": [
      "Number of success required =  1.3400670506318233\n",
      "Probability of success of each trial =  0.0756456098529996\n",
      "Number of failures of each trial =  21.943597954096106\n"
     ]
    }
   ],
   "source": [
    "# Computation of negative binomial distribution for Operational Risk Type 1\n",
    "# Calculation of 'number of success required'\n",
    "r_type1 = mean_events_type1 / variance_events_type1\n",
    "print('Number of success required = ', r_type1)\n",
    "#Calculation of 'probability of success of each trial'\n",
    "p_type1 = r_type1 / (r_type1 + mean_events_type1)\n",
    "print('Probability of success of each trial = ', p_type1)\n",
    "# Calculation of 'number of failures before each success'\n",
    "k_type1 = mean_events_type1 ** 2 / variance_events_type1\n",
    "print('Number of failures of each trial = ', k_type1)"
   ]
  },
  {
   "cell_type": "code",
   "execution_count": 245,
   "id": "b18c7fce",
   "metadata": {},
   "outputs": [
    {
     "name": "stdout",
     "output_type": "stream",
     "text": [
      "[ 3 15 21 27 39 12 33  1  2  6]\n"
     ]
    }
   ],
   "source": [
    "# Generation of Negative Binomial Distribution for Operational Risk Type 1 with 10 000 sample size.\n",
    "binom_type1 = np.random.negative_binomial(n = r_type1, p = p_type1, size = 10000)\n",
    "print(binom_type1[:10])"
   ]
  },
  {
   "cell_type": "markdown",
   "id": "17ccd861",
   "metadata": {},
   "source": [
    "2. Operational Risk Loss Type 2"
   ]
  },
  {
   "cell_type": "code",
   "execution_count": 246,
   "id": "d24a8dfb",
   "metadata": {},
   "outputs": [
    {
     "name": "stdout",
     "output_type": "stream",
     "text": [
      "Mean of Type 2 =  16.875\n",
      "Variance of Type 2 =  19.2531512605042\n"
     ]
    }
   ],
   "source": [
    "# Calculating mean and variance for monthly events of Operational risk type 2\n",
    "mean_events_type2 = freq_monthly_type2['Frequency'].mean()\n",
    "variance_events_type2 = freq_monthly_type2['Frequency'].var()\n",
    "print('Mean of Type 2 = ', mean_events_type2)\n",
    "print('Variance of Type 2 = ', variance_events_type2)"
   ]
  },
  {
   "cell_type": "code",
   "execution_count": 247,
   "id": "76f9a3cf",
   "metadata": {},
   "outputs": [
    {
     "name": "stdout",
     "output_type": "stream",
     "text": [
      "Number of success required =  0.8764798952479678\n",
      "Probability of success of each trial =  0.04937503241533116\n",
      "Number of failures of each trial =  14.790598232309456\n"
     ]
    }
   ],
   "source": [
    "# Computation of negative binomial distribution for Operational Risk Type 2\n",
    "# Calculation of 'number of success required'\n",
    "r_type2 = mean_events_type2 / variance_events_type2\n",
    "print('Number of success required = ', r_type2)\n",
    "#Calculation of 'probability of success of each trial'\n",
    "p_type2 = r_type2 / (r_type2 + mean_events_type2)\n",
    "print('Probability of success of each trial = ', p_type2)\n",
    "# Calculation of 'number of failures before each success'\n",
    "k_type2 = mean_events_type2 ** 2 / variance_events_type2\n",
    "print('Number of failures of each trial = ', k_type2)"
   ]
  },
  {
   "cell_type": "code",
   "execution_count": 248,
   "id": "0e5871ed",
   "metadata": {},
   "outputs": [
    {
     "name": "stdout",
     "output_type": "stream",
     "text": [
      "[  4   5  12 168  19   5   1  11   8  31]\n"
     ]
    }
   ],
   "source": [
    "# Generation of Negative Binomial Distribution for Operational Risk Type 2 with 10 000 sample size.\n",
    "binom_type2 = np.random.negative_binomial(n = r_type2, p = p_type2, size = 10000)\n",
    "print(binom_type2[:10])"
   ]
  },
  {
   "cell_type": "markdown",
   "id": "19c79e87",
   "metadata": {},
   "source": [
    "3. Operational Risk Loss Type 3"
   ]
  },
  {
   "cell_type": "code",
   "execution_count": 249,
   "id": "506fff59",
   "metadata": {},
   "outputs": [
    {
     "name": "stdout",
     "output_type": "stream",
     "text": [
      "Mean of Type 3 =  16.625\n",
      "Variance of Type 3 =  16.38760504201681\n"
     ]
    }
   ],
   "source": [
    "# Calculating mean and variance for monthly events of Operational risk type 3\n",
    "mean_events_type3 = freq_monthly_type3['Frequency'].mean()\n",
    "variance_events_type3 = freq_monthly_type3['Frequency'].var()\n",
    "print('Mean of Type 3 = ', mean_events_type3)\n",
    "print('Variance of Type 3 = ', variance_events_type3)"
   ]
  },
  {
   "cell_type": "code",
   "execution_count": 250,
   "id": "3da54066",
   "metadata": {},
   "outputs": [
    {
     "name": "stdout",
     "output_type": "stream",
     "text": [
      "Number of success required =  1.0144862508813537\n",
      "Probability of success of each trial =  0.057512233432006274\n",
      "Number of failures of each trial =  16.865833920902503\n"
     ]
    }
   ],
   "source": [
    "# Computation of negative binomial distribution for Operational Risk Type 3\n",
    "# Calculation of 'number of success required'\n",
    "r_type3 = mean_events_type3 / variance_events_type3\n",
    "print('Number of success required = ', r_type3)\n",
    "#Calculation of 'probability of success of each trial'\n",
    "p_type3 = r_type3 / (r_type3 + mean_events_type3)\n",
    "print('Probability of success of each trial = ', p_type3)\n",
    "# Calculation of 'number of failures before each success'\n",
    "k_type3 = mean_events_type3 ** 2 / variance_events_type3\n",
    "print('Number of failures of each trial = ', k_type3)"
   ]
  },
  {
   "cell_type": "code",
   "execution_count": 251,
   "id": "648cee24",
   "metadata": {},
   "outputs": [
    {
     "name": "stdout",
     "output_type": "stream",
     "text": [
      "[10 11  4 10  2  0 27  1 62 16]\n"
     ]
    }
   ],
   "source": [
    "# Generation of Negative Binomial Distribution for Operational Risk Type 3 with 10 000 sample size.\n",
    "binom_type3 = np.random.negative_binomial(n = r_type3, p = p_type3, size = 10000)\n",
    "print(binom_type3[:10])"
   ]
  },
  {
   "cell_type": "markdown",
   "id": "aa13ffcb",
   "metadata": {},
   "source": [
    "4. Operational Risk Loss Type 4"
   ]
  },
  {
   "cell_type": "code",
   "execution_count": 252,
   "id": "2082557d",
   "metadata": {},
   "outputs": [
    {
     "name": "stdout",
     "output_type": "stream",
     "text": [
      "Mean of Type 4 =  16.175\n",
      "Variance of Type 4 =  16.548949579831934\n"
     ]
    }
   ],
   "source": [
    "# Calculating mean and variance for monthly events of Operational risk type 4\n",
    "mean_events_type4 = freq_monthly_type4['Frequency'].mean()\n",
    "variance_events_type4 = freq_monthly_type4['Frequency'].var()\n",
    "print('Mean of Type 4 = ', mean_events_type4)\n",
    "print('Variance of Type 4 = ', variance_events_type4)"
   ]
  },
  {
   "cell_type": "code",
   "execution_count": 253,
   "id": "f9cec3c6",
   "metadata": {},
   "outputs": [
    {
     "name": "stdout",
     "output_type": "stream",
     "text": [
      "Number of success required =  0.9774034250314194\n",
      "Probability of success of each trial =  0.0569834676116026\n",
      "Number of failures of each trial =  15.809500399883207\n"
     ]
    }
   ],
   "source": [
    "# Computation of negative binomial distribution for Operational Risk Type 4\n",
    "# Calculation of 'number of success required'\n",
    "r_type4 = mean_events_type4 / variance_events_type4\n",
    "print('Number of success required = ', r_type4)\n",
    "#Calculation of 'probability of success of each trial'\n",
    "p_type4 = r_type4 / (r_type4 + mean_events_type4)\n",
    "print('Probability of success of each trial = ', p_type4)\n",
    "# Calculation of 'number of failures before each success'\n",
    "k_type4 = mean_events_type4 ** 2 / variance_events_type4\n",
    "print('Number of failures of each trial = ', k_type4)"
   ]
  },
  {
   "cell_type": "code",
   "execution_count": 254,
   "id": "17694de5",
   "metadata": {},
   "outputs": [
    {
     "name": "stdout",
     "output_type": "stream",
     "text": [
      "[27 10  5 25  4 22  6 14 10 43]\n"
     ]
    }
   ],
   "source": [
    "# Generation of Negative Binomial Distribution for Operational Risk Type 4 with 10000 sample size.\n",
    "binom_type4 = np.random.negative_binomial(n = r_type4, p = p_type4, size = 10000)\n",
    "print(binom_type4[:10])"
   ]
  },
  {
   "cell_type": "markdown",
   "id": "02565419",
   "metadata": {},
   "source": [
    "Generation of Inverse lognormal Distribution"
   ]
  },
  {
   "cell_type": "markdown",
   "id": "94ff717c",
   "metadata": {},
   "source": [
    "1. Operational Risk Loss Type 1"
   ]
  },
  {
   "cell_type": "code",
   "execution_count": 255,
   "id": "548d0499",
   "metadata": {},
   "outputs": [
    {
     "data": {
      "text/html": [
       "<div>\n",
       "<style scoped>\n",
       "    .dataframe tbody tr th:only-of-type {\n",
       "        vertical-align: middle;\n",
       "    }\n",
       "\n",
       "    .dataframe tbody tr th {\n",
       "        vertical-align: top;\n",
       "    }\n",
       "\n",
       "    .dataframe thead th {\n",
       "        text-align: right;\n",
       "    }\n",
       "</style>\n",
       "<table border=\"1\" class=\"dataframe\">\n",
       "  <thead>\n",
       "    <tr style=\"text-align: right;\">\n",
       "      <th></th>\n",
       "      <th>Loss</th>\n",
       "      <th>Period</th>\n",
       "      <th>Date</th>\n",
       "      <th>Log_value</th>\n",
       "    </tr>\n",
       "  </thead>\n",
       "  <tbody>\n",
       "    <tr>\n",
       "      <th>0</th>\n",
       "      <td>1877</td>\n",
       "      <td>1</td>\n",
       "      <td>2016-12-31</td>\n",
       "      <td>7.537430</td>\n",
       "    </tr>\n",
       "    <tr>\n",
       "      <th>1</th>\n",
       "      <td>1807</td>\n",
       "      <td>1</td>\n",
       "      <td>2016-12-30</td>\n",
       "      <td>7.499423</td>\n",
       "    </tr>\n",
       "    <tr>\n",
       "      <th>2</th>\n",
       "      <td>918</td>\n",
       "      <td>1</td>\n",
       "      <td>2016-12-30</td>\n",
       "      <td>6.822197</td>\n",
       "    </tr>\n",
       "  </tbody>\n",
       "</table>\n",
       "</div>"
      ],
      "text/plain": [
       "   Loss  Period       Date  Log_value\n",
       "0  1877       1 2016-12-31   7.537430\n",
       "1  1807       1 2016-12-30   7.499423\n",
       "2   918       1 2016-12-30   6.822197"
      ]
     },
     "execution_count": 255,
     "metadata": {},
     "output_type": "execute_result"
    }
   ],
   "source": [
    "#Calculation of natural logarithm of amounts of Operational Risk Type 1\n",
    "df_loss_1['Log_value'] = df_loss_1['Loss'].apply(lambda x: math.log(x))\n",
    "df_loss_1.head(3)"
   ]
  },
  {
   "cell_type": "code",
   "execution_count": 256,
   "id": "353174dc",
   "metadata": {},
   "outputs": [
    {
     "name": "stdout",
     "output_type": "stream",
     "text": [
      "Mean of logarithms =  6.487373454498382\n",
      "Variance of logarithm =  1.1488529511526584\n",
      "Standard deviation of logarithm =  1.071845581766636\n"
     ]
    }
   ],
   "source": [
    "# Calculation statistics for logarithms distribution\n",
    "log_mean_1 = df_loss_1['Log_value'].mean()\n",
    "print('Mean of logarithms = ', log_mean_1)\n",
    "log_variance_1 = df_loss_1['Log_value'].var()\n",
    "print('Variance of logarithm = ', log_variance_1)\n",
    "log_std_1 = np.sqrt(log_variance_1)\n",
    "print('Standard deviation of logarithm = ', log_std_1)"
   ]
  },
  {
   "cell_type": "code",
   "execution_count": 257,
   "id": "31bac21e",
   "metadata": {},
   "outputs": [
    {
     "name": "stdout",
     "output_type": "stream",
     "text": [
      "Inverse Lognormal Distribution  [ 1078.59769579 23703.92499105    83.2839057     79.50070753\n",
      "   652.02641318  2087.34939078   124.44986396   350.77115455\n",
      "    97.0610475     78.69154878]\n"
     ]
    }
   ],
   "source": [
    "# Generation of Inverse Lognormal distribution for Operational Risks Type 1 with 10000 sample size\n",
    "inverse_lognorm_type1 = stats.lognorm.rvs(s = log_std_1, scale = np.exp(log_mean_1), size = 10000)\n",
    "print('Inverse Lognormal Distribution ', inverse_lognorm_type1[:10])"
   ]
  },
  {
   "cell_type": "markdown",
   "id": "a20d7f74",
   "metadata": {},
   "source": [
    "2. Operational Risk Loss Type 2"
   ]
  },
  {
   "cell_type": "code",
   "execution_count": 258,
   "id": "fbf303c2",
   "metadata": {},
   "outputs": [
    {
     "data": {
      "text/html": [
       "<div>\n",
       "<style scoped>\n",
       "    .dataframe tbody tr th:only-of-type {\n",
       "        vertical-align: middle;\n",
       "    }\n",
       "\n",
       "    .dataframe tbody tr th {\n",
       "        vertical-align: top;\n",
       "    }\n",
       "\n",
       "    .dataframe thead th {\n",
       "        text-align: right;\n",
       "    }\n",
       "</style>\n",
       "<table border=\"1\" class=\"dataframe\">\n",
       "  <thead>\n",
       "    <tr style=\"text-align: right;\">\n",
       "      <th></th>\n",
       "      <th>Loss</th>\n",
       "      <th>Period</th>\n",
       "      <th>Date</th>\n",
       "      <th>Log_value</th>\n",
       "    </tr>\n",
       "  </thead>\n",
       "  <tbody>\n",
       "    <tr>\n",
       "      <th>0</th>\n",
       "      <td>181</td>\n",
       "      <td>1</td>\n",
       "      <td>2016-12-31</td>\n",
       "      <td>5.198497</td>\n",
       "    </tr>\n",
       "    <tr>\n",
       "      <th>1</th>\n",
       "      <td>610</td>\n",
       "      <td>1</td>\n",
       "      <td>2016-12-23</td>\n",
       "      <td>6.413459</td>\n",
       "    </tr>\n",
       "    <tr>\n",
       "      <th>2</th>\n",
       "      <td>961</td>\n",
       "      <td>1</td>\n",
       "      <td>2016-12-19</td>\n",
       "      <td>6.867974</td>\n",
       "    </tr>\n",
       "  </tbody>\n",
       "</table>\n",
       "</div>"
      ],
      "text/plain": [
       "   Loss  Period       Date  Log_value\n",
       "0   181       1 2016-12-31   5.198497\n",
       "1   610       1 2016-12-23   6.413459\n",
       "2   961       1 2016-12-19   6.867974"
      ]
     },
     "execution_count": 258,
     "metadata": {},
     "output_type": "execute_result"
    }
   ],
   "source": [
    "#Calculation of natural logarithm of amounts of Operational Risk Type 2\n",
    "df_loss_2['Log_value'] = df_loss_2['Loss'].apply(lambda x: math.log(x))\n",
    "df_loss_2.head(3)"
   ]
  },
  {
   "cell_type": "code",
   "execution_count": 259,
   "id": "4ad6f7db",
   "metadata": {},
   "outputs": [
    {
     "name": "stdout",
     "output_type": "stream",
     "text": [
      "Mean of logarithms =  6.572645278834224\n",
      "Variance of logarithm =  1.273380825999463\n",
      "Standard deviation of logarithm =  1.1284417689891946\n"
     ]
    }
   ],
   "source": [
    "# Calculation statistics for logarithms distribution\n",
    "log_mean_2 = df_loss_2['Log_value'].mean()\n",
    "print('Mean of logarithms = ', log_mean_2)\n",
    "log_variance_2 = df_loss_2['Log_value'].var()\n",
    "print('Variance of logarithm = ', log_variance_2)\n",
    "log_std_2 = np.sqrt(log_variance_2)\n",
    "print('Standard deviation of logarithm = ', log_std_2)"
   ]
  },
  {
   "cell_type": "code",
   "execution_count": 260,
   "id": "9bbd423f",
   "metadata": {},
   "outputs": [
    {
     "name": "stdout",
     "output_type": "stream",
     "text": [
      "Inverse Lognormal Distribution  [3808.07157649 2206.98221841   16.00239101 2279.76399322 1948.83565514\n",
      "  774.47954243  140.49216892  907.89568287  385.10758615  550.00420504]\n"
     ]
    }
   ],
   "source": [
    "# Generation of Inverse Lognormal distribution for Operational Risks Type 2 with 10000 sample size\n",
    "inverse_lognorm_type2 = stats.lognorm.rvs(s = log_std_2, scale = np.exp(log_mean_2), size = 10000)\n",
    "print('Inverse Lognormal Distribution ', inverse_lognorm_type2[:10])"
   ]
  },
  {
   "cell_type": "markdown",
   "id": "f20ae1bc",
   "metadata": {},
   "source": [
    "3. Operational Risk Loss Type 3"
   ]
  },
  {
   "cell_type": "code",
   "execution_count": 261,
   "id": "8cd78644",
   "metadata": {},
   "outputs": [
    {
     "data": {
      "text/html": [
       "<div>\n",
       "<style scoped>\n",
       "    .dataframe tbody tr th:only-of-type {\n",
       "        vertical-align: middle;\n",
       "    }\n",
       "\n",
       "    .dataframe tbody tr th {\n",
       "        vertical-align: top;\n",
       "    }\n",
       "\n",
       "    .dataframe thead th {\n",
       "        text-align: right;\n",
       "    }\n",
       "</style>\n",
       "<table border=\"1\" class=\"dataframe\">\n",
       "  <thead>\n",
       "    <tr style=\"text-align: right;\">\n",
       "      <th></th>\n",
       "      <th>Loss</th>\n",
       "      <th>Period</th>\n",
       "      <th>Date</th>\n",
       "      <th>Log_value</th>\n",
       "    </tr>\n",
       "  </thead>\n",
       "  <tbody>\n",
       "    <tr>\n",
       "      <th>0</th>\n",
       "      <td>1334</td>\n",
       "      <td>1</td>\n",
       "      <td>2016-12-31</td>\n",
       "      <td>7.195937</td>\n",
       "    </tr>\n",
       "    <tr>\n",
       "      <th>1</th>\n",
       "      <td>1067</td>\n",
       "      <td>1</td>\n",
       "      <td>2016-12-30</td>\n",
       "      <td>6.972606</td>\n",
       "    </tr>\n",
       "    <tr>\n",
       "      <th>2</th>\n",
       "      <td>1068</td>\n",
       "      <td>1</td>\n",
       "      <td>2016-12-29</td>\n",
       "      <td>6.973543</td>\n",
       "    </tr>\n",
       "  </tbody>\n",
       "</table>\n",
       "</div>"
      ],
      "text/plain": [
       "   Loss  Period       Date  Log_value\n",
       "0  1334       1 2016-12-31   7.195937\n",
       "1  1067       1 2016-12-30   6.972606\n",
       "2  1068       1 2016-12-29   6.973543"
      ]
     },
     "execution_count": 261,
     "metadata": {},
     "output_type": "execute_result"
    }
   ],
   "source": [
    "#Calculation of natural logarithm of amounts of Operational Risk Type 3\n",
    "df_loss_3['Log_value'] = df_loss_3['Loss'].apply(lambda x: math.log(x))\n",
    "df_loss_3.head(3)"
   ]
  },
  {
   "cell_type": "code",
   "execution_count": 262,
   "id": "c7d6186c",
   "metadata": {},
   "outputs": [
    {
     "name": "stdout",
     "output_type": "stream",
     "text": [
      "Mean of logarithms =  6.666514314196632\n",
      "Variance of logarithm =  0.5810100938064565\n",
      "Standard deviation of logarithm =  0.762240181180746\n"
     ]
    }
   ],
   "source": [
    "# Calculation statistics for logarithms distribution\n",
    "log_mean_3 = df_loss_3['Log_value'].mean()\n",
    "print('Mean of logarithms = ', log_mean_3)\n",
    "log_variance_3 = df_loss_3['Log_value'].var()\n",
    "print('Variance of logarithm = ', log_variance_3)\n",
    "log_std_3 = np.sqrt(log_variance_3)\n",
    "print('Standard deviation of logarithm = ', log_std_3)"
   ]
  },
  {
   "cell_type": "code",
   "execution_count": 263,
   "id": "0269b4a6",
   "metadata": {},
   "outputs": [
    {
     "name": "stdout",
     "output_type": "stream",
     "text": [
      "Inverse Lognormal Distribution  [ 916.81083895  891.47379874  511.12178453  712.78310618 1566.79267852\n",
      " 2725.81043839  287.40735467 2499.7907906  1232.01392459  376.92376875]\n"
     ]
    }
   ],
   "source": [
    "# Generation of Inverse Lognormal distribution for Operational Risks Type 3 with 10000 sample size\n",
    "inverse_lognorm_type3 = stats.lognorm.rvs(s = log_std_3, scale = np.exp(log_mean_3), size = 10000)\n",
    "print('Inverse Lognormal Distribution ', inverse_lognorm_type3[:10])"
   ]
  },
  {
   "cell_type": "markdown",
   "id": "c3110d9e",
   "metadata": {},
   "source": [
    "4. Operational Risk Loss Type 4"
   ]
  },
  {
   "cell_type": "code",
   "execution_count": 264,
   "id": "2ff0df37",
   "metadata": {},
   "outputs": [
    {
     "data": {
      "text/html": [
       "<div>\n",
       "<style scoped>\n",
       "    .dataframe tbody tr th:only-of-type {\n",
       "        vertical-align: middle;\n",
       "    }\n",
       "\n",
       "    .dataframe tbody tr th {\n",
       "        vertical-align: top;\n",
       "    }\n",
       "\n",
       "    .dataframe thead th {\n",
       "        text-align: right;\n",
       "    }\n",
       "</style>\n",
       "<table border=\"1\" class=\"dataframe\">\n",
       "  <thead>\n",
       "    <tr style=\"text-align: right;\">\n",
       "      <th></th>\n",
       "      <th>Loss</th>\n",
       "      <th>Period</th>\n",
       "      <th>Date</th>\n",
       "      <th>Log_value</th>\n",
       "    </tr>\n",
       "  </thead>\n",
       "  <tbody>\n",
       "    <tr>\n",
       "      <th>0</th>\n",
       "      <td>650</td>\n",
       "      <td>1</td>\n",
       "      <td>2016-12-31</td>\n",
       "      <td>6.476972</td>\n",
       "    </tr>\n",
       "    <tr>\n",
       "      <th>1</th>\n",
       "      <td>847</td>\n",
       "      <td>1</td>\n",
       "      <td>2016-12-30</td>\n",
       "      <td>6.741701</td>\n",
       "    </tr>\n",
       "    <tr>\n",
       "      <th>2</th>\n",
       "      <td>242</td>\n",
       "      <td>1</td>\n",
       "      <td>2016-12-11</td>\n",
       "      <td>5.488938</td>\n",
       "    </tr>\n",
       "  </tbody>\n",
       "</table>\n",
       "</div>"
      ],
      "text/plain": [
       "   Loss  Period       Date  Log_value\n",
       "0   650       1 2016-12-31   6.476972\n",
       "1   847       1 2016-12-30   6.741701\n",
       "2   242       1 2016-12-11   5.488938"
      ]
     },
     "execution_count": 264,
     "metadata": {},
     "output_type": "execute_result"
    }
   ],
   "source": [
    "#Calculation of natural logarithm of amounts of Operational Risk Type 4\n",
    "df_loss_4['Log_value'] = df_loss_4['Loss'].apply(lambda x: math.log(x))\n",
    "df_loss_4.head(3)"
   ]
  },
  {
   "cell_type": "code",
   "execution_count": 265,
   "id": "4c8bebf7",
   "metadata": {},
   "outputs": [
    {
     "name": "stdout",
     "output_type": "stream",
     "text": [
      "Mean of logarithms =  6.6055827106418565\n",
      "Variance of logarithm =  0.5305873956037179\n",
      "Standard deviation of logarithm =  0.7284143021685653\n"
     ]
    }
   ],
   "source": [
    "# Calculation statistics for logarithms distribution\n",
    "log_mean_4 = df_loss_4['Log_value'].mean()\n",
    "print('Mean of logarithms = ', log_mean_4)\n",
    "log_variance_4 = df_loss_4['Log_value'].var()\n",
    "print('Variance of logarithm = ', log_variance_4)\n",
    "log_std_4 = np.sqrt(log_variance_4)\n",
    "print('Standard deviation of logarithm = ', log_std_4)"
   ]
  },
  {
   "cell_type": "code",
   "execution_count": 266,
   "id": "00e79589",
   "metadata": {},
   "outputs": [
    {
     "name": "stdout",
     "output_type": "stream",
     "text": [
      "Inverse Lognormal Distribution  [ 472.47007131  894.48881555  511.99534788 1147.77221056  757.10468491\n",
      "  416.77156763  575.05054241  311.86276047  253.56352913  703.50416257]\n"
     ]
    }
   ],
   "source": [
    "# Generation of Inverse Lognormal distribution for Operational Risks Type 4 with 10000 sample size\n",
    "inverse_lognorm_type4 = stats.lognorm.rvs(s = log_std_4, scale = np.exp(log_mean_4), size = 10000)\n",
    "print('Inverse Lognormal Distribution ', inverse_lognorm_type4[:10])"
   ]
  },
  {
   "cell_type": "markdown",
   "id": "b8427258",
   "metadata": {},
   "source": [
    "Generation of Poisson Distribution"
   ]
  },
  {
   "cell_type": "markdown",
   "id": "74da6fb4",
   "metadata": {},
   "source": [
    "1. Operational Risk Loss Type 1"
   ]
  },
  {
   "cell_type": "code",
   "execution_count": 267,
   "id": "eb8db53b",
   "metadata": {},
   "outputs": [
    {
     "name": "stdout",
     "output_type": "stream",
     "text": [
      "16.375\n",
      "[21 17 17 12 16 18 16 16 10 15]\n"
     ]
    }
   ],
   "source": [
    "# Generation of Poisson Distribution for Operational Risks Type 1\n",
    "mean_1 = freq_monthly_type1['Frequency'].mean()\n",
    "print(mean_1)\n",
    "poisson_type1 = np.random.poisson(lam = mean_1, size = 10000)\n",
    "print(poisson_type1[:10])"
   ]
  },
  {
   "cell_type": "markdown",
   "id": "e59b1651",
   "metadata": {},
   "source": [
    "2. Operational Risk Loss Type 2"
   ]
  },
  {
   "cell_type": "code",
   "execution_count": 268,
   "id": "6c00f9b7",
   "metadata": {},
   "outputs": [
    {
     "name": "stdout",
     "output_type": "stream",
     "text": [
      "16.875\n",
      "[16 16 16 20 18 22 17 20 16 22]\n"
     ]
    }
   ],
   "source": [
    "# Generation of Poisson Distribution for Operational Risks Type 2\n",
    "mean_2 = freq_monthly_type2['Frequency'].mean()\n",
    "print(mean_2)\n",
    "poisson_type2 = np.random.poisson(lam = mean_2, size = 10000)\n",
    "print(poisson_type2[:10])"
   ]
  },
  {
   "cell_type": "markdown",
   "id": "542664e4",
   "metadata": {},
   "source": [
    "3. Operational Risk Loss Type 3"
   ]
  },
  {
   "cell_type": "code",
   "execution_count": 269,
   "id": "de2a437b",
   "metadata": {},
   "outputs": [
    {
     "name": "stdout",
     "output_type": "stream",
     "text": [
      "16.625\n",
      "[17 15 15 14 16 17 14 29 13  8]\n"
     ]
    }
   ],
   "source": [
    "# Generation of Poisson Distribution for Operational Risks Type 3\n",
    "mean_3 = freq_monthly_type3['Frequency'].mean()\n",
    "print(mean_3)\n",
    "poisson_type3 = np.random.poisson(lam = mean_3, size = 10000)\n",
    "print(poisson_type3[:10])"
   ]
  },
  {
   "cell_type": "markdown",
   "id": "267f750b",
   "metadata": {},
   "source": [
    "4. Operational Risk Loss Type 4"
   ]
  },
  {
   "cell_type": "code",
   "execution_count": 270,
   "id": "b482ecd9",
   "metadata": {},
   "outputs": [
    {
     "name": "stdout",
     "output_type": "stream",
     "text": [
      "16.175\n",
      "[21 18 13 12 19 18 16 18 15 15]\n"
     ]
    }
   ],
   "source": [
    "# Generation of Poisson Distribution for Operational Risks Type 4\n",
    "mean_4 = freq_monthly_type4['Frequency'].mean()\n",
    "print(mean_4)\n",
    "poisson_type4 = np.random.poisson(lam = mean_4, size = 10000)\n",
    "print(poisson_type4[:10])"
   ]
  },
  {
   "cell_type": "markdown",
   "id": "ede73413",
   "metadata": {},
   "source": [
    "# 6. Data Processing"
   ]
  },
  {
   "cell_type": "markdown",
   "id": "5138a464",
   "metadata": {},
   "source": [
    "1. Inverse Binomial Distribution Type 1"
   ]
  },
  {
   "cell_type": "code",
   "execution_count": 271,
   "id": "2fa7efa2",
   "metadata": {},
   "outputs": [
    {
     "data": {
      "text/html": [
       "<div>\n",
       "<style scoped>\n",
       "    .dataframe tbody tr th:only-of-type {\n",
       "        vertical-align: middle;\n",
       "    }\n",
       "\n",
       "    .dataframe tbody tr th {\n",
       "        vertical-align: top;\n",
       "    }\n",
       "\n",
       "    .dataframe thead th {\n",
       "        text-align: right;\n",
       "    }\n",
       "</style>\n",
       "<table border=\"1\" class=\"dataframe\">\n",
       "  <thead>\n",
       "    <tr style=\"text-align: right;\">\n",
       "      <th></th>\n",
       "      <th>0</th>\n",
       "    </tr>\n",
       "  </thead>\n",
       "  <tbody>\n",
       "    <tr>\n",
       "      <th>0</th>\n",
       "      <td>3</td>\n",
       "    </tr>\n",
       "    <tr>\n",
       "      <th>1</th>\n",
       "      <td>15</td>\n",
       "    </tr>\n",
       "    <tr>\n",
       "      <th>2</th>\n",
       "      <td>21</td>\n",
       "    </tr>\n",
       "  </tbody>\n",
       "</table>\n",
       "</div>"
      ],
      "text/plain": [
       "    0\n",
       "0   3\n",
       "1  15\n",
       "2  21"
      ]
     },
     "execution_count": 271,
     "metadata": {},
     "output_type": "execute_result"
    }
   ],
   "source": [
    "# Converting inverse binomial distribution results to dataframe\n",
    "df_binom_type1 = pd.DataFrame(binom_type1)\n",
    "df_binom_type1.head(3)"
   ]
  },
  {
   "cell_type": "code",
   "execution_count": 272,
   "id": "7f511f26",
   "metadata": {},
   "outputs": [
    {
     "data": {
      "text/html": [
       "<div>\n",
       "<style scoped>\n",
       "    .dataframe tbody tr th:only-of-type {\n",
       "        vertical-align: middle;\n",
       "    }\n",
       "\n",
       "    .dataframe tbody tr th {\n",
       "        vertical-align: top;\n",
       "    }\n",
       "\n",
       "    .dataframe thead th {\n",
       "        text-align: right;\n",
       "    }\n",
       "</style>\n",
       "<table border=\"1\" class=\"dataframe\">\n",
       "  <thead>\n",
       "    <tr style=\"text-align: right;\">\n",
       "      <th></th>\n",
       "      <th>Binom_type1</th>\n",
       "    </tr>\n",
       "  </thead>\n",
       "  <tbody>\n",
       "    <tr>\n",
       "      <th>0</th>\n",
       "      <td>3</td>\n",
       "    </tr>\n",
       "    <tr>\n",
       "      <th>1</th>\n",
       "      <td>15</td>\n",
       "    </tr>\n",
       "    <tr>\n",
       "      <th>2</th>\n",
       "      <td>21</td>\n",
       "    </tr>\n",
       "  </tbody>\n",
       "</table>\n",
       "</div>"
      ],
      "text/plain": [
       "   Binom_type1\n",
       "0            3\n",
       "1           15\n",
       "2           21"
      ]
     },
     "execution_count": 272,
     "metadata": {},
     "output_type": "execute_result"
    }
   ],
   "source": [
    "# Renaming columns\n",
    "df_binom_type1 = df_binom_type1.rename(columns = {0: 'Binom_type1'})\n",
    "df_binom_type1.head(3)"
   ]
  },
  {
   "cell_type": "markdown",
   "id": "e069d5c9",
   "metadata": {},
   "source": [
    "2. Inverse Binomial Distribution Type 2"
   ]
  },
  {
   "cell_type": "code",
   "execution_count": 273,
   "id": "b56bc470",
   "metadata": {},
   "outputs": [
    {
     "data": {
      "text/html": [
       "<div>\n",
       "<style scoped>\n",
       "    .dataframe tbody tr th:only-of-type {\n",
       "        vertical-align: middle;\n",
       "    }\n",
       "\n",
       "    .dataframe tbody tr th {\n",
       "        vertical-align: top;\n",
       "    }\n",
       "\n",
       "    .dataframe thead th {\n",
       "        text-align: right;\n",
       "    }\n",
       "</style>\n",
       "<table border=\"1\" class=\"dataframe\">\n",
       "  <thead>\n",
       "    <tr style=\"text-align: right;\">\n",
       "      <th></th>\n",
       "      <th>0</th>\n",
       "    </tr>\n",
       "  </thead>\n",
       "  <tbody>\n",
       "    <tr>\n",
       "      <th>0</th>\n",
       "      <td>4</td>\n",
       "    </tr>\n",
       "    <tr>\n",
       "      <th>1</th>\n",
       "      <td>5</td>\n",
       "    </tr>\n",
       "    <tr>\n",
       "      <th>2</th>\n",
       "      <td>12</td>\n",
       "    </tr>\n",
       "  </tbody>\n",
       "</table>\n",
       "</div>"
      ],
      "text/plain": [
       "    0\n",
       "0   4\n",
       "1   5\n",
       "2  12"
      ]
     },
     "execution_count": 273,
     "metadata": {},
     "output_type": "execute_result"
    }
   ],
   "source": [
    "# Converting inverse binomial distribution results to dataframe\n",
    "df_binom_type2 = pd.DataFrame(binom_type2)\n",
    "df_binom_type2.head(3)"
   ]
  },
  {
   "cell_type": "code",
   "execution_count": 274,
   "id": "2958af6c",
   "metadata": {},
   "outputs": [
    {
     "data": {
      "text/html": [
       "<div>\n",
       "<style scoped>\n",
       "    .dataframe tbody tr th:only-of-type {\n",
       "        vertical-align: middle;\n",
       "    }\n",
       "\n",
       "    .dataframe tbody tr th {\n",
       "        vertical-align: top;\n",
       "    }\n",
       "\n",
       "    .dataframe thead th {\n",
       "        text-align: right;\n",
       "    }\n",
       "</style>\n",
       "<table border=\"1\" class=\"dataframe\">\n",
       "  <thead>\n",
       "    <tr style=\"text-align: right;\">\n",
       "      <th></th>\n",
       "      <th>Binom_type2</th>\n",
       "    </tr>\n",
       "  </thead>\n",
       "  <tbody>\n",
       "    <tr>\n",
       "      <th>0</th>\n",
       "      <td>4</td>\n",
       "    </tr>\n",
       "    <tr>\n",
       "      <th>1</th>\n",
       "      <td>5</td>\n",
       "    </tr>\n",
       "    <tr>\n",
       "      <th>2</th>\n",
       "      <td>12</td>\n",
       "    </tr>\n",
       "  </tbody>\n",
       "</table>\n",
       "</div>"
      ],
      "text/plain": [
       "   Binom_type2\n",
       "0            4\n",
       "1            5\n",
       "2           12"
      ]
     },
     "execution_count": 274,
     "metadata": {},
     "output_type": "execute_result"
    }
   ],
   "source": [
    "# Renaming columns\n",
    "df_binom_type2 = df_binom_type2.rename(columns = {0: 'Binom_type2'})\n",
    "df_binom_type2.head(3)"
   ]
  },
  {
   "cell_type": "markdown",
   "id": "407f0b5b",
   "metadata": {},
   "source": [
    "3. Inverse Binomial Distribution Type 3"
   ]
  },
  {
   "cell_type": "code",
   "execution_count": 275,
   "id": "f9347fee",
   "metadata": {},
   "outputs": [
    {
     "data": {
      "text/html": [
       "<div>\n",
       "<style scoped>\n",
       "    .dataframe tbody tr th:only-of-type {\n",
       "        vertical-align: middle;\n",
       "    }\n",
       "\n",
       "    .dataframe tbody tr th {\n",
       "        vertical-align: top;\n",
       "    }\n",
       "\n",
       "    .dataframe thead th {\n",
       "        text-align: right;\n",
       "    }\n",
       "</style>\n",
       "<table border=\"1\" class=\"dataframe\">\n",
       "  <thead>\n",
       "    <tr style=\"text-align: right;\">\n",
       "      <th></th>\n",
       "      <th>0</th>\n",
       "    </tr>\n",
       "  </thead>\n",
       "  <tbody>\n",
       "    <tr>\n",
       "      <th>0</th>\n",
       "      <td>10</td>\n",
       "    </tr>\n",
       "    <tr>\n",
       "      <th>1</th>\n",
       "      <td>11</td>\n",
       "    </tr>\n",
       "    <tr>\n",
       "      <th>2</th>\n",
       "      <td>4</td>\n",
       "    </tr>\n",
       "  </tbody>\n",
       "</table>\n",
       "</div>"
      ],
      "text/plain": [
       "    0\n",
       "0  10\n",
       "1  11\n",
       "2   4"
      ]
     },
     "execution_count": 275,
     "metadata": {},
     "output_type": "execute_result"
    }
   ],
   "source": [
    "# Converting inverse binomial distribution results to dataframe\n",
    "df_binom_type3 = pd.DataFrame(binom_type3)\n",
    "df_binom_type3.head(3)"
   ]
  },
  {
   "cell_type": "code",
   "execution_count": 276,
   "id": "f1cad886",
   "metadata": {},
   "outputs": [
    {
     "data": {
      "text/html": [
       "<div>\n",
       "<style scoped>\n",
       "    .dataframe tbody tr th:only-of-type {\n",
       "        vertical-align: middle;\n",
       "    }\n",
       "\n",
       "    .dataframe tbody tr th {\n",
       "        vertical-align: top;\n",
       "    }\n",
       "\n",
       "    .dataframe thead th {\n",
       "        text-align: right;\n",
       "    }\n",
       "</style>\n",
       "<table border=\"1\" class=\"dataframe\">\n",
       "  <thead>\n",
       "    <tr style=\"text-align: right;\">\n",
       "      <th></th>\n",
       "      <th>Binom_type3</th>\n",
       "    </tr>\n",
       "  </thead>\n",
       "  <tbody>\n",
       "    <tr>\n",
       "      <th>0</th>\n",
       "      <td>10</td>\n",
       "    </tr>\n",
       "    <tr>\n",
       "      <th>1</th>\n",
       "      <td>11</td>\n",
       "    </tr>\n",
       "    <tr>\n",
       "      <th>2</th>\n",
       "      <td>4</td>\n",
       "    </tr>\n",
       "  </tbody>\n",
       "</table>\n",
       "</div>"
      ],
      "text/plain": [
       "   Binom_type3\n",
       "0           10\n",
       "1           11\n",
       "2            4"
      ]
     },
     "execution_count": 276,
     "metadata": {},
     "output_type": "execute_result"
    }
   ],
   "source": [
    "# Renaming columns\n",
    "df_binom_type3 = df_binom_type3.rename(columns = {0: 'Binom_type3'})\n",
    "df_binom_type3.head(3)"
   ]
  },
  {
   "cell_type": "markdown",
   "id": "402ebe73",
   "metadata": {},
   "source": [
    "4. Inverse Binomial Distribution Type 4"
   ]
  },
  {
   "cell_type": "code",
   "execution_count": 277,
   "id": "0a8fc84b",
   "metadata": {},
   "outputs": [
    {
     "data": {
      "text/html": [
       "<div>\n",
       "<style scoped>\n",
       "    .dataframe tbody tr th:only-of-type {\n",
       "        vertical-align: middle;\n",
       "    }\n",
       "\n",
       "    .dataframe tbody tr th {\n",
       "        vertical-align: top;\n",
       "    }\n",
       "\n",
       "    .dataframe thead th {\n",
       "        text-align: right;\n",
       "    }\n",
       "</style>\n",
       "<table border=\"1\" class=\"dataframe\">\n",
       "  <thead>\n",
       "    <tr style=\"text-align: right;\">\n",
       "      <th></th>\n",
       "      <th>0</th>\n",
       "    </tr>\n",
       "  </thead>\n",
       "  <tbody>\n",
       "    <tr>\n",
       "      <th>0</th>\n",
       "      <td>27</td>\n",
       "    </tr>\n",
       "    <tr>\n",
       "      <th>1</th>\n",
       "      <td>10</td>\n",
       "    </tr>\n",
       "    <tr>\n",
       "      <th>2</th>\n",
       "      <td>5</td>\n",
       "    </tr>\n",
       "  </tbody>\n",
       "</table>\n",
       "</div>"
      ],
      "text/plain": [
       "    0\n",
       "0  27\n",
       "1  10\n",
       "2   5"
      ]
     },
     "execution_count": 277,
     "metadata": {},
     "output_type": "execute_result"
    }
   ],
   "source": [
    "# Converting inverse binomial distribution results to dataframe\n",
    "df_binom_type4 = pd.DataFrame(binom_type4)\n",
    "df_binom_type4.head(3)"
   ]
  },
  {
   "cell_type": "code",
   "execution_count": 278,
   "id": "5f0c0f16",
   "metadata": {},
   "outputs": [
    {
     "data": {
      "text/html": [
       "<div>\n",
       "<style scoped>\n",
       "    .dataframe tbody tr th:only-of-type {\n",
       "        vertical-align: middle;\n",
       "    }\n",
       "\n",
       "    .dataframe tbody tr th {\n",
       "        vertical-align: top;\n",
       "    }\n",
       "\n",
       "    .dataframe thead th {\n",
       "        text-align: right;\n",
       "    }\n",
       "</style>\n",
       "<table border=\"1\" class=\"dataframe\">\n",
       "  <thead>\n",
       "    <tr style=\"text-align: right;\">\n",
       "      <th></th>\n",
       "      <th>Binom_type4</th>\n",
       "    </tr>\n",
       "  </thead>\n",
       "  <tbody>\n",
       "    <tr>\n",
       "      <th>0</th>\n",
       "      <td>27</td>\n",
       "    </tr>\n",
       "    <tr>\n",
       "      <th>1</th>\n",
       "      <td>10</td>\n",
       "    </tr>\n",
       "    <tr>\n",
       "      <th>2</th>\n",
       "      <td>5</td>\n",
       "    </tr>\n",
       "  </tbody>\n",
       "</table>\n",
       "</div>"
      ],
      "text/plain": [
       "   Binom_type4\n",
       "0           27\n",
       "1           10\n",
       "2            5"
      ]
     },
     "execution_count": 278,
     "metadata": {},
     "output_type": "execute_result"
    }
   ],
   "source": [
    "# Renaming columns\n",
    "df_binom_type4 = df_binom_type4.rename(columns = {0: 'Binom_type4'})\n",
    "df_binom_type4.head(3)"
   ]
  },
  {
   "cell_type": "markdown",
   "id": "10da48d8",
   "metadata": {},
   "source": [
    "5. Inverse Lognormal Distribution Type 1"
   ]
  },
  {
   "cell_type": "code",
   "execution_count": 279,
   "id": "1c62d3ad",
   "metadata": {},
   "outputs": [
    {
     "data": {
      "text/html": [
       "<div>\n",
       "<style scoped>\n",
       "    .dataframe tbody tr th:only-of-type {\n",
       "        vertical-align: middle;\n",
       "    }\n",
       "\n",
       "    .dataframe tbody tr th {\n",
       "        vertical-align: top;\n",
       "    }\n",
       "\n",
       "    .dataframe thead th {\n",
       "        text-align: right;\n",
       "    }\n",
       "</style>\n",
       "<table border=\"1\" class=\"dataframe\">\n",
       "  <thead>\n",
       "    <tr style=\"text-align: right;\">\n",
       "      <th></th>\n",
       "      <th>0</th>\n",
       "    </tr>\n",
       "  </thead>\n",
       "  <tbody>\n",
       "    <tr>\n",
       "      <th>0</th>\n",
       "      <td>1078.597696</td>\n",
       "    </tr>\n",
       "    <tr>\n",
       "      <th>1</th>\n",
       "      <td>23703.924991</td>\n",
       "    </tr>\n",
       "    <tr>\n",
       "      <th>2</th>\n",
       "      <td>83.283906</td>\n",
       "    </tr>\n",
       "  </tbody>\n",
       "</table>\n",
       "</div>"
      ],
      "text/plain": [
       "              0\n",
       "0   1078.597696\n",
       "1  23703.924991\n",
       "2     83.283906"
      ]
     },
     "execution_count": 279,
     "metadata": {},
     "output_type": "execute_result"
    }
   ],
   "source": [
    "# Converting inverse Lognormal distribution results to dataframe\n",
    "df_impact_type1 = pd.DataFrame(inverse_lognorm_type1)\n",
    "df_impact_type1.head(3)"
   ]
  },
  {
   "cell_type": "code",
   "execution_count": 280,
   "id": "c11b7e07",
   "metadata": {},
   "outputs": [
    {
     "data": {
      "text/html": [
       "<div>\n",
       "<style scoped>\n",
       "    .dataframe tbody tr th:only-of-type {\n",
       "        vertical-align: middle;\n",
       "    }\n",
       "\n",
       "    .dataframe tbody tr th {\n",
       "        vertical-align: top;\n",
       "    }\n",
       "\n",
       "    .dataframe thead th {\n",
       "        text-align: right;\n",
       "    }\n",
       "</style>\n",
       "<table border=\"1\" class=\"dataframe\">\n",
       "  <thead>\n",
       "    <tr style=\"text-align: right;\">\n",
       "      <th></th>\n",
       "      <th>Impact_type1</th>\n",
       "    </tr>\n",
       "  </thead>\n",
       "  <tbody>\n",
       "    <tr>\n",
       "      <th>0</th>\n",
       "      <td>1078.597696</td>\n",
       "    </tr>\n",
       "    <tr>\n",
       "      <th>1</th>\n",
       "      <td>23703.924991</td>\n",
       "    </tr>\n",
       "    <tr>\n",
       "      <th>2</th>\n",
       "      <td>83.283906</td>\n",
       "    </tr>\n",
       "  </tbody>\n",
       "</table>\n",
       "</div>"
      ],
      "text/plain": [
       "   Impact_type1\n",
       "0   1078.597696\n",
       "1  23703.924991\n",
       "2     83.283906"
      ]
     },
     "execution_count": 280,
     "metadata": {},
     "output_type": "execute_result"
    }
   ],
   "source": [
    "# Renaming columns\n",
    "df_impact_type1 = df_impact_type1.rename(columns = {0: 'Impact_type1'})\n",
    "df_impact_type1.head(3)"
   ]
  },
  {
   "cell_type": "markdown",
   "id": "d85e64b7",
   "metadata": {},
   "source": [
    "6. Inverse Lognormal Distribution Type 2"
   ]
  },
  {
   "cell_type": "code",
   "execution_count": 281,
   "id": "9f8b4a83",
   "metadata": {},
   "outputs": [
    {
     "data": {
      "text/html": [
       "<div>\n",
       "<style scoped>\n",
       "    .dataframe tbody tr th:only-of-type {\n",
       "        vertical-align: middle;\n",
       "    }\n",
       "\n",
       "    .dataframe tbody tr th {\n",
       "        vertical-align: top;\n",
       "    }\n",
       "\n",
       "    .dataframe thead th {\n",
       "        text-align: right;\n",
       "    }\n",
       "</style>\n",
       "<table border=\"1\" class=\"dataframe\">\n",
       "  <thead>\n",
       "    <tr style=\"text-align: right;\">\n",
       "      <th></th>\n",
       "      <th>0</th>\n",
       "    </tr>\n",
       "  </thead>\n",
       "  <tbody>\n",
       "    <tr>\n",
       "      <th>0</th>\n",
       "      <td>3808.071576</td>\n",
       "    </tr>\n",
       "    <tr>\n",
       "      <th>1</th>\n",
       "      <td>2206.982218</td>\n",
       "    </tr>\n",
       "    <tr>\n",
       "      <th>2</th>\n",
       "      <td>16.002391</td>\n",
       "    </tr>\n",
       "  </tbody>\n",
       "</table>\n",
       "</div>"
      ],
      "text/plain": [
       "             0\n",
       "0  3808.071576\n",
       "1  2206.982218\n",
       "2    16.002391"
      ]
     },
     "execution_count": 281,
     "metadata": {},
     "output_type": "execute_result"
    }
   ],
   "source": [
    "# Converting inverse Lognormal distribution results to dataframe\n",
    "df_impact_type2 = pd.DataFrame(inverse_lognorm_type2)\n",
    "df_impact_type2.head(3)"
   ]
  },
  {
   "cell_type": "code",
   "execution_count": 282,
   "id": "7748c96f",
   "metadata": {},
   "outputs": [
    {
     "data": {
      "text/html": [
       "<div>\n",
       "<style scoped>\n",
       "    .dataframe tbody tr th:only-of-type {\n",
       "        vertical-align: middle;\n",
       "    }\n",
       "\n",
       "    .dataframe tbody tr th {\n",
       "        vertical-align: top;\n",
       "    }\n",
       "\n",
       "    .dataframe thead th {\n",
       "        text-align: right;\n",
       "    }\n",
       "</style>\n",
       "<table border=\"1\" class=\"dataframe\">\n",
       "  <thead>\n",
       "    <tr style=\"text-align: right;\">\n",
       "      <th></th>\n",
       "      <th>Impact_type2</th>\n",
       "    </tr>\n",
       "  </thead>\n",
       "  <tbody>\n",
       "    <tr>\n",
       "      <th>0</th>\n",
       "      <td>3808.071576</td>\n",
       "    </tr>\n",
       "    <tr>\n",
       "      <th>1</th>\n",
       "      <td>2206.982218</td>\n",
       "    </tr>\n",
       "    <tr>\n",
       "      <th>2</th>\n",
       "      <td>16.002391</td>\n",
       "    </tr>\n",
       "  </tbody>\n",
       "</table>\n",
       "</div>"
      ],
      "text/plain": [
       "   Impact_type2\n",
       "0   3808.071576\n",
       "1   2206.982218\n",
       "2     16.002391"
      ]
     },
     "execution_count": 282,
     "metadata": {},
     "output_type": "execute_result"
    }
   ],
   "source": [
    "# Renaming columns\n",
    "df_impact_type2 = df_impact_type2.rename(columns = {0: 'Impact_type2'})\n",
    "df_impact_type2.head(3)"
   ]
  },
  {
   "cell_type": "markdown",
   "id": "5b7887fb",
   "metadata": {},
   "source": [
    "7. Inverse Lognormal Distribution Type 3"
   ]
  },
  {
   "cell_type": "code",
   "execution_count": 283,
   "id": "3e136721",
   "metadata": {},
   "outputs": [
    {
     "data": {
      "text/html": [
       "<div>\n",
       "<style scoped>\n",
       "    .dataframe tbody tr th:only-of-type {\n",
       "        vertical-align: middle;\n",
       "    }\n",
       "\n",
       "    .dataframe tbody tr th {\n",
       "        vertical-align: top;\n",
       "    }\n",
       "\n",
       "    .dataframe thead th {\n",
       "        text-align: right;\n",
       "    }\n",
       "</style>\n",
       "<table border=\"1\" class=\"dataframe\">\n",
       "  <thead>\n",
       "    <tr style=\"text-align: right;\">\n",
       "      <th></th>\n",
       "      <th>0</th>\n",
       "    </tr>\n",
       "  </thead>\n",
       "  <tbody>\n",
       "    <tr>\n",
       "      <th>0</th>\n",
       "      <td>916.810839</td>\n",
       "    </tr>\n",
       "    <tr>\n",
       "      <th>1</th>\n",
       "      <td>891.473799</td>\n",
       "    </tr>\n",
       "    <tr>\n",
       "      <th>2</th>\n",
       "      <td>511.121785</td>\n",
       "    </tr>\n",
       "  </tbody>\n",
       "</table>\n",
       "</div>"
      ],
      "text/plain": [
       "            0\n",
       "0  916.810839\n",
       "1  891.473799\n",
       "2  511.121785"
      ]
     },
     "execution_count": 283,
     "metadata": {},
     "output_type": "execute_result"
    }
   ],
   "source": [
    "# Converting inverse Lognormal distribution results to dataframe\n",
    "df_impact_type3 = pd.DataFrame(inverse_lognorm_type3)\n",
    "df_impact_type3.head(3)"
   ]
  },
  {
   "cell_type": "code",
   "execution_count": 284,
   "id": "cf028a96",
   "metadata": {},
   "outputs": [
    {
     "data": {
      "text/html": [
       "<div>\n",
       "<style scoped>\n",
       "    .dataframe tbody tr th:only-of-type {\n",
       "        vertical-align: middle;\n",
       "    }\n",
       "\n",
       "    .dataframe tbody tr th {\n",
       "        vertical-align: top;\n",
       "    }\n",
       "\n",
       "    .dataframe thead th {\n",
       "        text-align: right;\n",
       "    }\n",
       "</style>\n",
       "<table border=\"1\" class=\"dataframe\">\n",
       "  <thead>\n",
       "    <tr style=\"text-align: right;\">\n",
       "      <th></th>\n",
       "      <th>Impact_type3</th>\n",
       "    </tr>\n",
       "  </thead>\n",
       "  <tbody>\n",
       "    <tr>\n",
       "      <th>0</th>\n",
       "      <td>916.810839</td>\n",
       "    </tr>\n",
       "    <tr>\n",
       "      <th>1</th>\n",
       "      <td>891.473799</td>\n",
       "    </tr>\n",
       "    <tr>\n",
       "      <th>2</th>\n",
       "      <td>511.121785</td>\n",
       "    </tr>\n",
       "  </tbody>\n",
       "</table>\n",
       "</div>"
      ],
      "text/plain": [
       "   Impact_type3\n",
       "0    916.810839\n",
       "1    891.473799\n",
       "2    511.121785"
      ]
     },
     "execution_count": 284,
     "metadata": {},
     "output_type": "execute_result"
    }
   ],
   "source": [
    "# Renaming columns\n",
    "df_impact_type3 = df_impact_type3.rename(columns = {0: 'Impact_type3'})\n",
    "df_impact_type3.head(3)"
   ]
  },
  {
   "cell_type": "markdown",
   "id": "93c7b8bb",
   "metadata": {},
   "source": [
    "8. Inverse Lognormal Distribution Type 4"
   ]
  },
  {
   "cell_type": "code",
   "execution_count": 285,
   "id": "ba39fe7a",
   "metadata": {},
   "outputs": [
    {
     "data": {
      "text/html": [
       "<div>\n",
       "<style scoped>\n",
       "    .dataframe tbody tr th:only-of-type {\n",
       "        vertical-align: middle;\n",
       "    }\n",
       "\n",
       "    .dataframe tbody tr th {\n",
       "        vertical-align: top;\n",
       "    }\n",
       "\n",
       "    .dataframe thead th {\n",
       "        text-align: right;\n",
       "    }\n",
       "</style>\n",
       "<table border=\"1\" class=\"dataframe\">\n",
       "  <thead>\n",
       "    <tr style=\"text-align: right;\">\n",
       "      <th></th>\n",
       "      <th>0</th>\n",
       "    </tr>\n",
       "  </thead>\n",
       "  <tbody>\n",
       "    <tr>\n",
       "      <th>0</th>\n",
       "      <td>472.470071</td>\n",
       "    </tr>\n",
       "    <tr>\n",
       "      <th>1</th>\n",
       "      <td>894.488816</td>\n",
       "    </tr>\n",
       "    <tr>\n",
       "      <th>2</th>\n",
       "      <td>511.995348</td>\n",
       "    </tr>\n",
       "  </tbody>\n",
       "</table>\n",
       "</div>"
      ],
      "text/plain": [
       "            0\n",
       "0  472.470071\n",
       "1  894.488816\n",
       "2  511.995348"
      ]
     },
     "execution_count": 285,
     "metadata": {},
     "output_type": "execute_result"
    }
   ],
   "source": [
    "# Converting inverse Lognormal distribution results to dataframe\n",
    "df_impact_type4 = pd.DataFrame(inverse_lognorm_type4)\n",
    "df_impact_type4.head(3)"
   ]
  },
  {
   "cell_type": "code",
   "execution_count": 286,
   "id": "082a1384",
   "metadata": {},
   "outputs": [
    {
     "data": {
      "text/html": [
       "<div>\n",
       "<style scoped>\n",
       "    .dataframe tbody tr th:only-of-type {\n",
       "        vertical-align: middle;\n",
       "    }\n",
       "\n",
       "    .dataframe tbody tr th {\n",
       "        vertical-align: top;\n",
       "    }\n",
       "\n",
       "    .dataframe thead th {\n",
       "        text-align: right;\n",
       "    }\n",
       "</style>\n",
       "<table border=\"1\" class=\"dataframe\">\n",
       "  <thead>\n",
       "    <tr style=\"text-align: right;\">\n",
       "      <th></th>\n",
       "      <th>Impact_type4</th>\n",
       "    </tr>\n",
       "  </thead>\n",
       "  <tbody>\n",
       "    <tr>\n",
       "      <th>0</th>\n",
       "      <td>472.470071</td>\n",
       "    </tr>\n",
       "    <tr>\n",
       "      <th>1</th>\n",
       "      <td>894.488816</td>\n",
       "    </tr>\n",
       "    <tr>\n",
       "      <th>2</th>\n",
       "      <td>511.995348</td>\n",
       "    </tr>\n",
       "  </tbody>\n",
       "</table>\n",
       "</div>"
      ],
      "text/plain": [
       "   Impact_type4\n",
       "0    472.470071\n",
       "1    894.488816\n",
       "2    511.995348"
      ]
     },
     "execution_count": 286,
     "metadata": {},
     "output_type": "execute_result"
    }
   ],
   "source": [
    "# Renaming columns\n",
    "df_impact_type4 = df_impact_type4.rename(columns = {0: 'Impact_type4'})\n",
    "df_impact_type4.head(3)"
   ]
  },
  {
   "cell_type": "markdown",
   "id": "966a3e6f",
   "metadata": {},
   "source": [
    "9. Poisson Distribution Type 1"
   ]
  },
  {
   "cell_type": "code",
   "execution_count": 287,
   "id": "e50696f4",
   "metadata": {},
   "outputs": [
    {
     "data": {
      "text/html": [
       "<div>\n",
       "<style scoped>\n",
       "    .dataframe tbody tr th:only-of-type {\n",
       "        vertical-align: middle;\n",
       "    }\n",
       "\n",
       "    .dataframe tbody tr th {\n",
       "        vertical-align: top;\n",
       "    }\n",
       "\n",
       "    .dataframe thead th {\n",
       "        text-align: right;\n",
       "    }\n",
       "</style>\n",
       "<table border=\"1\" class=\"dataframe\">\n",
       "  <thead>\n",
       "    <tr style=\"text-align: right;\">\n",
       "      <th></th>\n",
       "      <th>0</th>\n",
       "    </tr>\n",
       "  </thead>\n",
       "  <tbody>\n",
       "    <tr>\n",
       "      <th>0</th>\n",
       "      <td>21</td>\n",
       "    </tr>\n",
       "    <tr>\n",
       "      <th>1</th>\n",
       "      <td>17</td>\n",
       "    </tr>\n",
       "    <tr>\n",
       "      <th>2</th>\n",
       "      <td>17</td>\n",
       "    </tr>\n",
       "  </tbody>\n",
       "</table>\n",
       "</div>"
      ],
      "text/plain": [
       "    0\n",
       "0  21\n",
       "1  17\n",
       "2  17"
      ]
     },
     "execution_count": 287,
     "metadata": {},
     "output_type": "execute_result"
    }
   ],
   "source": [
    "# Converting Poisson distribution results to dataframe\n",
    "df_poisson_type1 = pd.DataFrame(poisson_type1)\n",
    "df_poisson_type1.head(3)"
   ]
  },
  {
   "cell_type": "code",
   "execution_count": 288,
   "id": "23da60b5",
   "metadata": {},
   "outputs": [
    {
     "data": {
      "text/html": [
       "<div>\n",
       "<style scoped>\n",
       "    .dataframe tbody tr th:only-of-type {\n",
       "        vertical-align: middle;\n",
       "    }\n",
       "\n",
       "    .dataframe tbody tr th {\n",
       "        vertical-align: top;\n",
       "    }\n",
       "\n",
       "    .dataframe thead th {\n",
       "        text-align: right;\n",
       "    }\n",
       "</style>\n",
       "<table border=\"1\" class=\"dataframe\">\n",
       "  <thead>\n",
       "    <tr style=\"text-align: right;\">\n",
       "      <th></th>\n",
       "      <th>Poisson_type1</th>\n",
       "    </tr>\n",
       "  </thead>\n",
       "  <tbody>\n",
       "    <tr>\n",
       "      <th>0</th>\n",
       "      <td>21</td>\n",
       "    </tr>\n",
       "    <tr>\n",
       "      <th>1</th>\n",
       "      <td>17</td>\n",
       "    </tr>\n",
       "    <tr>\n",
       "      <th>2</th>\n",
       "      <td>17</td>\n",
       "    </tr>\n",
       "  </tbody>\n",
       "</table>\n",
       "</div>"
      ],
      "text/plain": [
       "   Poisson_type1\n",
       "0             21\n",
       "1             17\n",
       "2             17"
      ]
     },
     "execution_count": 288,
     "metadata": {},
     "output_type": "execute_result"
    }
   ],
   "source": [
    "# Renaming columns\n",
    "df_poisson_type1  = df_poisson_type1.rename(columns = {0: 'Poisson_type1'})\n",
    "df_poisson_type1.head(3)"
   ]
  },
  {
   "cell_type": "markdown",
   "id": "db8dbe2d",
   "metadata": {},
   "source": [
    "10. Poisson Distribution Type 2"
   ]
  },
  {
   "cell_type": "code",
   "execution_count": 289,
   "id": "8ae2d8f4",
   "metadata": {},
   "outputs": [
    {
     "data": {
      "text/html": [
       "<div>\n",
       "<style scoped>\n",
       "    .dataframe tbody tr th:only-of-type {\n",
       "        vertical-align: middle;\n",
       "    }\n",
       "\n",
       "    .dataframe tbody tr th {\n",
       "        vertical-align: top;\n",
       "    }\n",
       "\n",
       "    .dataframe thead th {\n",
       "        text-align: right;\n",
       "    }\n",
       "</style>\n",
       "<table border=\"1\" class=\"dataframe\">\n",
       "  <thead>\n",
       "    <tr style=\"text-align: right;\">\n",
       "      <th></th>\n",
       "      <th>0</th>\n",
       "    </tr>\n",
       "  </thead>\n",
       "  <tbody>\n",
       "    <tr>\n",
       "      <th>0</th>\n",
       "      <td>16</td>\n",
       "    </tr>\n",
       "    <tr>\n",
       "      <th>1</th>\n",
       "      <td>16</td>\n",
       "    </tr>\n",
       "    <tr>\n",
       "      <th>2</th>\n",
       "      <td>16</td>\n",
       "    </tr>\n",
       "  </tbody>\n",
       "</table>\n",
       "</div>"
      ],
      "text/plain": [
       "    0\n",
       "0  16\n",
       "1  16\n",
       "2  16"
      ]
     },
     "execution_count": 289,
     "metadata": {},
     "output_type": "execute_result"
    }
   ],
   "source": [
    "# Converting Poisson distribution results to dataframe\n",
    "df_poisson_type2 = pd.DataFrame(poisson_type2)\n",
    "df_poisson_type2.head(3)"
   ]
  },
  {
   "cell_type": "code",
   "execution_count": 290,
   "id": "a46cdd73",
   "metadata": {},
   "outputs": [
    {
     "data": {
      "text/html": [
       "<div>\n",
       "<style scoped>\n",
       "    .dataframe tbody tr th:only-of-type {\n",
       "        vertical-align: middle;\n",
       "    }\n",
       "\n",
       "    .dataframe tbody tr th {\n",
       "        vertical-align: top;\n",
       "    }\n",
       "\n",
       "    .dataframe thead th {\n",
       "        text-align: right;\n",
       "    }\n",
       "</style>\n",
       "<table border=\"1\" class=\"dataframe\">\n",
       "  <thead>\n",
       "    <tr style=\"text-align: right;\">\n",
       "      <th></th>\n",
       "      <th>Poisson_type2</th>\n",
       "    </tr>\n",
       "  </thead>\n",
       "  <tbody>\n",
       "    <tr>\n",
       "      <th>0</th>\n",
       "      <td>16</td>\n",
       "    </tr>\n",
       "    <tr>\n",
       "      <th>1</th>\n",
       "      <td>16</td>\n",
       "    </tr>\n",
       "    <tr>\n",
       "      <th>2</th>\n",
       "      <td>16</td>\n",
       "    </tr>\n",
       "  </tbody>\n",
       "</table>\n",
       "</div>"
      ],
      "text/plain": [
       "   Poisson_type2\n",
       "0             16\n",
       "1             16\n",
       "2             16"
      ]
     },
     "execution_count": 290,
     "metadata": {},
     "output_type": "execute_result"
    }
   ],
   "source": [
    "# Renaming columns\n",
    "df_poisson_type2  = df_poisson_type2.rename(columns = {0: 'Poisson_type2'})\n",
    "df_poisson_type2.head(3)"
   ]
  },
  {
   "cell_type": "markdown",
   "id": "17988660",
   "metadata": {},
   "source": [
    "11. Poisson Distribution Type 3"
   ]
  },
  {
   "cell_type": "code",
   "execution_count": 291,
   "id": "b34dcc21",
   "metadata": {},
   "outputs": [
    {
     "data": {
      "text/html": [
       "<div>\n",
       "<style scoped>\n",
       "    .dataframe tbody tr th:only-of-type {\n",
       "        vertical-align: middle;\n",
       "    }\n",
       "\n",
       "    .dataframe tbody tr th {\n",
       "        vertical-align: top;\n",
       "    }\n",
       "\n",
       "    .dataframe thead th {\n",
       "        text-align: right;\n",
       "    }\n",
       "</style>\n",
       "<table border=\"1\" class=\"dataframe\">\n",
       "  <thead>\n",
       "    <tr style=\"text-align: right;\">\n",
       "      <th></th>\n",
       "      <th>0</th>\n",
       "    </tr>\n",
       "  </thead>\n",
       "  <tbody>\n",
       "    <tr>\n",
       "      <th>0</th>\n",
       "      <td>17</td>\n",
       "    </tr>\n",
       "    <tr>\n",
       "      <th>1</th>\n",
       "      <td>15</td>\n",
       "    </tr>\n",
       "    <tr>\n",
       "      <th>2</th>\n",
       "      <td>15</td>\n",
       "    </tr>\n",
       "  </tbody>\n",
       "</table>\n",
       "</div>"
      ],
      "text/plain": [
       "    0\n",
       "0  17\n",
       "1  15\n",
       "2  15"
      ]
     },
     "execution_count": 291,
     "metadata": {},
     "output_type": "execute_result"
    }
   ],
   "source": [
    "# Converting Poisson distribution results to dataframe\n",
    "df_poisson_type3 = pd.DataFrame(poisson_type3)\n",
    "df_poisson_type3.head(3)"
   ]
  },
  {
   "cell_type": "code",
   "execution_count": 292,
   "id": "2315daf5",
   "metadata": {},
   "outputs": [
    {
     "data": {
      "text/html": [
       "<div>\n",
       "<style scoped>\n",
       "    .dataframe tbody tr th:only-of-type {\n",
       "        vertical-align: middle;\n",
       "    }\n",
       "\n",
       "    .dataframe tbody tr th {\n",
       "        vertical-align: top;\n",
       "    }\n",
       "\n",
       "    .dataframe thead th {\n",
       "        text-align: right;\n",
       "    }\n",
       "</style>\n",
       "<table border=\"1\" class=\"dataframe\">\n",
       "  <thead>\n",
       "    <tr style=\"text-align: right;\">\n",
       "      <th></th>\n",
       "      <th>Poisson_type3</th>\n",
       "    </tr>\n",
       "  </thead>\n",
       "  <tbody>\n",
       "    <tr>\n",
       "      <th>0</th>\n",
       "      <td>17</td>\n",
       "    </tr>\n",
       "    <tr>\n",
       "      <th>1</th>\n",
       "      <td>15</td>\n",
       "    </tr>\n",
       "    <tr>\n",
       "      <th>2</th>\n",
       "      <td>15</td>\n",
       "    </tr>\n",
       "  </tbody>\n",
       "</table>\n",
       "</div>"
      ],
      "text/plain": [
       "   Poisson_type3\n",
       "0             17\n",
       "1             15\n",
       "2             15"
      ]
     },
     "execution_count": 292,
     "metadata": {},
     "output_type": "execute_result"
    }
   ],
   "source": [
    "# Renaming columns\n",
    "df_poisson_type3  = df_poisson_type3.rename(columns = {0: 'Poisson_type3'})\n",
    "df_poisson_type3.head(3)"
   ]
  },
  {
   "cell_type": "markdown",
   "id": "e0063347",
   "metadata": {},
   "source": [
    "12. Poisson Distribution Type 4"
   ]
  },
  {
   "cell_type": "code",
   "execution_count": 293,
   "id": "76810aa8",
   "metadata": {},
   "outputs": [
    {
     "data": {
      "text/html": [
       "<div>\n",
       "<style scoped>\n",
       "    .dataframe tbody tr th:only-of-type {\n",
       "        vertical-align: middle;\n",
       "    }\n",
       "\n",
       "    .dataframe tbody tr th {\n",
       "        vertical-align: top;\n",
       "    }\n",
       "\n",
       "    .dataframe thead th {\n",
       "        text-align: right;\n",
       "    }\n",
       "</style>\n",
       "<table border=\"1\" class=\"dataframe\">\n",
       "  <thead>\n",
       "    <tr style=\"text-align: right;\">\n",
       "      <th></th>\n",
       "      <th>0</th>\n",
       "    </tr>\n",
       "  </thead>\n",
       "  <tbody>\n",
       "    <tr>\n",
       "      <th>0</th>\n",
       "      <td>21</td>\n",
       "    </tr>\n",
       "    <tr>\n",
       "      <th>1</th>\n",
       "      <td>18</td>\n",
       "    </tr>\n",
       "    <tr>\n",
       "      <th>2</th>\n",
       "      <td>13</td>\n",
       "    </tr>\n",
       "  </tbody>\n",
       "</table>\n",
       "</div>"
      ],
      "text/plain": [
       "    0\n",
       "0  21\n",
       "1  18\n",
       "2  13"
      ]
     },
     "execution_count": 293,
     "metadata": {},
     "output_type": "execute_result"
    }
   ],
   "source": [
    "# Converting Poisson distribution results to dataframe\n",
    "df_poisson_type4 = pd.DataFrame(poisson_type4)\n",
    "df_poisson_type4.head(3)"
   ]
  },
  {
   "cell_type": "code",
   "execution_count": 294,
   "id": "9a4e044a",
   "metadata": {},
   "outputs": [
    {
     "data": {
      "text/html": [
       "<div>\n",
       "<style scoped>\n",
       "    .dataframe tbody tr th:only-of-type {\n",
       "        vertical-align: middle;\n",
       "    }\n",
       "\n",
       "    .dataframe tbody tr th {\n",
       "        vertical-align: top;\n",
       "    }\n",
       "\n",
       "    .dataframe thead th {\n",
       "        text-align: right;\n",
       "    }\n",
       "</style>\n",
       "<table border=\"1\" class=\"dataframe\">\n",
       "  <thead>\n",
       "    <tr style=\"text-align: right;\">\n",
       "      <th></th>\n",
       "      <th>Poisson_type4</th>\n",
       "    </tr>\n",
       "  </thead>\n",
       "  <tbody>\n",
       "    <tr>\n",
       "      <th>0</th>\n",
       "      <td>21</td>\n",
       "    </tr>\n",
       "    <tr>\n",
       "      <th>1</th>\n",
       "      <td>18</td>\n",
       "    </tr>\n",
       "    <tr>\n",
       "      <th>2</th>\n",
       "      <td>13</td>\n",
       "    </tr>\n",
       "  </tbody>\n",
       "</table>\n",
       "</div>"
      ],
      "text/plain": [
       "   Poisson_type4\n",
       "0             21\n",
       "1             18\n",
       "2             13"
      ]
     },
     "execution_count": 294,
     "metadata": {},
     "output_type": "execute_result"
    }
   ],
   "source": [
    "# Renaming columns\n",
    "df_poisson_type4  = df_poisson_type4.rename(columns = {0: 'Poisson_type4'})\n",
    "df_poisson_type4.head(3)"
   ]
  },
  {
   "cell_type": "markdown",
   "id": "4ee48f50",
   "metadata": {},
   "source": [
    "Checking dataframes"
   ]
  },
  {
   "cell_type": "code",
   "execution_count": 295,
   "id": "aeb05c71",
   "metadata": {},
   "outputs": [
    {
     "name": "stdout",
     "output_type": "stream",
     "text": [
      "<class 'pandas.core.frame.DataFrame'>\n",
      "RangeIndex: 10000 entries, 0 to 9999\n",
      "Data columns (total 1 columns):\n",
      " #   Column       Non-Null Count  Dtype\n",
      "---  ------       --------------  -----\n",
      " 0   Binom_type1  10000 non-null  int32\n",
      "dtypes: int32(1)\n",
      "memory usage: 39.2 KB\n"
     ]
    }
   ],
   "source": [
    "#Checking dataframes\n",
    "df_binom_type1.info()"
   ]
  },
  {
   "cell_type": "code",
   "execution_count": 296,
   "id": "47ad6b5c",
   "metadata": {},
   "outputs": [
    {
     "name": "stdout",
     "output_type": "stream",
     "text": [
      "<class 'pandas.core.frame.DataFrame'>\n",
      "RangeIndex: 10000 entries, 0 to 9999\n",
      "Data columns (total 1 columns):\n",
      " #   Column       Non-Null Count  Dtype\n",
      "---  ------       --------------  -----\n",
      " 0   Binom_type2  10000 non-null  int32\n",
      "dtypes: int32(1)\n",
      "memory usage: 39.2 KB\n"
     ]
    }
   ],
   "source": [
    "df_binom_type2.info()"
   ]
  },
  {
   "cell_type": "code",
   "execution_count": 297,
   "id": "d51347bb",
   "metadata": {},
   "outputs": [
    {
     "name": "stdout",
     "output_type": "stream",
     "text": [
      "<class 'pandas.core.frame.DataFrame'>\n",
      "RangeIndex: 10000 entries, 0 to 9999\n",
      "Data columns (total 1 columns):\n",
      " #   Column       Non-Null Count  Dtype\n",
      "---  ------       --------------  -----\n",
      " 0   Binom_type3  10000 non-null  int32\n",
      "dtypes: int32(1)\n",
      "memory usage: 39.2 KB\n"
     ]
    }
   ],
   "source": [
    "df_binom_type3.info()"
   ]
  },
  {
   "cell_type": "code",
   "execution_count": 298,
   "id": "82c90294",
   "metadata": {},
   "outputs": [
    {
     "name": "stdout",
     "output_type": "stream",
     "text": [
      "<class 'pandas.core.frame.DataFrame'>\n",
      "RangeIndex: 10000 entries, 0 to 9999\n",
      "Data columns (total 1 columns):\n",
      " #   Column       Non-Null Count  Dtype\n",
      "---  ------       --------------  -----\n",
      " 0   Binom_type4  10000 non-null  int32\n",
      "dtypes: int32(1)\n",
      "memory usage: 39.2 KB\n"
     ]
    }
   ],
   "source": [
    "df_binom_type4.info()"
   ]
  },
  {
   "cell_type": "code",
   "execution_count": 299,
   "id": "59d3f07a",
   "metadata": {},
   "outputs": [
    {
     "name": "stdout",
     "output_type": "stream",
     "text": [
      "<class 'pandas.core.frame.DataFrame'>\n",
      "RangeIndex: 10000 entries, 0 to 9999\n",
      "Data columns (total 1 columns):\n",
      " #   Column        Non-Null Count  Dtype  \n",
      "---  ------        --------------  -----  \n",
      " 0   Impact_type1  10000 non-null  float64\n",
      "dtypes: float64(1)\n",
      "memory usage: 78.2 KB\n"
     ]
    }
   ],
   "source": [
    "df_impact_type1.info()"
   ]
  },
  {
   "cell_type": "code",
   "execution_count": 300,
   "id": "5b3b84c8",
   "metadata": {},
   "outputs": [
    {
     "name": "stdout",
     "output_type": "stream",
     "text": [
      "<class 'pandas.core.frame.DataFrame'>\n",
      "RangeIndex: 10000 entries, 0 to 9999\n",
      "Data columns (total 1 columns):\n",
      " #   Column        Non-Null Count  Dtype  \n",
      "---  ------        --------------  -----  \n",
      " 0   Impact_type2  10000 non-null  float64\n",
      "dtypes: float64(1)\n",
      "memory usage: 78.2 KB\n"
     ]
    }
   ],
   "source": [
    "df_impact_type2.info()"
   ]
  },
  {
   "cell_type": "code",
   "execution_count": 301,
   "id": "dbfd44f7",
   "metadata": {},
   "outputs": [
    {
     "name": "stdout",
     "output_type": "stream",
     "text": [
      "<class 'pandas.core.frame.DataFrame'>\n",
      "RangeIndex: 10000 entries, 0 to 9999\n",
      "Data columns (total 1 columns):\n",
      " #   Column        Non-Null Count  Dtype  \n",
      "---  ------        --------------  -----  \n",
      " 0   Impact_type3  10000 non-null  float64\n",
      "dtypes: float64(1)\n",
      "memory usage: 78.2 KB\n"
     ]
    }
   ],
   "source": [
    "df_impact_type3.info()"
   ]
  },
  {
   "cell_type": "code",
   "execution_count": 302,
   "id": "07141178",
   "metadata": {},
   "outputs": [
    {
     "name": "stdout",
     "output_type": "stream",
     "text": [
      "<class 'pandas.core.frame.DataFrame'>\n",
      "RangeIndex: 10000 entries, 0 to 9999\n",
      "Data columns (total 1 columns):\n",
      " #   Column        Non-Null Count  Dtype  \n",
      "---  ------        --------------  -----  \n",
      " 0   Impact_type4  10000 non-null  float64\n",
      "dtypes: float64(1)\n",
      "memory usage: 78.2 KB\n"
     ]
    }
   ],
   "source": [
    "df_impact_type4.info()"
   ]
  },
  {
   "cell_type": "code",
   "execution_count": 303,
   "id": "2eab512e",
   "metadata": {},
   "outputs": [
    {
     "name": "stdout",
     "output_type": "stream",
     "text": [
      "<class 'pandas.core.frame.DataFrame'>\n",
      "RangeIndex: 10000 entries, 0 to 9999\n",
      "Data columns (total 1 columns):\n",
      " #   Column         Non-Null Count  Dtype\n",
      "---  ------         --------------  -----\n",
      " 0   Poisson_type1  10000 non-null  int32\n",
      "dtypes: int32(1)\n",
      "memory usage: 39.2 KB\n"
     ]
    }
   ],
   "source": [
    "df_poisson_type1.info()"
   ]
  },
  {
   "cell_type": "code",
   "execution_count": 304,
   "id": "63d9688a",
   "metadata": {},
   "outputs": [
    {
     "name": "stdout",
     "output_type": "stream",
     "text": [
      "<class 'pandas.core.frame.DataFrame'>\n",
      "RangeIndex: 10000 entries, 0 to 9999\n",
      "Data columns (total 1 columns):\n",
      " #   Column         Non-Null Count  Dtype\n",
      "---  ------         --------------  -----\n",
      " 0   Poisson_type2  10000 non-null  int32\n",
      "dtypes: int32(1)\n",
      "memory usage: 39.2 KB\n"
     ]
    }
   ],
   "source": [
    "df_poisson_type2.info()"
   ]
  },
  {
   "cell_type": "code",
   "execution_count": 305,
   "id": "40fb0e53",
   "metadata": {},
   "outputs": [
    {
     "name": "stdout",
     "output_type": "stream",
     "text": [
      "<class 'pandas.core.frame.DataFrame'>\n",
      "RangeIndex: 10000 entries, 0 to 9999\n",
      "Data columns (total 1 columns):\n",
      " #   Column         Non-Null Count  Dtype\n",
      "---  ------         --------------  -----\n",
      " 0   Poisson_type3  10000 non-null  int32\n",
      "dtypes: int32(1)\n",
      "memory usage: 39.2 KB\n"
     ]
    }
   ],
   "source": [
    "df_poisson_type3.info()"
   ]
  },
  {
   "cell_type": "code",
   "execution_count": 306,
   "id": "04bc760f",
   "metadata": {},
   "outputs": [
    {
     "name": "stdout",
     "output_type": "stream",
     "text": [
      "<class 'pandas.core.frame.DataFrame'>\n",
      "RangeIndex: 10000 entries, 0 to 9999\n",
      "Data columns (total 1 columns):\n",
      " #   Column         Non-Null Count  Dtype\n",
      "---  ------         --------------  -----\n",
      " 0   Poisson_type1  10000 non-null  int32\n",
      "dtypes: int32(1)\n",
      "memory usage: 39.2 KB\n"
     ]
    }
   ],
   "source": [
    "df_poisson_type1.info()"
   ]
  },
  {
   "cell_type": "markdown",
   "id": "250e9cdb",
   "metadata": {},
   "source": [
    "# 7. Creating combined dataframe"
   ]
  },
  {
   "cell_type": "code",
   "execution_count": 307,
   "id": "eec24cb1",
   "metadata": {},
   "outputs": [
    {
     "data": {
      "text/html": [
       "<div>\n",
       "<style scoped>\n",
       "    .dataframe tbody tr th:only-of-type {\n",
       "        vertical-align: middle;\n",
       "    }\n",
       "\n",
       "    .dataframe tbody tr th {\n",
       "        vertical-align: top;\n",
       "    }\n",
       "\n",
       "    .dataframe thead th {\n",
       "        text-align: right;\n",
       "    }\n",
       "</style>\n",
       "<table border=\"1\" class=\"dataframe\">\n",
       "  <thead>\n",
       "    <tr style=\"text-align: right;\">\n",
       "      <th></th>\n",
       "      <th>Binom_type1</th>\n",
       "      <th>Binom_type2</th>\n",
       "      <th>Binom_type3</th>\n",
       "      <th>Binom_type4</th>\n",
       "      <th>Poisson_type1</th>\n",
       "      <th>Poisson_type2</th>\n",
       "      <th>Poisson_type3</th>\n",
       "      <th>Poisson_type4</th>\n",
       "      <th>Impact_type1</th>\n",
       "      <th>Impact_type2</th>\n",
       "      <th>Impact_type3</th>\n",
       "      <th>Impact_type4</th>\n",
       "    </tr>\n",
       "  </thead>\n",
       "  <tbody>\n",
       "    <tr>\n",
       "      <th>0</th>\n",
       "      <td>3</td>\n",
       "      <td>4</td>\n",
       "      <td>10</td>\n",
       "      <td>27</td>\n",
       "      <td>21</td>\n",
       "      <td>16</td>\n",
       "      <td>17</td>\n",
       "      <td>21</td>\n",
       "      <td>1078.597696</td>\n",
       "      <td>3808.071576</td>\n",
       "      <td>916.810839</td>\n",
       "      <td>472.470071</td>\n",
       "    </tr>\n",
       "    <tr>\n",
       "      <th>1</th>\n",
       "      <td>15</td>\n",
       "      <td>5</td>\n",
       "      <td>11</td>\n",
       "      <td>10</td>\n",
       "      <td>17</td>\n",
       "      <td>16</td>\n",
       "      <td>15</td>\n",
       "      <td>18</td>\n",
       "      <td>23703.924991</td>\n",
       "      <td>2206.982218</td>\n",
       "      <td>891.473799</td>\n",
       "      <td>894.488816</td>\n",
       "    </tr>\n",
       "    <tr>\n",
       "      <th>2</th>\n",
       "      <td>21</td>\n",
       "      <td>12</td>\n",
       "      <td>4</td>\n",
       "      <td>5</td>\n",
       "      <td>17</td>\n",
       "      <td>16</td>\n",
       "      <td>15</td>\n",
       "      <td>13</td>\n",
       "      <td>83.283906</td>\n",
       "      <td>16.002391</td>\n",
       "      <td>511.121785</td>\n",
       "      <td>511.995348</td>\n",
       "    </tr>\n",
       "    <tr>\n",
       "      <th>3</th>\n",
       "      <td>27</td>\n",
       "      <td>168</td>\n",
       "      <td>10</td>\n",
       "      <td>25</td>\n",
       "      <td>12</td>\n",
       "      <td>20</td>\n",
       "      <td>14</td>\n",
       "      <td>12</td>\n",
       "      <td>79.500708</td>\n",
       "      <td>2279.763993</td>\n",
       "      <td>712.783106</td>\n",
       "      <td>1147.772211</td>\n",
       "    </tr>\n",
       "    <tr>\n",
       "      <th>4</th>\n",
       "      <td>39</td>\n",
       "      <td>19</td>\n",
       "      <td>2</td>\n",
       "      <td>4</td>\n",
       "      <td>16</td>\n",
       "      <td>18</td>\n",
       "      <td>16</td>\n",
       "      <td>19</td>\n",
       "      <td>652.026413</td>\n",
       "      <td>1948.835655</td>\n",
       "      <td>1566.792679</td>\n",
       "      <td>757.104685</td>\n",
       "    </tr>\n",
       "  </tbody>\n",
       "</table>\n",
       "</div>"
      ],
      "text/plain": [
       "   Binom_type1  Binom_type2  Binom_type3  Binom_type4  Poisson_type1  \\\n",
       "0            3            4           10           27             21   \n",
       "1           15            5           11           10             17   \n",
       "2           21           12            4            5             17   \n",
       "3           27          168           10           25             12   \n",
       "4           39           19            2            4             16   \n",
       "\n",
       "   Poisson_type2  Poisson_type3  Poisson_type4  Impact_type1  Impact_type2  \\\n",
       "0             16             17             21   1078.597696   3808.071576   \n",
       "1             16             15             18  23703.924991   2206.982218   \n",
       "2             16             15             13     83.283906     16.002391   \n",
       "3             20             14             12     79.500708   2279.763993   \n",
       "4             18             16             19    652.026413   1948.835655   \n",
       "\n",
       "   Impact_type3  Impact_type4  \n",
       "0    916.810839    472.470071  \n",
       "1    891.473799    894.488816  \n",
       "2    511.121785    511.995348  \n",
       "3    712.783106   1147.772211  \n",
       "4   1566.792679    757.104685  "
      ]
     },
     "execution_count": 307,
     "metadata": {},
     "output_type": "execute_result"
    }
   ],
   "source": [
    "OpRisk = pd.concat([df_binom_type1, df_binom_type2, df_binom_type3, df_binom_type4, df_poisson_type1, df_poisson_type2, df_poisson_type3, df_poisson_type4, df_impact_type1, df_impact_type2, df_impact_type3, df_impact_type4], axis = 1)\n",
    "OpRisk.head()"
   ]
  },
  {
   "cell_type": "markdown",
   "id": "ad23303c",
   "metadata": {},
   "source": [
    "1. Adding new column with product of distributions (Inverse Binomial and Inverse Lognormal) to combined dataframe"
   ]
  },
  {
   "cell_type": "code",
   "execution_count": 308,
   "id": "376fe180",
   "metadata": {},
   "outputs": [
    {
     "data": {
      "text/html": [
       "<div>\n",
       "<style scoped>\n",
       "    .dataframe tbody tr th:only-of-type {\n",
       "        vertical-align: middle;\n",
       "    }\n",
       "\n",
       "    .dataframe tbody tr th {\n",
       "        vertical-align: top;\n",
       "    }\n",
       "\n",
       "    .dataframe thead th {\n",
       "        text-align: right;\n",
       "    }\n",
       "</style>\n",
       "<table border=\"1\" class=\"dataframe\">\n",
       "  <thead>\n",
       "    <tr style=\"text-align: right;\">\n",
       "      <th></th>\n",
       "      <th>Binom_type1</th>\n",
       "      <th>Binom_type2</th>\n",
       "      <th>Binom_type3</th>\n",
       "      <th>Binom_type4</th>\n",
       "      <th>Poisson_type1</th>\n",
       "      <th>Poisson_type2</th>\n",
       "      <th>Poisson_type3</th>\n",
       "      <th>Poisson_type4</th>\n",
       "      <th>Impact_type1</th>\n",
       "      <th>Impact_type2</th>\n",
       "      <th>Impact_type3</th>\n",
       "      <th>Impact_type4</th>\n",
       "      <th>Binom_Monthly_Loss</th>\n",
       "    </tr>\n",
       "  </thead>\n",
       "  <tbody>\n",
       "    <tr>\n",
       "      <th>0</th>\n",
       "      <td>3</td>\n",
       "      <td>4</td>\n",
       "      <td>10</td>\n",
       "      <td>27</td>\n",
       "      <td>21</td>\n",
       "      <td>16</td>\n",
       "      <td>17</td>\n",
       "      <td>21</td>\n",
       "      <td>1078.597696</td>\n",
       "      <td>3808.071576</td>\n",
       "      <td>916.810839</td>\n",
       "      <td>472.470071</td>\n",
       "      <td>40392.879708</td>\n",
       "    </tr>\n",
       "    <tr>\n",
       "      <th>1</th>\n",
       "      <td>15</td>\n",
       "      <td>5</td>\n",
       "      <td>11</td>\n",
       "      <td>10</td>\n",
       "      <td>17</td>\n",
       "      <td>16</td>\n",
       "      <td>15</td>\n",
       "      <td>18</td>\n",
       "      <td>23703.924991</td>\n",
       "      <td>2206.982218</td>\n",
       "      <td>891.473799</td>\n",
       "      <td>894.488816</td>\n",
       "      <td>385344.885899</td>\n",
       "    </tr>\n",
       "    <tr>\n",
       "      <th>2</th>\n",
       "      <td>21</td>\n",
       "      <td>12</td>\n",
       "      <td>4</td>\n",
       "      <td>5</td>\n",
       "      <td>17</td>\n",
       "      <td>16</td>\n",
       "      <td>15</td>\n",
       "      <td>13</td>\n",
       "      <td>83.283906</td>\n",
       "      <td>16.002391</td>\n",
       "      <td>511.121785</td>\n",
       "      <td>511.995348</td>\n",
       "      <td>6545.454589</td>\n",
       "    </tr>\n",
       "    <tr>\n",
       "      <th>3</th>\n",
       "      <td>27</td>\n",
       "      <td>168</td>\n",
       "      <td>10</td>\n",
       "      <td>25</td>\n",
       "      <td>12</td>\n",
       "      <td>20</td>\n",
       "      <td>14</td>\n",
       "      <td>12</td>\n",
       "      <td>79.500708</td>\n",
       "      <td>2279.763993</td>\n",
       "      <td>712.783106</td>\n",
       "      <td>1147.772211</td>\n",
       "      <td>420969.006291</td>\n",
       "    </tr>\n",
       "    <tr>\n",
       "      <th>4</th>\n",
       "      <td>39</td>\n",
       "      <td>19</td>\n",
       "      <td>2</td>\n",
       "      <td>4</td>\n",
       "      <td>16</td>\n",
       "      <td>18</td>\n",
       "      <td>16</td>\n",
       "      <td>19</td>\n",
       "      <td>652.026413</td>\n",
       "      <td>1948.835655</td>\n",
       "      <td>1566.792679</td>\n",
       "      <td>757.104685</td>\n",
       "      <td>68618.911658</td>\n",
       "    </tr>\n",
       "  </tbody>\n",
       "</table>\n",
       "</div>"
      ],
      "text/plain": [
       "   Binom_type1  Binom_type2  Binom_type3  Binom_type4  Poisson_type1  \\\n",
       "0            3            4           10           27             21   \n",
       "1           15            5           11           10             17   \n",
       "2           21           12            4            5             17   \n",
       "3           27          168           10           25             12   \n",
       "4           39           19            2            4             16   \n",
       "\n",
       "   Poisson_type2  Poisson_type3  Poisson_type4  Impact_type1  Impact_type2  \\\n",
       "0             16             17             21   1078.597696   3808.071576   \n",
       "1             16             15             18  23703.924991   2206.982218   \n",
       "2             16             15             13     83.283906     16.002391   \n",
       "3             20             14             12     79.500708   2279.763993   \n",
       "4             18             16             19    652.026413   1948.835655   \n",
       "\n",
       "   Impact_type3  Impact_type4  Binom_Monthly_Loss  \n",
       "0    916.810839    472.470071        40392.879708  \n",
       "1    891.473799    894.488816       385344.885899  \n",
       "2    511.121785    511.995348         6545.454589  \n",
       "3    712.783106   1147.772211       420969.006291  \n",
       "4   1566.792679    757.104685        68618.911658  "
      ]
     },
     "execution_count": 308,
     "metadata": {},
     "output_type": "execute_result"
    }
   ],
   "source": [
    "OpRisk['Binom_Monthly_Loss'] = (OpRisk['Binom_type1'] * OpRisk['Impact_type1']) + (OpRisk['Binom_type2'] * OpRisk['Impact_type2']) + (OpRisk['Binom_type3'] * OpRisk['Impact_type3']) + (OpRisk['Binom_type4'] * OpRisk['Impact_type4'])\n",
    "OpRisk.head()"
   ]
  },
  {
   "cell_type": "markdown",
   "id": "ddbdab8b",
   "metadata": {},
   "source": [
    "2. Adding new column with product of distributions (Poisson and Inverse Lognormal) to combined dataframe"
   ]
  },
  {
   "cell_type": "code",
   "execution_count": 309,
   "id": "e82956e9",
   "metadata": {},
   "outputs": [
    {
     "data": {
      "text/html": [
       "<div>\n",
       "<style scoped>\n",
       "    .dataframe tbody tr th:only-of-type {\n",
       "        vertical-align: middle;\n",
       "    }\n",
       "\n",
       "    .dataframe tbody tr th {\n",
       "        vertical-align: top;\n",
       "    }\n",
       "\n",
       "    .dataframe thead th {\n",
       "        text-align: right;\n",
       "    }\n",
       "</style>\n",
       "<table border=\"1\" class=\"dataframe\">\n",
       "  <thead>\n",
       "    <tr style=\"text-align: right;\">\n",
       "      <th></th>\n",
       "      <th>Binom_type1</th>\n",
       "      <th>Binom_type2</th>\n",
       "      <th>Binom_type3</th>\n",
       "      <th>Binom_type4</th>\n",
       "      <th>Poisson_type1</th>\n",
       "      <th>Poisson_type2</th>\n",
       "      <th>Poisson_type3</th>\n",
       "      <th>Poisson_type4</th>\n",
       "      <th>Impact_type1</th>\n",
       "      <th>Impact_type2</th>\n",
       "      <th>Impact_type3</th>\n",
       "      <th>Impact_type4</th>\n",
       "      <th>Binom_Monthly_Loss</th>\n",
       "      <th>Poisson_Monthly_Loss</th>\n",
       "    </tr>\n",
       "  </thead>\n",
       "  <tbody>\n",
       "    <tr>\n",
       "      <th>0</th>\n",
       "      <td>3</td>\n",
       "      <td>4</td>\n",
       "      <td>10</td>\n",
       "      <td>27</td>\n",
       "      <td>21</td>\n",
       "      <td>16</td>\n",
       "      <td>17</td>\n",
       "      <td>21</td>\n",
       "      <td>1078.597696</td>\n",
       "      <td>3808.071576</td>\n",
       "      <td>916.810839</td>\n",
       "      <td>472.470071</td>\n",
       "      <td>40392.879708</td>\n",
       "      <td>109087.352595</td>\n",
       "    </tr>\n",
       "    <tr>\n",
       "      <th>1</th>\n",
       "      <td>15</td>\n",
       "      <td>5</td>\n",
       "      <td>11</td>\n",
       "      <td>10</td>\n",
       "      <td>17</td>\n",
       "      <td>16</td>\n",
       "      <td>15</td>\n",
       "      <td>18</td>\n",
       "      <td>23703.924991</td>\n",
       "      <td>2206.982218</td>\n",
       "      <td>891.473799</td>\n",
       "      <td>894.488816</td>\n",
       "      <td>385344.885899</td>\n",
       "      <td>467751.346003</td>\n",
       "    </tr>\n",
       "    <tr>\n",
       "      <th>2</th>\n",
       "      <td>21</td>\n",
       "      <td>12</td>\n",
       "      <td>4</td>\n",
       "      <td>5</td>\n",
       "      <td>17</td>\n",
       "      <td>16</td>\n",
       "      <td>15</td>\n",
       "      <td>13</td>\n",
       "      <td>83.283906</td>\n",
       "      <td>16.002391</td>\n",
       "      <td>511.121785</td>\n",
       "      <td>511.995348</td>\n",
       "      <td>6545.454589</td>\n",
       "      <td>15994.630943</td>\n",
       "    </tr>\n",
       "    <tr>\n",
       "      <th>3</th>\n",
       "      <td>27</td>\n",
       "      <td>168</td>\n",
       "      <td>10</td>\n",
       "      <td>25</td>\n",
       "      <td>12</td>\n",
       "      <td>20</td>\n",
       "      <td>14</td>\n",
       "      <td>12</td>\n",
       "      <td>79.500708</td>\n",
       "      <td>2279.763993</td>\n",
       "      <td>712.783106</td>\n",
       "      <td>1147.772211</td>\n",
       "      <td>420969.006291</td>\n",
       "      <td>70301.518368</td>\n",
       "    </tr>\n",
       "    <tr>\n",
       "      <th>4</th>\n",
       "      <td>39</td>\n",
       "      <td>19</td>\n",
       "      <td>2</td>\n",
       "      <td>4</td>\n",
       "      <td>16</td>\n",
       "      <td>18</td>\n",
       "      <td>16</td>\n",
       "      <td>19</td>\n",
       "      <td>652.026413</td>\n",
       "      <td>1948.835655</td>\n",
       "      <td>1566.792679</td>\n",
       "      <td>757.104685</td>\n",
       "      <td>68618.911658</td>\n",
       "      <td>84965.136273</td>\n",
       "    </tr>\n",
       "  </tbody>\n",
       "</table>\n",
       "</div>"
      ],
      "text/plain": [
       "   Binom_type1  Binom_type2  Binom_type3  Binom_type4  Poisson_type1  \\\n",
       "0            3            4           10           27             21   \n",
       "1           15            5           11           10             17   \n",
       "2           21           12            4            5             17   \n",
       "3           27          168           10           25             12   \n",
       "4           39           19            2            4             16   \n",
       "\n",
       "   Poisson_type2  Poisson_type3  Poisson_type4  Impact_type1  Impact_type2  \\\n",
       "0             16             17             21   1078.597696   3808.071576   \n",
       "1             16             15             18  23703.924991   2206.982218   \n",
       "2             16             15             13     83.283906     16.002391   \n",
       "3             20             14             12     79.500708   2279.763993   \n",
       "4             18             16             19    652.026413   1948.835655   \n",
       "\n",
       "   Impact_type3  Impact_type4  Binom_Monthly_Loss  Poisson_Monthly_Loss  \n",
       "0    916.810839    472.470071        40392.879708         109087.352595  \n",
       "1    891.473799    894.488816       385344.885899         467751.346003  \n",
       "2    511.121785    511.995348         6545.454589          15994.630943  \n",
       "3    712.783106   1147.772211       420969.006291          70301.518368  \n",
       "4   1566.792679    757.104685        68618.911658          84965.136273  "
      ]
     },
     "execution_count": 309,
     "metadata": {},
     "output_type": "execute_result"
    }
   ],
   "source": [
    "OpRisk['Poisson_Monthly_Loss'] = (OpRisk['Poisson_type1'] * OpRisk['Impact_type1']) + (OpRisk['Poisson_type2'] * OpRisk['Impact_type2']) + (OpRisk['Poisson_type3'] * OpRisk['Impact_type3']) + (OpRisk['Poisson_type4'] * OpRisk['Impact_type4'])\n",
    "OpRisk.head()"
   ]
  },
  {
   "cell_type": "markdown",
   "id": "e99b7982",
   "metadata": {},
   "source": [
    "3. Getting Statistical Information on combined dataframe"
   ]
  },
  {
   "cell_type": "code",
   "execution_count": 310,
   "id": "d7b5e322",
   "metadata": {},
   "outputs": [
    {
     "data": {
      "text/html": [
       "<div>\n",
       "<style scoped>\n",
       "    .dataframe tbody tr th:only-of-type {\n",
       "        vertical-align: middle;\n",
       "    }\n",
       "\n",
       "    .dataframe tbody tr th {\n",
       "        vertical-align: top;\n",
       "    }\n",
       "\n",
       "    .dataframe thead th {\n",
       "        text-align: right;\n",
       "    }\n",
       "</style>\n",
       "<table border=\"1\" class=\"dataframe\">\n",
       "  <thead>\n",
       "    <tr style=\"text-align: right;\">\n",
       "      <th></th>\n",
       "      <th>Binom_type1</th>\n",
       "      <th>Binom_type2</th>\n",
       "      <th>Binom_type3</th>\n",
       "      <th>Binom_type4</th>\n",
       "      <th>Poisson_type1</th>\n",
       "      <th>Poisson_type2</th>\n",
       "      <th>Poisson_type3</th>\n",
       "      <th>Poisson_type4</th>\n",
       "      <th>Impact_type1</th>\n",
       "      <th>Impact_type2</th>\n",
       "      <th>Impact_type3</th>\n",
       "      <th>Impact_type4</th>\n",
       "      <th>Binom_Monthly_Loss</th>\n",
       "      <th>Poisson_Monthly_Loss</th>\n",
       "    </tr>\n",
       "  </thead>\n",
       "  <tbody>\n",
       "    <tr>\n",
       "      <th>count</th>\n",
       "      <td>10000.000000</td>\n",
       "      <td>10000.000000</td>\n",
       "      <td>10000.000000</td>\n",
       "      <td>10000.000000</td>\n",
       "      <td>10000.000000</td>\n",
       "      <td>10000.000000</td>\n",
       "      <td>10000.000000</td>\n",
       "      <td>10000.000000</td>\n",
       "      <td>10000.000000</td>\n",
       "      <td>10000.000000</td>\n",
       "      <td>10000.000000</td>\n",
       "      <td>10000.000000</td>\n",
       "      <td>1.000000e+04</td>\n",
       "      <td>1.000000e+04</td>\n",
       "    </tr>\n",
       "    <tr>\n",
       "      <th>mean</th>\n",
       "      <td>16.231000</td>\n",
       "      <td>16.692800</td>\n",
       "      <td>16.697100</td>\n",
       "      <td>16.135900</td>\n",
       "      <td>16.412700</td>\n",
       "      <td>16.930400</td>\n",
       "      <td>16.595300</td>\n",
       "      <td>16.166700</td>\n",
       "      <td>1195.437956</td>\n",
       "      <td>1319.854528</td>\n",
       "      <td>1052.413312</td>\n",
       "      <td>958.911174</td>\n",
       "      <td>7.451962e+04</td>\n",
       "      <td>7.488517e+04</td>\n",
       "    </tr>\n",
       "    <tr>\n",
       "      <th>std</th>\n",
       "      <td>14.675305</td>\n",
       "      <td>18.383134</td>\n",
       "      <td>16.902317</td>\n",
       "      <td>16.894134</td>\n",
       "      <td>4.047989</td>\n",
       "      <td>4.166808</td>\n",
       "      <td>4.097902</td>\n",
       "      <td>4.020289</td>\n",
       "      <td>1742.758116</td>\n",
       "      <td>2099.188149</td>\n",
       "      <td>1163.912034</td>\n",
       "      <td>779.893154</td>\n",
       "      <td>7.756407e+04</td>\n",
       "      <td>5.350419e+04</td>\n",
       "    </tr>\n",
       "    <tr>\n",
       "      <th>min</th>\n",
       "      <td>0.000000</td>\n",
       "      <td>0.000000</td>\n",
       "      <td>0.000000</td>\n",
       "      <td>0.000000</td>\n",
       "      <td>3.000000</td>\n",
       "      <td>4.000000</td>\n",
       "      <td>2.000000</td>\n",
       "      <td>1.000000</td>\n",
       "      <td>10.100730</td>\n",
       "      <td>4.031099</td>\n",
       "      <td>24.897733</td>\n",
       "      <td>50.962473</td>\n",
       "      <td>1.234680e+03</td>\n",
       "      <td>8.914380e+03</td>\n",
       "    </tr>\n",
       "    <tr>\n",
       "      <th>25%</th>\n",
       "      <td>6.000000</td>\n",
       "      <td>4.000000</td>\n",
       "      <td>5.000000</td>\n",
       "      <td>4.000000</td>\n",
       "      <td>14.000000</td>\n",
       "      <td>14.000000</td>\n",
       "      <td>14.000000</td>\n",
       "      <td>13.000000</td>\n",
       "      <td>318.025340</td>\n",
       "      <td>332.031764</td>\n",
       "      <td>465.896321</td>\n",
       "      <td>453.051941</td>\n",
       "      <td>3.106915e+04</td>\n",
       "      <td>4.373395e+04</td>\n",
       "    </tr>\n",
       "    <tr>\n",
       "      <th>50%</th>\n",
       "      <td>12.000000</td>\n",
       "      <td>11.000000</td>\n",
       "      <td>12.000000</td>\n",
       "      <td>11.000000</td>\n",
       "      <td>16.000000</td>\n",
       "      <td>17.000000</td>\n",
       "      <td>16.000000</td>\n",
       "      <td>16.000000</td>\n",
       "      <td>654.965247</td>\n",
       "      <td>695.837265</td>\n",
       "      <td>784.747175</td>\n",
       "      <td>744.651203</td>\n",
       "      <td>5.272426e+04</td>\n",
       "      <td>6.174208e+04</td>\n",
       "    </tr>\n",
       "    <tr>\n",
       "      <th>75%</th>\n",
       "      <td>22.000000</td>\n",
       "      <td>23.000000</td>\n",
       "      <td>23.000000</td>\n",
       "      <td>22.000000</td>\n",
       "      <td>19.000000</td>\n",
       "      <td>20.000000</td>\n",
       "      <td>19.000000</td>\n",
       "      <td>19.000000</td>\n",
       "      <td>1371.515800</td>\n",
       "      <td>1474.629224</td>\n",
       "      <td>1310.163112</td>\n",
       "      <td>1214.382614</td>\n",
       "      <td>9.099835e+04</td>\n",
       "      <td>9.023585e+04</td>\n",
       "    </tr>\n",
       "    <tr>\n",
       "      <th>max</th>\n",
       "      <td>136.000000</td>\n",
       "      <td>168.000000</td>\n",
       "      <td>185.000000</td>\n",
       "      <td>198.000000</td>\n",
       "      <td>33.000000</td>\n",
       "      <td>37.000000</td>\n",
       "      <td>35.000000</td>\n",
       "      <td>35.000000</td>\n",
       "      <td>26552.953430</td>\n",
       "      <td>43573.702294</td>\n",
       "      <td>71058.399888</td>\n",
       "      <td>10154.966295</td>\n",
       "      <td>1.823446e+06</td>\n",
       "      <td>1.445868e+06</td>\n",
       "    </tr>\n",
       "  </tbody>\n",
       "</table>\n",
       "</div>"
      ],
      "text/plain": [
       "        Binom_type1   Binom_type2   Binom_type3   Binom_type4  Poisson_type1  \\\n",
       "count  10000.000000  10000.000000  10000.000000  10000.000000   10000.000000   \n",
       "mean      16.231000     16.692800     16.697100     16.135900      16.412700   \n",
       "std       14.675305     18.383134     16.902317     16.894134       4.047989   \n",
       "min        0.000000      0.000000      0.000000      0.000000       3.000000   \n",
       "25%        6.000000      4.000000      5.000000      4.000000      14.000000   \n",
       "50%       12.000000     11.000000     12.000000     11.000000      16.000000   \n",
       "75%       22.000000     23.000000     23.000000     22.000000      19.000000   \n",
       "max      136.000000    168.000000    185.000000    198.000000      33.000000   \n",
       "\n",
       "       Poisson_type2  Poisson_type3  Poisson_type4  Impact_type1  \\\n",
       "count   10000.000000   10000.000000   10000.000000  10000.000000   \n",
       "mean       16.930400      16.595300      16.166700   1195.437956   \n",
       "std         4.166808       4.097902       4.020289   1742.758116   \n",
       "min         4.000000       2.000000       1.000000     10.100730   \n",
       "25%        14.000000      14.000000      13.000000    318.025340   \n",
       "50%        17.000000      16.000000      16.000000    654.965247   \n",
       "75%        20.000000      19.000000      19.000000   1371.515800   \n",
       "max        37.000000      35.000000      35.000000  26552.953430   \n",
       "\n",
       "       Impact_type2  Impact_type3  Impact_type4  Binom_Monthly_Loss  \\\n",
       "count  10000.000000  10000.000000  10000.000000        1.000000e+04   \n",
       "mean    1319.854528   1052.413312    958.911174        7.451962e+04   \n",
       "std     2099.188149   1163.912034    779.893154        7.756407e+04   \n",
       "min        4.031099     24.897733     50.962473        1.234680e+03   \n",
       "25%      332.031764    465.896321    453.051941        3.106915e+04   \n",
       "50%      695.837265    784.747175    744.651203        5.272426e+04   \n",
       "75%     1474.629224   1310.163112   1214.382614        9.099835e+04   \n",
       "max    43573.702294  71058.399888  10154.966295        1.823446e+06   \n",
       "\n",
       "       Poisson_Monthly_Loss  \n",
       "count          1.000000e+04  \n",
       "mean           7.488517e+04  \n",
       "std            5.350419e+04  \n",
       "min            8.914380e+03  \n",
       "25%            4.373395e+04  \n",
       "50%            6.174208e+04  \n",
       "75%            9.023585e+04  \n",
       "max            1.445868e+06  "
      ]
     },
     "execution_count": 310,
     "metadata": {},
     "output_type": "execute_result"
    }
   ],
   "source": [
    "OpRisk.describe()"
   ]
  },
  {
   "cell_type": "markdown",
   "id": "af46d9d8",
   "metadata": {},
   "source": [
    "# 8. Operational Risk Value at Risk Computation"
   ]
  },
  {
   "cell_type": "markdown",
   "id": "1081f4cc",
   "metadata": {},
   "source": [
    "1. Operational Risk Value at Risk using Inverse Binomial and Inverse Lognormal Distributions"
   ]
  },
  {
   "cell_type": "code",
   "execution_count": 311,
   "id": "30f13e55",
   "metadata": {},
   "outputs": [
    {
     "name": "stdout",
     "output_type": "stream",
     "text": [
      "Monthly Operational Risk Value at Risk with 95% confidence =   204529.03\n",
      "Maximum Operational Risk Loss =   1823445.88\n",
      "Monthly Operational Risk Value at Risk as per Basel 99% confidence requirements =   376601.27\n",
      "Monthly Operational Risk Expected Loss (Mean)  74519.62\n",
      "Monthly Operational Risk Expected Loss (Median)  52724.26\n",
      "Monthly Operational Risk Unexpected Loss  302081.65\n",
      "Annual Operational Risk Value at Risk with 95% confidence =   708509.36\n"
     ]
    }
   ],
   "source": [
    "# Calculation of Operational Value at Risk using Inverse Binomial and Inverse Lognormal Distributions\n",
    "OpRisk_Monthly_Binom_VaR_95 = OpRisk['Binom_Monthly_Loss'].quantile(0.95)\n",
    "print('Monthly Operational Risk Value at Risk with 95% confidence = ', f\"{OpRisk_Monthly_Binom_VaR_95: .2f}\")\n",
    "OpRisk_Max_Binom_Loss = OpRisk['Binom_Monthly_Loss'].max()\n",
    "print('Maximum Operational Risk Loss = ', f\"{OpRisk_Max_Binom_Loss: .2f}\")\n",
    "OpRisk_Basel_Binom_VaR_99 = OpRisk['Binom_Monthly_Loss'].quantile(0.99)\n",
    "print('Monthly Operational Risk Value at Risk as per Basel 99% confidence requirements = ', f\"{OpRisk_Basel_Binom_VaR_99: .2f}\")\n",
    "OpRisk_Monthly_Binom_EL = OpRisk['Binom_Monthly_Loss'].mean()\n",
    "print('Monthly Operational Risk Expected Loss (Mean)', f\"{OpRisk_Monthly_Binom_EL: .2f}\")\n",
    "OpRisk_Monthly_Binom_Median = OpRisk['Binom_Monthly_Loss'].median()\n",
    "print('Monthly Operational Risk Expected Loss (Median)', f\"{OpRisk_Monthly_Binom_Median: .2f}\")\n",
    "OpRisk_Monthly_Binom_UL = OpRisk_Basel_Binom_VaR_99 - OpRisk_Monthly_Binom_EL\n",
    "print('Monthly Operational Risk Unexpected Loss', f\"{OpRisk_Monthly_Binom_UL: .2f}\")\n",
    "OpRisk_Annual_Binom_VaR_95 = OpRisk_Monthly_Binom_VaR_95 * np.sqrt(12)\n",
    "print('Annual Operational Risk Value at Risk with 95% confidence = ', f\"{OpRisk_Annual_Binom_VaR_95: .2f}\")"
   ]
  },
  {
   "cell_type": "markdown",
   "id": "08f0f0fb",
   "metadata": {},
   "source": [
    "2. Operational Risk Value at Risk using Poison and Inverse Lognormal Distributions"
   ]
  },
  {
   "cell_type": "code",
   "execution_count": 312,
   "id": "414012d3",
   "metadata": {},
   "outputs": [
    {
     "name": "stdout",
     "output_type": "stream",
     "text": [
      "Monthly Operational Risk Value at Risk with 95% confidence =  160642.86102655253\n",
      "Maximul Operational Risk Loss =  1445867.9891037848\n",
      "Monthly Operational Risk Value at Risk as per Basel 99% confidence requirements =  279687.3179844264\n",
      "Monthly Operational Risk Expected Loss (Mean) 74885.17231042542\n",
      "Monthly Operational Risk Expected Loss (Median) 61742.080078182014\n",
      "Monthly Operational Risk Unexpected Loss 204802.14567400096\n",
      "Annual Operational Risk Value at Risk with 95% confidence =  556483.1943424304\n"
     ]
    }
   ],
   "source": [
    "# Calculation of Operational Value at Risk using Poisson and Inverse Lognormal Distributions\n",
    "OpRisk_Monthly_Poisson_VaR_95 = OpRisk['Poisson_Monthly_Loss'].quantile(0.95)\n",
    "print('Monthly Operational Risk Value at Risk with 95% confidence = ', OpRisk_Monthly_Poisson_VaR_95)\n",
    "OpRisk_Max_Poisson_Loss = OpRisk['Poisson_Monthly_Loss'].max()\n",
    "print('Maximul Operational Risk Loss = ', OpRisk_Max_Poisson_Loss)\n",
    "OpRisk_Basel_Poisson_VaR_99 = OpRisk['Poisson_Monthly_Loss'].quantile(0.99)\n",
    "print('Monthly Operational Risk Value at Risk as per Basel 99% confidence requirements = ', OpRisk_Basel_Poisson_VaR_99)\n",
    "OpRisk_Monthly_Poisson_EL = OpRisk['Poisson_Monthly_Loss'].mean()\n",
    "print('Monthly Operational Risk Expected Loss (Mean)', OpRisk_Monthly_Poisson_EL)\n",
    "OpRisk_Monthly_Poisson_Median = OpRisk['Poisson_Monthly_Loss'].median()\n",
    "print('Monthly Operational Risk Expected Loss (Median)', OpRisk_Monthly_Poisson_Median)\n",
    "OpRisk_Monthly_Poisson_UL = OpRisk_Basel_Poisson_VaR_99 - OpRisk_Monthly_Poisson_EL\n",
    "print('Monthly Operational Risk Unexpected Loss', OpRisk_Monthly_Poisson_UL)\n",
    "OpRisk_Annual_Poisson_VaR_95 = OpRisk_Monthly_Poisson_VaR_95 * np.sqrt(12)\n",
    "print('Annual Operational Risk Value at Risk with 95% confidence = ', OpRisk_Annual_Poisson_VaR_95)"
   ]
  },
  {
   "cell_type": "markdown",
   "id": "20b2fb1f",
   "metadata": {},
   "source": [
    "2. Operational Risk Value at Risk using Poisson and Lognormal Distributions"
   ]
  },
  {
   "cell_type": "code",
   "execution_count": 317,
   "id": "fbdcf6eb",
   "metadata": {},
   "outputs": [
    {
     "data": {
      "image/png": "[encoded data removed]",
      "text/plain": [
       "<Figure size 1000x600 with 2 Axes>"
      ]
     },
     "metadata": {},
     "output_type": "display_data"
    }
   ],
   "source": [
    "# Histograms of results of operational risk losses distributions using Inverse Binomial and Poisson distributions.\n",
    "import matplotlib.ticker as ticker\n",
    "plt.figure(figsize = (10, 6))\n",
    "def format_ticks(x, pos):\n",
    "    return '{:,.0f}'.format(x)\n",
    "plt.subplot(1, 2, 1)\n",
    "sns.histplot(OpRisk['Binom_Monthly_Loss'], bins = 10, color = 'red', edgecolor = 'black')\n",
    "plt.xlabel('Operational Risk Losses')\n",
    "plt.xticks(rotation = 45)\n",
    "plt.ylabel('Frequency of Losses')\n",
    "plt.title('Histogram of Binomial Distribution')\n",
    "plt.gca().xaxis.set_major_formatter(ticker.FuncFormatter(format_ticks))\n",
    "\n",
    "plt.subplot(1, 2, 2)\n",
    "sns.histplot(OpRisk['Poisson_Monthly_Loss'], bins = 10, color = 'green', edgecolor = 'black')\n",
    "plt.xlabel('Operational Risk Losses')\n",
    "plt.xticks(rotation = 45)\n",
    "plt.ylabel('Frequency of Losses')\n",
    "plt.title('Histogram of Poisson Distribution')\n",
    "plt.gca().xaxis.set_major_formatter(ticker.FuncFormatter(format_ticks))\n",
    "plt.tight_layout()  \n",
    "plt.show()"
   ]
  },
  {
   "cell_type": "code",
   "execution_count": 314,
   "id": "9c4583f0",
   "metadata": {},
   "outputs": [
    {
     "data": {
      "text/plain": [
       "Text(0.5, 1.0, 'Boxplot Operational Loss using Inverse Binomial Distribution')"
      ]
     },
     "execution_count": 314,
     "metadata": {},
     "output_type": "execute_result"
    },
    {
     "data": {
      "image/png": "[encoded data removed]",
      "text/plain": [
       "<Figure size 640x480 with 1 Axes>"
      ]
     },
     "metadata": {},
     "output_type": "display_data"
    }
   ],
   "source": [
    "# Boxplots of of results of operational risk losses distributions using Inverse Binomial distributions.\n",
    "def format_ticks(x, pos):\n",
    "    return '{:,.0f}'.format(x)\n",
    "sns.boxplot(x = 'Binom_Monthly_Loss', data = OpRisk, showfliers = True, showbox = True)\n",
    "plt.xticks(rotation = 45)\n",
    "plt.xlabel('Monthly Loss')\n",
    "plt.gca().xaxis.set_major_formatter(ticker.FuncFormatter(format_ticks))\n",
    "plt.title('Boxplot Operational Loss using Inverse Binomial Distribution')"
   ]
  },
  {
   "cell_type": "code",
   "execution_count": 318,
   "id": "ab534b9e",
   "metadata": {},
   "outputs": [
    {
     "data": {
      "text/plain": [
       "Text(0.5, 1.0, 'Boxplot Operational Loss using Poisson Distribution')"
      ]
     },
     "execution_count": 318,
     "metadata": {},
     "output_type": "execute_result"
    },
    {
     "data": {
      "image/png": "[encoded data removed]",
      "text/plain": [
       "<Figure size 640x480 with 1 Axes>"
      ]
     },
     "metadata": {},
     "output_type": "display_data"
    }
   ],
   "source": [
    "# Boxplots of of results of operational risk losses distributions using Inverse Binomial and Poisson distributions.\n",
    "sns.boxplot(x = 'Poisson_Monthly_Loss', data = OpRisk, showfliers = True, showbox = True)\n",
    "plt.xticks(rotation = 45)\n",
    "plt.xlabel('Monthly Loss')\n",
    "plt.gca().xaxis.set_major_formatter(ticker.FuncFormatter(format_ticks))\n",
    "plt.title('Boxplot Operational Loss using Poisson Distribution')"
   ]
  },
  {
   "cell_type": "markdown",
   "id": "cfaa0dda",
   "metadata": {},
   "source": [
    "Observations:\n",
    "The histograms of distributions are skewed to the left and show concentration of losses of relatively small amounts, but also tell about presence of esential amounts of outliers with big amounts above 200 000 to 2 000 000 for Inverse Binomial t0 around 800 000 for Poisson distribution, which can be observed on boxplots."
   ]
  },
  {
   "cell_type": "code",
   "execution_count": 319,
   "id": "7404a18b",
   "metadata": {},
   "outputs": [
    {
     "name": "stdout",
     "output_type": "stream",
     "text": [
      "Operational Risk Value at Risk Calculation using Inverse Binomial Distribution :\n",
      "Monthly Operational Risk Value at Risk with 95% confidence =   204529.03\n",
      "Maximum Operational Risk Loss =   1823445.88\n",
      "Monthly Operational Risk Value at Risk as per Basel with 99% confidence requirements =   376601.27\n",
      "Monthly Operational Risk Expected Loss (Mean)  74519.62\n",
      "Monthly Operational Risk Expected Loss (Median)  52724.26\n",
      "Monthly Operational Risk Unexpected Loss  302081.65\n",
      "Annual Operational Risk Value at Risk with 95% confidence =   708509.36\n",
      "\n",
      "\n",
      "Operational Risk Value at Risk Calculation using Poisson Distribution :\n",
      "Monthly Operational Risk Value at Risk with 95% confidence =   160642.86\n",
      "Maximum Operational Risk Loss =   1445867.99\n",
      "Monthly Operational Risk Value at Risk as per Basel with 99% confidence requirements =   279687.32\n",
      "Monthly Operational Risk Expected Loss (Mean)  74885.17\n",
      "Monthly Operational Risk Expected Loss (Median)  61742.08\n",
      "Monthly Operational Risk Unexpected Loss  204802.15\n",
      "Annual Operational Risk Value at Risk with 95% confidence =   556483.19\n"
     ]
    }
   ],
   "source": [
    "# Comparison of results of different approaches (Inverse Binomial and Poisson Distributions) for Operational Risk Value at Risk Calculations\n",
    "\n",
    "print('Operational Risk Value at Risk Calculation using Inverse Binomial Distribution :')\n",
    "print('Monthly Operational Risk Value at Risk with 95% confidence = ', f\"{OpRisk_Monthly_Binom_VaR_95: .2f}\")\n",
    "print('Maximum Operational Risk Loss = ', f\"{OpRisk_Max_Binom_Loss: .2f}\")\n",
    "print('Monthly Operational Risk Value at Risk as per Basel with 99% confidence requirements = ', f\"{OpRisk_Basel_Binom_VaR_99: .2f}\")\n",
    "print('Monthly Operational Risk Expected Loss (Mean)', f\"{OpRisk_Monthly_Binom_EL: .2f}\")\n",
    "print('Monthly Operational Risk Expected Loss (Median)', f\"{OpRisk_Monthly_Binom_Median: .2f}\")\n",
    "print('Monthly Operational Risk Unexpected Loss', f\"{OpRisk_Monthly_Binom_UL: .2f}\")\n",
    "print('Annual Operational Risk Value at Risk with 95% confidence = ', f\"{OpRisk_Annual_Binom_VaR_95: .2f}\")\n",
    "print('')\n",
    "print('')\n",
    "print('Operational Risk Value at Risk Calculation using Poisson Distribution :')\n",
    "print('Monthly Operational Risk Value at Risk with 95% confidence = ', f\"{OpRisk_Monthly_Poisson_VaR_95: .2f}\")\n",
    "print('Maximum Operational Risk Loss = ', f\"{OpRisk_Max_Poisson_Loss: .2f}\")\n",
    "print('Monthly Operational Risk Value at Risk as per Basel with 99% confidence requirements = ', f\"{OpRisk_Basel_Poisson_VaR_99: .2f}\")\n",
    "print('Monthly Operational Risk Expected Loss (Mean)', f\"{OpRisk_Monthly_Poisson_EL: .2f}\")\n",
    "print('Monthly Operational Risk Expected Loss (Median)', f\"{OpRisk_Monthly_Poisson_Median: .2f}\")\n",
    "print('Monthly Operational Risk Unexpected Loss', f\"{OpRisk_Monthly_Poisson_UL: .2f}\")\n",
    "print('Annual Operational Risk Value at Risk with 95% confidence = ', f\"{OpRisk_Annual_Poisson_VaR_95: .2f}\")"
   ]
  },
  {
   "cell_type": "markdown",
   "id": "6b5d2bc2",
   "metadata": {},
   "source": [
    "# Conclusion:\n",
    "Computation of Operational Risk Value at Risk given 2 different approaches for generating operational risk events like Inverse Binomial Distribution and Poisson Distribution and Inverse Lognormal Distribution for generating operational risk losses show significantly different results.\n",
    "For example, Monthly Value at Risk (VaR) with 95% confidence using Binomial Distribution is 204 529.03 and the same using Poisson Distribution is 160 642.86.\n",
    "Monthly VaR with 99% confidence as per Basel Requirements for Binomial Distribution is 376 601.27 and Poisson is 279 687.32.\n",
    "Monthly Expected Loss or Mathematical Expectations (Mean) for Binomial is 74 519.26 and Poisson is 74 885.17, which show relatevly similar values, the same using Median values are for Binomial 52 724.26 and for Poisson 61 742.08. As our distributions are skewed to the left and show many outliers it is recommended to take Median values for Expected Loss instead of Mean values.\n",
    "But Monthly Unexpected Loss for Binomial is 302 081.65 and Poisson is 204 802.15 that has essentially other amounts.\n",
    "Comparison of Annual VaR with 95% confidence also show distinct resuls like 708 509.36 for Binomial and 556 483.19 for Poisson distribution."
   ]
  }
 ],
 "metadata": {
  "kernelspec": {
   "display_name": "Python 3 (ipykernel)",
   "language": "python",
   "name": "python3"
  },
  "language_info": {
   "codemirror_mode": {
    "name": "ipython",
    "version": 3
   },
   "file_extension": ".py",
   "mimetype": "text/x-python",
   "name": "python",
   "nbconvert_exporter": "python",
   "pygments_lexer": "ipython3",
   "version": "3.10.9"
  }
 },
 "nbformat": 4,
 "nbformat_minor": 5
}
