{
 "cells": [
  {
   "cell_type": "markdown",
   "id": "d95d9f46",
   "metadata": {},
   "source": [
    "## <div style=\"text-align: center;\"> Application of Benford's Law for Fraud Detection (v 1.0)\n",
    "\n",
    "### <div style=\"text-align: center;\"> USING PYTHON PROGRAMMING LANGUAGE  </div>\n",
    "\n",
    "Benford's Law or the law of anomalous numbers, or the first-digit law is used to detect anomalous amounts in credit card transactions dataset and payments datasets, which were downloaded from Kaggle.\n",
    "\n",
    "Prepared by Imir Osmanov. Date: 04.10.2024."
   ]
  },
  {
   "cell_type": "markdown",
   "id": "1f15510e",
   "metadata": {},
   "source": [
    "### <div style=\"text-align: center;\"> EXECUTIVE SUMMARY </div>\n",
    "\n",
    "### Purpose:\n",
    "The purpose of this exercise is to apply Benford's Law to datasets on credit card transactions and payment transactions, which were downloaded from Kaggle, to detect anomalous amounts.\n",
    "\n",
    "### Main findings:\n",
    "2 datasets with identified and labeled fraud transactions were analyzed by applying Benford's Law to the first and second digits of transactions/payments amounts. These tests for first and second digits are used to assess overal conformity and detect obvious anomalies. Despite identified differences between expected distributions of numbers as per Benford's Law and actual distributions of numbers from transactions/payments amounts, the statistical tests like Chi-Squared test and the Kolmogorov-Smirnov (K-S) test shown that there is no significant evidences to suggest that the observed distribution differs from what is expected under Benford's Law as p-values of the test were above alpha (0.05) and we failed to reject the Null Hypothesis.\n",
    "Also calculations of Z-statistics for both datasets do not revealed statistical significant differences in both distributions and confirmed conformity with Benford's Lawn(Z-statistics less than 1.96 (alpha = 0.05).\n",
    "\n",
    "Deviations of actual distributions from the expected distributions as per Bernford's Law show anomalies in data distributions, which can be examined, but do not mean that there is evidence for fraud transactions/payments. On the other hand following Bernford's Law is not an evidence for absence of fraud transactions/payments.\n",
    "\n",
    "\n",
    "\n",
    "### Methodology:\n",
    "The methodology is based on application of Benfors's Law for detection of anomalous numbers in datasets of credit card transactions and payments downloaded from Kaggle.\n",
    "Benford's law, also known as the Newcomb–Benford law, the law of anomalous numbers, or the first-digit law, is an observation that in many real-life sets of numerical data, the leading digit is likely to be small. In sets that obey the law, the number 1 appears as the leading significant digit about 30% of the time, while 9 appears as the leading significant digit less than 5% of the time. Uniformly distributed digits would each occur about 11.1% of the time. Benford's law also makes predictions about the distribution of second digits, third digits, digit combinations, and so on.\n",
    "The law is named after physicist Frank Benford, who stated it in 1938 in an article titled \"The Law of Anomalous Numbers\", although it had been previously stated by Simon Newcomb in 1881.\n",
    "https://en.wikipedia.org/wiki/Benford%27s_law\n",
    "\n",
    "The first digit and second digit tests known as high-level tests of reasonableness were applied to determine if datasets are reasonable and detect obvious anomalies.\n",
    "\n",
    "Deviations of actual distributions from the expected distributions as per Bernford's Law show anomalies in data distributions, which can be examined, but do not mean that there is evidence for fraud transactions/payments. On the other hand following Bernford's Law is not an evidence for absence of fraud transactions/payments."
   ]
  },
  {
   "cell_type": "code",
   "execution_count": 169,
   "id": "49b3efd9",
   "metadata": {},
   "outputs": [],
   "source": [
    "# Importing required libraries\n",
    "import pandas as pd\n",
    "import numpy as np\n",
    "import matplotlib.pyplot as plt\n",
    "from scipy.stats import chisquare\n",
    "from scipy import stats"
   ]
  },
  {
   "cell_type": "code",
   "execution_count": 170,
   "id": "82227448",
   "metadata": {},
   "outputs": [
    {
     "name": "stdout",
     "output_type": "stream",
     "text": [
      "There are 284807 observations in the credit card fraud dataset.\n",
      "There are 31 variables in the dataset.\n"
     ]
    },
    {
     "data": {
      "text/html": [
       "<div>\n",
       "<style scoped>\n",
       "    .dataframe tbody tr th:only-of-type {\n",
       "        vertical-align: middle;\n",
       "    }\n",
       "\n",
       "    .dataframe tbody tr th {\n",
       "        vertical-align: top;\n",
       "    }\n",
       "\n",
       "    .dataframe thead th {\n",
       "        text-align: right;\n",
       "    }\n",
       "</style>\n",
       "<table border=\"1\" class=\"dataframe\">\n",
       "  <thead>\n",
       "    <tr style=\"text-align: right;\">\n",
       "      <th></th>\n",
       "      <th>Time</th>\n",
       "      <th>V1</th>\n",
       "      <th>V2</th>\n",
       "      <th>V3</th>\n",
       "      <th>V4</th>\n",
       "      <th>V5</th>\n",
       "      <th>V6</th>\n",
       "      <th>V7</th>\n",
       "      <th>V8</th>\n",
       "      <th>V9</th>\n",
       "      <th>...</th>\n",
       "      <th>V21</th>\n",
       "      <th>V22</th>\n",
       "      <th>V23</th>\n",
       "      <th>V24</th>\n",
       "      <th>V25</th>\n",
       "      <th>V26</th>\n",
       "      <th>V27</th>\n",
       "      <th>V28</th>\n",
       "      <th>Amount</th>\n",
       "      <th>Class</th>\n",
       "    </tr>\n",
       "  </thead>\n",
       "  <tbody>\n",
       "    <tr>\n",
       "      <th>0</th>\n",
       "      <td>0.0</td>\n",
       "      <td>-1.359807</td>\n",
       "      <td>-0.072781</td>\n",
       "      <td>2.536347</td>\n",
       "      <td>1.378155</td>\n",
       "      <td>-0.338321</td>\n",
       "      <td>0.462388</td>\n",
       "      <td>0.239599</td>\n",
       "      <td>0.098698</td>\n",
       "      <td>0.363787</td>\n",
       "      <td>...</td>\n",
       "      <td>-0.018307</td>\n",
       "      <td>0.277838</td>\n",
       "      <td>-0.110474</td>\n",
       "      <td>0.066928</td>\n",
       "      <td>0.128539</td>\n",
       "      <td>-0.189115</td>\n",
       "      <td>0.133558</td>\n",
       "      <td>-0.021053</td>\n",
       "      <td>149.62</td>\n",
       "      <td>0</td>\n",
       "    </tr>\n",
       "    <tr>\n",
       "      <th>1</th>\n",
       "      <td>0.0</td>\n",
       "      <td>1.191857</td>\n",
       "      <td>0.266151</td>\n",
       "      <td>0.166480</td>\n",
       "      <td>0.448154</td>\n",
       "      <td>0.060018</td>\n",
       "      <td>-0.082361</td>\n",
       "      <td>-0.078803</td>\n",
       "      <td>0.085102</td>\n",
       "      <td>-0.255425</td>\n",
       "      <td>...</td>\n",
       "      <td>-0.225775</td>\n",
       "      <td>-0.638672</td>\n",
       "      <td>0.101288</td>\n",
       "      <td>-0.339846</td>\n",
       "      <td>0.167170</td>\n",
       "      <td>0.125895</td>\n",
       "      <td>-0.008983</td>\n",
       "      <td>0.014724</td>\n",
       "      <td>2.69</td>\n",
       "      <td>0</td>\n",
       "    </tr>\n",
       "    <tr>\n",
       "      <th>2</th>\n",
       "      <td>1.0</td>\n",
       "      <td>-1.358354</td>\n",
       "      <td>-1.340163</td>\n",
       "      <td>1.773209</td>\n",
       "      <td>0.379780</td>\n",
       "      <td>-0.503198</td>\n",
       "      <td>1.800499</td>\n",
       "      <td>0.791461</td>\n",
       "      <td>0.247676</td>\n",
       "      <td>-1.514654</td>\n",
       "      <td>...</td>\n",
       "      <td>0.247998</td>\n",
       "      <td>0.771679</td>\n",
       "      <td>0.909412</td>\n",
       "      <td>-0.689281</td>\n",
       "      <td>-0.327642</td>\n",
       "      <td>-0.139097</td>\n",
       "      <td>-0.055353</td>\n",
       "      <td>-0.059752</td>\n",
       "      <td>378.66</td>\n",
       "      <td>0</td>\n",
       "    </tr>\n",
       "    <tr>\n",
       "      <th>3</th>\n",
       "      <td>1.0</td>\n",
       "      <td>-0.966272</td>\n",
       "      <td>-0.185226</td>\n",
       "      <td>1.792993</td>\n",
       "      <td>-0.863291</td>\n",
       "      <td>-0.010309</td>\n",
       "      <td>1.247203</td>\n",
       "      <td>0.237609</td>\n",
       "      <td>0.377436</td>\n",
       "      <td>-1.387024</td>\n",
       "      <td>...</td>\n",
       "      <td>-0.108300</td>\n",
       "      <td>0.005274</td>\n",
       "      <td>-0.190321</td>\n",
       "      <td>-1.175575</td>\n",
       "      <td>0.647376</td>\n",
       "      <td>-0.221929</td>\n",
       "      <td>0.062723</td>\n",
       "      <td>0.061458</td>\n",
       "      <td>123.50</td>\n",
       "      <td>0</td>\n",
       "    </tr>\n",
       "    <tr>\n",
       "      <th>4</th>\n",
       "      <td>2.0</td>\n",
       "      <td>-1.158233</td>\n",
       "      <td>0.877737</td>\n",
       "      <td>1.548718</td>\n",
       "      <td>0.403034</td>\n",
       "      <td>-0.407193</td>\n",
       "      <td>0.095921</td>\n",
       "      <td>0.592941</td>\n",
       "      <td>-0.270533</td>\n",
       "      <td>0.817739</td>\n",
       "      <td>...</td>\n",
       "      <td>-0.009431</td>\n",
       "      <td>0.798278</td>\n",
       "      <td>-0.137458</td>\n",
       "      <td>0.141267</td>\n",
       "      <td>-0.206010</td>\n",
       "      <td>0.502292</td>\n",
       "      <td>0.219422</td>\n",
       "      <td>0.215153</td>\n",
       "      <td>69.99</td>\n",
       "      <td>0</td>\n",
       "    </tr>\n",
       "  </tbody>\n",
       "</table>\n",
       "<p>5 rows × 31 columns</p>\n",
       "</div>"
      ],
      "text/plain": [
       "   Time        V1        V2        V3        V4        V5        V6        V7  \\\n",
       "0   0.0 -1.359807 -0.072781  2.536347  1.378155 -0.338321  0.462388  0.239599   \n",
       "1   0.0  1.191857  0.266151  0.166480  0.448154  0.060018 -0.082361 -0.078803   \n",
       "2   1.0 -1.358354 -1.340163  1.773209  0.379780 -0.503198  1.800499  0.791461   \n",
       "3   1.0 -0.966272 -0.185226  1.792993 -0.863291 -0.010309  1.247203  0.237609   \n",
       "4   2.0 -1.158233  0.877737  1.548718  0.403034 -0.407193  0.095921  0.592941   \n",
       "\n",
       "         V8        V9  ...       V21       V22       V23       V24       V25  \\\n",
       "0  0.098698  0.363787  ... -0.018307  0.277838 -0.110474  0.066928  0.128539   \n",
       "1  0.085102 -0.255425  ... -0.225775 -0.638672  0.101288 -0.339846  0.167170   \n",
       "2  0.247676 -1.514654  ...  0.247998  0.771679  0.909412 -0.689281 -0.327642   \n",
       "3  0.377436 -1.387024  ... -0.108300  0.005274 -0.190321 -1.175575  0.647376   \n",
       "4 -0.270533  0.817739  ... -0.009431  0.798278 -0.137458  0.141267 -0.206010   \n",
       "\n",
       "        V26       V27       V28  Amount  Class  \n",
       "0 -0.189115  0.133558 -0.021053  149.62      0  \n",
       "1  0.125895 -0.008983  0.014724    2.69      0  \n",
       "2 -0.139097 -0.055353 -0.059752  378.66      0  \n",
       "3 -0.221929  0.062723  0.061458  123.50      0  \n",
       "4  0.502292  0.219422  0.215153   69.99      0  \n",
       "\n",
       "[5 rows x 31 columns]"
      ]
     },
     "execution_count": 170,
     "metadata": {},
     "output_type": "execute_result"
    }
   ],
   "source": [
    "# Downloading necessary files\n",
    "filepath = 'C:/Users/user/Documents/Imir/IBM/Data/creditcard.csv'\n",
    "creditcard_df = pd.read_csv(filepath)\n",
    "print(\"There are \" + str(len(creditcard_df)) + \" observations in the credit card fraud dataset.\")\n",
    "print(\"There are \" + str(len(creditcard_df.columns)) + \" variables in the dataset.\")\n",
    "creditcard_df.head(5)"
   ]
  },
  {
   "cell_type": "code",
   "execution_count": 171,
   "id": "7876936f",
   "metadata": {},
   "outputs": [
    {
     "data": {
      "text/html": [
       "<div>\n",
       "<style scoped>\n",
       "    .dataframe tbody tr th:only-of-type {\n",
       "        vertical-align: middle;\n",
       "    }\n",
       "\n",
       "    .dataframe tbody tr th {\n",
       "        vertical-align: top;\n",
       "    }\n",
       "\n",
       "    .dataframe thead th {\n",
       "        text-align: right;\n",
       "    }\n",
       "</style>\n",
       "<table border=\"1\" class=\"dataframe\">\n",
       "  <thead>\n",
       "    <tr style=\"text-align: right;\">\n",
       "      <th></th>\n",
       "      <th>Time</th>\n",
       "      <th>V1</th>\n",
       "      <th>V2</th>\n",
       "      <th>V3</th>\n",
       "      <th>V4</th>\n",
       "      <th>V5</th>\n",
       "      <th>V6</th>\n",
       "      <th>V7</th>\n",
       "      <th>V8</th>\n",
       "      <th>V9</th>\n",
       "      <th>...</th>\n",
       "      <th>V21</th>\n",
       "      <th>V22</th>\n",
       "      <th>V23</th>\n",
       "      <th>V24</th>\n",
       "      <th>V25</th>\n",
       "      <th>V26</th>\n",
       "      <th>V27</th>\n",
       "      <th>V28</th>\n",
       "      <th>Amount</th>\n",
       "      <th>Class</th>\n",
       "    </tr>\n",
       "  </thead>\n",
       "  <tbody>\n",
       "    <tr>\n",
       "      <th>284802</th>\n",
       "      <td>172786.0</td>\n",
       "      <td>-11.881118</td>\n",
       "      <td>10.071785</td>\n",
       "      <td>-9.834783</td>\n",
       "      <td>-2.066656</td>\n",
       "      <td>-5.364473</td>\n",
       "      <td>-2.606837</td>\n",
       "      <td>-4.918215</td>\n",
       "      <td>7.305334</td>\n",
       "      <td>1.914428</td>\n",
       "      <td>...</td>\n",
       "      <td>0.213454</td>\n",
       "      <td>0.111864</td>\n",
       "      <td>1.014480</td>\n",
       "      <td>-0.509348</td>\n",
       "      <td>1.436807</td>\n",
       "      <td>0.250034</td>\n",
       "      <td>0.943651</td>\n",
       "      <td>0.823731</td>\n",
       "      <td>0.77</td>\n",
       "      <td>0</td>\n",
       "    </tr>\n",
       "    <tr>\n",
       "      <th>284803</th>\n",
       "      <td>172787.0</td>\n",
       "      <td>-0.732789</td>\n",
       "      <td>-0.055080</td>\n",
       "      <td>2.035030</td>\n",
       "      <td>-0.738589</td>\n",
       "      <td>0.868229</td>\n",
       "      <td>1.058415</td>\n",
       "      <td>0.024330</td>\n",
       "      <td>0.294869</td>\n",
       "      <td>0.584800</td>\n",
       "      <td>...</td>\n",
       "      <td>0.214205</td>\n",
       "      <td>0.924384</td>\n",
       "      <td>0.012463</td>\n",
       "      <td>-1.016226</td>\n",
       "      <td>-0.606624</td>\n",
       "      <td>-0.395255</td>\n",
       "      <td>0.068472</td>\n",
       "      <td>-0.053527</td>\n",
       "      <td>24.79</td>\n",
       "      <td>0</td>\n",
       "    </tr>\n",
       "    <tr>\n",
       "      <th>284804</th>\n",
       "      <td>172788.0</td>\n",
       "      <td>1.919565</td>\n",
       "      <td>-0.301254</td>\n",
       "      <td>-3.249640</td>\n",
       "      <td>-0.557828</td>\n",
       "      <td>2.630515</td>\n",
       "      <td>3.031260</td>\n",
       "      <td>-0.296827</td>\n",
       "      <td>0.708417</td>\n",
       "      <td>0.432454</td>\n",
       "      <td>...</td>\n",
       "      <td>0.232045</td>\n",
       "      <td>0.578229</td>\n",
       "      <td>-0.037501</td>\n",
       "      <td>0.640134</td>\n",
       "      <td>0.265745</td>\n",
       "      <td>-0.087371</td>\n",
       "      <td>0.004455</td>\n",
       "      <td>-0.026561</td>\n",
       "      <td>67.88</td>\n",
       "      <td>0</td>\n",
       "    </tr>\n",
       "    <tr>\n",
       "      <th>284805</th>\n",
       "      <td>172788.0</td>\n",
       "      <td>-0.240440</td>\n",
       "      <td>0.530483</td>\n",
       "      <td>0.702510</td>\n",
       "      <td>0.689799</td>\n",
       "      <td>-0.377961</td>\n",
       "      <td>0.623708</td>\n",
       "      <td>-0.686180</td>\n",
       "      <td>0.679145</td>\n",
       "      <td>0.392087</td>\n",
       "      <td>...</td>\n",
       "      <td>0.265245</td>\n",
       "      <td>0.800049</td>\n",
       "      <td>-0.163298</td>\n",
       "      <td>0.123205</td>\n",
       "      <td>-0.569159</td>\n",
       "      <td>0.546668</td>\n",
       "      <td>0.108821</td>\n",
       "      <td>0.104533</td>\n",
       "      <td>10.00</td>\n",
       "      <td>0</td>\n",
       "    </tr>\n",
       "    <tr>\n",
       "      <th>284806</th>\n",
       "      <td>172792.0</td>\n",
       "      <td>-0.533413</td>\n",
       "      <td>-0.189733</td>\n",
       "      <td>0.703337</td>\n",
       "      <td>-0.506271</td>\n",
       "      <td>-0.012546</td>\n",
       "      <td>-0.649617</td>\n",
       "      <td>1.577006</td>\n",
       "      <td>-0.414650</td>\n",
       "      <td>0.486180</td>\n",
       "      <td>...</td>\n",
       "      <td>0.261057</td>\n",
       "      <td>0.643078</td>\n",
       "      <td>0.376777</td>\n",
       "      <td>0.008797</td>\n",
       "      <td>-0.473649</td>\n",
       "      <td>-0.818267</td>\n",
       "      <td>-0.002415</td>\n",
       "      <td>0.013649</td>\n",
       "      <td>217.00</td>\n",
       "      <td>0</td>\n",
       "    </tr>\n",
       "  </tbody>\n",
       "</table>\n",
       "<p>5 rows × 31 columns</p>\n",
       "</div>"
      ],
      "text/plain": [
       "            Time         V1         V2        V3        V4        V5  \\\n",
       "284802  172786.0 -11.881118  10.071785 -9.834783 -2.066656 -5.364473   \n",
       "284803  172787.0  -0.732789  -0.055080  2.035030 -0.738589  0.868229   \n",
       "284804  172788.0   1.919565  -0.301254 -3.249640 -0.557828  2.630515   \n",
       "284805  172788.0  -0.240440   0.530483  0.702510  0.689799 -0.377961   \n",
       "284806  172792.0  -0.533413  -0.189733  0.703337 -0.506271 -0.012546   \n",
       "\n",
       "              V6        V7        V8        V9  ...       V21       V22  \\\n",
       "284802 -2.606837 -4.918215  7.305334  1.914428  ...  0.213454  0.111864   \n",
       "284803  1.058415  0.024330  0.294869  0.584800  ...  0.214205  0.924384   \n",
       "284804  3.031260 -0.296827  0.708417  0.432454  ...  0.232045  0.578229   \n",
       "284805  0.623708 -0.686180  0.679145  0.392087  ...  0.265245  0.800049   \n",
       "284806 -0.649617  1.577006 -0.414650  0.486180  ...  0.261057  0.643078   \n",
       "\n",
       "             V23       V24       V25       V26       V27       V28  Amount  \\\n",
       "284802  1.014480 -0.509348  1.436807  0.250034  0.943651  0.823731    0.77   \n",
       "284803  0.012463 -1.016226 -0.606624 -0.395255  0.068472 -0.053527   24.79   \n",
       "284804 -0.037501  0.640134  0.265745 -0.087371  0.004455 -0.026561   67.88   \n",
       "284805 -0.163298  0.123205 -0.569159  0.546668  0.108821  0.104533   10.00   \n",
       "284806  0.376777  0.008797 -0.473649 -0.818267 -0.002415  0.013649  217.00   \n",
       "\n",
       "        Class  \n",
       "284802      0  \n",
       "284803      0  \n",
       "284804      0  \n",
       "284805      0  \n",
       "284806      0  \n",
       "\n",
       "[5 rows x 31 columns]"
      ]
     },
     "execution_count": 171,
     "metadata": {},
     "output_type": "execute_result"
    }
   ],
   "source": [
    "# Checking the last 5 rows of the dataset\n",
    "creditcard_df.tail(5)"
   ]
  },
  {
   "cell_type": "code",
   "execution_count": 172,
   "id": "0247e9a2",
   "metadata": {},
   "outputs": [
    {
     "name": "stdout",
     "output_type": "stream",
     "text": [
      "<class 'pandas.core.frame.DataFrame'>\n",
      "RangeIndex: 284807 entries, 0 to 284806\n",
      "Data columns (total 31 columns):\n",
      " #   Column  Non-Null Count   Dtype  \n",
      "---  ------  --------------   -----  \n",
      " 0   Time    284807 non-null  float64\n",
      " 1   V1      284807 non-null  float64\n",
      " 2   V2      284807 non-null  float64\n",
      " 3   V3      284807 non-null  float64\n",
      " 4   V4      284807 non-null  float64\n",
      " 5   V5      284807 non-null  float64\n",
      " 6   V6      284807 non-null  float64\n",
      " 7   V7      284807 non-null  float64\n",
      " 8   V8      284807 non-null  float64\n",
      " 9   V9      284807 non-null  float64\n",
      " 10  V10     284807 non-null  float64\n",
      " 11  V11     284807 non-null  float64\n",
      " 12  V12     284807 non-null  float64\n",
      " 13  V13     284807 non-null  float64\n",
      " 14  V14     284807 non-null  float64\n",
      " 15  V15     284807 non-null  float64\n",
      " 16  V16     284807 non-null  float64\n",
      " 17  V17     284807 non-null  float64\n",
      " 18  V18     284807 non-null  float64\n",
      " 19  V19     284807 non-null  float64\n",
      " 20  V20     284807 non-null  float64\n",
      " 21  V21     284807 non-null  float64\n",
      " 22  V22     284807 non-null  float64\n",
      " 23  V23     284807 non-null  float64\n",
      " 24  V24     284807 non-null  float64\n",
      " 25  V25     284807 non-null  float64\n",
      " 26  V26     284807 non-null  float64\n",
      " 27  V27     284807 non-null  float64\n",
      " 28  V28     284807 non-null  float64\n",
      " 29  Amount  284807 non-null  float64\n",
      " 30  Class   284807 non-null  int64  \n",
      "dtypes: float64(30), int64(1)\n",
      "memory usage: 67.4 MB\n"
     ]
    }
   ],
   "source": [
    "# Getting summary on dataframe\n",
    "creditcard_df.info()"
   ]
  },
  {
   "cell_type": "code",
   "execution_count": 173,
   "id": "acb448f6",
   "metadata": {},
   "outputs": [
    {
     "data": {
      "text/plain": [
       "Time      0\n",
       "V1        0\n",
       "V2        0\n",
       "V3        0\n",
       "V4        0\n",
       "V5        0\n",
       "V6        0\n",
       "V7        0\n",
       "V8        0\n",
       "V9        0\n",
       "V10       0\n",
       "V11       0\n",
       "V12       0\n",
       "V13       0\n",
       "V14       0\n",
       "V15       0\n",
       "V16       0\n",
       "V17       0\n",
       "V18       0\n",
       "V19       0\n",
       "V20       0\n",
       "V21       0\n",
       "V22       0\n",
       "V23       0\n",
       "V24       0\n",
       "V25       0\n",
       "V26       0\n",
       "V27       0\n",
       "V28       0\n",
       "Amount    0\n",
       "Class     0\n",
       "dtype: int64"
      ]
     },
     "execution_count": 173,
     "metadata": {},
     "output_type": "execute_result"
    }
   ],
   "source": [
    "# Checking for null values\n",
    "creditcard_df.isna().sum()"
   ]
  },
  {
   "cell_type": "code",
   "execution_count": 174,
   "id": "cd47e2a7",
   "metadata": {},
   "outputs": [
    {
     "data": {
      "image/png": "[encoded data removed]",
      "text/plain": [
       "<Figure size 1000x600 with 1 Axes>"
      ]
     },
     "metadata": {},
     "output_type": "display_data"
    }
   ],
   "source": [
    "# Create a boxplot for the 'Amount' column in the creditcard_df DataFrame\n",
    "plt.figure(figsize=(10, 6))\n",
    "\n",
    "plt.boxplot(creditcard_df['Amount'], labels=['Transaction Amounts'])\n",
    "\n",
    "plt.ylabel('Transaction Amount ($)')\n",
    "plt.title('Boxplot of Credit Card Transaction Amounts')\n",
    "plt.grid(True)\n",
    "plt.show()"
   ]
  },
  {
   "cell_type": "markdown",
   "id": "08f640fc",
   "metadata": {},
   "source": [
    "## Data preprocessing"
   ]
  },
  {
   "cell_type": "code",
   "execution_count": 175,
   "id": "91ce82a0",
   "metadata": {},
   "outputs": [],
   "source": [
    "# Extract leading digits from transaction amounts\n",
    "def get_leading_digit(amount):\n",
    "    if amount > 0:\n",
    "        return int(str(amount).lstrip('0.')[0])\n",
    "    else:\n",
    "        return None"
   ]
  },
  {
   "cell_type": "code",
   "execution_count": 176,
   "id": "031c8dd5",
   "metadata": {},
   "outputs": [],
   "source": [
    "# Apply the function to the \"Amount\" column\n",
    "creditcard_df['LeadingDigit'] = creditcard_df['Amount'].apply(get_leading_digit)"
   ]
  },
  {
   "cell_type": "code",
   "execution_count": 177,
   "id": "d74d3835",
   "metadata": {},
   "outputs": [
    {
     "data": {
      "text/html": [
       "<div>\n",
       "<style scoped>\n",
       "    .dataframe tbody tr th:only-of-type {\n",
       "        vertical-align: middle;\n",
       "    }\n",
       "\n",
       "    .dataframe tbody tr th {\n",
       "        vertical-align: top;\n",
       "    }\n",
       "\n",
       "    .dataframe thead th {\n",
       "        text-align: right;\n",
       "    }\n",
       "</style>\n",
       "<table border=\"1\" class=\"dataframe\">\n",
       "  <thead>\n",
       "    <tr style=\"text-align: right;\">\n",
       "      <th></th>\n",
       "      <th>Time</th>\n",
       "      <th>V1</th>\n",
       "      <th>V2</th>\n",
       "      <th>V3</th>\n",
       "      <th>V4</th>\n",
       "      <th>V5</th>\n",
       "      <th>V6</th>\n",
       "      <th>V7</th>\n",
       "      <th>V8</th>\n",
       "      <th>V9</th>\n",
       "      <th>...</th>\n",
       "      <th>V22</th>\n",
       "      <th>V23</th>\n",
       "      <th>V24</th>\n",
       "      <th>V25</th>\n",
       "      <th>V26</th>\n",
       "      <th>V27</th>\n",
       "      <th>V28</th>\n",
       "      <th>Amount</th>\n",
       "      <th>Class</th>\n",
       "      <th>LeadingDigit</th>\n",
       "    </tr>\n",
       "  </thead>\n",
       "  <tbody>\n",
       "    <tr>\n",
       "      <th>0</th>\n",
       "      <td>0.0</td>\n",
       "      <td>-1.359807</td>\n",
       "      <td>-0.072781</td>\n",
       "      <td>2.536347</td>\n",
       "      <td>1.378155</td>\n",
       "      <td>-0.338321</td>\n",
       "      <td>0.462388</td>\n",
       "      <td>0.239599</td>\n",
       "      <td>0.098698</td>\n",
       "      <td>0.363787</td>\n",
       "      <td>...</td>\n",
       "      <td>0.277838</td>\n",
       "      <td>-0.110474</td>\n",
       "      <td>0.066928</td>\n",
       "      <td>0.128539</td>\n",
       "      <td>-0.189115</td>\n",
       "      <td>0.133558</td>\n",
       "      <td>-0.021053</td>\n",
       "      <td>149.62</td>\n",
       "      <td>0</td>\n",
       "      <td>1.0</td>\n",
       "    </tr>\n",
       "    <tr>\n",
       "      <th>1</th>\n",
       "      <td>0.0</td>\n",
       "      <td>1.191857</td>\n",
       "      <td>0.266151</td>\n",
       "      <td>0.166480</td>\n",
       "      <td>0.448154</td>\n",
       "      <td>0.060018</td>\n",
       "      <td>-0.082361</td>\n",
       "      <td>-0.078803</td>\n",
       "      <td>0.085102</td>\n",
       "      <td>-0.255425</td>\n",
       "      <td>...</td>\n",
       "      <td>-0.638672</td>\n",
       "      <td>0.101288</td>\n",
       "      <td>-0.339846</td>\n",
       "      <td>0.167170</td>\n",
       "      <td>0.125895</td>\n",
       "      <td>-0.008983</td>\n",
       "      <td>0.014724</td>\n",
       "      <td>2.69</td>\n",
       "      <td>0</td>\n",
       "      <td>2.0</td>\n",
       "    </tr>\n",
       "    <tr>\n",
       "      <th>2</th>\n",
       "      <td>1.0</td>\n",
       "      <td>-1.358354</td>\n",
       "      <td>-1.340163</td>\n",
       "      <td>1.773209</td>\n",
       "      <td>0.379780</td>\n",
       "      <td>-0.503198</td>\n",
       "      <td>1.800499</td>\n",
       "      <td>0.791461</td>\n",
       "      <td>0.247676</td>\n",
       "      <td>-1.514654</td>\n",
       "      <td>...</td>\n",
       "      <td>0.771679</td>\n",
       "      <td>0.909412</td>\n",
       "      <td>-0.689281</td>\n",
       "      <td>-0.327642</td>\n",
       "      <td>-0.139097</td>\n",
       "      <td>-0.055353</td>\n",
       "      <td>-0.059752</td>\n",
       "      <td>378.66</td>\n",
       "      <td>0</td>\n",
       "      <td>3.0</td>\n",
       "    </tr>\n",
       "    <tr>\n",
       "      <th>3</th>\n",
       "      <td>1.0</td>\n",
       "      <td>-0.966272</td>\n",
       "      <td>-0.185226</td>\n",
       "      <td>1.792993</td>\n",
       "      <td>-0.863291</td>\n",
       "      <td>-0.010309</td>\n",
       "      <td>1.247203</td>\n",
       "      <td>0.237609</td>\n",
       "      <td>0.377436</td>\n",
       "      <td>-1.387024</td>\n",
       "      <td>...</td>\n",
       "      <td>0.005274</td>\n",
       "      <td>-0.190321</td>\n",
       "      <td>-1.175575</td>\n",
       "      <td>0.647376</td>\n",
       "      <td>-0.221929</td>\n",
       "      <td>0.062723</td>\n",
       "      <td>0.061458</td>\n",
       "      <td>123.50</td>\n",
       "      <td>0</td>\n",
       "      <td>1.0</td>\n",
       "    </tr>\n",
       "    <tr>\n",
       "      <th>4</th>\n",
       "      <td>2.0</td>\n",
       "      <td>-1.158233</td>\n",
       "      <td>0.877737</td>\n",
       "      <td>1.548718</td>\n",
       "      <td>0.403034</td>\n",
       "      <td>-0.407193</td>\n",
       "      <td>0.095921</td>\n",
       "      <td>0.592941</td>\n",
       "      <td>-0.270533</td>\n",
       "      <td>0.817739</td>\n",
       "      <td>...</td>\n",
       "      <td>0.798278</td>\n",
       "      <td>-0.137458</td>\n",
       "      <td>0.141267</td>\n",
       "      <td>-0.206010</td>\n",
       "      <td>0.502292</td>\n",
       "      <td>0.219422</td>\n",
       "      <td>0.215153</td>\n",
       "      <td>69.99</td>\n",
       "      <td>0</td>\n",
       "      <td>6.0</td>\n",
       "    </tr>\n",
       "  </tbody>\n",
       "</table>\n",
       "<p>5 rows × 32 columns</p>\n",
       "</div>"
      ],
      "text/plain": [
       "   Time        V1        V2        V3        V4        V5        V6        V7  \\\n",
       "0   0.0 -1.359807 -0.072781  2.536347  1.378155 -0.338321  0.462388  0.239599   \n",
       "1   0.0  1.191857  0.266151  0.166480  0.448154  0.060018 -0.082361 -0.078803   \n",
       "2   1.0 -1.358354 -1.340163  1.773209  0.379780 -0.503198  1.800499  0.791461   \n",
       "3   1.0 -0.966272 -0.185226  1.792993 -0.863291 -0.010309  1.247203  0.237609   \n",
       "4   2.0 -1.158233  0.877737  1.548718  0.403034 -0.407193  0.095921  0.592941   \n",
       "\n",
       "         V8        V9  ...       V22       V23       V24       V25       V26  \\\n",
       "0  0.098698  0.363787  ...  0.277838 -0.110474  0.066928  0.128539 -0.189115   \n",
       "1  0.085102 -0.255425  ... -0.638672  0.101288 -0.339846  0.167170  0.125895   \n",
       "2  0.247676 -1.514654  ...  0.771679  0.909412 -0.689281 -0.327642 -0.139097   \n",
       "3  0.377436 -1.387024  ...  0.005274 -0.190321 -1.175575  0.647376 -0.221929   \n",
       "4 -0.270533  0.817739  ...  0.798278 -0.137458  0.141267 -0.206010  0.502292   \n",
       "\n",
       "        V27       V28  Amount  Class  LeadingDigit  \n",
       "0  0.133558 -0.021053  149.62      0           1.0  \n",
       "1 -0.008983  0.014724    2.69      0           2.0  \n",
       "2 -0.055353 -0.059752  378.66      0           3.0  \n",
       "3  0.062723  0.061458  123.50      0           1.0  \n",
       "4  0.219422  0.215153   69.99      0           6.0  \n",
       "\n",
       "[5 rows x 32 columns]"
      ]
     },
     "execution_count": 177,
     "metadata": {},
     "output_type": "execute_result"
    }
   ],
   "source": [
    "# Checking dataframe\n",
    "creditcard_df.head(5)"
   ]
  },
  {
   "cell_type": "code",
   "execution_count": 178,
   "id": "a6a10710",
   "metadata": {},
   "outputs": [
    {
     "data": {
      "text/plain": [
       "Time               0\n",
       "V1                 0\n",
       "V2                 0\n",
       "V3                 0\n",
       "V4                 0\n",
       "V5                 0\n",
       "V6                 0\n",
       "V7                 0\n",
       "V8                 0\n",
       "V9                 0\n",
       "V10                0\n",
       "V11                0\n",
       "V12                0\n",
       "V13                0\n",
       "V14                0\n",
       "V15                0\n",
       "V16                0\n",
       "V17                0\n",
       "V18                0\n",
       "V19                0\n",
       "V20                0\n",
       "V21                0\n",
       "V22                0\n",
       "V23                0\n",
       "V24                0\n",
       "V25                0\n",
       "V26                0\n",
       "V27                0\n",
       "V28                0\n",
       "Amount             0\n",
       "Class              0\n",
       "LeadingDigit    1825\n",
       "dtype: int64"
      ]
     },
     "execution_count": 178,
     "metadata": {},
     "output_type": "execute_result"
    }
   ],
   "source": [
    "# Checking for null values\n",
    "creditcard_df.isna().sum()"
   ]
  },
  {
   "cell_type": "code",
   "execution_count": 179,
   "id": "e4c6cf25",
   "metadata": {},
   "outputs": [],
   "source": [
    "# Remove rows with None values in the LeadingDigit column\n",
    "creditcard_df = creditcard_df.dropna(subset=['LeadingDigit'])"
   ]
  },
  {
   "cell_type": "code",
   "execution_count": 180,
   "id": "bbcc1288",
   "metadata": {},
   "outputs": [
    {
     "name": "stdout",
     "output_type": "stream",
     "text": [
      "1.0    101507\n",
      "2.0     42575\n",
      "3.0     28017\n",
      "4.0     23373\n",
      "5.0     18667\n",
      "6.0     14433\n",
      "7.0     18827\n",
      "8.0     17841\n",
      "9.0     17742\n",
      "Name: LeadingDigit, dtype: int64\n"
     ]
    }
   ],
   "source": [
    "# Calculate the frequency of each leading digit\n",
    "first_digit_counts = creditcard_df['LeadingDigit'].value_counts().sort_index()\n",
    "print(first_digit_counts)"
   ]
  },
  {
   "cell_type": "code",
   "execution_count": 181,
   "id": "50d27921",
   "metadata": {},
   "outputs": [
    {
     "name": "stdout",
     "output_type": "stream",
     "text": [
      "Benford's Expected Frequencies (as percentages):\n",
      "Digit 1: 30.1%\n",
      "Digit 2: 17.6%\n",
      "Digit 3: 12.5%\n",
      "Digit 4: 9.7%\n",
      "Digit 5: 7.9%\n",
      "Digit 6: 6.7%\n",
      "Digit 7: 5.8%\n",
      "Digit 8: 5.1%\n",
      "Digit 9: 4.6%\n"
     ]
    }
   ],
   "source": [
    "# Benford's expected frequencies in decimal format\n",
    "first_benford_frequencies = [0.301, 0.176, 0.125, 0.097, 0.079, 0.067, 0.058, 0.051, 0.046]\n",
    "first_benford_percentages = [f\"{freq * 100:.1f}%\" for freq in first_benford_frequencies]\n",
    "\n",
    "print(\"Benford's Expected Frequencies (as percentages):\")\n",
    "for i, percentage in enumerate(first_benford_percentages):\n",
    "    print(f\"Digit {i + 1}: {percentage}\")"
   ]
  },
  {
   "cell_type": "code",
   "execution_count": 182,
   "id": "b57b9683",
   "metadata": {},
   "outputs": [
    {
     "name": "stdout",
     "output_type": "stream",
     "text": [
      "1.0    35.87%\n",
      "2.0    15.05%\n",
      "3.0      9.9%\n",
      "4.0     8.26%\n",
      "5.0      6.6%\n",
      "6.0      5.1%\n",
      "7.0     6.65%\n",
      "8.0      6.3%\n",
      "9.0     6.27%\n",
      "Name: LeadingDigit, dtype: object\n"
     ]
    }
   ],
   "source": [
    "# Normalize the counts to get percentages\n",
    "total_transactions = len(creditcard_df)\n",
    "first_observed_frequencies = (first_digit_counts / total_transactions) * 100  \n",
    "first_observed_frequencies = first_observed_frequencies.round(2).astype(str) + '%'\n",
    "\n",
    "print(first_observed_frequencies)"
   ]
  },
  {
   "cell_type": "code",
   "execution_count": 183,
   "id": "a47a4592",
   "metadata": {},
   "outputs": [
    {
     "name": "stdout",
     "output_type": "stream",
     "text": [
      "   First Digit Benford's Law for 1st Digit Actual Frequencies Deviations, %\n",
      "0            1                       30.1%              35.9%          5.8%\n",
      "1            2                       17.6%              15.1%         -2.5%\n",
      "2            3                       12.5%               9.9%         -2.6%\n",
      "3            4                        9.7%               8.3%         -1.4%\n",
      "4            5                        7.9%               6.6%         -1.3%\n",
      "5            6                        6.7%               5.1%         -1.6%\n",
      "6            7                        5.8%               6.7%          0.9%\n",
      "7            8                        5.1%               6.3%          1.2%\n",
      "8            9                        4.6%               6.3%          1.7%\n"
     ]
    }
   ],
   "source": [
    "# Creating dataframe\n",
    "first_benford_frequencies = [30.1, 17.6, 12.5, 9.7, 7.9, 6.7, 5.8, 5.1, 4.6] \n",
    "first_observed_frequencies = [35.9, 15.1, 9.9, 8.3, 6.6, 5.1, 6.7, 6.3, 6.3] \n",
    "\n",
    "first_digits = [1, 2, 3, 4, 5, 6, 7, 8, 9]  \n",
    "\n",
    "first_df = pd.DataFrame({\n",
    "    \"First Digit\": first_digits,\n",
    "    \"Benford's Law for 1st Digit\": first_benford_frequencies,\n",
    "    \"Actual Frequencies\": first_observed_frequencies,\n",
    "})\n",
    "\n",
    "first_df[\"Deviations, %\"] = (first_df[\"Actual Frequencies\"] - \n",
    "                             first_df[\"Benford's Law for 1st Digit\"]).round(2)\n",
    "\n",
    "first_df[\"Benford's Law for 1st Digit\"] = first_df[\"Benford's Law for 1st Digit\"].astype(str) + '%'\n",
    "first_df[\"Actual Frequencies\"] = first_df[\"Actual Frequencies\"].astype(str) + '%'\n",
    "first_df[\"Deviations, %\"] = first_df[\"Deviations, %\"].astype(str) + '%'\n",
    "\n",
    "print(first_df)"
   ]
  },
  {
   "cell_type": "code",
   "execution_count": 184,
   "id": "9bc1a32f",
   "metadata": {},
   "outputs": [
    {
     "data": {
      "image/png": "[encoded data removed]",
      "text/plain": [
       "<Figure size 1000x600 with 1 Axes>"
      ]
     },
     "metadata": {},
     "output_type": "display_data"
    }
   ],
   "source": [
    "# Observed frequencies for the first digit (1-9)\n",
    "first_observed_frequencies = pd.Series(\n",
    "    [35.9, 15.1, 9.9, 8.3, 6.6, 5.1, 6.7, 6.3, 6.3], \n",
    "    index=np.arange(1, 10)  # Indexing from 1 to 9 for digits 1 to 9\n",
    ")\n",
    "\n",
    "\n",
    "first_benford_frequencies = np.array([30.1, 17.6, 12.5, 9.7, 7.9, 6.7, 5.8, 5.1, 4.6])\n",
    "\n",
    "\n",
    "plt.figure(figsize=(10, 6))\n",
    "\n",
    "\n",
    "plt.bar(first_observed_frequencies.index, first_observed_frequencies.values, alpha=0.6, label='Observed Frequencies')\n",
    "\n",
    "plt.plot(first_observed_frequencies.index, first_benford_frequencies, color='red', marker='o', linestyle='-', linewidth=2, label=\"Benford's Law Expected Frequencies\")\n",
    "\n",
    "for x, y in zip(first_observed_frequencies.index, first_benford_frequencies):\n",
    "    plt.text(x, y + 0.5, f'{y:.1f}%', fontsize=9, ha='center', va='bottom', color='red')\n",
    "\n",
    "plt.xlabel('First Digit')\n",
    "plt.ylabel('Frequency (%)')\n",
    "plt.title('First Digit Distribution - Observed vs Benford\\'s Law')\n",
    "plt.xticks(np.arange(1, 10))  # Set x-ticks for digits 1-9\n",
    "plt.legend()\n",
    "plt.grid(True)\n",
    "plt.show()\n"
   ]
  },
  {
   "cell_type": "code",
   "execution_count": 185,
   "id": "11a148e8",
   "metadata": {},
   "outputs": [
    {
     "data": {
      "image/png": "[encoded data removed]",
      "text/plain": [
       "<Figure size 640x480 with 1 Axes>"
      ]
     },
     "metadata": {},
     "output_type": "display_data"
    }
   ],
   "source": [
    "# Plotting line graph for observed frequencies\n",
    "plt.plot(np.arange(1, 10), first_observed_frequencies, color='blue', marker='o', linestyle='-', linewidth=2, label='Observed Frequencies')\n",
    "\n",
    "plt.plot(np.arange(1, 10), first_benford_frequencies, color='red', marker='o', linestyle='-', linewidth=2, label=\"Benford's Law Expected Frequencies\")\n",
    "\n",
    "\n",
    "for x, y in zip(range(10), first_benford_frequencies):\n",
    "    plt.text(x, y + 0.5, f'{y:.1f}%', fontsize=9, ha='center', va='bottom', color='red')\n",
    "\n",
    "plt.xlabel('Second Digit')\n",
    "plt.ylabel('Frequency (%)')\n",
    "plt.title('First Digit Distribution - Observed vs Benford\\'s Law')\n",
    "plt.xticks(np.arange(1, 10))  # Set x-ticks for digits 0-9\n",
    "plt.legend()\n",
    "plt.grid(True)\n",
    "plt.show()"
   ]
  },
  {
   "cell_type": "markdown",
   "id": "c5e2f9a3",
   "metadata": {},
   "source": [
    "### Findings:\n",
    "There are deviations for first digit as overuse of digit 1 about 5.8% and digits 8 and 9 about 1.2% and 1.9%. Also digits 2, 3, 4, 5 and 6 do not follow Benford's distribution."
   ]
  },
  {
   "cell_type": "markdown",
   "id": "75dc53d9",
   "metadata": {},
   "source": [
    "## Statistical Tests"
   ]
  },
  {
   "cell_type": "markdown",
   "id": "20b267d2",
   "metadata": {},
   "source": [
    "### Hypothesis formulation\n",
    "Null Hypothesis, H0: There is no significant difference between the observed frequencies and the expected frequencies. \n",
    "\n",
    "Alternative Hypothesis, H1: There is a significant difference between the observed frequencies and the expected frequencies. \n",
    "Alpha is set as 0.05."
   ]
  },
  {
   "cell_type": "markdown",
   "id": "958e8b90",
   "metadata": {},
   "source": [
    "#### Chi Squared Test"
   ]
  },
  {
   "cell_type": "code",
   "execution_count": 186,
   "id": "be4540db",
   "metadata": {},
   "outputs": [
    {
     "name": "stdout",
     "output_type": "stream",
     "text": [
      "Chi-Squared Statistic: 3.85\n",
      "P-Value: 0.8707\n"
     ]
    }
   ],
   "source": [
    "# Applying Chi Squared Test\n",
    "first_benford_frequencies = np.array([30.1, 17.6, 12.5, 9.7, 7.9, 6.7, 5.8, 5.1, 4.6]) \n",
    "first_observed_frequencies = np.array([35.9, 15.1, 9.9, 8.3, 6.6, 5.1, 6.7, 6.3, 6.3]) \n",
    "\n",
    "observed_total = np.sum(first_observed_frequencies)\n",
    "expected_total = np.sum(first_benford_frequencies)\n",
    "\n",
    "first_observed_frequencies_normalized = first_observed_frequencies / observed_total * expected_total\n",
    "\n",
    "chi2_stat, p_value = chisquare(first_observed_frequencies_normalized, first_benford_frequencies)\n",
    "\n",
    "print(f\"Chi-Squared Statistic: {chi2_stat:.2f}\")\n",
    "print(f\"P-Value: {p_value:.4f}\")"
   ]
  },
  {
   "cell_type": "markdown",
   "id": "b8ceebd5",
   "metadata": {},
   "source": [
    "### Findings:\n",
    "P-value for the Chi-Squared test is 0.8707 or p-value > 0.05 and we failed to reject the Null Hypothesis, that means that there is no significant evidence to suggest that the observed distribution of first digits differs from what is expected under Benford's Law. \n",
    "In other words, the data likely adheres to Benford's Law."
   ]
  },
  {
   "cell_type": "markdown",
   "id": "2e6567a9",
   "metadata": {},
   "source": [
    "#### The Kolmogorov-Smirnov (K-S) test"
   ]
  },
  {
   "cell_type": "code",
   "execution_count": 187,
   "id": "153262f5",
   "metadata": {},
   "outputs": [
    {
     "name": "stdout",
     "output_type": "stream",
     "text": [
      "Kolmogorov-Smirnov Statistic: 0.1111\n",
      "P-Value: 1.0000\n"
     ]
    }
   ],
   "source": [
    "# Applying the Kolmogorov-Smirnov test\n",
    "first_observed_probabilities = first_observed_frequencies / first_observed_frequencies.sum()\n",
    "first_benford_probabilities = first_benford_frequencies / first_benford_frequencies.sum()\n",
    "\n",
    "observed_cdf = np.cumsum(first_observed_probabilities)\n",
    "benford_cdf = np.cumsum(first_benford_probabilities)\n",
    "\n",
    "ks_statistic, p_value = stats.ks_2samp(observed_cdf, benford_cdf)\n",
    "\n",
    "print(f\"Kolmogorov-Smirnov Statistic: {ks_statistic:.4f}\")\n",
    "print(f\"P-Value: {p_value:.4f}\")"
   ]
  },
  {
   "cell_type": "markdown",
   "id": "e84965cf",
   "metadata": {},
   "source": [
    "### Findings:\n",
    "P-value for the the Kolmogorov-Smirnov (K-S) test is 1.0 or p-value > 0.05 and we failed to reject the Null Hypothesis, that means that there is no significant evidence to suggest that the observed distribution of first digits differs from what is expected under Benford's Law. \n",
    "In other words, the data likely adheres to Benford's Law."
   ]
  },
  {
   "cell_type": "markdown",
   "id": "2f95fbe8",
   "metadata": {},
   "source": [
    "#### Z-statistics"
   ]
  },
  {
   "cell_type": "markdown",
   "id": "b16a2869",
   "metadata": {},
   "source": [
    "Significance level (alpha) for Z-statistics is set as 0.05 or 1.96.\n",
    "That means that 95% of actual frequencies should confirm the Benford's Law."
   ]
  },
  {
   "cell_type": "code",
   "execution_count": 188,
   "id": "a35d21e4",
   "metadata": {},
   "outputs": [
    {
     "name": "stdout",
     "output_type": "stream",
     "text": [
      "   First Digit  Benford's Law for 1st Digit  Actual Frequencies  Z-Statistic\n",
      "0            1                        0.301               0.359     0.049506\n",
      "1            2                        0.176               0.151     0.017948\n",
      "2            3                        0.125               0.099     0.019876\n",
      "3            4                        0.097               0.083     0.008519\n",
      "4            5                        0.079               0.066     0.008005\n",
      "5            6                        0.067               0.051     0.011370\n",
      "6            7                        0.058               0.067     0.004671\n",
      "7            8                        0.051               0.063     0.007926\n",
      "8            9                        0.046               0.063     0.013121\n"
     ]
    }
   ],
   "source": [
    "# Calculating Z-statistics\n",
    "\n",
    "first_df[\"Benford's Law for 1st Digit\"] = first_df[\"Benford's Law for 1st Digit\"].astype(str).str.rstrip('%').astype(float) / 100\n",
    "first_df['Actual Frequencies'] = first_df['Actual Frequencies'].astype(str).str.rstrip('%').astype(float) / 100\n",
    "\n",
    "N = 9  \n",
    "\n",
    "first_df['Z-Statistic'] = (np.abs(first_df['Actual Frequencies'] - first_df[\"Benford's Law for 1st Digit\"]) -\n",
    "                            (1 / (2 * N)) * np.sqrt(first_df[\"Benford's Law for 1st Digit\"] * (1 - first_df[\"Benford's Law for 1st Digit\"]) / N))\n",
    "\n",
    "print(first_df[['First Digit', 'Benford\\'s Law for 1st Digit', 'Actual Frequencies', 'Z-Statistic']])"
   ]
  },
  {
   "cell_type": "markdown",
   "id": "576e6662",
   "metadata": {},
   "source": [
    "### Findings:\n",
    "All observations from the Z-statistics are less than 1.96 and are conform to Benford's Law."
   ]
  },
  {
   "cell_type": "markdown",
   "id": "71fdfeee",
   "metadata": {},
   "source": [
    "## Data preprocessing"
   ]
  },
  {
   "cell_type": "code",
   "execution_count": 189,
   "id": "1b31d032",
   "metadata": {},
   "outputs": [],
   "source": [
    "# Extracting second digit from transaction amounts\n",
    "def get_second_digit(amount):\n",
    "    amount_str = str(amount).lstrip('0.')\n",
    "    amount_str = ''.join(filter(str.isdigit, amount_str))\n",
    "    if len(amount_str) >= 2:\n",
    "        return int(amount_str[1])  \n",
    "    else:\n",
    "        return None"
   ]
  },
  {
   "cell_type": "code",
   "execution_count": 190,
   "id": "fbbc2b5d",
   "metadata": {},
   "outputs": [],
   "source": [
    "# Applying the function to the \"Amount\" column\n",
    "creditcard_df['SecondDigit'] = creditcard_df['Amount'].apply(get_second_digit)"
   ]
  },
  {
   "cell_type": "code",
   "execution_count": 191,
   "id": "893ebbf4",
   "metadata": {},
   "outputs": [
    {
     "data": {
      "text/html": [
       "<div>\n",
       "<style scoped>\n",
       "    .dataframe tbody tr th:only-of-type {\n",
       "        vertical-align: middle;\n",
       "    }\n",
       "\n",
       "    .dataframe tbody tr th {\n",
       "        vertical-align: top;\n",
       "    }\n",
       "\n",
       "    .dataframe thead th {\n",
       "        text-align: right;\n",
       "    }\n",
       "</style>\n",
       "<table border=\"1\" class=\"dataframe\">\n",
       "  <thead>\n",
       "    <tr style=\"text-align: right;\">\n",
       "      <th></th>\n",
       "      <th>Time</th>\n",
       "      <th>V1</th>\n",
       "      <th>V2</th>\n",
       "      <th>V3</th>\n",
       "      <th>V4</th>\n",
       "      <th>V5</th>\n",
       "      <th>V6</th>\n",
       "      <th>V7</th>\n",
       "      <th>V8</th>\n",
       "      <th>V9</th>\n",
       "      <th>...</th>\n",
       "      <th>V23</th>\n",
       "      <th>V24</th>\n",
       "      <th>V25</th>\n",
       "      <th>V26</th>\n",
       "      <th>V27</th>\n",
       "      <th>V28</th>\n",
       "      <th>Amount</th>\n",
       "      <th>Class</th>\n",
       "      <th>LeadingDigit</th>\n",
       "      <th>SecondDigit</th>\n",
       "    </tr>\n",
       "  </thead>\n",
       "  <tbody>\n",
       "    <tr>\n",
       "      <th>0</th>\n",
       "      <td>0.0</td>\n",
       "      <td>-1.359807</td>\n",
       "      <td>-0.072781</td>\n",
       "      <td>2.536347</td>\n",
       "      <td>1.378155</td>\n",
       "      <td>-0.338321</td>\n",
       "      <td>0.462388</td>\n",
       "      <td>0.239599</td>\n",
       "      <td>0.098698</td>\n",
       "      <td>0.363787</td>\n",
       "      <td>...</td>\n",
       "      <td>-0.110474</td>\n",
       "      <td>0.066928</td>\n",
       "      <td>0.128539</td>\n",
       "      <td>-0.189115</td>\n",
       "      <td>0.133558</td>\n",
       "      <td>-0.021053</td>\n",
       "      <td>149.62</td>\n",
       "      <td>0</td>\n",
       "      <td>1.0</td>\n",
       "      <td>4.0</td>\n",
       "    </tr>\n",
       "    <tr>\n",
       "      <th>1</th>\n",
       "      <td>0.0</td>\n",
       "      <td>1.191857</td>\n",
       "      <td>0.266151</td>\n",
       "      <td>0.166480</td>\n",
       "      <td>0.448154</td>\n",
       "      <td>0.060018</td>\n",
       "      <td>-0.082361</td>\n",
       "      <td>-0.078803</td>\n",
       "      <td>0.085102</td>\n",
       "      <td>-0.255425</td>\n",
       "      <td>...</td>\n",
       "      <td>0.101288</td>\n",
       "      <td>-0.339846</td>\n",
       "      <td>0.167170</td>\n",
       "      <td>0.125895</td>\n",
       "      <td>-0.008983</td>\n",
       "      <td>0.014724</td>\n",
       "      <td>2.69</td>\n",
       "      <td>0</td>\n",
       "      <td>2.0</td>\n",
       "      <td>6.0</td>\n",
       "    </tr>\n",
       "    <tr>\n",
       "      <th>2</th>\n",
       "      <td>1.0</td>\n",
       "      <td>-1.358354</td>\n",
       "      <td>-1.340163</td>\n",
       "      <td>1.773209</td>\n",
       "      <td>0.379780</td>\n",
       "      <td>-0.503198</td>\n",
       "      <td>1.800499</td>\n",
       "      <td>0.791461</td>\n",
       "      <td>0.247676</td>\n",
       "      <td>-1.514654</td>\n",
       "      <td>...</td>\n",
       "      <td>0.909412</td>\n",
       "      <td>-0.689281</td>\n",
       "      <td>-0.327642</td>\n",
       "      <td>-0.139097</td>\n",
       "      <td>-0.055353</td>\n",
       "      <td>-0.059752</td>\n",
       "      <td>378.66</td>\n",
       "      <td>0</td>\n",
       "      <td>3.0</td>\n",
       "      <td>7.0</td>\n",
       "    </tr>\n",
       "    <tr>\n",
       "      <th>3</th>\n",
       "      <td>1.0</td>\n",
       "      <td>-0.966272</td>\n",
       "      <td>-0.185226</td>\n",
       "      <td>1.792993</td>\n",
       "      <td>-0.863291</td>\n",
       "      <td>-0.010309</td>\n",
       "      <td>1.247203</td>\n",
       "      <td>0.237609</td>\n",
       "      <td>0.377436</td>\n",
       "      <td>-1.387024</td>\n",
       "      <td>...</td>\n",
       "      <td>-0.190321</td>\n",
       "      <td>-1.175575</td>\n",
       "      <td>0.647376</td>\n",
       "      <td>-0.221929</td>\n",
       "      <td>0.062723</td>\n",
       "      <td>0.061458</td>\n",
       "      <td>123.50</td>\n",
       "      <td>0</td>\n",
       "      <td>1.0</td>\n",
       "      <td>2.0</td>\n",
       "    </tr>\n",
       "    <tr>\n",
       "      <th>4</th>\n",
       "      <td>2.0</td>\n",
       "      <td>-1.158233</td>\n",
       "      <td>0.877737</td>\n",
       "      <td>1.548718</td>\n",
       "      <td>0.403034</td>\n",
       "      <td>-0.407193</td>\n",
       "      <td>0.095921</td>\n",
       "      <td>0.592941</td>\n",
       "      <td>-0.270533</td>\n",
       "      <td>0.817739</td>\n",
       "      <td>...</td>\n",
       "      <td>-0.137458</td>\n",
       "      <td>0.141267</td>\n",
       "      <td>-0.206010</td>\n",
       "      <td>0.502292</td>\n",
       "      <td>0.219422</td>\n",
       "      <td>0.215153</td>\n",
       "      <td>69.99</td>\n",
       "      <td>0</td>\n",
       "      <td>6.0</td>\n",
       "      <td>9.0</td>\n",
       "    </tr>\n",
       "  </tbody>\n",
       "</table>\n",
       "<p>5 rows × 33 columns</p>\n",
       "</div>"
      ],
      "text/plain": [
       "   Time        V1        V2        V3        V4        V5        V6        V7  \\\n",
       "0   0.0 -1.359807 -0.072781  2.536347  1.378155 -0.338321  0.462388  0.239599   \n",
       "1   0.0  1.191857  0.266151  0.166480  0.448154  0.060018 -0.082361 -0.078803   \n",
       "2   1.0 -1.358354 -1.340163  1.773209  0.379780 -0.503198  1.800499  0.791461   \n",
       "3   1.0 -0.966272 -0.185226  1.792993 -0.863291 -0.010309  1.247203  0.237609   \n",
       "4   2.0 -1.158233  0.877737  1.548718  0.403034 -0.407193  0.095921  0.592941   \n",
       "\n",
       "         V8        V9  ...       V23       V24       V25       V26       V27  \\\n",
       "0  0.098698  0.363787  ... -0.110474  0.066928  0.128539 -0.189115  0.133558   \n",
       "1  0.085102 -0.255425  ...  0.101288 -0.339846  0.167170  0.125895 -0.008983   \n",
       "2  0.247676 -1.514654  ...  0.909412 -0.689281 -0.327642 -0.139097 -0.055353   \n",
       "3  0.377436 -1.387024  ... -0.190321 -1.175575  0.647376 -0.221929  0.062723   \n",
       "4 -0.270533  0.817739  ... -0.137458  0.141267 -0.206010  0.502292  0.219422   \n",
       "\n",
       "        V28  Amount  Class  LeadingDigit  SecondDigit  \n",
       "0 -0.021053  149.62      0           1.0          4.0  \n",
       "1  0.014724    2.69      0           2.0          6.0  \n",
       "2 -0.059752  378.66      0           3.0          7.0  \n",
       "3  0.061458  123.50      0           1.0          2.0  \n",
       "4  0.215153   69.99      0           6.0          9.0  \n",
       "\n",
       "[5 rows x 33 columns]"
      ]
     },
     "execution_count": 191,
     "metadata": {},
     "output_type": "execute_result"
    }
   ],
   "source": [
    "# Checking dataframe\n",
    "creditcard_df.head()"
   ]
  },
  {
   "cell_type": "code",
   "execution_count": 192,
   "id": "57a105a0",
   "metadata": {},
   "outputs": [
    {
     "data": {
      "text/plain": [
       "Time               0\n",
       "V1                 0\n",
       "V2                 0\n",
       "V3                 0\n",
       "V4                 0\n",
       "V5                 0\n",
       "V6                 0\n",
       "V7                 0\n",
       "V8                 0\n",
       "V9                 0\n",
       "V10                0\n",
       "V11                0\n",
       "V12                0\n",
       "V13                0\n",
       "V14                0\n",
       "V15                0\n",
       "V16                0\n",
       "V17                0\n",
       "V18                0\n",
       "V19                0\n",
       "V20                0\n",
       "V21                0\n",
       "V22                0\n",
       "V23                0\n",
       "V24                0\n",
       "V25                0\n",
       "V26                0\n",
       "V27                0\n",
       "V28                0\n",
       "Amount             0\n",
       "Class              0\n",
       "LeadingDigit       0\n",
       "SecondDigit     1117\n",
       "dtype: int64"
      ]
     },
     "execution_count": 192,
     "metadata": {},
     "output_type": "execute_result"
    }
   ],
   "source": [
    "# Checking for null values\n",
    "creditcard_df.isna().sum()"
   ]
  },
  {
   "cell_type": "code",
   "execution_count": 193,
   "id": "95bd3d31",
   "metadata": {},
   "outputs": [],
   "source": [
    "# Removing rows with None values in the SecondDigit column\n",
    "creditcard_df = creditcard_df.dropna(subset=['SecondDigit'])"
   ]
  },
  {
   "cell_type": "code",
   "execution_count": 194,
   "id": "4d46b587",
   "metadata": {},
   "outputs": [
    {
     "name": "stdout",
     "output_type": "stream",
     "text": [
      "0.0    49714\n",
      "1.0    22583\n",
      "2.0    25348\n",
      "3.0    17695\n",
      "4.0    24305\n",
      "5.0    29625\n",
      "6.0    20826\n",
      "7.0    21713\n",
      "8.0    16443\n",
      "9.0    53613\n",
      "Name: SecondDigit, dtype: int64\n"
     ]
    }
   ],
   "source": [
    "# Calculating the frequency of each second digit (0-9)\n",
    "second_digit_counts = creditcard_df['SecondDigit'].value_counts().sort_index()\n",
    "print(second_digit_counts)"
   ]
  },
  {
   "cell_type": "code",
   "execution_count": 195,
   "id": "7db3df0a",
   "metadata": {},
   "outputs": [
    {
     "name": "stdout",
     "output_type": "stream",
     "text": [
      "0.0    0.176375\n",
      "1.0    0.080120\n",
      "2.0    0.089930\n",
      "3.0    0.062778\n",
      "4.0    0.086229\n",
      "5.0    0.105104\n",
      "6.0    0.073886\n",
      "7.0    0.077033\n",
      "8.0    0.058336\n",
      "9.0    0.190208\n",
      "Name: SecondDigit, dtype: float64\n"
     ]
    }
   ],
   "source": [
    "# Normalizing the counts to get percentages\n",
    "second_total_transactions = len(creditcard_df)\n",
    "second_observed_frequencies = second_digit_counts / second_total_transactions\n",
    "print(second_observed_frequencies)"
   ]
  },
  {
   "cell_type": "code",
   "execution_count": 196,
   "id": "63568b04",
   "metadata": {},
   "outputs": [
    {
     "name": "stdout",
     "output_type": "stream",
     "text": [
      "Benford's Expected Frequencies for Digits (0-9) (as percentages):\n",
      "Digit 0: 12.0%\n",
      "Digit 1: 11.4%\n",
      "Digit 2: 10.9%\n",
      "Digit 3: 10.4%\n",
      "Digit 4: 10.0%\n",
      "Digit 5: 9.7%\n",
      "Digit 6: 9.3%\n",
      "Digit 7: 9.0%\n",
      "Digit 8: 8.8%\n",
      "Digit 9: 8.5%\n"
     ]
    }
   ],
   "source": [
    "# Benford's expected frequencies with percentage signs \n",
    "second_benford_frequencies = [0.120, 0.114, 0.109, 0.104, 0.100, 0.097, 0.093, 0.090, 0.088, 0.085]\n",
    "second_benford_percentages = [f\"{freq*100:.1f}%\" for freq in second_benford_frequencies]\n",
    "\n",
    "print(\"Benford's Expected Frequencies for Digits (0-9) (as percentages):\")\n",
    "for i, percentage in enumerate(second_benford_percentages):\n",
    "    print(f\"Digit {i}: {percentage}\")"
   ]
  },
  {
   "cell_type": "code",
   "execution_count": 197,
   "id": "eca9d8fe",
   "metadata": {},
   "outputs": [
    {
     "name": "stdout",
     "output_type": "stream",
     "text": [
      "   Second Digit Benford's Law for 2nd Digit Actual Frequencies Deviations, %\n",
      "0             0                       12.0%              17.6%          5.6%\n",
      "1             1                       11.4%               8.0%         -3.4%\n",
      "2             2                       10.9%               9.0%         -1.9%\n",
      "3             3                       10.4%               6.3%         -4.1%\n",
      "4             4                       10.0%               8.6%         -1.4%\n",
      "5             5                        9.7%              10.5%          0.8%\n",
      "6             6                        9.3%               7.4%         -1.9%\n",
      "7             7                        9.0%               7.7%         -1.3%\n",
      "8             8                        8.8%               5.8%         -3.0%\n",
      "9             9                        8.5%              19.0%         10.5%\n"
     ]
    }
   ],
   "source": [
    "# Creating dataframe\n",
    "second_benford_frequencies = [12.0, 11.4, 10.9, 10.4, 10.0, 9.7, 9.3, 9.0, 8.8, 8.5]  \n",
    "second_observed_frequencies = [17.6, 8.0, 9.0, 6.3, 8.6, 10.5, 7.4, 7.7, 5.8, 19.0]  \n",
    "\n",
    "second_digits = [0, 1, 2, 3, 4, 5, 6, 7, 8, 9]  \n",
    "\n",
    "second_df = pd.DataFrame({\n",
    "    \"Second Digit\": second_digits,\n",
    "    \"Benford's Law for 2nd Digit\": second_benford_frequencies,\n",
    "    \"Actual Frequencies\": second_observed_frequencies,\n",
    "})\n",
    "\n",
    "\n",
    "second_df[\"Deviations, %\"] = (second_df[\"Actual Frequencies\"] - \n",
    "                             second_df[\"Benford's Law for 2nd Digit\"]).round(2)\n",
    "\n",
    "second_df[\"Benford's Law for 2nd Digit\"] = second_df[\"Benford's Law for 2nd Digit\"].astype(str) + '%'\n",
    "second_df[\"Actual Frequencies\"] = second_df[\"Actual Frequencies\"].astype(str) + '%'\n",
    "second_df[\"Deviations, %\"] = second_df[\"Deviations, %\"].astype(str) + '%'\n",
    "\n",
    "print(second_df)"
   ]
  },
  {
   "cell_type": "code",
   "execution_count": 198,
   "id": "10733043",
   "metadata": {
    "scrolled": true
   },
   "outputs": [
    {
     "data": {
      "image/png": "[encoded data removed]",
      "text/plain": [
       "<Figure size 1000x600 with 1 Axes>"
      ]
     },
     "metadata": {},
     "output_type": "display_data"
    }
   ],
   "source": [
    "# Ploting bar chart\n",
    "second_observed_frequencies = pd.Series(\n",
    "    [17.6, 8.0, 9.0, 6.3, 8.6, 10.5, 7.4, 7.7, 5.8, 19.0], \n",
    "    index=np.arange(0, 10)  # Second digit from 0 to 9\n",
    ")\n",
    "\n",
    "second_benford_frequencies = np.array([12.0, 11.4, 10.9, 10.4, 10.0, 9.7, 9.3, 9.0, 8.8, 8.5])\n",
    "\n",
    "fig, ax = plt.subplots(figsize=(10, 6))\n",
    "\n",
    "ax.bar(np.arange(0, 10), second_observed_frequencies, alpha=0.6, label='Observed Frequencies')\n",
    "\n",
    "ax.plot(np.arange(0, 10), second_benford_frequencies, color='red', marker='o', linestyle='-', linewidth=2, label=\"Benford's Law Expected Frequencies\")\n",
    "\n",
    "for x, y in zip(range(10), second_benford_frequencies):\n",
    "    ax.text(x, y + 0.5, f'{y:.1f}%', fontsize=9, ha='center', va='bottom', color='red')\n",
    "\n",
    "ax.set_xlabel('Second Digit')\n",
    "ax.set_ylabel('Frequency (%)')\n",
    "ax.set_title('Second Digit Distribution - Observed vs Benford\\'s Law')\n",
    "ax.set_xticks(np.arange(0, 10)) \n",
    "ax.legend()\n",
    "ax.grid(True)\n",
    "\n",
    "\n",
    "plt.tight_layout() \n",
    "plt.show()"
   ]
  },
  {
   "cell_type": "code",
   "execution_count": 199,
   "id": "904f7f04",
   "metadata": {
    "scrolled": true
   },
   "outputs": [
    {
     "data": {
      "image/png": "[encoded data removed]",
      "text/plain": [
       "<Figure size 640x480 with 1 Axes>"
      ]
     },
     "metadata": {},
     "output_type": "display_data"
    }
   ],
   "source": [
    "# Ploting line graph for observed frequencies\n",
    "plt.plot(np.arange(0, 10), second_observed_frequencies, color='blue', marker='o', linestyle='-', linewidth=2, label='Observed Frequencies')\n",
    "plt.plot(np.arange(0, 10), second_benford_frequencies, color='red', marker='o', linestyle='-', linewidth=2, label=\"Benford's Law Expected Frequencies\")\n",
    "\n",
    "for x, y in zip(range(10), second_benford_frequencies):\n",
    "    plt.text(x, y + 0.5, f'{y:.1f}%', fontsize=9, ha='center', va='bottom', color='red')\n",
    "\n",
    "plt.xlabel('Second Digit')\n",
    "plt.ylabel('Frequency (%)')\n",
    "plt.title('Second Digit Distribution - Observed vs Benford\\'s Law')\n",
    "plt.xticks(np.arange(0, 10))  \n",
    "plt.legend()\n",
    "plt.grid(True)\n",
    "plt.show()"
   ]
  },
  {
   "cell_type": "markdown",
   "id": "ed27c484",
   "metadata": {},
   "source": [
    "### Findings:\n",
    "There are significant deviations for digits 0 and 9 as 5.6% and 10.5% which should be examined further. Also digits 1, 2, 3, 6 and 7 appear underused."
   ]
  },
  {
   "cell_type": "markdown",
   "id": "7365d7ce",
   "metadata": {},
   "source": [
    "## Statistical Tests"
   ]
  },
  {
   "cell_type": "markdown",
   "id": "83b5cd38",
   "metadata": {},
   "source": [
    "### Hypothesis formulation\n",
    "Null Hypothesis, H0: There is no significant difference between the observed frequencies and the expected frequencies. \n",
    "\n",
    "Alternative Hypothesis, H1: There is a significant difference between the observed frequencies and the expected frequencies. \n",
    "\n",
    "Alpha is set as 0.05."
   ]
  },
  {
   "cell_type": "markdown",
   "id": "51884213",
   "metadata": {},
   "source": [
    "#### Chi - Squared Test"
   ]
  },
  {
   "cell_type": "code",
   "execution_count": 200,
   "id": "00c75de4",
   "metadata": {},
   "outputs": [
    {
     "name": "stdout",
     "output_type": "stream",
     "text": [
      "Chi-Squared Statistic: 20.45\n",
      "P-Value: 0.0153\n"
     ]
    }
   ],
   "source": [
    "# Applying the Chi-Squared test\n",
    "second_benford_frequencies = np.array([12.0, 11.4, 10.9, 10.4, 10.0, 9.7, 9.3, 9.0, 8.8, 8.5]) \n",
    "second_observed_frequencies = np.array([17.6, 8.0, 9.0, 6.3, 8.6, 10.5, 7.4, 7.7, 5.8, 19.0]) \n",
    "\n",
    "second_observed_total = np.sum(second_observed_frequencies)\n",
    "second_expected_total = np.sum(second_benford_frequencies)\n",
    "\n",
    "second_observed_frequencies_normalized = second_observed_frequencies / second_observed_total * second_expected_total\n",
    "\n",
    "chi2_stat, p_value = chisquare(second_observed_frequencies_normalized, second_benford_frequencies)\n",
    "\n",
    "print(f\"Chi-Squared Statistic: {chi2_stat:.2f}\")\n",
    "print(f\"P-Value: {p_value:.4f}\")"
   ]
  },
  {
   "cell_type": "markdown",
   "id": "dc4d508a",
   "metadata": {},
   "source": [
    "### Findings:\n",
    "P-value for the Chi-Squared test is 0.015 or p-value < 0.05 and we can reject the Null Hypothesis, that means that there is a statistically significant difference between the observed frequencies of the leading digits in your dataset and the expected frequencies according to Benford's Law.\n",
    "In other words, the data unlikely adheres to Benford's Law."
   ]
  },
  {
   "cell_type": "markdown",
   "id": "d61caf1f",
   "metadata": {},
   "source": [
    "#### The Kolmogorov-Smirnov (K-S) test"
   ]
  },
  {
   "cell_type": "code",
   "execution_count": 201,
   "id": "48804ac6",
   "metadata": {},
   "outputs": [
    {
     "name": "stdout",
     "output_type": "stream",
     "text": [
      "Kolmogorov-Smirnov Statistic: 0.2000\n",
      "P-Value: 0.9945\n"
     ]
    }
   ],
   "source": [
    "# Applying the Kolmogorov-Smirnov test\n",
    "second_observed_probabilities = second_observed_frequencies / second_observed_frequencies.sum()\n",
    "second_benford_probabilities = second_benford_frequencies / second_benford_frequencies.sum()\n",
    "\n",
    "observed_cdf = np.cumsum(second_observed_probabilities)\n",
    "benford_cdf = np.cumsum(second_benford_probabilities)\n",
    "\n",
    "ks_statistic, p_value = stats.ks_2samp(observed_cdf, benford_cdf)\n",
    "\n",
    "print(f\"Kolmogorov-Smirnov Statistic: {ks_statistic:.4f}\")\n",
    "print(f\"P-Value: {p_value:.4f}\")"
   ]
  },
  {
   "cell_type": "markdown",
   "id": "08f796aa",
   "metadata": {},
   "source": [
    "### Findings:\n",
    "P-value for the the Kolmogorov-Smirnov (K-S) test is 0.9945 or p-value > 0.05 and we failed to reject the Null Hypothesis, that means that there is no significant evidence to suggest that the observed distribution of first digits differs from what is expected under Benford's Law. \n",
    "In other words, the data likely adheres to Benford's Law."
   ]
  },
  {
   "cell_type": "markdown",
   "id": "c3968061",
   "metadata": {},
   "source": [
    "#### Z-statistics"
   ]
  },
  {
   "cell_type": "markdown",
   "id": "742415d5",
   "metadata": {},
   "source": [
    "Significance level (alpha) for Z-statistics is set as 0.05 or 1.96.\n",
    "That means that 95% of actual frequencies should confirm the Benford's Law."
   ]
  },
  {
   "cell_type": "code",
   "execution_count": 202,
   "id": "ac66b162",
   "metadata": {},
   "outputs": [
    {
     "name": "stdout",
     "output_type": "stream",
     "text": [
      "   Second Digit  Benford's Law for 2nd Digit  Actual Frequencies  Z-Statistic\n",
      "0             0                        0.120               0.176     0.049982\n",
      "1             1                        0.114               0.080     0.028115\n",
      "2             2                        0.109               0.090     0.013229\n",
      "3             3                        0.104               0.063     0.035347\n",
      "4             4                        0.100               0.086     0.008444\n",
      "5             5                        0.097               0.105     0.002519\n",
      "6             6                        0.093               0.074     0.013622\n",
      "7             7                        0.090               0.077     0.007700\n",
      "8             8                        0.088               0.058     0.024754\n",
      "9             9                        0.085               0.190     0.099836\n"
     ]
    }
   ],
   "source": [
    "# Calculating Z-statistics\n",
    "second_df[\"Benford's Law for 2nd Digit\"] = second_df[\"Benford's Law for 2nd Digit\"].astype(str).str.rstrip('%').astype(float) / 100\n",
    "second_df['Actual Frequencies'] = second_df['Actual Frequencies'].astype(str).str.rstrip('%').astype(float) / 100\n",
    "\n",
    "N = 9 \n",
    "\n",
    "second_df['Z-Statistic'] = (np.abs(second_df['Actual Frequencies'] - second_df[\"Benford's Law for 2nd Digit\"]) -\n",
    "                            (1 / (2 * N)) * np.sqrt(second_df[\"Benford's Law for 2nd Digit\"] * (1 - second_df[\"Benford's Law for 2nd Digit\"]) / N))\n",
    "\n",
    "print(second_df[['Second Digit', 'Benford\\'s Law for 2nd Digit', 'Actual Frequencies', 'Z-Statistic']])"
   ]
  },
  {
   "cell_type": "markdown",
   "id": "f1c6a2d4",
   "metadata": {},
   "source": [
    "### Findings:\n",
    "All observations from the Z-statistics are less than 1.96 and are conform to Benford's Law."
   ]
  },
  {
   "cell_type": "markdown",
   "id": "77098e75",
   "metadata": {},
   "source": [
    "# 2. Payments transactions"
   ]
  },
  {
   "cell_type": "code",
   "execution_count": 203,
   "id": "c1408919",
   "metadata": {},
   "outputs": [
    {
     "name": "stdout",
     "output_type": "stream",
     "text": [
      "There are 281865 observations in payment fraud dataset.\n",
      "There are 33 variables in the dataset.\n"
     ]
    },
    {
     "data": {
      "text/html": [
       "<div>\n",
       "<style scoped>\n",
       "    .dataframe tbody tr th:only-of-type {\n",
       "        vertical-align: middle;\n",
       "    }\n",
       "\n",
       "    .dataframe tbody tr th {\n",
       "        vertical-align: top;\n",
       "    }\n",
       "\n",
       "    .dataframe thead th {\n",
       "        text-align: right;\n",
       "    }\n",
       "</style>\n",
       "<table border=\"1\" class=\"dataframe\">\n",
       "  <thead>\n",
       "    <tr style=\"text-align: right;\">\n",
       "      <th></th>\n",
       "      <th>step</th>\n",
       "      <th>type</th>\n",
       "      <th>amount</th>\n",
       "      <th>nameOrig</th>\n",
       "      <th>oldbalanceOrg</th>\n",
       "      <th>newbalanceOrig</th>\n",
       "      <th>nameDest</th>\n",
       "      <th>oldbalanceDest</th>\n",
       "      <th>newbalanceDest</th>\n",
       "      <th>isFraud</th>\n",
       "      <th>isFlaggedFraud</th>\n",
       "    </tr>\n",
       "  </thead>\n",
       "  <tbody>\n",
       "    <tr>\n",
       "      <th>0</th>\n",
       "      <td>1</td>\n",
       "      <td>PAYMENT</td>\n",
       "      <td>9839.64</td>\n",
       "      <td>C1231006815</td>\n",
       "      <td>170136.0</td>\n",
       "      <td>160296.36</td>\n",
       "      <td>M1979787155</td>\n",
       "      <td>0.0</td>\n",
       "      <td>0.0</td>\n",
       "      <td>0</td>\n",
       "      <td>0</td>\n",
       "    </tr>\n",
       "    <tr>\n",
       "      <th>1</th>\n",
       "      <td>1</td>\n",
       "      <td>PAYMENT</td>\n",
       "      <td>1864.28</td>\n",
       "      <td>C1666544295</td>\n",
       "      <td>21249.0</td>\n",
       "      <td>19384.72</td>\n",
       "      <td>M2044282225</td>\n",
       "      <td>0.0</td>\n",
       "      <td>0.0</td>\n",
       "      <td>0</td>\n",
       "      <td>0</td>\n",
       "    </tr>\n",
       "    <tr>\n",
       "      <th>2</th>\n",
       "      <td>1</td>\n",
       "      <td>TRANSFER</td>\n",
       "      <td>181.00</td>\n",
       "      <td>C1305486145</td>\n",
       "      <td>181.0</td>\n",
       "      <td>0.00</td>\n",
       "      <td>C553264065</td>\n",
       "      <td>0.0</td>\n",
       "      <td>0.0</td>\n",
       "      <td>1</td>\n",
       "      <td>0</td>\n",
       "    </tr>\n",
       "    <tr>\n",
       "      <th>3</th>\n",
       "      <td>1</td>\n",
       "      <td>CASH_OUT</td>\n",
       "      <td>181.00</td>\n",
       "      <td>C840083671</td>\n",
       "      <td>181.0</td>\n",
       "      <td>0.00</td>\n",
       "      <td>C38997010</td>\n",
       "      <td>21182.0</td>\n",
       "      <td>0.0</td>\n",
       "      <td>1</td>\n",
       "      <td>0</td>\n",
       "    </tr>\n",
       "    <tr>\n",
       "      <th>4</th>\n",
       "      <td>1</td>\n",
       "      <td>PAYMENT</td>\n",
       "      <td>11668.14</td>\n",
       "      <td>C2048537720</td>\n",
       "      <td>41554.0</td>\n",
       "      <td>29885.86</td>\n",
       "      <td>M1230701703</td>\n",
       "      <td>0.0</td>\n",
       "      <td>0.0</td>\n",
       "      <td>0</td>\n",
       "      <td>0</td>\n",
       "    </tr>\n",
       "  </tbody>\n",
       "</table>\n",
       "</div>"
      ],
      "text/plain": [
       "   step      type    amount     nameOrig  oldbalanceOrg  newbalanceOrig  \\\n",
       "0     1   PAYMENT   9839.64  C1231006815       170136.0       160296.36   \n",
       "1     1   PAYMENT   1864.28  C1666544295        21249.0        19384.72   \n",
       "2     1  TRANSFER    181.00  C1305486145          181.0            0.00   \n",
       "3     1  CASH_OUT    181.00   C840083671          181.0            0.00   \n",
       "4     1   PAYMENT  11668.14  C2048537720        41554.0        29885.86   \n",
       "\n",
       "      nameDest  oldbalanceDest  newbalanceDest  isFraud  isFlaggedFraud  \n",
       "0  M1979787155             0.0             0.0        0               0  \n",
       "1  M2044282225             0.0             0.0        0               0  \n",
       "2   C553264065             0.0             0.0        1               0  \n",
       "3    C38997010         21182.0             0.0        1               0  \n",
       "4  M1230701703             0.0             0.0        0               0  "
      ]
     },
     "execution_count": 203,
     "metadata": {},
     "output_type": "execute_result"
    }
   ],
   "source": [
    "# Downloading necessary files\n",
    "filepath = 'C:/Users/user/Documents/Imir/My Data Analysis Projects/Data/PS_20174392719_1491204439457_log.csv'\n",
    "payment_df = pd.read_csv(filepath)\n",
    "print(\"There are \" + str(len(creditcard_df)) + \" observations in payment fraud dataset.\")\n",
    "print(\"There are \" + str(len(creditcard_df.columns)) + \" variables in the dataset.\")\n",
    "payment_df.head(5)"
   ]
  },
  {
   "cell_type": "code",
   "execution_count": 204,
   "id": "32dd0be9",
   "metadata": {},
   "outputs": [
    {
     "data": {
      "text/html": [
       "<div>\n",
       "<style scoped>\n",
       "    .dataframe tbody tr th:only-of-type {\n",
       "        vertical-align: middle;\n",
       "    }\n",
       "\n",
       "    .dataframe tbody tr th {\n",
       "        vertical-align: top;\n",
       "    }\n",
       "\n",
       "    .dataframe thead th {\n",
       "        text-align: right;\n",
       "    }\n",
       "</style>\n",
       "<table border=\"1\" class=\"dataframe\">\n",
       "  <thead>\n",
       "    <tr style=\"text-align: right;\">\n",
       "      <th></th>\n",
       "      <th>step</th>\n",
       "      <th>type</th>\n",
       "      <th>amount</th>\n",
       "      <th>nameOrig</th>\n",
       "      <th>oldbalanceOrg</th>\n",
       "      <th>newbalanceOrig</th>\n",
       "      <th>nameDest</th>\n",
       "      <th>oldbalanceDest</th>\n",
       "      <th>newbalanceDest</th>\n",
       "      <th>isFraud</th>\n",
       "      <th>isFlaggedFraud</th>\n",
       "    </tr>\n",
       "  </thead>\n",
       "  <tbody>\n",
       "    <tr>\n",
       "      <th>6362615</th>\n",
       "      <td>743</td>\n",
       "      <td>CASH_OUT</td>\n",
       "      <td>339682.13</td>\n",
       "      <td>C786484425</td>\n",
       "      <td>339682.13</td>\n",
       "      <td>0.0</td>\n",
       "      <td>C776919290</td>\n",
       "      <td>0.00</td>\n",
       "      <td>339682.13</td>\n",
       "      <td>1</td>\n",
       "      <td>0</td>\n",
       "    </tr>\n",
       "    <tr>\n",
       "      <th>6362616</th>\n",
       "      <td>743</td>\n",
       "      <td>TRANSFER</td>\n",
       "      <td>6311409.28</td>\n",
       "      <td>C1529008245</td>\n",
       "      <td>6311409.28</td>\n",
       "      <td>0.0</td>\n",
       "      <td>C1881841831</td>\n",
       "      <td>0.00</td>\n",
       "      <td>0.00</td>\n",
       "      <td>1</td>\n",
       "      <td>0</td>\n",
       "    </tr>\n",
       "    <tr>\n",
       "      <th>6362617</th>\n",
       "      <td>743</td>\n",
       "      <td>CASH_OUT</td>\n",
       "      <td>6311409.28</td>\n",
       "      <td>C1162922333</td>\n",
       "      <td>6311409.28</td>\n",
       "      <td>0.0</td>\n",
       "      <td>C1365125890</td>\n",
       "      <td>68488.84</td>\n",
       "      <td>6379898.11</td>\n",
       "      <td>1</td>\n",
       "      <td>0</td>\n",
       "    </tr>\n",
       "    <tr>\n",
       "      <th>6362618</th>\n",
       "      <td>743</td>\n",
       "      <td>TRANSFER</td>\n",
       "      <td>850002.52</td>\n",
       "      <td>C1685995037</td>\n",
       "      <td>850002.52</td>\n",
       "      <td>0.0</td>\n",
       "      <td>C2080388513</td>\n",
       "      <td>0.00</td>\n",
       "      <td>0.00</td>\n",
       "      <td>1</td>\n",
       "      <td>0</td>\n",
       "    </tr>\n",
       "    <tr>\n",
       "      <th>6362619</th>\n",
       "      <td>743</td>\n",
       "      <td>CASH_OUT</td>\n",
       "      <td>850002.52</td>\n",
       "      <td>C1280323807</td>\n",
       "      <td>850002.52</td>\n",
       "      <td>0.0</td>\n",
       "      <td>C873221189</td>\n",
       "      <td>6510099.11</td>\n",
       "      <td>7360101.63</td>\n",
       "      <td>1</td>\n",
       "      <td>0</td>\n",
       "    </tr>\n",
       "  </tbody>\n",
       "</table>\n",
       "</div>"
      ],
      "text/plain": [
       "         step      type      amount     nameOrig  oldbalanceOrg  \\\n",
       "6362615   743  CASH_OUT   339682.13   C786484425      339682.13   \n",
       "6362616   743  TRANSFER  6311409.28  C1529008245     6311409.28   \n",
       "6362617   743  CASH_OUT  6311409.28  C1162922333     6311409.28   \n",
       "6362618   743  TRANSFER   850002.52  C1685995037      850002.52   \n",
       "6362619   743  CASH_OUT   850002.52  C1280323807      850002.52   \n",
       "\n",
       "         newbalanceOrig     nameDest  oldbalanceDest  newbalanceDest  isFraud  \\\n",
       "6362615             0.0   C776919290            0.00       339682.13        1   \n",
       "6362616             0.0  C1881841831            0.00            0.00        1   \n",
       "6362617             0.0  C1365125890        68488.84      6379898.11        1   \n",
       "6362618             0.0  C2080388513            0.00            0.00        1   \n",
       "6362619             0.0   C873221189      6510099.11      7360101.63        1   \n",
       "\n",
       "         isFlaggedFraud  \n",
       "6362615               0  \n",
       "6362616               0  \n",
       "6362617               0  \n",
       "6362618               0  \n",
       "6362619               0  "
      ]
     },
     "execution_count": 204,
     "metadata": {},
     "output_type": "execute_result"
    }
   ],
   "source": [
    "# Checking the last 5 rows of the dataset\n",
    "payment_df.tail(5)"
   ]
  },
  {
   "cell_type": "code",
   "execution_count": 205,
   "id": "de82650d",
   "metadata": {},
   "outputs": [
    {
     "name": "stdout",
     "output_type": "stream",
     "text": [
      "<class 'pandas.core.frame.DataFrame'>\n",
      "RangeIndex: 6362620 entries, 0 to 6362619\n",
      "Data columns (total 11 columns):\n",
      " #   Column          Dtype  \n",
      "---  ------          -----  \n",
      " 0   step            int64  \n",
      " 1   type            object \n",
      " 2   amount          float64\n",
      " 3   nameOrig        object \n",
      " 4   oldbalanceOrg   float64\n",
      " 5   newbalanceOrig  float64\n",
      " 6   nameDest        object \n",
      " 7   oldbalanceDest  float64\n",
      " 8   newbalanceDest  float64\n",
      " 9   isFraud         int64  \n",
      " 10  isFlaggedFraud  int64  \n",
      "dtypes: float64(5), int64(3), object(3)\n",
      "memory usage: 534.0+ MB\n"
     ]
    }
   ],
   "source": [
    "# Getting summary on dataframe\n",
    "payment_df.info()"
   ]
  },
  {
   "cell_type": "code",
   "execution_count": 206,
   "id": "9d80b7fe",
   "metadata": {},
   "outputs": [
    {
     "data": {
      "text/plain": [
       "step              0\n",
       "type              0\n",
       "amount            0\n",
       "nameOrig          0\n",
       "oldbalanceOrg     0\n",
       "newbalanceOrig    0\n",
       "nameDest          0\n",
       "oldbalanceDest    0\n",
       "newbalanceDest    0\n",
       "isFraud           0\n",
       "isFlaggedFraud    0\n",
       "dtype: int64"
      ]
     },
     "execution_count": 206,
     "metadata": {},
     "output_type": "execute_result"
    }
   ],
   "source": [
    "# Checking for null values\n",
    "payment_df.isna().sum()"
   ]
  },
  {
   "cell_type": "code",
   "execution_count": 207,
   "id": "fc5f94dd",
   "metadata": {},
   "outputs": [
    {
     "data": {
      "image/png": "[encoded data removed]",
      "text/plain": [
       "<Figure size 1000x600 with 1 Axes>"
      ]
     },
     "metadata": {},
     "output_type": "display_data"
    }
   ],
   "source": [
    "# Ploting box plot\n",
    "payment_df['Amount_thousands'] = payment_df['amount'] / 1000\n",
    "plt.figure(figsize=(10, 6))\n",
    "\n",
    "plt.boxplot(payment_df['Amount_thousands'], labels=['Payment Amounts (Thousands USD)'])\n",
    "\n",
    "plt.ylabel('Payment Amount (Thousands USD)')\n",
    "plt.title('Boxplot of Payment Amounts (in Thousands USD)')\n",
    "plt.grid(True)\n",
    "plt.show()"
   ]
  },
  {
   "cell_type": "markdown",
   "id": "9b1a05c6",
   "metadata": {},
   "source": [
    "## Data preprocessing"
   ]
  },
  {
   "cell_type": "code",
   "execution_count": 208,
   "id": "ff24aa48",
   "metadata": {},
   "outputs": [],
   "source": [
    "# Extracting leading digits from payments amounts\n",
    "def get_leading_digit(amount):\n",
    "    if amount > 0:\n",
    "        return int(str(amount).lstrip('0.')[0])\n",
    "    else:\n",
    "        return None"
   ]
  },
  {
   "cell_type": "code",
   "execution_count": 209,
   "id": "ab458644",
   "metadata": {},
   "outputs": [],
   "source": [
    "# Applying the function to the \"Amount\" column\n",
    "payment_df['LeadingDigit'] = payment_df['amount'].apply(get_leading_digit)"
   ]
  },
  {
   "cell_type": "code",
   "execution_count": 210,
   "id": "0faef3d2",
   "metadata": {},
   "outputs": [
    {
     "data": {
      "text/html": [
       "<div>\n",
       "<style scoped>\n",
       "    .dataframe tbody tr th:only-of-type {\n",
       "        vertical-align: middle;\n",
       "    }\n",
       "\n",
       "    .dataframe tbody tr th {\n",
       "        vertical-align: top;\n",
       "    }\n",
       "\n",
       "    .dataframe thead th {\n",
       "        text-align: right;\n",
       "    }\n",
       "</style>\n",
       "<table border=\"1\" class=\"dataframe\">\n",
       "  <thead>\n",
       "    <tr style=\"text-align: right;\">\n",
       "      <th></th>\n",
       "      <th>step</th>\n",
       "      <th>type</th>\n",
       "      <th>amount</th>\n",
       "      <th>nameOrig</th>\n",
       "      <th>oldbalanceOrg</th>\n",
       "      <th>newbalanceOrig</th>\n",
       "      <th>nameDest</th>\n",
       "      <th>oldbalanceDest</th>\n",
       "      <th>newbalanceDest</th>\n",
       "      <th>isFraud</th>\n",
       "      <th>isFlaggedFraud</th>\n",
       "      <th>Amount_thousands</th>\n",
       "      <th>LeadingDigit</th>\n",
       "    </tr>\n",
       "  </thead>\n",
       "  <tbody>\n",
       "    <tr>\n",
       "      <th>0</th>\n",
       "      <td>1</td>\n",
       "      <td>PAYMENT</td>\n",
       "      <td>9839.64</td>\n",
       "      <td>C1231006815</td>\n",
       "      <td>170136.0</td>\n",
       "      <td>160296.36</td>\n",
       "      <td>M1979787155</td>\n",
       "      <td>0.0</td>\n",
       "      <td>0.0</td>\n",
       "      <td>0</td>\n",
       "      <td>0</td>\n",
       "      <td>9.83964</td>\n",
       "      <td>9.0</td>\n",
       "    </tr>\n",
       "    <tr>\n",
       "      <th>1</th>\n",
       "      <td>1</td>\n",
       "      <td>PAYMENT</td>\n",
       "      <td>1864.28</td>\n",
       "      <td>C1666544295</td>\n",
       "      <td>21249.0</td>\n",
       "      <td>19384.72</td>\n",
       "      <td>M2044282225</td>\n",
       "      <td>0.0</td>\n",
       "      <td>0.0</td>\n",
       "      <td>0</td>\n",
       "      <td>0</td>\n",
       "      <td>1.86428</td>\n",
       "      <td>1.0</td>\n",
       "    </tr>\n",
       "    <tr>\n",
       "      <th>2</th>\n",
       "      <td>1</td>\n",
       "      <td>TRANSFER</td>\n",
       "      <td>181.00</td>\n",
       "      <td>C1305486145</td>\n",
       "      <td>181.0</td>\n",
       "      <td>0.00</td>\n",
       "      <td>C553264065</td>\n",
       "      <td>0.0</td>\n",
       "      <td>0.0</td>\n",
       "      <td>1</td>\n",
       "      <td>0</td>\n",
       "      <td>0.18100</td>\n",
       "      <td>1.0</td>\n",
       "    </tr>\n",
       "    <tr>\n",
       "      <th>3</th>\n",
       "      <td>1</td>\n",
       "      <td>CASH_OUT</td>\n",
       "      <td>181.00</td>\n",
       "      <td>C840083671</td>\n",
       "      <td>181.0</td>\n",
       "      <td>0.00</td>\n",
       "      <td>C38997010</td>\n",
       "      <td>21182.0</td>\n",
       "      <td>0.0</td>\n",
       "      <td>1</td>\n",
       "      <td>0</td>\n",
       "      <td>0.18100</td>\n",
       "      <td>1.0</td>\n",
       "    </tr>\n",
       "    <tr>\n",
       "      <th>4</th>\n",
       "      <td>1</td>\n",
       "      <td>PAYMENT</td>\n",
       "      <td>11668.14</td>\n",
       "      <td>C2048537720</td>\n",
       "      <td>41554.0</td>\n",
       "      <td>29885.86</td>\n",
       "      <td>M1230701703</td>\n",
       "      <td>0.0</td>\n",
       "      <td>0.0</td>\n",
       "      <td>0</td>\n",
       "      <td>0</td>\n",
       "      <td>11.66814</td>\n",
       "      <td>1.0</td>\n",
       "    </tr>\n",
       "  </tbody>\n",
       "</table>\n",
       "</div>"
      ],
      "text/plain": [
       "   step      type    amount     nameOrig  oldbalanceOrg  newbalanceOrig  \\\n",
       "0     1   PAYMENT   9839.64  C1231006815       170136.0       160296.36   \n",
       "1     1   PAYMENT   1864.28  C1666544295        21249.0        19384.72   \n",
       "2     1  TRANSFER    181.00  C1305486145          181.0            0.00   \n",
       "3     1  CASH_OUT    181.00   C840083671          181.0            0.00   \n",
       "4     1   PAYMENT  11668.14  C2048537720        41554.0        29885.86   \n",
       "\n",
       "      nameDest  oldbalanceDest  newbalanceDest  isFraud  isFlaggedFraud  \\\n",
       "0  M1979787155             0.0             0.0        0               0   \n",
       "1  M2044282225             0.0             0.0        0               0   \n",
       "2   C553264065             0.0             0.0        1               0   \n",
       "3    C38997010         21182.0             0.0        1               0   \n",
       "4  M1230701703             0.0             0.0        0               0   \n",
       "\n",
       "   Amount_thousands  LeadingDigit  \n",
       "0           9.83964           9.0  \n",
       "1           1.86428           1.0  \n",
       "2           0.18100           1.0  \n",
       "3           0.18100           1.0  \n",
       "4          11.66814           1.0  "
      ]
     },
     "execution_count": 210,
     "metadata": {},
     "output_type": "execute_result"
    }
   ],
   "source": [
    "# Checking dataframe\n",
    "payment_df.head(5)"
   ]
  },
  {
   "cell_type": "code",
   "execution_count": 211,
   "id": "972ad452",
   "metadata": {},
   "outputs": [
    {
     "data": {
      "text/plain": [
       "step                 0\n",
       "type                 0\n",
       "amount               0\n",
       "nameOrig             0\n",
       "oldbalanceOrg        0\n",
       "newbalanceOrig       0\n",
       "nameDest             0\n",
       "oldbalanceDest       0\n",
       "newbalanceDest       0\n",
       "isFraud              0\n",
       "isFlaggedFraud       0\n",
       "Amount_thousands     0\n",
       "LeadingDigit        16\n",
       "dtype: int64"
      ]
     },
     "execution_count": 211,
     "metadata": {},
     "output_type": "execute_result"
    }
   ],
   "source": [
    "# Checking for null values\n",
    "payment_df.isna().sum()"
   ]
  },
  {
   "cell_type": "code",
   "execution_count": 212,
   "id": "fbde4d69",
   "metadata": {},
   "outputs": [],
   "source": [
    "# Removing rows with None values in the LeadingDigit column\n",
    "payment_df = payment_df.dropna(subset=['LeadingDigit'])"
   ]
  },
  {
   "cell_type": "code",
   "execution_count": 213,
   "id": "3e03ff00",
   "metadata": {},
   "outputs": [
    {
     "name": "stdout",
     "output_type": "stream",
     "text": [
      "1.0    2137530\n",
      "2.0    1302158\n",
      "3.0     798424\n",
      "4.0     526698\n",
      "5.0     395757\n",
      "6.0     334294\n",
      "7.0     305926\n",
      "8.0     287559\n",
      "9.0     274258\n",
      "Name: LeadingDigit, dtype: int64\n"
     ]
    }
   ],
   "source": [
    "# Calculating the frequency of each leading digit\n",
    "first_digit_counts = payment_df['LeadingDigit'].value_counts().sort_index()\n",
    "print(first_digit_counts)"
   ]
  },
  {
   "cell_type": "code",
   "execution_count": 214,
   "id": "c48e1ab1",
   "metadata": {},
   "outputs": [
    {
     "name": "stdout",
     "output_type": "stream",
     "text": [
      "1.0     33.6%\n",
      "2.0    20.47%\n",
      "3.0    12.55%\n",
      "4.0     8.28%\n",
      "5.0     6.22%\n",
      "6.0     5.25%\n",
      "7.0     4.81%\n",
      "8.0     4.52%\n",
      "9.0     4.31%\n",
      "Name: LeadingDigit, dtype: object\n"
     ]
    }
   ],
   "source": [
    "# Actual frequencies with percentage sign\n",
    "total_payments = len(payment_df)\n",
    "first_observed_frequencies = (first_digit_counts / total_payments) * 100  \n",
    "\n",
    "first_observed_frequencies = first_observed_frequencies.round(2).astype(str) + '%'\n",
    "\n",
    "print(first_observed_frequencies)"
   ]
  },
  {
   "cell_type": "code",
   "execution_count": 215,
   "id": "8ed3a0bc",
   "metadata": {},
   "outputs": [
    {
     "name": "stdout",
     "output_type": "stream",
     "text": [
      "   First Digit Benford's Law for 1st Digit Actual Frequencies Deviations, %\n",
      "0            1                       30.1%              33.6%          3.5%\n",
      "1            2                       17.6%              20.5%          2.9%\n",
      "2            3                       12.5%              12.6%          0.1%\n",
      "3            4                        9.7%               8.3%         -1.4%\n",
      "4            5                        7.9%               6.2%         -1.7%\n",
      "5            6                        6.7%               5.3%         -1.4%\n",
      "6            7                        5.8%               4.8%         -1.0%\n",
      "7            8                        5.1%               4.5%         -0.6%\n",
      "8            9                        4.6%               4.3%         -0.3%\n"
     ]
    }
   ],
   "source": [
    "# Creating dataframe\n",
    "first_benford_frequencies = [30.1, 17.6, 12.5, 9.7, 7.9, 6.7, 5.8, 5.1, 4.6] \n",
    "first_observed_frequencies = [33.6, 20.5, 12.6, 8.3, 6.2, 5.3, 4.8, 4.5, 4.3] \n",
    "\n",
    "first_digits = [1, 2, 3, 4, 5, 6, 7, 8, 9] \n",
    "\n",
    "first_payment_df = pd.DataFrame({\n",
    "    \"First Digit\": first_digits,\n",
    "    \"Benford's Law for 1st Digit\": first_benford_frequencies,\n",
    "    \"Actual Frequencies\": first_observed_frequencies,\n",
    "})\n",
    "\n",
    "first_payment_df[\"Deviations, %\"] = (first_payment_df[\"Actual Frequencies\"] - \n",
    "                             first_payment_df[\"Benford's Law for 1st Digit\"]).round(2)\n",
    "\n",
    "first_payment_df[\"Benford's Law for 1st Digit\"] = first_payment_df[\"Benford's Law for 1st Digit\"].astype(str) + '%'\n",
    "first_payment_df[\"Actual Frequencies\"] = first_payment_df[\"Actual Frequencies\"].astype(str) + '%'\n",
    "first_payment_df[\"Deviations, %\"] = first_payment_df[\"Deviations, %\"].astype(str) + '%'\n",
    "\n",
    "print(first_payment_df)"
   ]
  },
  {
   "cell_type": "code",
   "execution_count": 216,
   "id": "c391af8f",
   "metadata": {},
   "outputs": [
    {
     "data": {
      "image/png": "[encoded data removed]",
      "text/plain": [
       "<Figure size 1000x600 with 1 Axes>"
      ]
     },
     "metadata": {},
     "output_type": "display_data"
    }
   ],
   "source": [
    "# Ploting bar chart \n",
    "first_observed_frequencies = pd.Series(\n",
    "    [33.6, 20.5, 12.6, 8.3, 6.2, 5.3, 4.8, 4.5, 4.3], \n",
    "    index=np.arange(1, 10)  \n",
    ")\n",
    "\n",
    "first_benford_frequencies = np.array([30.1, 17.6, 12.5, 9.7, 7.9, 6.7, 5.8, 5.1, 4.6])\n",
    "\n",
    "plt.figure(figsize=(10, 6))\n",
    "\n",
    "plt.bar(first_observed_frequencies.index, first_observed_frequencies.values, alpha=0.6, label='Observed Frequencies')\n",
    "\n",
    "plt.plot(first_observed_frequencies.index, first_benford_frequencies, color='red', marker='o', linestyle='-', linewidth=2, label=\"Benford's Law Expected Frequencies\")\n",
    "\n",
    "for x, y in zip(first_observed_frequencies.index, first_benford_frequencies):\n",
    "    plt.text(x, y + 0.5, f'{y:.1f}%', fontsize=9, ha='center', va='bottom', color='red')\n",
    "\n",
    "plt.xlabel('First Digit')\n",
    "plt.ylabel('Frequency (%)')\n",
    "plt.title('First Digit Distribution - Observed vs Benford\\'s Law')\n",
    "plt.xticks(np.arange(1, 10))\n",
    "plt.legend()\n",
    "plt.grid(True)\n",
    "plt.show()"
   ]
  },
  {
   "cell_type": "code",
   "execution_count": 217,
   "id": "dfda13cc",
   "metadata": {},
   "outputs": [
    {
     "data": {
      "image/png": "[encoded data removed]",
      "text/plain": [
       "<Figure size 1000x600 with 1 Axes>"
      ]
     },
     "metadata": {},
     "output_type": "display_data"
    }
   ],
   "source": [
    "# Ploting line graph\n",
    "plt.figure(figsize=(10, 6))\n",
    "\n",
    "plt.plot(first_observed_frequencies.index, first_observed_frequencies.values, marker='o', linestyle='-', linewidth=2, label='Observed Frequencies', alpha=0.8)\n",
    "\n",
    "plt.plot(first_observed_frequencies.index, first_benford_frequencies, color='red', marker='o', linestyle='-', linewidth=2, label=\"Benford's Law Expected Frequencies\")\n",
    "\n",
    "for x, y in zip(first_observed_frequencies.index, first_benford_frequencies):\n",
    "    plt.text(x, y + 0.5, f'{y:.1f}%', fontsize=9, ha='center', va='bottom', color='red')\n",
    "\n",
    "plt.xlabel('First Digit')\n",
    "plt.ylabel('Frequency (%)')\n",
    "plt.title('First Digit Distribution - Observed vs Benford\\'s Law')\n",
    "plt.xticks(np.arange(1, 10))\n",
    "plt.legend()\n",
    "plt.grid(True)\n",
    "\n",
    "plt.tight_layout() \n",
    "plt.show()"
   ]
  },
  {
   "cell_type": "markdown",
   "id": "2386c339",
   "metadata": {},
   "source": [
    "### Findings:\n",
    "There are deiviations for digit 1 and 2 as overuse of these digits."
   ]
  },
  {
   "cell_type": "markdown",
   "id": "29d6c763",
   "metadata": {},
   "source": [
    "## Statistical Tests"
   ]
  },
  {
   "cell_type": "markdown",
   "id": "bc20b247",
   "metadata": {},
   "source": [
    "### Hypothesis formulation\n",
    "Null Hypothesis, H0: There is no significant difference between the observed frequencies and the expected frequencies. \n",
    "\n",
    "Alternative Hypothesis, H1: There is a significant difference between the observed frequencies and the expected frequencies. \n",
    "\n",
    "Alpha is set as 0.05."
   ]
  },
  {
   "cell_type": "markdown",
   "id": "c1e4911f",
   "metadata": {},
   "source": [
    "#### Chi Squared Test"
   ]
  },
  {
   "cell_type": "code",
   "execution_count": 218,
   "id": "35b887c4",
   "metadata": {
    "scrolled": true
   },
   "outputs": [
    {
     "name": "stdout",
     "output_type": "stream",
     "text": [
      "Chi-Squared Statistic: 2.00\n",
      "P-Value: 0.9809\n"
     ]
    }
   ],
   "source": [
    "# Applying the Chi-Squared test\n",
    "payment_benford_frequencies = np.array([30.1, 17.6, 12.5, 9.7, 7.9, 6.7, 5.8, 5.1, 4.6]) \n",
    "payment_observed_frequencies = np.array([33.6, 20.5, 12.6, 8.3, 6.2, 5.3, 4.8, 4.5, 4.3]) \n",
    "\n",
    "observed_total = np.sum(payment_observed_frequencies)\n",
    "expected_total = np.sum(payment_benford_frequencies)\n",
    "\n",
    "payment_observed_frequencies_normalized = payment_observed_frequencies / observed_total * expected_total\n",
    "\n",
    "chi2_stat, p_value = chisquare(payment_observed_frequencies_normalized, payment_benford_frequencies)\n",
    "\n",
    "print(f\"Chi-Squared Statistic: {chi2_stat:.2f}\")\n",
    "print(f\"P-Value: {p_value:.4f}\")"
   ]
  },
  {
   "cell_type": "markdown",
   "id": "1044aea1",
   "metadata": {},
   "source": [
    "### Findings:\n",
    "P-value for the Chi-Squared test is 0.9809 or p-value > 0.05 and we failed to reject the Null Hypothesis, that means that there is no significant evidence to suggest that the observed distribution of first digits differs from what is expected under Benford's Law. \n",
    "In other words, the data likely adheres to Benford's Law."
   ]
  },
  {
   "cell_type": "markdown",
   "id": "fd7de235",
   "metadata": {},
   "source": [
    "#### The Kolmogorov-Smirnov (K-S) test"
   ]
  },
  {
   "cell_type": "code",
   "execution_count": 219,
   "id": "d75c4d1b",
   "metadata": {},
   "outputs": [
    {
     "name": "stdout",
     "output_type": "stream",
     "text": [
      "Kolmogorov-Smirnov Statistic: 0.1111\n",
      "P-Value: 1.0000\n"
     ]
    }
   ],
   "source": [
    "# Applying the Kolmogorov-Smirnov test\n",
    "payment_observed_prob = payment_observed_frequencies / payment_observed_frequencies.sum()\n",
    "payment_benford_prob = payment_benford_frequencies / payment_benford_frequencies.sum()\n",
    "\n",
    "payment_observed_cdf = np.cumsum(payment_observed_prob)\n",
    "payment_benford_cdf = np.cumsum(payment_benford_prob)\n",
    "\n",
    "ks_statistic, p_value = stats.ks_2samp(payment_observed_cdf, payment_benford_cdf)\n",
    "\n",
    "print(f\"Kolmogorov-Smirnov Statistic: {ks_statistic:.4f}\")\n",
    "print(f\"P-Value: {p_value:.4f}\")"
   ]
  },
  {
   "cell_type": "markdown",
   "id": "f3fe5057",
   "metadata": {},
   "source": [
    "### Findings:\n",
    "P-value for the the Kolmogorov-Smirnov (K-S) test is 1.00 or p-value > 0.05 and we failed to reject the Null Hypothesis, that means that there is no significant evidence to suggest that the observed distribution of first digits differs from what is expected under Benford's Law. \n",
    "In other words, the data likely adheres to Benford's Law."
   ]
  },
  {
   "cell_type": "markdown",
   "id": "2ff3cd31",
   "metadata": {},
   "source": [
    "#### Z-statistics"
   ]
  },
  {
   "cell_type": "markdown",
   "id": "3d391213",
   "metadata": {},
   "source": [
    "Significance level (alpha) for Z-statistics is set as 0.05 or 1.96.\n",
    "That means that 95% of actual frequencies should confirm the Benford's Law."
   ]
  },
  {
   "cell_type": "code",
   "execution_count": 220,
   "id": "bfc803e7",
   "metadata": {},
   "outputs": [
    {
     "name": "stdout",
     "output_type": "stream",
     "text": [
      "   First Digit  Benford's Law for 1st Digit  Actual Frequencies  Z-Statistic\n",
      "0            1                        0.301               0.336     0.026506\n",
      "1            2                        0.176               0.205     0.021948\n",
      "2            3                        0.125               0.126    -0.005124\n",
      "3            4                        0.097               0.083     0.008519\n",
      "4            5                        0.079               0.062     0.012005\n",
      "5            6                        0.067               0.053     0.009370\n",
      "6            7                        0.058               0.048     0.005671\n",
      "7            8                        0.051               0.045     0.001926\n",
      "8            9                        0.046               0.043    -0.000879\n"
     ]
    }
   ],
   "source": [
    "# Calculating Z-statistics\n",
    "first_payment_df[\"Benford's Law for 1st Digit\"] = first_payment_df[\"Benford's Law for 1st Digit\"].astype(str).str.rstrip('%').astype(float) / 100\n",
    "first_payment_df['Actual Frequencies'] = first_payment_df['Actual Frequencies'].astype(str).str.rstrip('%').astype(float) / 100\n",
    "\n",
    "N = 9\n",
    "\n",
    "first_payment_df['Z-Statistic'] = (np.abs(first_payment_df['Actual Frequencies'] - first_payment_df[\"Benford's Law for 1st Digit\"]) -\n",
    "                            (1 / (2 * N)) * np.sqrt(first_payment_df[\"Benford's Law for 1st Digit\"] * (1 - first_payment_df[\"Benford's Law for 1st Digit\"]) / N))\n",
    "\n",
    "print(first_payment_df[['First Digit', 'Benford\\'s Law for 1st Digit', 'Actual Frequencies', 'Z-Statistic']])"
   ]
  },
  {
   "cell_type": "markdown",
   "id": "2e614d60",
   "metadata": {},
   "source": [
    "### Findings:\n",
    "All observations from the Z-statistics are less than 1.96 and are conform to Benford's Law."
   ]
  },
  {
   "cell_type": "markdown",
   "id": "850aca24",
   "metadata": {},
   "source": [
    "## Data preprocessing"
   ]
  },
  {
   "cell_type": "code",
   "execution_count": 221,
   "id": "8fd21455",
   "metadata": {},
   "outputs": [],
   "source": [
    "# Extracting second digit from transaction amounts\n",
    "def get_second_digit(amount):\n",
    "    # Ensure the amount is positive and has at least two digits after removing leading zeros and decimal points\n",
    "    amount_str = str(amount).lstrip('0.')\n",
    "    # Remove any remaining non-digit characters\n",
    "    amount_str = ''.join(filter(str.isdigit, amount_str))\n",
    "    if len(amount_str) >= 2:\n",
    "        return int(amount_str[1])  # Return the second digit\n",
    "    else:\n",
    "        return None"
   ]
  },
  {
   "cell_type": "code",
   "execution_count": 222,
   "id": "4e890025",
   "metadata": {},
   "outputs": [],
   "source": [
    "# Creating copy of dataframe\n",
    "payment_df = payment_df.copy() \n",
    "payment_df['SecondDigit'] = payment_df['amount'].apply(get_second_digit)"
   ]
  },
  {
   "cell_type": "code",
   "execution_count": 223,
   "id": "0b964463",
   "metadata": {},
   "outputs": [
    {
     "data": {
      "text/html": [
       "<div>\n",
       "<style scoped>\n",
       "    .dataframe tbody tr th:only-of-type {\n",
       "        vertical-align: middle;\n",
       "    }\n",
       "\n",
       "    .dataframe tbody tr th {\n",
       "        vertical-align: top;\n",
       "    }\n",
       "\n",
       "    .dataframe thead th {\n",
       "        text-align: right;\n",
       "    }\n",
       "</style>\n",
       "<table border=\"1\" class=\"dataframe\">\n",
       "  <thead>\n",
       "    <tr style=\"text-align: right;\">\n",
       "      <th></th>\n",
       "      <th>step</th>\n",
       "      <th>type</th>\n",
       "      <th>amount</th>\n",
       "      <th>nameOrig</th>\n",
       "      <th>oldbalanceOrg</th>\n",
       "      <th>newbalanceOrig</th>\n",
       "      <th>nameDest</th>\n",
       "      <th>oldbalanceDest</th>\n",
       "      <th>newbalanceDest</th>\n",
       "      <th>isFraud</th>\n",
       "      <th>isFlaggedFraud</th>\n",
       "      <th>Amount_thousands</th>\n",
       "      <th>LeadingDigit</th>\n",
       "      <th>SecondDigit</th>\n",
       "    </tr>\n",
       "  </thead>\n",
       "  <tbody>\n",
       "    <tr>\n",
       "      <th>0</th>\n",
       "      <td>1</td>\n",
       "      <td>PAYMENT</td>\n",
       "      <td>9839.64</td>\n",
       "      <td>C1231006815</td>\n",
       "      <td>170136.0</td>\n",
       "      <td>160296.36</td>\n",
       "      <td>M1979787155</td>\n",
       "      <td>0.0</td>\n",
       "      <td>0.0</td>\n",
       "      <td>0</td>\n",
       "      <td>0</td>\n",
       "      <td>9.83964</td>\n",
       "      <td>9.0</td>\n",
       "      <td>8.0</td>\n",
       "    </tr>\n",
       "    <tr>\n",
       "      <th>1</th>\n",
       "      <td>1</td>\n",
       "      <td>PAYMENT</td>\n",
       "      <td>1864.28</td>\n",
       "      <td>C1666544295</td>\n",
       "      <td>21249.0</td>\n",
       "      <td>19384.72</td>\n",
       "      <td>M2044282225</td>\n",
       "      <td>0.0</td>\n",
       "      <td>0.0</td>\n",
       "      <td>0</td>\n",
       "      <td>0</td>\n",
       "      <td>1.86428</td>\n",
       "      <td>1.0</td>\n",
       "      <td>8.0</td>\n",
       "    </tr>\n",
       "    <tr>\n",
       "      <th>2</th>\n",
       "      <td>1</td>\n",
       "      <td>TRANSFER</td>\n",
       "      <td>181.00</td>\n",
       "      <td>C1305486145</td>\n",
       "      <td>181.0</td>\n",
       "      <td>0.00</td>\n",
       "      <td>C553264065</td>\n",
       "      <td>0.0</td>\n",
       "      <td>0.0</td>\n",
       "      <td>1</td>\n",
       "      <td>0</td>\n",
       "      <td>0.18100</td>\n",
       "      <td>1.0</td>\n",
       "      <td>8.0</td>\n",
       "    </tr>\n",
       "    <tr>\n",
       "      <th>3</th>\n",
       "      <td>1</td>\n",
       "      <td>CASH_OUT</td>\n",
       "      <td>181.00</td>\n",
       "      <td>C840083671</td>\n",
       "      <td>181.0</td>\n",
       "      <td>0.00</td>\n",
       "      <td>C38997010</td>\n",
       "      <td>21182.0</td>\n",
       "      <td>0.0</td>\n",
       "      <td>1</td>\n",
       "      <td>0</td>\n",
       "      <td>0.18100</td>\n",
       "      <td>1.0</td>\n",
       "      <td>8.0</td>\n",
       "    </tr>\n",
       "    <tr>\n",
       "      <th>4</th>\n",
       "      <td>1</td>\n",
       "      <td>PAYMENT</td>\n",
       "      <td>11668.14</td>\n",
       "      <td>C2048537720</td>\n",
       "      <td>41554.0</td>\n",
       "      <td>29885.86</td>\n",
       "      <td>M1230701703</td>\n",
       "      <td>0.0</td>\n",
       "      <td>0.0</td>\n",
       "      <td>0</td>\n",
       "      <td>0</td>\n",
       "      <td>11.66814</td>\n",
       "      <td>1.0</td>\n",
       "      <td>1.0</td>\n",
       "    </tr>\n",
       "  </tbody>\n",
       "</table>\n",
       "</div>"
      ],
      "text/plain": [
       "   step      type    amount     nameOrig  oldbalanceOrg  newbalanceOrig  \\\n",
       "0     1   PAYMENT   9839.64  C1231006815       170136.0       160296.36   \n",
       "1     1   PAYMENT   1864.28  C1666544295        21249.0        19384.72   \n",
       "2     1  TRANSFER    181.00  C1305486145          181.0            0.00   \n",
       "3     1  CASH_OUT    181.00   C840083671          181.0            0.00   \n",
       "4     1   PAYMENT  11668.14  C2048537720        41554.0        29885.86   \n",
       "\n",
       "      nameDest  oldbalanceDest  newbalanceDest  isFraud  isFlaggedFraud  \\\n",
       "0  M1979787155             0.0             0.0        0               0   \n",
       "1  M2044282225             0.0             0.0        0               0   \n",
       "2   C553264065             0.0             0.0        1               0   \n",
       "3    C38997010         21182.0             0.0        1               0   \n",
       "4  M1230701703             0.0             0.0        0               0   \n",
       "\n",
       "   Amount_thousands  LeadingDigit  SecondDigit  \n",
       "0           9.83964           9.0          8.0  \n",
       "1           1.86428           1.0          8.0  \n",
       "2           0.18100           1.0          8.0  \n",
       "3           0.18100           1.0          8.0  \n",
       "4          11.66814           1.0          1.0  "
      ]
     },
     "execution_count": 223,
     "metadata": {},
     "output_type": "execute_result"
    }
   ],
   "source": [
    "# Checking dataframe\n",
    "payment_df.head()"
   ]
  },
  {
   "cell_type": "code",
   "execution_count": 224,
   "id": "5416309b",
   "metadata": {},
   "outputs": [
    {
     "data": {
      "text/plain": [
       "step                 0\n",
       "type                 0\n",
       "amount               0\n",
       "nameOrig             0\n",
       "oldbalanceOrg        0\n",
       "newbalanceOrig       0\n",
       "nameDest             0\n",
       "oldbalanceDest       0\n",
       "newbalanceDest       0\n",
       "isFraud              0\n",
       "isFlaggedFraud       0\n",
       "Amount_thousands     0\n",
       "LeadingDigit         0\n",
       "SecondDigit         23\n",
       "dtype: int64"
      ]
     },
     "execution_count": 224,
     "metadata": {},
     "output_type": "execute_result"
    }
   ],
   "source": [
    "# Checking for null values\n",
    "payment_df.isna().sum()"
   ]
  },
  {
   "cell_type": "code",
   "execution_count": 225,
   "id": "dc905f18",
   "metadata": {},
   "outputs": [],
   "source": [
    "# Removing rows with None values in the SecondDigit column\n",
    "payment_df = payment_df.dropna(subset=['SecondDigit'])"
   ]
  },
  {
   "cell_type": "code",
   "execution_count": 226,
   "id": "0d92b188",
   "metadata": {},
   "outputs": [
    {
     "name": "stdout",
     "output_type": "stream",
     "text": [
      "0.0    755137\n",
      "1.0    720523\n",
      "2.0    694584\n",
      "3.0    667655\n",
      "4.0    644343\n",
      "5.0    619539\n",
      "6.0    595975\n",
      "7.0    576296\n",
      "8.0    554099\n",
      "9.0    534430\n",
      "Name: SecondDigit, dtype: int64\n"
     ]
    }
   ],
   "source": [
    "# Calculating the frequency of each second digit (0-9)\n",
    "second_digit_counts = payment_df['SecondDigit'].value_counts().sort_index()\n",
    "print(second_digit_counts)"
   ]
  },
  {
   "cell_type": "code",
   "execution_count": 227,
   "id": "2d63e0f2",
   "metadata": {},
   "outputs": [
    {
     "name": "stdout",
     "output_type": "stream",
     "text": [
      "0.0    0.118684\n",
      "1.0    0.113244\n",
      "2.0    0.109167\n",
      "3.0    0.104935\n",
      "4.0    0.101271\n",
      "5.0    0.097372\n",
      "6.0    0.093669\n",
      "7.0    0.090576\n",
      "8.0    0.087087\n",
      "9.0    0.083996\n",
      "Name: SecondDigit, dtype: float64\n"
     ]
    }
   ],
   "source": [
    "# Normalizing the counts to get percentages\n",
    "second_total_transactions = len(payment_df)\n",
    "second_observed_frequencies = second_digit_counts / second_total_transactions\n",
    "print(second_observed_frequencies)"
   ]
  },
  {
   "cell_type": "code",
   "execution_count": 228,
   "id": "3224f860",
   "metadata": {},
   "outputs": [
    {
     "name": "stdout",
     "output_type": "stream",
     "text": [
      "   Second Digit Benford's Law for 2nd Digit Actual Frequencies Deviations, %\n",
      "0             0                       12.0%              11.9%         -0.1%\n",
      "1             1                       11.4%              11.3%         -0.1%\n",
      "2             2                       10.9%              10.9%          0.0%\n",
      "3             3                       10.4%              10.5%          0.1%\n",
      "4             4                       10.0%              10.1%          0.1%\n",
      "5             5                        9.7%               9.7%          0.0%\n",
      "6             6                        9.3%               9.4%          0.1%\n",
      "7             7                        9.0%               9.1%          0.1%\n",
      "8             8                        8.8%               8.7%         -0.1%\n",
      "9             9                        8.5%               8.4%         -0.1%\n"
     ]
    }
   ],
   "source": [
    "# Creating dataframe\n",
    "second_benford_frequencies = [12.0, 11.4, 10.9, 10.4, 10.0, 9.7, 9.3, 9.0, 8.8, 8.5]  \n",
    "second_observed_frequencies = [11.9, 11.3, 10.9, 10.5, 10.1, 9.7, 9.4, 9.1, 8.7, 8.4]  \n",
    "\n",
    "second_digits = [0, 1, 2, 3, 4, 5, 6, 7, 8, 9]  \n",
    "\n",
    "second_payment_df = pd.DataFrame({\n",
    "    \"Second Digit\": second_digits,\n",
    "    \"Benford's Law for 2nd Digit\": second_benford_frequencies,\n",
    "    \"Actual Frequencies\": second_observed_frequencies,\n",
    "})\n",
    "\n",
    "second_payment_df[\"Deviations, %\"] = (second_payment_df[\"Actual Frequencies\"] - \n",
    "                             second_payment_df[\"Benford's Law for 2nd Digit\"]).round(2)\n",
    "\n",
    "second_payment_df[\"Benford's Law for 2nd Digit\"] = second_payment_df[\"Benford's Law for 2nd Digit\"].astype(str) + '%'\n",
    "second_payment_df[\"Actual Frequencies\"] = second_payment_df[\"Actual Frequencies\"].astype(str) + '%'\n",
    "second_payment_df[\"Deviations, %\"] = second_payment_df[\"Deviations, %\"].astype(str) + '%'\n",
    "\n",
    "print(second_payment_df)"
   ]
  },
  {
   "cell_type": "code",
   "execution_count": 229,
   "id": "d4a8b968",
   "metadata": {},
   "outputs": [
    {
     "data": {
      "image/png": "[encoded data removed]",
      "text/plain": [
       "<Figure size 1000x600 with 1 Axes>"
      ]
     },
     "metadata": {},
     "output_type": "display_data"
    }
   ],
   "source": [
    "# Ploting bar chart\n",
    "second_observed_frequencies = pd.Series(\n",
    "    [11.9, 11.3, 10.9, 10.5, 10.1, 9.7, 9.4, 9.1, 8.7, 8.4], \n",
    "    index=np.arange(0, 10) \n",
    ")\n",
    "\n",
    "second_benford_frequencies = np.array([12.0, 11.4, 10.9, 10.4, 10.0, 9.7, 9.3, 9.0, 8.8, 8.5])\n",
    "\n",
    "plt.figure(figsize=(10, 6))\n",
    "plt.bar(np.arange(0, 10), second_observed_frequencies, alpha=0.6, label='Observed Frequencies')\n",
    "\n",
    "plt.plot(np.arange(0, 10), second_benford_frequencies, color='red', marker='o', linestyle='-', linewidth=2, label=\"Benford's Law Expected Frequencies\")\n",
    "\n",
    "for x, y in zip(range(10), second_benford_frequencies):\n",
    "    plt.text(x, y + 0.5, f'{y:.1f}%', fontsize=9, ha='center', va='bottom', color='red')\n",
    "\n",
    "plt.xlabel('Second Digit')\n",
    "plt.ylabel('Frequency (%)')\n",
    "plt.title('Second Digit Distribution - Observed vs Benford\\'s Law')\n",
    "plt.xticks(np.arange(0, 10)) \n",
    "plt.legend()\n",
    "plt.grid(True)\n",
    "plt.show()"
   ]
  },
  {
   "cell_type": "code",
   "execution_count": 230,
   "id": "8f8b7c18",
   "metadata": {},
   "outputs": [
    {
     "data": {
      "image/png": "[encoded data removed]",
      "text/plain": [
       "<Figure size 1000x600 with 1 Axes>"
      ]
     },
     "metadata": {},
     "output_type": "display_data"
    }
   ],
   "source": [
    "# Ploting line graph\n",
    "plt.figure(figsize=(10, 6))\n",
    "\n",
    "plt.plot(second_observed_frequencies.index, second_observed_frequencies.values, \n",
    "         marker='o', linestyle='-', color='blue', linewidth=2, label='Observed Frequencies')\n",
    "\n",
    "plt.plot(second_observed_frequencies.index, second_benford_frequencies, \n",
    "         marker='o', linestyle='-', color='red', linewidth=2, label=\"Benford's Law Expected Frequencies\")\n",
    "\n",
    "for x, y in zip(range(10), second_benford_frequencies):\n",
    "    plt.text(x, y + 0.2, f'{y:.1f}%', fontsize=9, ha='center', va='bottom', color='red')\n",
    "\n",
    "plt.xlabel('Second Digit')\n",
    "plt.ylabel('Frequency (%)')\n",
    "plt.title('Second Digit Distribution - Observed vs Benford\\'s Law')\n",
    "plt.xticks(np.arange(0, 10))  \n",
    "plt.legend()\n",
    "plt.grid(True)\n",
    "\n",
    "plt.tight_layout() \n",
    "plt.show()"
   ]
  },
  {
   "cell_type": "markdown",
   "id": "cf211860",
   "metadata": {},
   "source": [
    "### Findings:\n",
    "There are no any significant deviations for second digits of this dataset."
   ]
  },
  {
   "cell_type": "markdown",
   "id": "73d282f7",
   "metadata": {},
   "source": [
    "## Statistical Tests"
   ]
  },
  {
   "cell_type": "markdown",
   "id": "b8194515",
   "metadata": {},
   "source": [
    "### Hypothesis formulation\n",
    "Null Hypothesis, H0: There is no significant difference between the observed frequencies and the expected frequencies. \n",
    "\n",
    "Alternative Hypothesis, H1: There is a significant difference between the observed frequencies and the expected frequencies. \n",
    "\n",
    "Alpha is set as 0.05."
   ]
  },
  {
   "cell_type": "markdown",
   "id": "15fb77d1",
   "metadata": {},
   "source": [
    "#### Chi Squared Test"
   ]
  },
  {
   "cell_type": "code",
   "execution_count": 231,
   "id": "af663bc5",
   "metadata": {
    "scrolled": true
   },
   "outputs": [
    {
     "name": "stdout",
     "output_type": "stream",
     "text": [
      "Chi-Squared Statistic: 0.01\n",
      "P-Value: 1.0000\n"
     ]
    }
   ],
   "source": [
    "# Applying the Chi-Squared test\n",
    "payment_benford_frequencies = np.array([12.0, 11.4, 10.9, 10.4, 10.0, 9.7, 9.3, 9.0, 8.8, 8.5]) \n",
    "payment_observed_frequencies = np.array([11.9, 11.3, 10.9, 10.5, 10.1, 9.7, 9.4, 9.1, 8.7, 8.4]) \n",
    "\n",
    "observed_total = np.sum(payment_observed_frequencies)\n",
    "expected_total = np.sum(payment_benford_frequencies)\n",
    "\n",
    "payment_observed_frequencies_normalized = payment_observed_frequencies / observed_total * expected_total\n",
    "\n",
    "chi2_stat, p_value = chisquare(payment_observed_frequencies_normalized, payment_benford_frequencies)\n",
    "\n",
    "print(f\"Chi-Squared Statistic: {chi2_stat:.2f}\")\n",
    "print(f\"P-Value: {p_value:.4f}\")"
   ]
  },
  {
   "cell_type": "markdown",
   "id": "286782a9",
   "metadata": {},
   "source": [
    "### Findings:\n",
    "P-value for the Chi-Squared test is 1.00 or p-value > 0.05 and we failed to reject the Null Hypothesis, that means that there is no significant evidence to suggest that the observed distribution of first digits differs from what is expected under Benford's Law. \n",
    "In other words, the data likely adheres to Benford's Law."
   ]
  },
  {
   "cell_type": "markdown",
   "id": "b1cba7b0",
   "metadata": {},
   "source": [
    "#### The Kolmogorov-Smirnov (K-S) test"
   ]
  },
  {
   "cell_type": "code",
   "execution_count": 232,
   "id": "cdc56282",
   "metadata": {},
   "outputs": [
    {
     "name": "stdout",
     "output_type": "stream",
     "text": [
      "Kolmogorov-Smirnov Statistic: 0.1000\n",
      "P-Value: 1.0000\n"
     ]
    }
   ],
   "source": [
    "# Applying the Kolmogorov-Smirnov test\n",
    "payment_observed_prob = payment_observed_frequencies / payment_observed_frequencies.sum()\n",
    "payment_benford_prob = payment_benford_frequencies / payment_benford_frequencies.sum()\n",
    "\n",
    "payment_observed_cdf = np.cumsum(payment_observed_prob)\n",
    "payment_benford_cdf = np.cumsum(payment_benford_prob)\n",
    "\n",
    "ks_statistic, p_value = stats.ks_2samp(payment_observed_cdf, payment_benford_cdf)\n",
    "\n",
    "print(f\"Kolmogorov-Smirnov Statistic: {ks_statistic:.4f}\")\n",
    "print(f\"P-Value: {p_value:.4f}\")"
   ]
  },
  {
   "cell_type": "markdown",
   "id": "f2c742b7",
   "metadata": {},
   "source": [
    "### Findings:\n",
    "P-value for the the Kolmogorov-Smirnov (K-S) test is 1.00 or p-value > 0.05 and we failed to reject the Null Hypothesis, that means that there is no significant evidence to suggest that the observed distribution of first digits differs from what is expected under Benford's Law. \n",
    "In other words, the data likely adheres to Benford's Law."
   ]
  },
  {
   "cell_type": "markdown",
   "id": "2ca6626f",
   "metadata": {},
   "source": [
    "#### Z-statistics"
   ]
  },
  {
   "cell_type": "markdown",
   "id": "c1f5cdfb",
   "metadata": {},
   "source": [
    "Significance level (alpha) for Z-statistics is set as 0.05 or 1.96.\n",
    "That means that 95% of actual frequencies should confirm the Benford's Law."
   ]
  },
  {
   "cell_type": "code",
   "execution_count": 233,
   "id": "6eece96c",
   "metadata": {},
   "outputs": [
    {
     "name": "stdout",
     "output_type": "stream",
     "text": [
      "   Second Digit  Benford's Law for 2nd Digit  Actual Frequencies  Z-Statistic\n",
      "0             0                        0.120               0.119    -0.005018\n",
      "1             1                        0.114               0.113    -0.004885\n",
      "2             2                        0.109               0.109    -0.005771\n",
      "3             3                        0.104               0.105    -0.004653\n",
      "4             4                        0.100               0.101    -0.004556\n",
      "5             5                        0.097               0.097    -0.005481\n",
      "6             6                        0.093               0.094    -0.004378\n",
      "7             7                        0.090               0.091    -0.004300\n",
      "8             8                        0.088               0.087    -0.004246\n",
      "9             9                        0.085               0.084    -0.004164\n"
     ]
    }
   ],
   "source": [
    "# Calculating Z-statistics\n",
    "second_payment_df[\"Benford's Law for 2nd Digit\"] = second_payment_df[\"Benford's Law for 2nd Digit\"].astype(str).str.rstrip('%').astype(float) / 100\n",
    "second_payment_df['Actual Frequencies'] = second_payment_df['Actual Frequencies'].astype(str).str.rstrip('%').astype(float) / 100\n",
    "\n",
    "N = 9 \n",
    "\n",
    "second_payment_df['Z-Statistic'] = (np.abs(second_payment_df['Actual Frequencies'] - second_payment_df[\"Benford's Law for 2nd Digit\"]) -\n",
    "                            (1 / (2 * N)) * np.sqrt(second_payment_df[\"Benford's Law for 2nd Digit\"] * (1 - second_payment_df[\"Benford's Law for 2nd Digit\"]) / N))\n",
    "\n",
    "print(second_payment_df[['Second Digit', 'Benford\\'s Law for 2nd Digit', 'Actual Frequencies', 'Z-Statistic']])"
   ]
  },
  {
   "cell_type": "markdown",
   "id": "b9c6c72c",
   "metadata": {},
   "source": [
    "### Findings:\n",
    "All observations from the Z-statistics are less than 1.96 and are conform to Benford's Law."
   ]
  },
  {
   "cell_type": "markdown",
   "id": "69901294",
   "metadata": {},
   "source": [
    "## Conclusion:"
   ]
  },
  {
   "cell_type": "markdown",
   "id": "efea597f",
   "metadata": {},
   "source": [
    "2 datasets with identified and labeled fraud transactions were analyzed by applying Benford's Law to the first and second digits of transactions/payments amounts. These tests for first and second digits are used to assess overal conformity and detect obvious anomalies. Despite identified differences between expected distributions of numbers as per Benford's Law and actual distributions of numbers from transactions/payments amounts, the statistical tests like Chi-Squared test and the Kolmogorov-Smirnov (K-S) test shown that there is no significant evidences to suggest that the observed distribution differs from what is expected under Benford's Law as p-values of the test were above alpha (0.05) and we failed to reject the Null Hypothesis.\n",
    "Also calculations of Z-statistics for both datasets do not revealed statistical significant differences in both distributions and confirmed conformity with Benford's Lawn(Z-statistics less than 1.96 (alpha = 0.05).\n",
    "\n",
    "Deviations of actual distributions from the expected distributions as per Bernford's Law show anomalies in data distributions, which can be examined, but do not mean that there is evidence for fraud transactions/payments. On the other hand following Bernford's Law is not an evidence for absence of fraud transactions/payments."
   ]
  }
 ],
 "metadata": {
  "kernelspec": {
   "display_name": "Python 3 (ipykernel)",
   "language": "python",
   "name": "python3"
  },
  "language_info": {
   "codemirror_mode": {
    "name": "ipython",
    "version": 3
   },
   "file_extension": ".py",
   "mimetype": "text/x-python",
   "name": "python",
   "nbconvert_exporter": "python",
   "pygments_lexer": "ipython3",
   "version": "3.10.9"
  }
 },
 "nbformat": 4,
 "nbformat_minor": 5
}
