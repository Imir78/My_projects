{
 "cells": [
  {
   "cell_type": "markdown",
   "id": "ff67bd2e",
   "metadata": {},
   "source": [
    "## <center>STATISTICAL MODELING OF OPERATIONAL RISK LOSSES (v 1.0)</center>\n",
    "### <center>USING PYTHON PROGRAMMING LANGUAGE</center>\n",
    "Operational Risk Value at Risk Calculation using Poisson Distribution, Inverse Binomial Distribution to generate frequency of risks and Inverse Lognormal Distribution to generate loss severity.\n",
    "The data for operational risk losses is downloaded from \"OpVar\" package for R and is used for computation within this notebook.\n",
    "\n",
    "Prepared by Imir Osmanov.\n",
    "Date: 03.04.2024"
   ]
  },
  {
   "cell_type": "code",
   "execution_count": 65,
   "id": "668a9e96",
   "metadata": {},
   "outputs": [],
   "source": [
    "# Import required libraries\n",
    "import numpy as np\n",
    "import pandas as pd\n",
    "import seaborn as sns\n",
    "import matplotlib.pyplot as plt\n",
    "import scipy.stats as stats\n",
    "import math"
   ]
  },
  {
   "cell_type": "code",
   "execution_count": 66,
   "id": "01fb9df1",
   "metadata": {},
   "outputs": [
    {
     "data": {
      "text/html": [
       "<div>\n",
       "<style scoped>\n",
       "    .dataframe tbody tr th:only-of-type {\n",
       "        vertical-align: middle;\n",
       "    }\n",
       "\n",
       "    .dataframe tbody tr th {\n",
       "        vertical-align: top;\n",
       "    }\n",
       "\n",
       "    .dataframe thead th {\n",
       "        text-align: right;\n",
       "    }\n",
       "</style>\n",
       "<table border=\"1\" class=\"dataframe\">\n",
       "  <thead>\n",
       "    <tr style=\"text-align: right;\">\n",
       "      <th></th>\n",
       "      <th>Loss</th>\n",
       "      <th>Period</th>\n",
       "      <th>Date</th>\n",
       "    </tr>\n",
       "  </thead>\n",
       "  <tbody>\n",
       "    <tr>\n",
       "      <th>0</th>\n",
       "      <td>1877</td>\n",
       "      <td>1</td>\n",
       "      <td>2016-12-31</td>\n",
       "    </tr>\n",
       "    <tr>\n",
       "      <th>1</th>\n",
       "      <td>1807</td>\n",
       "      <td>1</td>\n",
       "      <td>2016-12-30</td>\n",
       "    </tr>\n",
       "    <tr>\n",
       "      <th>2</th>\n",
       "      <td>918</td>\n",
       "      <td>1</td>\n",
       "      <td>2016-12-30</td>\n",
       "    </tr>\n",
       "    <tr>\n",
       "      <th>3</th>\n",
       "      <td>1480</td>\n",
       "      <td>1</td>\n",
       "      <td>2016-12-29</td>\n",
       "    </tr>\n",
       "    <tr>\n",
       "      <th>4</th>\n",
       "      <td>1218</td>\n",
       "      <td>1</td>\n",
       "      <td>2016-12-27</td>\n",
       "    </tr>\n",
       "  </tbody>\n",
       "</table>\n",
       "</div>"
      ],
      "text/plain": [
       "   Loss  Period       Date\n",
       "0  1877       1 2016-12-31\n",
       "1  1807       1 2016-12-30\n",
       "2   918       1 2016-12-30\n",
       "3  1480       1 2016-12-29\n",
       "4  1218       1 2016-12-27"
      ]
     },
     "execution_count": 66,
     "metadata": {},
     "output_type": "execute_result"
    }
   ],
   "source": [
    "# Downloading necessary files\n",
    "# Operational losses type 1\n",
    "filepath_1 = 'C:/Users/user/Documents/R studio/file1.xlsx'\n",
    "df_loss_1 = pd.read_excel(filepath_1)\n",
    "df_loss_1.head()"
   ]
  },
  {
   "cell_type": "code",
   "execution_count": 67,
   "id": "a9d1ccd8",
   "metadata": {},
   "outputs": [
    {
     "data": {
      "text/html": [
       "<div>\n",
       "<style scoped>\n",
       "    .dataframe tbody tr th:only-of-type {\n",
       "        vertical-align: middle;\n",
       "    }\n",
       "\n",
       "    .dataframe tbody tr th {\n",
       "        vertical-align: top;\n",
       "    }\n",
       "\n",
       "    .dataframe thead th {\n",
       "        text-align: right;\n",
       "    }\n",
       "</style>\n",
       "<table border=\"1\" class=\"dataframe\">\n",
       "  <thead>\n",
       "    <tr style=\"text-align: right;\">\n",
       "      <th></th>\n",
       "      <th>Loss</th>\n",
       "      <th>Period</th>\n",
       "      <th>Date</th>\n",
       "    </tr>\n",
       "  </thead>\n",
       "  <tbody>\n",
       "    <tr>\n",
       "      <th>0</th>\n",
       "      <td>181</td>\n",
       "      <td>1</td>\n",
       "      <td>2016-12-31</td>\n",
       "    </tr>\n",
       "    <tr>\n",
       "      <th>1</th>\n",
       "      <td>610</td>\n",
       "      <td>1</td>\n",
       "      <td>2016-12-23</td>\n",
       "    </tr>\n",
       "    <tr>\n",
       "      <th>2</th>\n",
       "      <td>961</td>\n",
       "      <td>1</td>\n",
       "      <td>2016-12-19</td>\n",
       "    </tr>\n",
       "    <tr>\n",
       "      <th>3</th>\n",
       "      <td>1312</td>\n",
       "      <td>1</td>\n",
       "      <td>2016-12-19</td>\n",
       "    </tr>\n",
       "    <tr>\n",
       "      <th>4</th>\n",
       "      <td>259</td>\n",
       "      <td>1</td>\n",
       "      <td>2016-12-14</td>\n",
       "    </tr>\n",
       "  </tbody>\n",
       "</table>\n",
       "</div>"
      ],
      "text/plain": [
       "   Loss  Period       Date\n",
       "0   181       1 2016-12-31\n",
       "1   610       1 2016-12-23\n",
       "2   961       1 2016-12-19\n",
       "3  1312       1 2016-12-19\n",
       "4   259       1 2016-12-14"
      ]
     },
     "execution_count": 67,
     "metadata": {},
     "output_type": "execute_result"
    }
   ],
   "source": [
    "# Downloading necessary files\n",
    "# Operational losses type 2\n",
    "filepath_2 = 'C:/Users/user/Documents/R studio/file2.xlsx'\n",
    "df_loss_2 = pd.read_excel(filepath_2)\n",
    "df_loss_2.head()"
   ]
  },
  {
   "cell_type": "code",
   "execution_count": 68,
   "id": "bd85ab10",
   "metadata": {},
   "outputs": [
    {
     "data": {
      "text/html": [
       "<div>\n",
       "<style scoped>\n",
       "    .dataframe tbody tr th:only-of-type {\n",
       "        vertical-align: middle;\n",
       "    }\n",
       "\n",
       "    .dataframe tbody tr th {\n",
       "        vertical-align: top;\n",
       "    }\n",
       "\n",
       "    .dataframe thead th {\n",
       "        text-align: right;\n",
       "    }\n",
       "</style>\n",
       "<table border=\"1\" class=\"dataframe\">\n",
       "  <thead>\n",
       "    <tr style=\"text-align: right;\">\n",
       "      <th></th>\n",
       "      <th>Loss</th>\n",
       "      <th>Period</th>\n",
       "      <th>Date</th>\n",
       "    </tr>\n",
       "  </thead>\n",
       "  <tbody>\n",
       "    <tr>\n",
       "      <th>0</th>\n",
       "      <td>1334</td>\n",
       "      <td>1</td>\n",
       "      <td>2016-12-31</td>\n",
       "    </tr>\n",
       "    <tr>\n",
       "      <th>1</th>\n",
       "      <td>1067</td>\n",
       "      <td>1</td>\n",
       "      <td>2016-12-30</td>\n",
       "    </tr>\n",
       "    <tr>\n",
       "      <th>2</th>\n",
       "      <td>1068</td>\n",
       "      <td>1</td>\n",
       "      <td>2016-12-29</td>\n",
       "    </tr>\n",
       "    <tr>\n",
       "      <th>3</th>\n",
       "      <td>714</td>\n",
       "      <td>1</td>\n",
       "      <td>2016-12-26</td>\n",
       "    </tr>\n",
       "    <tr>\n",
       "      <th>4</th>\n",
       "      <td>1590</td>\n",
       "      <td>1</td>\n",
       "      <td>2016-12-26</td>\n",
       "    </tr>\n",
       "  </tbody>\n",
       "</table>\n",
       "</div>"
      ],
      "text/plain": [
       "   Loss  Period       Date\n",
       "0  1334       1 2016-12-31\n",
       "1  1067       1 2016-12-30\n",
       "2  1068       1 2016-12-29\n",
       "3   714       1 2016-12-26\n",
       "4  1590       1 2016-12-26"
      ]
     },
     "execution_count": 68,
     "metadata": {},
     "output_type": "execute_result"
    }
   ],
   "source": [
    "# Downloading necessary files\n",
    "# Operational losses type 3\n",
    "filepath_3 = 'C:/Users/user/Documents/R studio/file3.xlsx'\n",
    "df_loss_3 = pd.read_excel(filepath_3)\n",
    "df_loss_3.head()"
   ]
  },
  {
   "cell_type": "code",
   "execution_count": 69,
   "id": "3a6a2132",
   "metadata": {},
   "outputs": [
    {
     "data": {
      "text/html": [
       "<div>\n",
       "<style scoped>\n",
       "    .dataframe tbody tr th:only-of-type {\n",
       "        vertical-align: middle;\n",
       "    }\n",
       "\n",
       "    .dataframe tbody tr th {\n",
       "        vertical-align: top;\n",
       "    }\n",
       "\n",
       "    .dataframe thead th {\n",
       "        text-align: right;\n",
       "    }\n",
       "</style>\n",
       "<table border=\"1\" class=\"dataframe\">\n",
       "  <thead>\n",
       "    <tr style=\"text-align: right;\">\n",
       "      <th></th>\n",
       "      <th>Loss</th>\n",
       "      <th>Period</th>\n",
       "      <th>Date</th>\n",
       "    </tr>\n",
       "  </thead>\n",
       "  <tbody>\n",
       "    <tr>\n",
       "      <th>0</th>\n",
       "      <td>650</td>\n",
       "      <td>1</td>\n",
       "      <td>2016-12-31</td>\n",
       "    </tr>\n",
       "    <tr>\n",
       "      <th>1</th>\n",
       "      <td>847</td>\n",
       "      <td>1</td>\n",
       "      <td>2016-12-30</td>\n",
       "    </tr>\n",
       "    <tr>\n",
       "      <th>2</th>\n",
       "      <td>242</td>\n",
       "      <td>1</td>\n",
       "      <td>2016-12-11</td>\n",
       "    </tr>\n",
       "    <tr>\n",
       "      <th>3</th>\n",
       "      <td>513</td>\n",
       "      <td>1</td>\n",
       "      <td>2016-12-09</td>\n",
       "    </tr>\n",
       "    <tr>\n",
       "      <th>4</th>\n",
       "      <td>264</td>\n",
       "      <td>1</td>\n",
       "      <td>2016-12-07</td>\n",
       "    </tr>\n",
       "  </tbody>\n",
       "</table>\n",
       "</div>"
      ],
      "text/plain": [
       "   Loss  Period       Date\n",
       "0   650       1 2016-12-31\n",
       "1   847       1 2016-12-30\n",
       "2   242       1 2016-12-11\n",
       "3   513       1 2016-12-09\n",
       "4   264       1 2016-12-07"
      ]
     },
     "execution_count": 69,
     "metadata": {},
     "output_type": "execute_result"
    }
   ],
   "source": [
    "# Downloading necessary files\n",
    "# Operational losses type 4\n",
    "filepath_4 = 'C:/Users/user/Documents/R studio/file4.xlsx'\n",
    "df_loss_4 = pd.read_excel(filepath_4)\n",
    "df_loss_4.head()"
   ]
  },
  {
   "cell_type": "markdown",
   "id": "8db6dbbf",
   "metadata": {},
   "source": [
    "# 1. Exploratory Data Analysis"
   ]
  },
  {
   "cell_type": "code",
   "execution_count": 70,
   "id": "ea59b997",
   "metadata": {},
   "outputs": [
    {
     "name": "stdout",
     "output_type": "stream",
     "text": [
      "Shape of df_loss_1 : (1965, 3)\n",
      "Total number of rows : 1965\n",
      "Total number of columns : 3\n"
     ]
    }
   ],
   "source": [
    "print(f'Shape of df_loss_1 : {df_loss_1.shape}')\n",
    "print(f'Total number of rows : {df_loss_1.shape[0]}')\n",
    "print(f'Total number of columns : {df_loss_1.shape[1]}')"
   ]
  },
  {
   "cell_type": "code",
   "execution_count": 71,
   "id": "d9a46720",
   "metadata": {},
   "outputs": [
    {
     "name": "stdout",
     "output_type": "stream",
     "text": [
      "Shape of df_loss_2 : (2025, 3)\n",
      "Total number of rows : 2025\n",
      "Total number of columns : 3\n"
     ]
    }
   ],
   "source": [
    "print(f'Shape of df_loss_2 : {df_loss_2.shape}')\n",
    "print(f'Total number of rows : {df_loss_2.shape[0]}')\n",
    "print(f'Total number of columns : {df_loss_2.shape[1]}')"
   ]
  },
  {
   "cell_type": "code",
   "execution_count": 72,
   "id": "c5382608",
   "metadata": {},
   "outputs": [
    {
     "name": "stdout",
     "output_type": "stream",
     "text": [
      "Shape of df_loss_3 : (1995, 3)\n",
      "Total number of rows : 1995\n",
      "Total number of columns : 3\n"
     ]
    }
   ],
   "source": [
    "print(f'Shape of df_loss_3 : {df_loss_3.shape}')\n",
    "print(f'Total number of rows : {df_loss_3.shape[0]}')\n",
    "print(f'Total number of columns : {df_loss_3.shape[1]}')"
   ]
  },
  {
   "cell_type": "code",
   "execution_count": 73,
   "id": "a7dd09a9",
   "metadata": {},
   "outputs": [
    {
     "name": "stdout",
     "output_type": "stream",
     "text": [
      "Shape of df_loss_4 : (1941, 3)\n",
      "Total number of rows : 1941\n",
      "Total number of columns : 3\n"
     ]
    }
   ],
   "source": [
    "print(f'Shape of df_loss_4 : {df_loss_4.shape}')\n",
    "print(f'Total number of rows : {df_loss_4.shape[0]}')\n",
    "print(f'Total number of columns : {df_loss_4.shape[1]}')"
   ]
  },
  {
   "cell_type": "markdown",
   "id": "7e225d06",
   "metadata": {},
   "source": [
    "Checking dataframes"
   ]
  },
  {
   "cell_type": "code",
   "execution_count": 75,
   "id": "dfc5a8bc",
   "metadata": {},
   "outputs": [
    {
     "name": "stdout",
     "output_type": "stream",
     "text": [
      "<class 'pandas.core.frame.DataFrame'>\n",
      "RangeIndex: 1965 entries, 0 to 1964\n",
      "Data columns (total 3 columns):\n",
      " #   Column  Non-Null Count  Dtype         \n",
      "---  ------  --------------  -----         \n",
      " 0   Loss    1965 non-null   int64         \n",
      " 1   Period  1965 non-null   int64         \n",
      " 2   Date    1965 non-null   datetime64[ns]\n",
      "dtypes: datetime64[ns](1), int64(2)\n",
      "memory usage: 46.2 KB\n"
     ]
    }
   ],
   "source": [
    "df_loss_1.info()"
   ]
  },
  {
   "cell_type": "code",
   "execution_count": 76,
   "id": "5851ec32",
   "metadata": {},
   "outputs": [
    {
     "name": "stdout",
     "output_type": "stream",
     "text": [
      "<class 'pandas.core.frame.DataFrame'>\n",
      "RangeIndex: 2025 entries, 0 to 2024\n",
      "Data columns (total 3 columns):\n",
      " #   Column  Non-Null Count  Dtype         \n",
      "---  ------  --------------  -----         \n",
      " 0   Loss    2025 non-null   int64         \n",
      " 1   Period  2025 non-null   int64         \n",
      " 2   Date    2025 non-null   datetime64[ns]\n",
      "dtypes: datetime64[ns](1), int64(2)\n",
      "memory usage: 47.6 KB\n"
     ]
    }
   ],
   "source": [
    "df_loss_2.info()"
   ]
  },
  {
   "cell_type": "code",
   "execution_count": 77,
   "id": "9661bece",
   "metadata": {},
   "outputs": [
    {
     "name": "stdout",
     "output_type": "stream",
     "text": [
      "<class 'pandas.core.frame.DataFrame'>\n",
      "RangeIndex: 1995 entries, 0 to 1994\n",
      "Data columns (total 3 columns):\n",
      " #   Column  Non-Null Count  Dtype         \n",
      "---  ------  --------------  -----         \n",
      " 0   Loss    1995 non-null   int64         \n",
      " 1   Period  1995 non-null   int64         \n",
      " 2   Date    1995 non-null   datetime64[ns]\n",
      "dtypes: datetime64[ns](1), int64(2)\n",
      "memory usage: 46.9 KB\n"
     ]
    }
   ],
   "source": [
    "df_loss_3.info()"
   ]
  },
  {
   "cell_type": "code",
   "execution_count": 78,
   "id": "695da2ea",
   "metadata": {},
   "outputs": [
    {
     "name": "stdout",
     "output_type": "stream",
     "text": [
      "<class 'pandas.core.frame.DataFrame'>\n",
      "RangeIndex: 1941 entries, 0 to 1940\n",
      "Data columns (total 3 columns):\n",
      " #   Column  Non-Null Count  Dtype         \n",
      "---  ------  --------------  -----         \n",
      " 0   Loss    1941 non-null   int64         \n",
      " 1   Period  1941 non-null   int64         \n",
      " 2   Date    1941 non-null   datetime64[ns]\n",
      "dtypes: datetime64[ns](1), int64(2)\n",
      "memory usage: 45.6 KB\n"
     ]
    }
   ],
   "source": [
    "df_loss_4.info()"
   ]
  },
  {
   "cell_type": "markdown",
   "id": "15b6836d",
   "metadata": {},
   "source": [
    "# Observations:\n",
    "Numeric features have int64 dtype:\n",
    "1. Loss\n",
    "2. Period\n",
    "\n",
    "Date feature has datetime64[ns] dtype."
   ]
  },
  {
   "cell_type": "markdown",
   "id": "28aa06ef",
   "metadata": {},
   "source": [
    "# 2. Checking for null and duplicate values"
   ]
  },
  {
   "cell_type": "code",
   "execution_count": 79,
   "id": "4823ca1c",
   "metadata": {},
   "outputs": [
    {
     "data": {
      "text/plain": [
       "Loss      0\n",
       "Period    0\n",
       "Date      0\n",
       "dtype: int64"
      ]
     },
     "execution_count": 79,
     "metadata": {},
     "output_type": "execute_result"
    }
   ],
   "source": [
    "df_loss_1.isna().sum()"
   ]
  },
  {
   "cell_type": "code",
   "execution_count": 80,
   "id": "6c317f5b",
   "metadata": {},
   "outputs": [
    {
     "data": {
      "text/plain": [
       "0"
      ]
     },
     "execution_count": 80,
     "metadata": {},
     "output_type": "execute_result"
    }
   ],
   "source": [
    "df_loss_1.duplicated().sum()"
   ]
  },
  {
   "cell_type": "code",
   "execution_count": 81,
   "id": "ff619ab5",
   "metadata": {},
   "outputs": [
    {
     "data": {
      "text/plain": [
       "Loss      0\n",
       "Period    0\n",
       "Date      0\n",
       "dtype: int64"
      ]
     },
     "execution_count": 81,
     "metadata": {},
     "output_type": "execute_result"
    }
   ],
   "source": [
    "df_loss_2.isna().sum()"
   ]
  },
  {
   "cell_type": "code",
   "execution_count": 82,
   "id": "f1b206e3",
   "metadata": {},
   "outputs": [
    {
     "data": {
      "text/plain": [
       "0"
      ]
     },
     "execution_count": 82,
     "metadata": {},
     "output_type": "execute_result"
    }
   ],
   "source": [
    "df_loss_2.duplicated().sum()"
   ]
  },
  {
   "cell_type": "code",
   "execution_count": 83,
   "id": "3647ea5d",
   "metadata": {},
   "outputs": [
    {
     "data": {
      "text/plain": [
       "Loss      0\n",
       "Period    0\n",
       "Date      0\n",
       "dtype: int64"
      ]
     },
     "execution_count": 83,
     "metadata": {},
     "output_type": "execute_result"
    }
   ],
   "source": [
    "df_loss_3.isna().sum()"
   ]
  },
  {
   "cell_type": "code",
   "execution_count": 84,
   "id": "31534c35",
   "metadata": {},
   "outputs": [
    {
     "data": {
      "text/plain": [
       "0"
      ]
     },
     "execution_count": 84,
     "metadata": {},
     "output_type": "execute_result"
    }
   ],
   "source": [
    "df_loss_3.duplicated().sum()"
   ]
  },
  {
   "cell_type": "code",
   "execution_count": 85,
   "id": "161a4f7b",
   "metadata": {},
   "outputs": [
    {
     "data": {
      "text/plain": [
       "Loss      0\n",
       "Period    0\n",
       "Date      0\n",
       "dtype: int64"
      ]
     },
     "execution_count": 85,
     "metadata": {},
     "output_type": "execute_result"
    }
   ],
   "source": [
    "df_loss_4.isna().sum()"
   ]
  },
  {
   "cell_type": "code",
   "execution_count": 86,
   "id": "06ba6415",
   "metadata": {},
   "outputs": [
    {
     "data": {
      "text/plain": [
       "0"
      ]
     },
     "execution_count": 86,
     "metadata": {},
     "output_type": "execute_result"
    }
   ],
   "source": [
    "df_loss_4.duplicated().sum()"
   ]
  },
  {
   "cell_type": "code",
   "execution_count": 87,
   "id": "b0ddf601",
   "metadata": {},
   "outputs": [
    {
     "data": {
      "text/html": [
       "<div>\n",
       "<style scoped>\n",
       "    .dataframe tbody tr th:only-of-type {\n",
       "        vertical-align: middle;\n",
       "    }\n",
       "\n",
       "    .dataframe tbody tr th {\n",
       "        vertical-align: top;\n",
       "    }\n",
       "\n",
       "    .dataframe thead th {\n",
       "        text-align: right;\n",
       "    }\n",
       "</style>\n",
       "<table border=\"1\" class=\"dataframe\">\n",
       "  <thead>\n",
       "    <tr style=\"text-align: right;\">\n",
       "      <th></th>\n",
       "      <th>count</th>\n",
       "      <th>mean</th>\n",
       "      <th>std</th>\n",
       "      <th>min</th>\n",
       "      <th>25%</th>\n",
       "      <th>50%</th>\n",
       "      <th>75%</th>\n",
       "      <th>max</th>\n",
       "    </tr>\n",
       "  </thead>\n",
       "  <tbody>\n",
       "    <tr>\n",
       "      <th>Loss</th>\n",
       "      <td>1965.0</td>\n",
       "      <td>1016.951145</td>\n",
       "      <td>881.787605</td>\n",
       "      <td>5.0</td>\n",
       "      <td>359.0</td>\n",
       "      <td>760.0</td>\n",
       "      <td>1428.0</td>\n",
       "      <td>6382.0</td>\n",
       "    </tr>\n",
       "    <tr>\n",
       "      <th>Period</th>\n",
       "      <td>1965.0</td>\n",
       "      <td>20.513995</td>\n",
       "      <td>11.514377</td>\n",
       "      <td>1.0</td>\n",
       "      <td>10.0</td>\n",
       "      <td>21.0</td>\n",
       "      <td>30.0</td>\n",
       "      <td>40.0</td>\n",
       "    </tr>\n",
       "  </tbody>\n",
       "</table>\n",
       "</div>"
      ],
      "text/plain": [
       "         count         mean         std  min    25%    50%     75%     max\n",
       "Loss    1965.0  1016.951145  881.787605  5.0  359.0  760.0  1428.0  6382.0\n",
       "Period  1965.0    20.513995   11.514377  1.0   10.0   21.0    30.0    40.0"
      ]
     },
     "metadata": {},
     "output_type": "display_data"
    }
   ],
   "source": [
    "display(df_loss_1.describe().transpose())"
   ]
  },
  {
   "cell_type": "code",
   "execution_count": 88,
   "id": "ef56709a",
   "metadata": {},
   "outputs": [
    {
     "data": {
      "text/html": [
       "<div>\n",
       "<style scoped>\n",
       "    .dataframe tbody tr th:only-of-type {\n",
       "        vertical-align: middle;\n",
       "    }\n",
       "\n",
       "    .dataframe tbody tr th {\n",
       "        vertical-align: top;\n",
       "    }\n",
       "\n",
       "    .dataframe thead th {\n",
       "        text-align: right;\n",
       "    }\n",
       "</style>\n",
       "<table border=\"1\" class=\"dataframe\">\n",
       "  <thead>\n",
       "    <tr style=\"text-align: right;\">\n",
       "      <th></th>\n",
       "      <th>count</th>\n",
       "      <th>mean</th>\n",
       "      <th>std</th>\n",
       "      <th>min</th>\n",
       "      <th>25%</th>\n",
       "      <th>50%</th>\n",
       "      <th>75%</th>\n",
       "      <th>max</th>\n",
       "    </tr>\n",
       "  </thead>\n",
       "  <tbody>\n",
       "    <tr>\n",
       "      <th>Loss</th>\n",
       "      <td>2025.0</td>\n",
       "      <td>1139.487901</td>\n",
       "      <td>1000.868135</td>\n",
       "      <td>3.0</td>\n",
       "      <td>388.0</td>\n",
       "      <td>850.0</td>\n",
       "      <td>1603.0</td>\n",
       "      <td>6213.0</td>\n",
       "    </tr>\n",
       "    <tr>\n",
       "      <th>Period</th>\n",
       "      <td>2025.0</td>\n",
       "      <td>20.395062</td>\n",
       "      <td>11.628088</td>\n",
       "      <td>1.0</td>\n",
       "      <td>10.0</td>\n",
       "      <td>20.0</td>\n",
       "      <td>31.0</td>\n",
       "      <td>40.0</td>\n",
       "    </tr>\n",
       "  </tbody>\n",
       "</table>\n",
       "</div>"
      ],
      "text/plain": [
       "         count         mean          std  min    25%    50%     75%     max\n",
       "Loss    2025.0  1139.487901  1000.868135  3.0  388.0  850.0  1603.0  6213.0\n",
       "Period  2025.0    20.395062    11.628088  1.0   10.0   20.0    31.0    40.0"
      ]
     },
     "metadata": {},
     "output_type": "display_data"
    }
   ],
   "source": [
    "display(df_loss_2.describe().transpose())"
   ]
  },
  {
   "cell_type": "code",
   "execution_count": 89,
   "id": "1019dbc2",
   "metadata": {},
   "outputs": [
    {
     "data": {
      "text/html": [
       "<div>\n",
       "<style scoped>\n",
       "    .dataframe tbody tr th:only-of-type {\n",
       "        vertical-align: middle;\n",
       "    }\n",
       "\n",
       "    .dataframe tbody tr th {\n",
       "        vertical-align: top;\n",
       "    }\n",
       "\n",
       "    .dataframe thead th {\n",
       "        text-align: right;\n",
       "    }\n",
       "</style>\n",
       "<table border=\"1\" class=\"dataframe\">\n",
       "  <thead>\n",
       "    <tr style=\"text-align: right;\">\n",
       "      <th></th>\n",
       "      <th>count</th>\n",
       "      <th>mean</th>\n",
       "      <th>std</th>\n",
       "      <th>min</th>\n",
       "      <th>25%</th>\n",
       "      <th>50%</th>\n",
       "      <th>75%</th>\n",
       "      <th>max</th>\n",
       "    </tr>\n",
       "  </thead>\n",
       "  <tbody>\n",
       "    <tr>\n",
       "      <th>Loss</th>\n",
       "      <td>1995.0</td>\n",
       "      <td>1051.507268</td>\n",
       "      <td>940.738532</td>\n",
       "      <td>48.0</td>\n",
       "      <td>464.0</td>\n",
       "      <td>788.0</td>\n",
       "      <td>1325.0</td>\n",
       "      <td>12092.0</td>\n",
       "    </tr>\n",
       "    <tr>\n",
       "      <th>Period</th>\n",
       "      <td>1995.0</td>\n",
       "      <td>20.231579</td>\n",
       "      <td>11.871702</td>\n",
       "      <td>1.0</td>\n",
       "      <td>10.0</td>\n",
       "      <td>20.0</td>\n",
       "      <td>31.0</td>\n",
       "      <td>40.0</td>\n",
       "    </tr>\n",
       "  </tbody>\n",
       "</table>\n",
       "</div>"
      ],
      "text/plain": [
       "         count         mean         std   min    25%    50%     75%      max\n",
       "Loss    1995.0  1051.507268  940.738532  48.0  464.0  788.0  1325.0  12092.0\n",
       "Period  1995.0    20.231579   11.871702   1.0   10.0   20.0    31.0     40.0"
      ]
     },
     "metadata": {},
     "output_type": "display_data"
    }
   ],
   "source": [
    "display(df_loss_3.describe().transpose())"
   ]
  },
  {
   "cell_type": "code",
   "execution_count": 90,
   "id": "d20d8987",
   "metadata": {},
   "outputs": [
    {
     "data": {
      "text/html": [
       "<div>\n",
       "<style scoped>\n",
       "    .dataframe tbody tr th:only-of-type {\n",
       "        vertical-align: middle;\n",
       "    }\n",
       "\n",
       "    .dataframe tbody tr th {\n",
       "        vertical-align: top;\n",
       "    }\n",
       "\n",
       "    .dataframe thead th {\n",
       "        text-align: right;\n",
       "    }\n",
       "</style>\n",
       "<table border=\"1\" class=\"dataframe\">\n",
       "  <thead>\n",
       "    <tr style=\"text-align: right;\">\n",
       "      <th></th>\n",
       "      <th>count</th>\n",
       "      <th>mean</th>\n",
       "      <th>std</th>\n",
       "      <th>min</th>\n",
       "      <th>25%</th>\n",
       "      <th>50%</th>\n",
       "      <th>75%</th>\n",
       "      <th>max</th>\n",
       "    </tr>\n",
       "  </thead>\n",
       "  <tbody>\n",
       "    <tr>\n",
       "      <th>Loss</th>\n",
       "      <td>1941.0</td>\n",
       "      <td>969.105100</td>\n",
       "      <td>781.152228</td>\n",
       "      <td>201.0</td>\n",
       "      <td>411.0</td>\n",
       "      <td>717.0</td>\n",
       "      <td>1255.0</td>\n",
       "      <td>6215.0</td>\n",
       "    </tr>\n",
       "    <tr>\n",
       "      <th>Period</th>\n",
       "      <td>1941.0</td>\n",
       "      <td>20.519835</td>\n",
       "      <td>11.498106</td>\n",
       "      <td>1.0</td>\n",
       "      <td>11.0</td>\n",
       "      <td>20.0</td>\n",
       "      <td>30.0</td>\n",
       "      <td>40.0</td>\n",
       "    </tr>\n",
       "  </tbody>\n",
       "</table>\n",
       "</div>"
      ],
      "text/plain": [
       "         count        mean         std    min    25%    50%     75%     max\n",
       "Loss    1941.0  969.105100  781.152228  201.0  411.0  717.0  1255.0  6215.0\n",
       "Period  1941.0   20.519835   11.498106    1.0   11.0   20.0    30.0    40.0"
      ]
     },
     "metadata": {},
     "output_type": "display_data"
    }
   ],
   "source": [
    "display(df_loss_4.describe().transpose())"
   ]
  },
  {
   "cell_type": "markdown",
   "id": "c34d7dd3",
   "metadata": {},
   "source": [
    "# Observations\n",
    "1. There are no null and duplicated values in all dataframes (Operational Risk Type 1, Type 2, Type 3 and Type 4).\n",
    "2. For all dataframes the mean and median have significant difference that shows the Operational Risk Loss data is skewed. "
   ]
  },
  {
   "cell_type": "markdown",
   "id": "737bff92",
   "metadata": {},
   "source": [
    "# 3. Numerical Features Data Analysis"
   ]
  },
  {
   "cell_type": "markdown",
   "id": "ea83a995",
   "metadata": {},
   "source": [
    "1. Operational Risk Loss Type 1"
   ]
  },
  {
   "cell_type": "code",
   "execution_count": 91,
   "id": "d34414d9",
   "metadata": {},
   "outputs": [
    {
     "data": {
      "text/plain": [
       "Text(0.5, 1.0, 'Operational loss type 1')"
      ]
     },
     "execution_count": 91,
     "metadata": {},
     "output_type": "execute_result"
    },
    {
     "data": {
      "image/png": "[encoded data removed]",
      "text/plain": [
       "<Figure size 640x480 with 1 Axes>"
      ]
     },
     "metadata": {},
     "output_type": "display_data"
    }
   ],
   "source": [
    "# Histogram of distribution of Operational Risk Losses type 1\n",
    "sns.histplot(df_loss_1['Loss'], bins = 10, color = 'skyblue', kde = True)\n",
    "plt.xlabel('Operational loss (amount)')\n",
    "plt.ylabel('Frequency')\n",
    "plt.title('Operational loss type 1')"
   ]
  },
  {
   "cell_type": "code",
   "execution_count": 92,
   "id": "b0ed7978",
   "metadata": {},
   "outputs": [
    {
     "data": {
      "text/plain": [
       "Text(0.5, 1.0, 'Boxplot Operational Loss Type 1')"
      ]
     },
     "execution_count": 92,
     "metadata": {},
     "output_type": "execute_result"
    },
    {
     "data": {
      "image/png": "[encoded data removed]",
      "text/plain": [
       "<Figure size 640x480 with 1 Axes>"
      ]
     },
     "metadata": {},
     "output_type": "display_data"
    }
   ],
   "source": [
    "# Boxplot of distribution of Operational Risk Losses type 1\n",
    "sns.boxplot(x = 'Loss', data = df_loss_1, showfliers = True, showbox = True)\n",
    "plt.title('Boxplot Operational Loss Type 1')"
   ]
  },
  {
   "cell_type": "markdown",
   "id": "7cea7816",
   "metadata": {},
   "source": [
    "2. Operational Risk Loss Type 2"
   ]
  },
  {
   "cell_type": "code",
   "execution_count": 93,
   "id": "4a29770f",
   "metadata": {},
   "outputs": [
    {
     "data": {
      "text/plain": [
       "Text(0.5, 1.0, 'Operational loss type 2')"
      ]
     },
     "execution_count": 93,
     "metadata": {},
     "output_type": "execute_result"
    },
    {
     "data": {
      "image/png": "[encoded data removed]",
      "text/plain": [
       "<Figure size 640x480 with 1 Axes>"
      ]
     },
     "metadata": {},
     "output_type": "display_data"
    }
   ],
   "source": [
    "# Histogram of distribution of Operational Risk Losses type 2\n",
    "sns.histplot(df_loss_2['Loss'], bins = 10, color = 'red', kde = True)\n",
    "plt.xlabel('Operational loss (amount)')\n",
    "plt.ylabel('Frequency')\n",
    "plt.title('Operational loss type 2')"
   ]
  },
  {
   "cell_type": "code",
   "execution_count": 94,
   "id": "bb6fa098",
   "metadata": {},
   "outputs": [
    {
     "data": {
      "text/plain": [
       "Text(0.5, 1.0, 'Boxplot Operational Loss Type 2')"
      ]
     },
     "execution_count": 94,
     "metadata": {},
     "output_type": "execute_result"
    },
    {
     "data": {
      "image/png": "[encoded data removed]",
      "text/plain": [
       "<Figure size 640x480 with 1 Axes>"
      ]
     },
     "metadata": {},
     "output_type": "display_data"
    }
   ],
   "source": [
    "# Boxplot of distribution of Operational Risk Losses type 2\n",
    "sns.boxplot(x = 'Loss', data = df_loss_2, showfliers = True, showbox = True)\n",
    "plt.title('Boxplot Operational Loss Type 2')"
   ]
  },
  {
   "cell_type": "markdown",
   "id": "f75afdf5",
   "metadata": {},
   "source": [
    "3. Operational Risk Loss Type 3"
   ]
  },
  {
   "cell_type": "code",
   "execution_count": 95,
   "id": "55312ced",
   "metadata": {},
   "outputs": [
    {
     "data": {
      "text/plain": [
       "Text(0.5, 1.0, 'Operational loss type 3')"
      ]
     },
     "execution_count": 95,
     "metadata": {},
     "output_type": "execute_result"
    },
    {
     "data": {
      "image/png": "[encoded data removed]",
      "text/plain": [
       "<Figure size 640x480 with 1 Axes>"
      ]
     },
     "metadata": {},
     "output_type": "display_data"
    }
   ],
   "source": [
    "# Histogram of distribution of Operational Risk Losses type 3\n",
    "sns.histplot(df_loss_3['Loss'], bins = 10, color = 'green', kde = True)\n",
    "plt.xlabel('Operational loss (amount)')\n",
    "plt.ylabel('Frequency')\n",
    "plt.title('Operational loss type 3')"
   ]
  },
  {
   "cell_type": "code",
   "execution_count": 96,
   "id": "7016aba8",
   "metadata": {},
   "outputs": [
    {
     "data": {
      "text/plain": [
       "Text(0.5, 1.0, 'Boxplot Operational Loss Type 3')"
      ]
     },
     "execution_count": 96,
     "metadata": {},
     "output_type": "execute_result"
    },
    {
     "data": {
      "image/png": "[encoded data removed]",
      "text/plain": [
       "<Figure size 640x480 with 1 Axes>"
      ]
     },
     "metadata": {},
     "output_type": "display_data"
    }
   ],
   "source": [
    "# Boxplot of distribution of Operational Risk Losses type 3\n",
    "sns.boxplot(x = 'Loss', data = df_loss_3, showfliers = True, showbox = True)\n",
    "plt.title('Boxplot Operational Loss Type 3')"
   ]
  },
  {
   "cell_type": "markdown",
   "id": "b0255b94",
   "metadata": {},
   "source": [
    "4. Operational Risk Loss Type 4"
   ]
  },
  {
   "cell_type": "code",
   "execution_count": 97,
   "id": "ce56ea86",
   "metadata": {},
   "outputs": [
    {
     "data": {
      "text/plain": [
       "Text(0.5, 1.0, 'Operational loss type 4')"
      ]
     },
     "execution_count": 97,
     "metadata": {},
     "output_type": "execute_result"
    },
    {
     "data": {
      "image/png": "[encoded data removed]",
      "text/plain": [
       "<Figure size 640x480 with 1 Axes>"
      ]
     },
     "metadata": {},
     "output_type": "display_data"
    }
   ],
   "source": [
    "# Histogram of distribution of Operational Risk Losses type 4\n",
    "sns.histplot(df_loss_4['Loss'], bins = 10, color = 'orange', kde = True)\n",
    "plt.xlabel('Operational loss (amount)')\n",
    "plt.ylabel('Frequency')\n",
    "plt.title('Operational loss type 4')"
   ]
  },
  {
   "cell_type": "code",
   "execution_count": 98,
   "id": "d86103bc",
   "metadata": {},
   "outputs": [
    {
     "data": {
      "text/plain": [
       "Text(0.5, 1.0, 'Boxplot Operational Loss Type 4')"
      ]
     },
     "execution_count": 98,
     "metadata": {},
     "output_type": "execute_result"
    },
    {
     "data": {
      "image/png": "[encoded data removed]",
      "text/plain": [
       "<Figure size 640x480 with 1 Axes>"
      ]
     },
     "metadata": {},
     "output_type": "display_data"
    }
   ],
   "source": [
    "# Boxplot of distribution of Operational Risk Losses type 4\n",
    "sns.boxplot(x = 'Loss', data = df_loss_4, showfliers = True, showbox = True)\n",
    "plt.title('Boxplot Operational Loss Type 4')"
   ]
  },
  {
   "cell_type": "markdown",
   "id": "8c7ebb43",
   "metadata": {},
   "source": [
    "# Observations\n",
    "Operational Risk Losses of Type 1, Type 2, Type 3 and Type 4 are skewed to the left of distribution which tells that data has more Operational Risk Losses with small amount, but having values at the right of the distributions shows presence of outliers which is confirmed by Boxplots of each distribution."
   ]
  },
  {
   "cell_type": "markdown",
   "id": "5a01efbb",
   "metadata": {},
   "source": [
    "# 4. Data Preprocessing"
   ]
  },
  {
   "cell_type": "markdown",
   "id": "5e848b34",
   "metadata": {},
   "source": [
    "# Number/frequency of Operational Risk Losses"
   ]
  },
  {
   "cell_type": "markdown",
   "id": "3356ddf4",
   "metadata": {},
   "source": [
    "1. Operational Risk Loss Type 1"
   ]
  },
  {
   "cell_type": "code",
   "execution_count": 99,
   "id": "1a48e7f7",
   "metadata": {},
   "outputs": [
    {
     "data": {
      "text/plain": [
       "Date\n",
       "2007-01    14\n",
       "2007-02    20\n",
       "2007-03    17\n",
       "2007-04    15\n",
       "2007-05    17\n",
       "           ..\n",
       "2016-08    16\n",
       "2016-09    16\n",
       "2016-10    18\n",
       "2016-11    14\n",
       "2016-12    13\n",
       "Freq: M, Length: 120, dtype: int64"
      ]
     },
     "execution_count": 99,
     "metadata": {},
     "output_type": "execute_result"
    }
   ],
   "source": [
    "# Calculating number/frequency of operational losses per month for type 1\n",
    "freq_monthly_type1 = df_loss_1.groupby(df_loss_1['Date'].dt.to_period('M')).size()\n",
    "freq_monthly_type1"
   ]
  },
  {
   "cell_type": "code",
   "execution_count": 100,
   "id": "93ae9f40",
   "metadata": {},
   "outputs": [
    {
     "data": {
      "text/html": [
       "<div>\n",
       "<style scoped>\n",
       "    .dataframe tbody tr th:only-of-type {\n",
       "        vertical-align: middle;\n",
       "    }\n",
       "\n",
       "    .dataframe tbody tr th {\n",
       "        vertical-align: top;\n",
       "    }\n",
       "\n",
       "    .dataframe thead th {\n",
       "        text-align: right;\n",
       "    }\n",
       "</style>\n",
       "<table border=\"1\" class=\"dataframe\">\n",
       "  <thead>\n",
       "    <tr style=\"text-align: right;\">\n",
       "      <th></th>\n",
       "      <th>0</th>\n",
       "    </tr>\n",
       "    <tr>\n",
       "      <th>Date</th>\n",
       "      <th></th>\n",
       "    </tr>\n",
       "  </thead>\n",
       "  <tbody>\n",
       "    <tr>\n",
       "      <th>2007-01</th>\n",
       "      <td>14</td>\n",
       "    </tr>\n",
       "    <tr>\n",
       "      <th>2007-02</th>\n",
       "      <td>20</td>\n",
       "    </tr>\n",
       "    <tr>\n",
       "      <th>2007-03</th>\n",
       "      <td>17</td>\n",
       "    </tr>\n",
       "    <tr>\n",
       "      <th>2007-04</th>\n",
       "      <td>15</td>\n",
       "    </tr>\n",
       "    <tr>\n",
       "      <th>2007-05</th>\n",
       "      <td>17</td>\n",
       "    </tr>\n",
       "  </tbody>\n",
       "</table>\n",
       "</div>"
      ],
      "text/plain": [
       "          0\n",
       "Date       \n",
       "2007-01  14\n",
       "2007-02  20\n",
       "2007-03  17\n",
       "2007-04  15\n",
       "2007-05  17"
      ]
     },
     "execution_count": 100,
     "metadata": {},
     "output_type": "execute_result"
    }
   ],
   "source": [
    "# Converting to dataframe\n",
    "freq_monthly_type1 = pd.DataFrame(freq_monthly_type1)\n",
    "freq_monthly_type1.head()"
   ]
  },
  {
   "cell_type": "code",
   "execution_count": 101,
   "id": "aa706ebf",
   "metadata": {},
   "outputs": [
    {
     "data": {
      "text/html": [
       "<div>\n",
       "<style scoped>\n",
       "    .dataframe tbody tr th:only-of-type {\n",
       "        vertical-align: middle;\n",
       "    }\n",
       "\n",
       "    .dataframe tbody tr th {\n",
       "        vertical-align: top;\n",
       "    }\n",
       "\n",
       "    .dataframe thead th {\n",
       "        text-align: right;\n",
       "    }\n",
       "</style>\n",
       "<table border=\"1\" class=\"dataframe\">\n",
       "  <thead>\n",
       "    <tr style=\"text-align: right;\">\n",
       "      <th></th>\n",
       "      <th>Date</th>\n",
       "      <th>0</th>\n",
       "    </tr>\n",
       "  </thead>\n",
       "  <tbody>\n",
       "    <tr>\n",
       "      <th>0</th>\n",
       "      <td>2007-01</td>\n",
       "      <td>14</td>\n",
       "    </tr>\n",
       "    <tr>\n",
       "      <th>1</th>\n",
       "      <td>2007-02</td>\n",
       "      <td>20</td>\n",
       "    </tr>\n",
       "    <tr>\n",
       "      <th>2</th>\n",
       "      <td>2007-03</td>\n",
       "      <td>17</td>\n",
       "    </tr>\n",
       "    <tr>\n",
       "      <th>3</th>\n",
       "      <td>2007-04</td>\n",
       "      <td>15</td>\n",
       "    </tr>\n",
       "    <tr>\n",
       "      <th>4</th>\n",
       "      <td>2007-05</td>\n",
       "      <td>17</td>\n",
       "    </tr>\n",
       "    <tr>\n",
       "      <th>...</th>\n",
       "      <td>...</td>\n",
       "      <td>...</td>\n",
       "    </tr>\n",
       "    <tr>\n",
       "      <th>115</th>\n",
       "      <td>2016-08</td>\n",
       "      <td>16</td>\n",
       "    </tr>\n",
       "    <tr>\n",
       "      <th>116</th>\n",
       "      <td>2016-09</td>\n",
       "      <td>16</td>\n",
       "    </tr>\n",
       "    <tr>\n",
       "      <th>117</th>\n",
       "      <td>2016-10</td>\n",
       "      <td>18</td>\n",
       "    </tr>\n",
       "    <tr>\n",
       "      <th>118</th>\n",
       "      <td>2016-11</td>\n",
       "      <td>14</td>\n",
       "    </tr>\n",
       "    <tr>\n",
       "      <th>119</th>\n",
       "      <td>2016-12</td>\n",
       "      <td>13</td>\n",
       "    </tr>\n",
       "  </tbody>\n",
       "</table>\n",
       "<p>120 rows × 2 columns</p>\n",
       "</div>"
      ],
      "text/plain": [
       "        Date   0\n",
       "0    2007-01  14\n",
       "1    2007-02  20\n",
       "2    2007-03  17\n",
       "3    2007-04  15\n",
       "4    2007-05  17\n",
       "..       ...  ..\n",
       "115  2016-08  16\n",
       "116  2016-09  16\n",
       "117  2016-10  18\n",
       "118  2016-11  14\n",
       "119  2016-12  13\n",
       "\n",
       "[120 rows x 2 columns]"
      ]
     },
     "execution_count": 101,
     "metadata": {},
     "output_type": "execute_result"
    }
   ],
   "source": [
    "# Reseting index\n",
    "freq_monthly_type1.reset_index(inplace = True)\n",
    "freq_monthly_type1"
   ]
  },
  {
   "cell_type": "code",
   "execution_count": 102,
   "id": "f2f9e072",
   "metadata": {},
   "outputs": [
    {
     "data": {
      "text/html": [
       "<div>\n",
       "<style scoped>\n",
       "    .dataframe tbody tr th:only-of-type {\n",
       "        vertical-align: middle;\n",
       "    }\n",
       "\n",
       "    .dataframe tbody tr th {\n",
       "        vertical-align: top;\n",
       "    }\n",
       "\n",
       "    .dataframe thead th {\n",
       "        text-align: right;\n",
       "    }\n",
       "</style>\n",
       "<table border=\"1\" class=\"dataframe\">\n",
       "  <thead>\n",
       "    <tr style=\"text-align: right;\">\n",
       "      <th></th>\n",
       "      <th>Date</th>\n",
       "      <th>Frequency</th>\n",
       "    </tr>\n",
       "  </thead>\n",
       "  <tbody>\n",
       "    <tr>\n",
       "      <th>0</th>\n",
       "      <td>2007-01</td>\n",
       "      <td>14</td>\n",
       "    </tr>\n",
       "    <tr>\n",
       "      <th>1</th>\n",
       "      <td>2007-02</td>\n",
       "      <td>20</td>\n",
       "    </tr>\n",
       "    <tr>\n",
       "      <th>2</th>\n",
       "      <td>2007-03</td>\n",
       "      <td>17</td>\n",
       "    </tr>\n",
       "  </tbody>\n",
       "</table>\n",
       "</div>"
      ],
      "text/plain": [
       "      Date  Frequency\n",
       "0  2007-01         14\n",
       "1  2007-02         20\n",
       "2  2007-03         17"
      ]
     },
     "execution_count": 102,
     "metadata": {},
     "output_type": "execute_result"
    }
   ],
   "source": [
    "# Renaming column names\n",
    "freq_monthly_type1 = freq_monthly_type1.rename(columns = {0: 'Frequency'})\n",
    "freq_monthly_type1.head(3)"
   ]
  },
  {
   "cell_type": "markdown",
   "id": "c460555f",
   "metadata": {},
   "source": [
    "2. Operational Risk Loss Type 2"
   ]
  },
  {
   "cell_type": "code",
   "execution_count": 103,
   "id": "c2567d0e",
   "metadata": {},
   "outputs": [
    {
     "data": {
      "text/plain": [
       "Date\n",
       "2007-01    15\n",
       "2007-02    18\n",
       "2007-03    19\n",
       "2007-04    16\n",
       "2007-05    17\n",
       "           ..\n",
       "2016-08    24\n",
       "2016-09    12\n",
       "2016-10    19\n",
       "2016-11    23\n",
       "2016-12     9\n",
       "Freq: M, Length: 120, dtype: int64"
      ]
     },
     "execution_count": 103,
     "metadata": {},
     "output_type": "execute_result"
    }
   ],
   "source": [
    "# Calculating number/frequency of operational losses per month for type 2\n",
    "freq_monthly_type2 = df_loss_2.groupby(df_loss_2['Date'].dt.to_period('M')).size()\n",
    "freq_monthly_type2"
   ]
  },
  {
   "cell_type": "code",
   "execution_count": 104,
   "id": "9604ceb1",
   "metadata": {},
   "outputs": [
    {
     "data": {
      "text/html": [
       "<div>\n",
       "<style scoped>\n",
       "    .dataframe tbody tr th:only-of-type {\n",
       "        vertical-align: middle;\n",
       "    }\n",
       "\n",
       "    .dataframe tbody tr th {\n",
       "        vertical-align: top;\n",
       "    }\n",
       "\n",
       "    .dataframe thead th {\n",
       "        text-align: right;\n",
       "    }\n",
       "</style>\n",
       "<table border=\"1\" class=\"dataframe\">\n",
       "  <thead>\n",
       "    <tr style=\"text-align: right;\">\n",
       "      <th></th>\n",
       "      <th>0</th>\n",
       "    </tr>\n",
       "    <tr>\n",
       "      <th>Date</th>\n",
       "      <th></th>\n",
       "    </tr>\n",
       "  </thead>\n",
       "  <tbody>\n",
       "    <tr>\n",
       "      <th>2007-01</th>\n",
       "      <td>15</td>\n",
       "    </tr>\n",
       "    <tr>\n",
       "      <th>2007-02</th>\n",
       "      <td>18</td>\n",
       "    </tr>\n",
       "    <tr>\n",
       "      <th>2007-03</th>\n",
       "      <td>19</td>\n",
       "    </tr>\n",
       "    <tr>\n",
       "      <th>2007-04</th>\n",
       "      <td>16</td>\n",
       "    </tr>\n",
       "    <tr>\n",
       "      <th>2007-05</th>\n",
       "      <td>17</td>\n",
       "    </tr>\n",
       "  </tbody>\n",
       "</table>\n",
       "</div>"
      ],
      "text/plain": [
       "          0\n",
       "Date       \n",
       "2007-01  15\n",
       "2007-02  18\n",
       "2007-03  19\n",
       "2007-04  16\n",
       "2007-05  17"
      ]
     },
     "execution_count": 104,
     "metadata": {},
     "output_type": "execute_result"
    }
   ],
   "source": [
    "# Converting to dataframe\n",
    "freq_monthly_type2 = pd.DataFrame(freq_monthly_type2)\n",
    "freq_monthly_type2.head()"
   ]
  },
  {
   "cell_type": "code",
   "execution_count": 105,
   "id": "21c0bb2a",
   "metadata": {},
   "outputs": [
    {
     "data": {
      "text/html": [
       "<div>\n",
       "<style scoped>\n",
       "    .dataframe tbody tr th:only-of-type {\n",
       "        vertical-align: middle;\n",
       "    }\n",
       "\n",
       "    .dataframe tbody tr th {\n",
       "        vertical-align: top;\n",
       "    }\n",
       "\n",
       "    .dataframe thead th {\n",
       "        text-align: right;\n",
       "    }\n",
       "</style>\n",
       "<table border=\"1\" class=\"dataframe\">\n",
       "  <thead>\n",
       "    <tr style=\"text-align: right;\">\n",
       "      <th></th>\n",
       "      <th>Date</th>\n",
       "      <th>0</th>\n",
       "    </tr>\n",
       "  </thead>\n",
       "  <tbody>\n",
       "    <tr>\n",
       "      <th>0</th>\n",
       "      <td>2007-01</td>\n",
       "      <td>15</td>\n",
       "    </tr>\n",
       "    <tr>\n",
       "      <th>1</th>\n",
       "      <td>2007-02</td>\n",
       "      <td>18</td>\n",
       "    </tr>\n",
       "    <tr>\n",
       "      <th>2</th>\n",
       "      <td>2007-03</td>\n",
       "      <td>19</td>\n",
       "    </tr>\n",
       "    <tr>\n",
       "      <th>3</th>\n",
       "      <td>2007-04</td>\n",
       "      <td>16</td>\n",
       "    </tr>\n",
       "    <tr>\n",
       "      <th>4</th>\n",
       "      <td>2007-05</td>\n",
       "      <td>17</td>\n",
       "    </tr>\n",
       "    <tr>\n",
       "      <th>...</th>\n",
       "      <td>...</td>\n",
       "      <td>...</td>\n",
       "    </tr>\n",
       "    <tr>\n",
       "      <th>115</th>\n",
       "      <td>2016-08</td>\n",
       "      <td>24</td>\n",
       "    </tr>\n",
       "    <tr>\n",
       "      <th>116</th>\n",
       "      <td>2016-09</td>\n",
       "      <td>12</td>\n",
       "    </tr>\n",
       "    <tr>\n",
       "      <th>117</th>\n",
       "      <td>2016-10</td>\n",
       "      <td>19</td>\n",
       "    </tr>\n",
       "    <tr>\n",
       "      <th>118</th>\n",
       "      <td>2016-11</td>\n",
       "      <td>23</td>\n",
       "    </tr>\n",
       "    <tr>\n",
       "      <th>119</th>\n",
       "      <td>2016-12</td>\n",
       "      <td>9</td>\n",
       "    </tr>\n",
       "  </tbody>\n",
       "</table>\n",
       "<p>120 rows × 2 columns</p>\n",
       "</div>"
      ],
      "text/plain": [
       "        Date   0\n",
       "0    2007-01  15\n",
       "1    2007-02  18\n",
       "2    2007-03  19\n",
       "3    2007-04  16\n",
       "4    2007-05  17\n",
       "..       ...  ..\n",
       "115  2016-08  24\n",
       "116  2016-09  12\n",
       "117  2016-10  19\n",
       "118  2016-11  23\n",
       "119  2016-12   9\n",
       "\n",
       "[120 rows x 2 columns]"
      ]
     },
     "execution_count": 105,
     "metadata": {},
     "output_type": "execute_result"
    }
   ],
   "source": [
    "# Reseting index\n",
    "freq_monthly_type2.reset_index(inplace = True)\n",
    "freq_monthly_type2"
   ]
  },
  {
   "cell_type": "code",
   "execution_count": 106,
   "id": "a5fd72b3",
   "metadata": {},
   "outputs": [
    {
     "data": {
      "text/html": [
       "<div>\n",
       "<style scoped>\n",
       "    .dataframe tbody tr th:only-of-type {\n",
       "        vertical-align: middle;\n",
       "    }\n",
       "\n",
       "    .dataframe tbody tr th {\n",
       "        vertical-align: top;\n",
       "    }\n",
       "\n",
       "    .dataframe thead th {\n",
       "        text-align: right;\n",
       "    }\n",
       "</style>\n",
       "<table border=\"1\" class=\"dataframe\">\n",
       "  <thead>\n",
       "    <tr style=\"text-align: right;\">\n",
       "      <th></th>\n",
       "      <th>Date</th>\n",
       "      <th>Frequency</th>\n",
       "    </tr>\n",
       "  </thead>\n",
       "  <tbody>\n",
       "    <tr>\n",
       "      <th>0</th>\n",
       "      <td>2007-01</td>\n",
       "      <td>15</td>\n",
       "    </tr>\n",
       "    <tr>\n",
       "      <th>1</th>\n",
       "      <td>2007-02</td>\n",
       "      <td>18</td>\n",
       "    </tr>\n",
       "    <tr>\n",
       "      <th>2</th>\n",
       "      <td>2007-03</td>\n",
       "      <td>19</td>\n",
       "    </tr>\n",
       "  </tbody>\n",
       "</table>\n",
       "</div>"
      ],
      "text/plain": [
       "      Date  Frequency\n",
       "0  2007-01         15\n",
       "1  2007-02         18\n",
       "2  2007-03         19"
      ]
     },
     "execution_count": 106,
     "metadata": {},
     "output_type": "execute_result"
    }
   ],
   "source": [
    "# Renaming column names\n",
    "freq_monthly_type2 = freq_monthly_type2.rename(columns = {0: 'Frequency'})\n",
    "freq_monthly_type2.head(3)"
   ]
  },
  {
   "cell_type": "markdown",
   "id": "d26393ec",
   "metadata": {},
   "source": [
    "3. Operational Risk Loss Type 3"
   ]
  },
  {
   "cell_type": "code",
   "execution_count": 107,
   "id": "4f462493",
   "metadata": {},
   "outputs": [
    {
     "data": {
      "text/plain": [
       "Date\n",
       "2007-01    16\n",
       "2007-02    14\n",
       "2007-03    18\n",
       "2007-04    18\n",
       "2007-05    18\n",
       "           ..\n",
       "2016-08    17\n",
       "2016-09    16\n",
       "2016-10    18\n",
       "2016-11    15\n",
       "2016-12    24\n",
       "Freq: M, Length: 120, dtype: int64"
      ]
     },
     "execution_count": 107,
     "metadata": {},
     "output_type": "execute_result"
    }
   ],
   "source": [
    "# Calculating number/frequency of operational losses per month for type 3\n",
    "freq_monthly_type3 = df_loss_3.groupby(df_loss_3['Date'].dt.to_period('M')).size()\n",
    "freq_monthly_type3"
   ]
  },
  {
   "cell_type": "code",
   "execution_count": 108,
   "id": "5739e0bb",
   "metadata": {},
   "outputs": [
    {
     "data": {
      "text/html": [
       "<div>\n",
       "<style scoped>\n",
       "    .dataframe tbody tr th:only-of-type {\n",
       "        vertical-align: middle;\n",
       "    }\n",
       "\n",
       "    .dataframe tbody tr th {\n",
       "        vertical-align: top;\n",
       "    }\n",
       "\n",
       "    .dataframe thead th {\n",
       "        text-align: right;\n",
       "    }\n",
       "</style>\n",
       "<table border=\"1\" class=\"dataframe\">\n",
       "  <thead>\n",
       "    <tr style=\"text-align: right;\">\n",
       "      <th></th>\n",
       "      <th>0</th>\n",
       "    </tr>\n",
       "    <tr>\n",
       "      <th>Date</th>\n",
       "      <th></th>\n",
       "    </tr>\n",
       "  </thead>\n",
       "  <tbody>\n",
       "    <tr>\n",
       "      <th>2007-01</th>\n",
       "      <td>16</td>\n",
       "    </tr>\n",
       "    <tr>\n",
       "      <th>2007-02</th>\n",
       "      <td>14</td>\n",
       "    </tr>\n",
       "    <tr>\n",
       "      <th>2007-03</th>\n",
       "      <td>18</td>\n",
       "    </tr>\n",
       "    <tr>\n",
       "      <th>2007-04</th>\n",
       "      <td>18</td>\n",
       "    </tr>\n",
       "    <tr>\n",
       "      <th>2007-05</th>\n",
       "      <td>18</td>\n",
       "    </tr>\n",
       "  </tbody>\n",
       "</table>\n",
       "</div>"
      ],
      "text/plain": [
       "          0\n",
       "Date       \n",
       "2007-01  16\n",
       "2007-02  14\n",
       "2007-03  18\n",
       "2007-04  18\n",
       "2007-05  18"
      ]
     },
     "execution_count": 108,
     "metadata": {},
     "output_type": "execute_result"
    }
   ],
   "source": [
    "# Converting to dataframe\n",
    "freq_monthly_type3 = pd.DataFrame(freq_monthly_type3)\n",
    "freq_monthly_type3.head()"
   ]
  },
  {
   "cell_type": "code",
   "execution_count": 109,
   "id": "8a435635",
   "metadata": {},
   "outputs": [
    {
     "data": {
      "text/html": [
       "<div>\n",
       "<style scoped>\n",
       "    .dataframe tbody tr th:only-of-type {\n",
       "        vertical-align: middle;\n",
       "    }\n",
       "\n",
       "    .dataframe tbody tr th {\n",
       "        vertical-align: top;\n",
       "    }\n",
       "\n",
       "    .dataframe thead th {\n",
       "        text-align: right;\n",
       "    }\n",
       "</style>\n",
       "<table border=\"1\" class=\"dataframe\">\n",
       "  <thead>\n",
       "    <tr style=\"text-align: right;\">\n",
       "      <th></th>\n",
       "      <th>Date</th>\n",
       "      <th>0</th>\n",
       "    </tr>\n",
       "  </thead>\n",
       "  <tbody>\n",
       "    <tr>\n",
       "      <th>0</th>\n",
       "      <td>2007-01</td>\n",
       "      <td>16</td>\n",
       "    </tr>\n",
       "    <tr>\n",
       "      <th>1</th>\n",
       "      <td>2007-02</td>\n",
       "      <td>14</td>\n",
       "    </tr>\n",
       "    <tr>\n",
       "      <th>2</th>\n",
       "      <td>2007-03</td>\n",
       "      <td>18</td>\n",
       "    </tr>\n",
       "    <tr>\n",
       "      <th>3</th>\n",
       "      <td>2007-04</td>\n",
       "      <td>18</td>\n",
       "    </tr>\n",
       "    <tr>\n",
       "      <th>4</th>\n",
       "      <td>2007-05</td>\n",
       "      <td>18</td>\n",
       "    </tr>\n",
       "    <tr>\n",
       "      <th>...</th>\n",
       "      <td>...</td>\n",
       "      <td>...</td>\n",
       "    </tr>\n",
       "    <tr>\n",
       "      <th>115</th>\n",
       "      <td>2016-08</td>\n",
       "      <td>17</td>\n",
       "    </tr>\n",
       "    <tr>\n",
       "      <th>116</th>\n",
       "      <td>2016-09</td>\n",
       "      <td>16</td>\n",
       "    </tr>\n",
       "    <tr>\n",
       "      <th>117</th>\n",
       "      <td>2016-10</td>\n",
       "      <td>18</td>\n",
       "    </tr>\n",
       "    <tr>\n",
       "      <th>118</th>\n",
       "      <td>2016-11</td>\n",
       "      <td>15</td>\n",
       "    </tr>\n",
       "    <tr>\n",
       "      <th>119</th>\n",
       "      <td>2016-12</td>\n",
       "      <td>24</td>\n",
       "    </tr>\n",
       "  </tbody>\n",
       "</table>\n",
       "<p>120 rows × 2 columns</p>\n",
       "</div>"
      ],
      "text/plain": [
       "        Date   0\n",
       "0    2007-01  16\n",
       "1    2007-02  14\n",
       "2    2007-03  18\n",
       "3    2007-04  18\n",
       "4    2007-05  18\n",
       "..       ...  ..\n",
       "115  2016-08  17\n",
       "116  2016-09  16\n",
       "117  2016-10  18\n",
       "118  2016-11  15\n",
       "119  2016-12  24\n",
       "\n",
       "[120 rows x 2 columns]"
      ]
     },
     "execution_count": 109,
     "metadata": {},
     "output_type": "execute_result"
    }
   ],
   "source": [
    "# Reseting index\n",
    "freq_monthly_type3.reset_index(inplace = True)\n",
    "freq_monthly_type3"
   ]
  },
  {
   "cell_type": "code",
   "execution_count": 110,
   "id": "79a2d66a",
   "metadata": {},
   "outputs": [
    {
     "data": {
      "text/html": [
       "<div>\n",
       "<style scoped>\n",
       "    .dataframe tbody tr th:only-of-type {\n",
       "        vertical-align: middle;\n",
       "    }\n",
       "\n",
       "    .dataframe tbody tr th {\n",
       "        vertical-align: top;\n",
       "    }\n",
       "\n",
       "    .dataframe thead th {\n",
       "        text-align: right;\n",
       "    }\n",
       "</style>\n",
       "<table border=\"1\" class=\"dataframe\">\n",
       "  <thead>\n",
       "    <tr style=\"text-align: right;\">\n",
       "      <th></th>\n",
       "      <th>Date</th>\n",
       "      <th>Frequency</th>\n",
       "    </tr>\n",
       "  </thead>\n",
       "  <tbody>\n",
       "    <tr>\n",
       "      <th>0</th>\n",
       "      <td>2007-01</td>\n",
       "      <td>16</td>\n",
       "    </tr>\n",
       "    <tr>\n",
       "      <th>1</th>\n",
       "      <td>2007-02</td>\n",
       "      <td>14</td>\n",
       "    </tr>\n",
       "    <tr>\n",
       "      <th>2</th>\n",
       "      <td>2007-03</td>\n",
       "      <td>18</td>\n",
       "    </tr>\n",
       "  </tbody>\n",
       "</table>\n",
       "</div>"
      ],
      "text/plain": [
       "      Date  Frequency\n",
       "0  2007-01         16\n",
       "1  2007-02         14\n",
       "2  2007-03         18"
      ]
     },
     "execution_count": 110,
     "metadata": {},
     "output_type": "execute_result"
    }
   ],
   "source": [
    "# Renaming column names\n",
    "freq_monthly_type3 = freq_monthly_type3.rename(columns = {0: 'Frequency'})\n",
    "freq_monthly_type3.head(3)"
   ]
  },
  {
   "cell_type": "markdown",
   "id": "b5c93fc7",
   "metadata": {},
   "source": [
    "4. Operational Risk Loss Type 4"
   ]
  },
  {
   "cell_type": "code",
   "execution_count": 111,
   "id": "f997b9d8",
   "metadata": {},
   "outputs": [
    {
     "data": {
      "text/plain": [
       "Date\n",
       "2007-01    17\n",
       "2007-02    16\n",
       "2007-03    15\n",
       "2007-04    15\n",
       "2007-05    14\n",
       "           ..\n",
       "2016-08    19\n",
       "2016-09    15\n",
       "2016-10    18\n",
       "2016-11    21\n",
       "2016-12     8\n",
       "Freq: M, Length: 120, dtype: int64"
      ]
     },
     "execution_count": 111,
     "metadata": {},
     "output_type": "execute_result"
    }
   ],
   "source": [
    "# Calculating number/frequency of operational losses per month for type 4\n",
    "freq_monthly_type4 = df_loss_4.groupby(df_loss_4['Date'].dt.to_period('M')).size()\n",
    "freq_monthly_type4"
   ]
  },
  {
   "cell_type": "code",
   "execution_count": 112,
   "id": "2194280b",
   "metadata": {},
   "outputs": [
    {
     "data": {
      "text/html": [
       "<div>\n",
       "<style scoped>\n",
       "    .dataframe tbody tr th:only-of-type {\n",
       "        vertical-align: middle;\n",
       "    }\n",
       "\n",
       "    .dataframe tbody tr th {\n",
       "        vertical-align: top;\n",
       "    }\n",
       "\n",
       "    .dataframe thead th {\n",
       "        text-align: right;\n",
       "    }\n",
       "</style>\n",
       "<table border=\"1\" class=\"dataframe\">\n",
       "  <thead>\n",
       "    <tr style=\"text-align: right;\">\n",
       "      <th></th>\n",
       "      <th>0</th>\n",
       "    </tr>\n",
       "    <tr>\n",
       "      <th>Date</th>\n",
       "      <th></th>\n",
       "    </tr>\n",
       "  </thead>\n",
       "  <tbody>\n",
       "    <tr>\n",
       "      <th>2007-01</th>\n",
       "      <td>17</td>\n",
       "    </tr>\n",
       "    <tr>\n",
       "      <th>2007-02</th>\n",
       "      <td>16</td>\n",
       "    </tr>\n",
       "    <tr>\n",
       "      <th>2007-03</th>\n",
       "      <td>15</td>\n",
       "    </tr>\n",
       "    <tr>\n",
       "      <th>2007-04</th>\n",
       "      <td>15</td>\n",
       "    </tr>\n",
       "    <tr>\n",
       "      <th>2007-05</th>\n",
       "      <td>14</td>\n",
       "    </tr>\n",
       "  </tbody>\n",
       "</table>\n",
       "</div>"
      ],
      "text/plain": [
       "          0\n",
       "Date       \n",
       "2007-01  17\n",
       "2007-02  16\n",
       "2007-03  15\n",
       "2007-04  15\n",
       "2007-05  14"
      ]
     },
     "execution_count": 112,
     "metadata": {},
     "output_type": "execute_result"
    }
   ],
   "source": [
    "# Converting to dataframe\n",
    "freq_monthly_type4 = pd.DataFrame(freq_monthly_type4)\n",
    "freq_monthly_type4.head()"
   ]
  },
  {
   "cell_type": "code",
   "execution_count": 113,
   "id": "c49de7fb",
   "metadata": {},
   "outputs": [
    {
     "data": {
      "text/html": [
       "<div>\n",
       "<style scoped>\n",
       "    .dataframe tbody tr th:only-of-type {\n",
       "        vertical-align: middle;\n",
       "    }\n",
       "\n",
       "    .dataframe tbody tr th {\n",
       "        vertical-align: top;\n",
       "    }\n",
       "\n",
       "    .dataframe thead th {\n",
       "        text-align: right;\n",
       "    }\n",
       "</style>\n",
       "<table border=\"1\" class=\"dataframe\">\n",
       "  <thead>\n",
       "    <tr style=\"text-align: right;\">\n",
       "      <th></th>\n",
       "      <th>Date</th>\n",
       "      <th>0</th>\n",
       "    </tr>\n",
       "  </thead>\n",
       "  <tbody>\n",
       "    <tr>\n",
       "      <th>0</th>\n",
       "      <td>2007-01</td>\n",
       "      <td>17</td>\n",
       "    </tr>\n",
       "    <tr>\n",
       "      <th>1</th>\n",
       "      <td>2007-02</td>\n",
       "      <td>16</td>\n",
       "    </tr>\n",
       "    <tr>\n",
       "      <th>2</th>\n",
       "      <td>2007-03</td>\n",
       "      <td>15</td>\n",
       "    </tr>\n",
       "    <tr>\n",
       "      <th>3</th>\n",
       "      <td>2007-04</td>\n",
       "      <td>15</td>\n",
       "    </tr>\n",
       "    <tr>\n",
       "      <th>4</th>\n",
       "      <td>2007-05</td>\n",
       "      <td>14</td>\n",
       "    </tr>\n",
       "    <tr>\n",
       "      <th>...</th>\n",
       "      <td>...</td>\n",
       "      <td>...</td>\n",
       "    </tr>\n",
       "    <tr>\n",
       "      <th>115</th>\n",
       "      <td>2016-08</td>\n",
       "      <td>19</td>\n",
       "    </tr>\n",
       "    <tr>\n",
       "      <th>116</th>\n",
       "      <td>2016-09</td>\n",
       "      <td>15</td>\n",
       "    </tr>\n",
       "    <tr>\n",
       "      <th>117</th>\n",
       "      <td>2016-10</td>\n",
       "      <td>18</td>\n",
       "    </tr>\n",
       "    <tr>\n",
       "      <th>118</th>\n",
       "      <td>2016-11</td>\n",
       "      <td>21</td>\n",
       "    </tr>\n",
       "    <tr>\n",
       "      <th>119</th>\n",
       "      <td>2016-12</td>\n",
       "      <td>8</td>\n",
       "    </tr>\n",
       "  </tbody>\n",
       "</table>\n",
       "<p>120 rows × 2 columns</p>\n",
       "</div>"
      ],
      "text/plain": [
       "        Date   0\n",
       "0    2007-01  17\n",
       "1    2007-02  16\n",
       "2    2007-03  15\n",
       "3    2007-04  15\n",
       "4    2007-05  14\n",
       "..       ...  ..\n",
       "115  2016-08  19\n",
       "116  2016-09  15\n",
       "117  2016-10  18\n",
       "118  2016-11  21\n",
       "119  2016-12   8\n",
       "\n",
       "[120 rows x 2 columns]"
      ]
     },
     "execution_count": 113,
     "metadata": {},
     "output_type": "execute_result"
    }
   ],
   "source": [
    "# Reseting index\n",
    "freq_monthly_type4.reset_index(inplace = True)\n",
    "freq_monthly_type4"
   ]
  },
  {
   "cell_type": "code",
   "execution_count": 114,
   "id": "b62f0d2e",
   "metadata": {},
   "outputs": [
    {
     "data": {
      "text/html": [
       "<div>\n",
       "<style scoped>\n",
       "    .dataframe tbody tr th:only-of-type {\n",
       "        vertical-align: middle;\n",
       "    }\n",
       "\n",
       "    .dataframe tbody tr th {\n",
       "        vertical-align: top;\n",
       "    }\n",
       "\n",
       "    .dataframe thead th {\n",
       "        text-align: right;\n",
       "    }\n",
       "</style>\n",
       "<table border=\"1\" class=\"dataframe\">\n",
       "  <thead>\n",
       "    <tr style=\"text-align: right;\">\n",
       "      <th></th>\n",
       "      <th>Date</th>\n",
       "      <th>Frequency</th>\n",
       "    </tr>\n",
       "  </thead>\n",
       "  <tbody>\n",
       "    <tr>\n",
       "      <th>0</th>\n",
       "      <td>2007-01</td>\n",
       "      <td>17</td>\n",
       "    </tr>\n",
       "    <tr>\n",
       "      <th>1</th>\n",
       "      <td>2007-02</td>\n",
       "      <td>16</td>\n",
       "    </tr>\n",
       "    <tr>\n",
       "      <th>2</th>\n",
       "      <td>2007-03</td>\n",
       "      <td>15</td>\n",
       "    </tr>\n",
       "  </tbody>\n",
       "</table>\n",
       "</div>"
      ],
      "text/plain": [
       "      Date  Frequency\n",
       "0  2007-01         17\n",
       "1  2007-02         16\n",
       "2  2007-03         15"
      ]
     },
     "execution_count": 114,
     "metadata": {},
     "output_type": "execute_result"
    }
   ],
   "source": [
    "# Renaming column names\n",
    "freq_monthly_type4 = freq_monthly_type4.rename(columns = {0: 'Frequency'})\n",
    "freq_monthly_type4.head(3)"
   ]
  },
  {
   "cell_type": "markdown",
   "id": "934dbf63",
   "metadata": {},
   "source": [
    "# 5. Statistical Modelling"
   ]
  },
  {
   "cell_type": "markdown",
   "id": "efdefd1a",
   "metadata": {},
   "source": [
    "Generation of Inverse Binomial Distribution"
   ]
  },
  {
   "cell_type": "markdown",
   "id": "a320c9c4",
   "metadata": {},
   "source": [
    "1. Operational Risk Loss Type 1"
   ]
  },
  {
   "cell_type": "code",
   "execution_count": 115,
   "id": "ed115ba3",
   "metadata": {},
   "outputs": [
    {
     "name": "stdout",
     "output_type": "stream",
     "text": [
      "Mean of Type 1 =  16.375\n",
      "Variance of Type 1 =  12.219537815126051\n"
     ]
    }
   ],
   "source": [
    "# Calculating mean and variance for monthly events of Operational risk type 1\n",
    "mean_events_type1 = freq_monthly_type1['Frequency'].mean()\n",
    "variance_events_type1 = freq_monthly_type1['Frequency'].var()\n",
    "print('Mean of Type 1 = ', mean_events_type1)\n",
    "print('Variance of Type 1 = ', variance_events_type1)"
   ]
  },
  {
   "cell_type": "code",
   "execution_count": 116,
   "id": "c49085c8",
   "metadata": {},
   "outputs": [
    {
     "name": "stdout",
     "output_type": "stream",
     "text": [
      "Number of success required =  1.3400670506318233\n",
      "Probability of success of each trial =  0.0756456098529996\n",
      "Number of failures of each trial =  21.943597954096106\n"
     ]
    }
   ],
   "source": [
    "# Computation of negative binomial distribution for Operational Risk Type 1\n",
    "# Calculation of 'number of success required'\n",
    "r_type1 = mean_events_type1 / variance_events_type1\n",
    "print('Number of success required = ', r_type1)\n",
    "#Calculation of 'probability of success of each trial'\n",
    "p_type1 = r_type1 / (r_type1 + mean_events_type1)\n",
    "print('Probability of success of each trial = ', p_type1)\n",
    "# Calculation of 'number of failures before each success'\n",
    "k_type1 = mean_events_type1 ** 2 / variance_events_type1\n",
    "print('Number of failures of each trial = ', k_type1)"
   ]
  },
  {
   "cell_type": "code",
   "execution_count": 117,
   "id": "b18c7fce",
   "metadata": {},
   "outputs": [
    {
     "name": "stdout",
     "output_type": "stream",
     "text": [
      "[15 29 23 37 16  4 36  9  7 12]\n"
     ]
    }
   ],
   "source": [
    "# Generation of Negative Binomial Distribution for Operational Risk Type 1 with 10 000 sample size.\n",
    "binom_type1 = np.random.negative_binomial(n = r_type1, p = p_type1, size = 10000)\n",
    "print(binom_type1[:10])"
   ]
  },
  {
   "cell_type": "markdown",
   "id": "17ccd861",
   "metadata": {},
   "source": [
    "2. Operational Risk Loss Type 2"
   ]
  },
  {
   "cell_type": "code",
   "execution_count": 118,
   "id": "d24a8dfb",
   "metadata": {},
   "outputs": [
    {
     "name": "stdout",
     "output_type": "stream",
     "text": [
      "Mean of Type 2 =  16.875\n",
      "Variance of Type 2 =  19.2531512605042\n"
     ]
    }
   ],
   "source": [
    "# Calculating mean and variance for monthly events of Operational risk type 2\n",
    "mean_events_type2 = freq_monthly_type2['Frequency'].mean()\n",
    "variance_events_type2 = freq_monthly_type2['Frequency'].var()\n",
    "print('Mean of Type 2 = ', mean_events_type2)\n",
    "print('Variance of Type 2 = ', variance_events_type2)"
   ]
  },
  {
   "cell_type": "code",
   "execution_count": 119,
   "id": "76f9a3cf",
   "metadata": {},
   "outputs": [
    {
     "name": "stdout",
     "output_type": "stream",
     "text": [
      "Number of success required =  0.8764798952479678\n",
      "Probability of success of each trial =  0.04937503241533116\n",
      "Number of failures of each trial =  14.790598232309456\n"
     ]
    }
   ],
   "source": [
    "# Computation of negative binomial distribution for Operational Risk Type 2\n",
    "# Calculation of 'number of success required'\n",
    "r_type2 = mean_events_type2 / variance_events_type2\n",
    "print('Number of success required = ', r_type2)\n",
    "#Calculation of 'probability of success of each trial'\n",
    "p_type2 = r_type2 / (r_type2 + mean_events_type2)\n",
    "print('Probability of success of each trial = ', p_type2)\n",
    "# Calculation of 'number of failures before each success'\n",
    "k_type2 = mean_events_type2 ** 2 / variance_events_type2\n",
    "print('Number of failures of each trial = ', k_type2)"
   ]
  },
  {
   "cell_type": "code",
   "execution_count": 120,
   "id": "0e5871ed",
   "metadata": {},
   "outputs": [
    {
     "name": "stdout",
     "output_type": "stream",
     "text": [
      "[ 0 14  4 33 11  6 35  9 28 10]\n"
     ]
    }
   ],
   "source": [
    "# Generation of Negative Binomial Distribution for Operational Risk Type 2 with 10 000 sample size.\n",
    "binom_type2 = np.random.negative_binomial(n = r_type2, p = p_type2, size = 10000)\n",
    "print(binom_type2[:10])"
   ]
  },
  {
   "cell_type": "markdown",
   "id": "19c79e87",
   "metadata": {},
   "source": [
    "3. Operational Risk Loss Type 3"
   ]
  },
  {
   "cell_type": "code",
   "execution_count": 121,
   "id": "506fff59",
   "metadata": {},
   "outputs": [
    {
     "name": "stdout",
     "output_type": "stream",
     "text": [
      "Mean of Type 3 =  16.625\n",
      "Variance of Type 3 =  16.38760504201681\n"
     ]
    }
   ],
   "source": [
    "# Calculating mean and variance for monthly events of Operational risk type 3\n",
    "mean_events_type3 = freq_monthly_type3['Frequency'].mean()\n",
    "variance_events_type3 = freq_monthly_type3['Frequency'].var()\n",
    "print('Mean of Type 3 = ', mean_events_type3)\n",
    "print('Variance of Type 3 = ', variance_events_type3)"
   ]
  },
  {
   "cell_type": "code",
   "execution_count": 122,
   "id": "3da54066",
   "metadata": {},
   "outputs": [
    {
     "name": "stdout",
     "output_type": "stream",
     "text": [
      "Number of success required =  1.0144862508813537\n",
      "Probability of success of each trial =  0.057512233432006274\n",
      "Number of failures of each trial =  16.865833920902503\n"
     ]
    }
   ],
   "source": [
    "# Computation of negative binomial distribution for Operational Risk Type 3\n",
    "# Calculation of 'number of success required'\n",
    "r_type3 = mean_events_type3 / variance_events_type3\n",
    "print('Number of success required = ', r_type3)\n",
    "#Calculation of 'probability of success of each trial'\n",
    "p_type3 = r_type3 / (r_type3 + mean_events_type3)\n",
    "print('Probability of success of each trial = ', p_type3)\n",
    "# Calculation of 'number of failures before each success'\n",
    "k_type3 = mean_events_type3 ** 2 / variance_events_type3\n",
    "print('Number of failures of each trial = ', k_type3)"
   ]
  },
  {
   "cell_type": "code",
   "execution_count": 123,
   "id": "648cee24",
   "metadata": {},
   "outputs": [
    {
     "name": "stdout",
     "output_type": "stream",
     "text": [
      "[32 21 88 32 26 45 19 12 52 20]\n"
     ]
    }
   ],
   "source": [
    "# Generation of Negative Binomial Distribution for Operational Risk Type 3 with 10 000 sample size.\n",
    "binom_type3 = np.random.negative_binomial(n = r_type3, p = p_type3, size = 10000)\n",
    "print(binom_type3[:10])"
   ]
  },
  {
   "cell_type": "markdown",
   "id": "aa13ffcb",
   "metadata": {},
   "source": [
    "4. Operational Risk Loss Type 4"
   ]
  },
  {
   "cell_type": "code",
   "execution_count": 124,
   "id": "2082557d",
   "metadata": {},
   "outputs": [
    {
     "name": "stdout",
     "output_type": "stream",
     "text": [
      "Mean of Type 4 =  16.175\n",
      "Variance of Type 4 =  16.548949579831934\n"
     ]
    }
   ],
   "source": [
    "# Calculating mean and variance for monthly events of Operational risk type 4\n",
    "mean_events_type4 = freq_monthly_type4['Frequency'].mean()\n",
    "variance_events_type4 = freq_monthly_type4['Frequency'].var()\n",
    "print('Mean of Type 4 = ', mean_events_type4)\n",
    "print('Variance of Type 4 = ', variance_events_type4)"
   ]
  },
  {
   "cell_type": "code",
   "execution_count": 125,
   "id": "f9cec3c6",
   "metadata": {},
   "outputs": [
    {
     "name": "stdout",
     "output_type": "stream",
     "text": [
      "Number of success required =  0.9774034250314194\n",
      "Probability of success of each trial =  0.0569834676116026\n",
      "Number of failures of each trial =  15.809500399883207\n"
     ]
    }
   ],
   "source": [
    "# Computation of negative binomial distribution for Operational Risk Type 4\n",
    "# Calculation of 'number of success required'\n",
    "r_type4 = mean_events_type4 / variance_events_type4\n",
    "print('Number of success required = ', r_type4)\n",
    "#Calculation of 'probability of success of each trial'\n",
    "p_type4 = r_type4 / (r_type4 + mean_events_type4)\n",
    "print('Probability of success of each trial = ', p_type4)\n",
    "# Calculation of 'number of failures before each success'\n",
    "k_type4 = mean_events_type4 ** 2 / variance_events_type4\n",
    "print('Number of failures of each trial = ', k_type4)"
   ]
  },
  {
   "cell_type": "code",
   "execution_count": 126,
   "id": "17694de5",
   "metadata": {},
   "outputs": [
    {
     "name": "stdout",
     "output_type": "stream",
     "text": [
      "[40  3 26  1  4  6  3  4 22  7]\n"
     ]
    }
   ],
   "source": [
    "# Generation of Negative Binomial Distribution for Operational Risk Type 4 with 10000 sample size.\n",
    "binom_type4 = np.random.negative_binomial(n = r_type4, p = p_type4, size = 10000)\n",
    "print(binom_type4[:10])"
   ]
  },
  {
   "cell_type": "markdown",
   "id": "02565419",
   "metadata": {},
   "source": [
    "Generation of Inverse lognormal Distribution"
   ]
  },
  {
   "cell_type": "markdown",
   "id": "94ff717c",
   "metadata": {},
   "source": [
    "1. Operational Risk Loss Type 1"
   ]
  },
  {
   "cell_type": "code",
   "execution_count": 128,
   "id": "548d0499",
   "metadata": {},
   "outputs": [
    {
     "data": {
      "text/html": [
       "<div>\n",
       "<style scoped>\n",
       "    .dataframe tbody tr th:only-of-type {\n",
       "        vertical-align: middle;\n",
       "    }\n",
       "\n",
       "    .dataframe tbody tr th {\n",
       "        vertical-align: top;\n",
       "    }\n",
       "\n",
       "    .dataframe thead th {\n",
       "        text-align: right;\n",
       "    }\n",
       "</style>\n",
       "<table border=\"1\" class=\"dataframe\">\n",
       "  <thead>\n",
       "    <tr style=\"text-align: right;\">\n",
       "      <th></th>\n",
       "      <th>Loss</th>\n",
       "      <th>Period</th>\n",
       "      <th>Date</th>\n",
       "      <th>Log_value</th>\n",
       "    </tr>\n",
       "  </thead>\n",
       "  <tbody>\n",
       "    <tr>\n",
       "      <th>0</th>\n",
       "      <td>1877</td>\n",
       "      <td>1</td>\n",
       "      <td>2016-12-31</td>\n",
       "      <td>7.537430</td>\n",
       "    </tr>\n",
       "    <tr>\n",
       "      <th>1</th>\n",
       "      <td>1807</td>\n",
       "      <td>1</td>\n",
       "      <td>2016-12-30</td>\n",
       "      <td>7.499423</td>\n",
       "    </tr>\n",
       "    <tr>\n",
       "      <th>2</th>\n",
       "      <td>918</td>\n",
       "      <td>1</td>\n",
       "      <td>2016-12-30</td>\n",
       "      <td>6.822197</td>\n",
       "    </tr>\n",
       "  </tbody>\n",
       "</table>\n",
       "</div>"
      ],
      "text/plain": [
       "   Loss  Period       Date  Log_value\n",
       "0  1877       1 2016-12-31   7.537430\n",
       "1  1807       1 2016-12-30   7.499423\n",
       "2   918       1 2016-12-30   6.822197"
      ]
     },
     "execution_count": 128,
     "metadata": {},
     "output_type": "execute_result"
    }
   ],
   "source": [
    "#Calculation of natural logarithm of amounts of Operational Risk Type 1\n",
    "df_loss_1['Log_value'] = df_loss_1['Loss'].apply(lambda x: math.log(x))\n",
    "df_loss_1.head(3)"
   ]
  },
  {
   "cell_type": "code",
   "execution_count": 130,
   "id": "353174dc",
   "metadata": {},
   "outputs": [
    {
     "name": "stdout",
     "output_type": "stream",
     "text": [
      "Mean of logarithms =  6.487373454498382\n",
      "Variance of logarithm =  1.1488529511526584\n",
      "Standard deviation of logarithm =  1.071845581766636\n"
     ]
    }
   ],
   "source": [
    "# Calculation statistics for logarithms distribution\n",
    "log_mean_1 = df_loss_1['Log_value'].mean()\n",
    "print('Mean of logarithms = ', log_mean_1)\n",
    "log_variance_1 = df_loss_1['Log_value'].var()\n",
    "print('Variance of logarithm = ', log_variance_1)\n",
    "log_std_1 = np.sqrt(log_variance_1)\n",
    "print('Standard deviation of logarithm = ', log_std_1)"
   ]
  },
  {
   "cell_type": "code",
   "execution_count": 131,
   "id": "31bac21e",
   "metadata": {},
   "outputs": [
    {
     "name": "stdout",
     "output_type": "stream",
     "text": [
      "Inverse Lognormal Distribution  [ 882.52183841 1360.07492458  508.68764821  241.2429456    35.16912849\n",
      " 1845.86058063 9478.4778958   931.76195092  580.13189963 2847.31242907]\n"
     ]
    }
   ],
   "source": [
    "# Generation of Inverse Lognormal distribution for Operational Risks Type 1 with 10000 sample size\n",
    "inverse_lognorm_type1 = stats.lognorm.rvs(s = log_std_1, scale = np.exp(log_mean_1), size = 10000)\n",
    "print('Inverse Lognormal Distribution ', inverse_lognorm_type1[:10])"
   ]
  },
  {
   "cell_type": "markdown",
   "id": "a20d7f74",
   "metadata": {},
   "source": [
    "2. Operational Risk Loss Type 2"
   ]
  },
  {
   "cell_type": "code",
   "execution_count": 132,
   "id": "fbf303c2",
   "metadata": {},
   "outputs": [
    {
     "data": {
      "text/html": [
       "<div>\n",
       "<style scoped>\n",
       "    .dataframe tbody tr th:only-of-type {\n",
       "        vertical-align: middle;\n",
       "    }\n",
       "\n",
       "    .dataframe tbody tr th {\n",
       "        vertical-align: top;\n",
       "    }\n",
       "\n",
       "    .dataframe thead th {\n",
       "        text-align: right;\n",
       "    }\n",
       "</style>\n",
       "<table border=\"1\" class=\"dataframe\">\n",
       "  <thead>\n",
       "    <tr style=\"text-align: right;\">\n",
       "      <th></th>\n",
       "      <th>Loss</th>\n",
       "      <th>Period</th>\n",
       "      <th>Date</th>\n",
       "      <th>Log_value</th>\n",
       "    </tr>\n",
       "  </thead>\n",
       "  <tbody>\n",
       "    <tr>\n",
       "      <th>0</th>\n",
       "      <td>181</td>\n",
       "      <td>1</td>\n",
       "      <td>2016-12-31</td>\n",
       "      <td>5.198497</td>\n",
       "    </tr>\n",
       "    <tr>\n",
       "      <th>1</th>\n",
       "      <td>610</td>\n",
       "      <td>1</td>\n",
       "      <td>2016-12-23</td>\n",
       "      <td>6.413459</td>\n",
       "    </tr>\n",
       "    <tr>\n",
       "      <th>2</th>\n",
       "      <td>961</td>\n",
       "      <td>1</td>\n",
       "      <td>2016-12-19</td>\n",
       "      <td>6.867974</td>\n",
       "    </tr>\n",
       "  </tbody>\n",
       "</table>\n",
       "</div>"
      ],
      "text/plain": [
       "   Loss  Period       Date  Log_value\n",
       "0   181       1 2016-12-31   5.198497\n",
       "1   610       1 2016-12-23   6.413459\n",
       "2   961       1 2016-12-19   6.867974"
      ]
     },
     "execution_count": 132,
     "metadata": {},
     "output_type": "execute_result"
    }
   ],
   "source": [
    "#Calculation of natural logarithm of amounts of Operational Risk Type 2\n",
    "df_loss_2['Log_value'] = df_loss_2['Loss'].apply(lambda x: math.log(x))\n",
    "df_loss_2.head(3)"
   ]
  },
  {
   "cell_type": "code",
   "execution_count": 134,
   "id": "4ad6f7db",
   "metadata": {},
   "outputs": [
    {
     "name": "stdout",
     "output_type": "stream",
     "text": [
      "Mean of logarithms =  6.572645278834224\n",
      "Variance of logarithm =  1.273380825999463\n",
      "Standard deviation of logarithm =  1.1284417689891946\n"
     ]
    }
   ],
   "source": [
    "# Calculation statistics for logarithms distribution\n",
    "log_mean_2 = df_loss_2['Log_value'].mean()\n",
    "print('Mean of logarithms = ', log_mean_2)\n",
    "log_variance_2 = df_loss_2['Log_value'].var()\n",
    "print('Variance of logarithm = ', log_variance_2)\n",
    "log_std_2 = np.sqrt(log_variance_2)\n",
    "print('Standard deviation of logarithm = ', log_std_2)"
   ]
  },
  {
   "cell_type": "code",
   "execution_count": 135,
   "id": "9bbd423f",
   "metadata": {},
   "outputs": [
    {
     "name": "stdout",
     "output_type": "stream",
     "text": [
      "Inverse Lognormal Distribution  [ 377.62217566  325.44540851  753.26324007  230.82720935  129.77757582\n",
      "  864.57270224  828.88753659 3490.88190363  472.81247163 3959.90169867]\n"
     ]
    }
   ],
   "source": [
    "# Generation of Inverse Lognormal distribution for Operational Risks Type 2 with 10000 sample size\n",
    "inverse_lognorm_type2 = stats.lognorm.rvs(s = log_std_2, scale = np.exp(log_mean_2), size = 10000)\n",
    "print('Inverse Lognormal Distribution ', inverse_lognorm_type2[:10])"
   ]
  },
  {
   "cell_type": "markdown",
   "id": "f20ae1bc",
   "metadata": {},
   "source": [
    "3. Operational Risk Loss Type 3"
   ]
  },
  {
   "cell_type": "code",
   "execution_count": 136,
   "id": "8cd78644",
   "metadata": {},
   "outputs": [
    {
     "data": {
      "text/html": [
       "<div>\n",
       "<style scoped>\n",
       "    .dataframe tbody tr th:only-of-type {\n",
       "        vertical-align: middle;\n",
       "    }\n",
       "\n",
       "    .dataframe tbody tr th {\n",
       "        vertical-align: top;\n",
       "    }\n",
       "\n",
       "    .dataframe thead th {\n",
       "        text-align: right;\n",
       "    }\n",
       "</style>\n",
       "<table border=\"1\" class=\"dataframe\">\n",
       "  <thead>\n",
       "    <tr style=\"text-align: right;\">\n",
       "      <th></th>\n",
       "      <th>Loss</th>\n",
       "      <th>Period</th>\n",
       "      <th>Date</th>\n",
       "      <th>Log_value</th>\n",
       "    </tr>\n",
       "  </thead>\n",
       "  <tbody>\n",
       "    <tr>\n",
       "      <th>0</th>\n",
       "      <td>1334</td>\n",
       "      <td>1</td>\n",
       "      <td>2016-12-31</td>\n",
       "      <td>7.195937</td>\n",
       "    </tr>\n",
       "    <tr>\n",
       "      <th>1</th>\n",
       "      <td>1067</td>\n",
       "      <td>1</td>\n",
       "      <td>2016-12-30</td>\n",
       "      <td>6.972606</td>\n",
       "    </tr>\n",
       "    <tr>\n",
       "      <th>2</th>\n",
       "      <td>1068</td>\n",
       "      <td>1</td>\n",
       "      <td>2016-12-29</td>\n",
       "      <td>6.973543</td>\n",
       "    </tr>\n",
       "  </tbody>\n",
       "</table>\n",
       "</div>"
      ],
      "text/plain": [
       "   Loss  Period       Date  Log_value\n",
       "0  1334       1 2016-12-31   7.195937\n",
       "1  1067       1 2016-12-30   6.972606\n",
       "2  1068       1 2016-12-29   6.973543"
      ]
     },
     "execution_count": 136,
     "metadata": {},
     "output_type": "execute_result"
    }
   ],
   "source": [
    "#Calculation of natural logarithm of amounts of Operational Risk Type 3\n",
    "df_loss_3['Log_value'] = df_loss_3['Loss'].apply(lambda x: math.log(x))\n",
    "df_loss_3.head(3)"
   ]
  },
  {
   "cell_type": "code",
   "execution_count": 137,
   "id": "c7d6186c",
   "metadata": {},
   "outputs": [
    {
     "name": "stdout",
     "output_type": "stream",
     "text": [
      "Mean of logarithms =  6.666514314196632\n",
      "Variance of logarithm =  0.5810100938064565\n",
      "Standard deviation of logarithm =  0.762240181180746\n"
     ]
    }
   ],
   "source": [
    "# Calculation statistics for logarithms distribution\n",
    "log_mean_3 = df_loss_3['Log_value'].mean()\n",
    "print('Mean of logarithms = ', log_mean_3)\n",
    "log_variance_3 = df_loss_3['Log_value'].var()\n",
    "print('Variance of logarithm = ', log_variance_3)\n",
    "log_std_3 = np.sqrt(log_variance_3)\n",
    "print('Standard deviation of logarithm = ', log_std_3)"
   ]
  },
  {
   "cell_type": "code",
   "execution_count": 138,
   "id": "0269b4a6",
   "metadata": {},
   "outputs": [
    {
     "name": "stdout",
     "output_type": "stream",
     "text": [
      "Inverse Lognormal Distribution  [ 513.0261319  2167.4348233   435.33824975  463.62861732 1515.7266306\n",
      "  532.02496487  204.8613076  1004.21692352  798.88695956  586.04267487]\n"
     ]
    }
   ],
   "source": [
    "# Generation of Inverse Lognormal distribution for Operational Risks Type 3 with 10000 sample size\n",
    "inverse_lognorm_type3 = stats.lognorm.rvs(s = log_std_3, scale = np.exp(log_mean_3), size = 10000)\n",
    "print('Inverse Lognormal Distribution ', inverse_lognorm_type3[:10])"
   ]
  },
  {
   "cell_type": "markdown",
   "id": "c3110d9e",
   "metadata": {},
   "source": [
    "4. Operational Risk Loss Type 4"
   ]
  },
  {
   "cell_type": "code",
   "execution_count": 139,
   "id": "2ff0df37",
   "metadata": {},
   "outputs": [
    {
     "data": {
      "text/html": [
       "<div>\n",
       "<style scoped>\n",
       "    .dataframe tbody tr th:only-of-type {\n",
       "        vertical-align: middle;\n",
       "    }\n",
       "\n",
       "    .dataframe tbody tr th {\n",
       "        vertical-align: top;\n",
       "    }\n",
       "\n",
       "    .dataframe thead th {\n",
       "        text-align: right;\n",
       "    }\n",
       "</style>\n",
       "<table border=\"1\" class=\"dataframe\">\n",
       "  <thead>\n",
       "    <tr style=\"text-align: right;\">\n",
       "      <th></th>\n",
       "      <th>Loss</th>\n",
       "      <th>Period</th>\n",
       "      <th>Date</th>\n",
       "      <th>Log_value</th>\n",
       "    </tr>\n",
       "  </thead>\n",
       "  <tbody>\n",
       "    <tr>\n",
       "      <th>0</th>\n",
       "      <td>650</td>\n",
       "      <td>1</td>\n",
       "      <td>2016-12-31</td>\n",
       "      <td>6.476972</td>\n",
       "    </tr>\n",
       "    <tr>\n",
       "      <th>1</th>\n",
       "      <td>847</td>\n",
       "      <td>1</td>\n",
       "      <td>2016-12-30</td>\n",
       "      <td>6.741701</td>\n",
       "    </tr>\n",
       "    <tr>\n",
       "      <th>2</th>\n",
       "      <td>242</td>\n",
       "      <td>1</td>\n",
       "      <td>2016-12-11</td>\n",
       "      <td>5.488938</td>\n",
       "    </tr>\n",
       "  </tbody>\n",
       "</table>\n",
       "</div>"
      ],
      "text/plain": [
       "   Loss  Period       Date  Log_value\n",
       "0   650       1 2016-12-31   6.476972\n",
       "1   847       1 2016-12-30   6.741701\n",
       "2   242       1 2016-12-11   5.488938"
      ]
     },
     "execution_count": 139,
     "metadata": {},
     "output_type": "execute_result"
    }
   ],
   "source": [
    "#Calculation of natural logarithm of amounts of Operational Risk Type 4\n",
    "df_loss_4['Log_value'] = df_loss_4['Loss'].apply(lambda x: math.log(x))\n",
    "df_loss_4.head(3)"
   ]
  },
  {
   "cell_type": "code",
   "execution_count": 140,
   "id": "4c8bebf7",
   "metadata": {},
   "outputs": [
    {
     "name": "stdout",
     "output_type": "stream",
     "text": [
      "Mean of logarithms =  6.6055827106418565\n",
      "Variance of logarithm =  0.5305873956037179\n",
      "Standard deviation of logarithm =  0.7284143021685653\n"
     ]
    }
   ],
   "source": [
    "# Calculation statistics for logarithms distribution\n",
    "log_mean_4 = df_loss_4['Log_value'].mean()\n",
    "print('Mean of logarithms = ', log_mean_4)\n",
    "log_variance_4 = df_loss_4['Log_value'].var()\n",
    "print('Variance of logarithm = ', log_variance_4)\n",
    "log_std_4 = np.sqrt(log_variance_4)\n",
    "print('Standard deviation of logarithm = ', log_std_4)"
   ]
  },
  {
   "cell_type": "code",
   "execution_count": 141,
   "id": "00e79589",
   "metadata": {},
   "outputs": [
    {
     "name": "stdout",
     "output_type": "stream",
     "text": [
      "Inverse Lognormal Distribution  [ 277.60874449  571.12808452  201.30884828  482.65974075  868.77910923\n",
      " 1466.413628    301.52271366 1503.16100218 1423.07963449 1077.86340995]\n"
     ]
    }
   ],
   "source": [
    "# Generation of Inverse Lognormal distribution for Operational Risks Type 4 with 10000 sample size\n",
    "inverse_lognorm_type4 = stats.lognorm.rvs(s = log_std_4, scale = np.exp(log_mean_4), size = 10000)\n",
    "print('Inverse Lognormal Distribution ', inverse_lognorm_type4[:10])"
   ]
  },
  {
   "cell_type": "markdown",
   "id": "b8427258",
   "metadata": {},
   "source": [
    "Generation of Poisson Distribution"
   ]
  },
  {
   "cell_type": "markdown",
   "id": "74da6fb4",
   "metadata": {},
   "source": [
    "1. Operational Risk Loss Type 1"
   ]
  },
  {
   "cell_type": "code",
   "execution_count": 142,
   "id": "eb8db53b",
   "metadata": {},
   "outputs": [
    {
     "name": "stdout",
     "output_type": "stream",
     "text": [
      "16.375\n",
      "[17 20 16 24 19 20 24 14 16 21]\n"
     ]
    }
   ],
   "source": [
    "# Generation of Poisson Distribution for Operational Risks Type 1\n",
    "mean_1 = freq_monthly_type1['Frequency'].mean()\n",
    "print(mean_1)\n",
    "poisson_type1 = np.random.poisson(lam = mean_1, size = 10000)\n",
    "print(poisson_type1[:10])"
   ]
  },
  {
   "cell_type": "markdown",
   "id": "e59b1651",
   "metadata": {},
   "source": [
    "2. Operational Risk Loss Type 2"
   ]
  },
  {
   "cell_type": "code",
   "execution_count": 143,
   "id": "6c00f9b7",
   "metadata": {},
   "outputs": [
    {
     "name": "stdout",
     "output_type": "stream",
     "text": [
      "16.875\n",
      "[14 15 13 23 12 19 13 16 18 22]\n"
     ]
    }
   ],
   "source": [
    "# Generation of Poisson Distribution for Operational Risks Type 2\n",
    "mean_2 = freq_monthly_type2['Frequency'].mean()\n",
    "print(mean_2)\n",
    "poisson_type2 = np.random.poisson(lam = mean_2, size = 10000)\n",
    "print(poisson_type2[:10])"
   ]
  },
  {
   "cell_type": "markdown",
   "id": "542664e4",
   "metadata": {},
   "source": [
    "3. Operational Risk Loss Type 3"
   ]
  },
  {
   "cell_type": "code",
   "execution_count": 144,
   "id": "de2a437b",
   "metadata": {},
   "outputs": [
    {
     "name": "stdout",
     "output_type": "stream",
     "text": [
      "16.625\n",
      "[23 15 11 14 23 20 16 18 18 13]\n"
     ]
    }
   ],
   "source": [
    "# Generation of Poisson Distribution for Operational Risks Type 3\n",
    "mean_3 = freq_monthly_type3['Frequency'].mean()\n",
    "print(mean_3)\n",
    "poisson_type3 = np.random.poisson(lam = mean_3, size = 10000)\n",
    "print(poisson_type3[:10])"
   ]
  },
  {
   "cell_type": "markdown",
   "id": "267f750b",
   "metadata": {},
   "source": [
    "4. Operational Risk Loss Type 4"
   ]
  },
  {
   "cell_type": "code",
   "execution_count": 145,
   "id": "b482ecd9",
   "metadata": {},
   "outputs": [
    {
     "name": "stdout",
     "output_type": "stream",
     "text": [
      "16.175\n",
      "[10 11 13 21 13 19 12 14  8 21]\n"
     ]
    }
   ],
   "source": [
    "# Generation of Poisson Distribution for Operational Risks Type 4\n",
    "mean_4 = freq_monthly_type4['Frequency'].mean()\n",
    "print(mean_4)\n",
    "poisson_type4 = np.random.poisson(lam = mean_4, size = 10000)\n",
    "print(poisson_type4[:10])"
   ]
  },
  {
   "cell_type": "markdown",
   "id": "ede73413",
   "metadata": {},
   "source": [
    "# 6. Data Processing"
   ]
  },
  {
   "cell_type": "markdown",
   "id": "5138a464",
   "metadata": {},
   "source": [
    "1. Inverse Binomial Distribution Type 1"
   ]
  },
  {
   "cell_type": "code",
   "execution_count": 146,
   "id": "2fa7efa2",
   "metadata": {},
   "outputs": [
    {
     "data": {
      "text/html": [
       "<div>\n",
       "<style scoped>\n",
       "    .dataframe tbody tr th:only-of-type {\n",
       "        vertical-align: middle;\n",
       "    }\n",
       "\n",
       "    .dataframe tbody tr th {\n",
       "        vertical-align: top;\n",
       "    }\n",
       "\n",
       "    .dataframe thead th {\n",
       "        text-align: right;\n",
       "    }\n",
       "</style>\n",
       "<table border=\"1\" class=\"dataframe\">\n",
       "  <thead>\n",
       "    <tr style=\"text-align: right;\">\n",
       "      <th></th>\n",
       "      <th>0</th>\n",
       "    </tr>\n",
       "  </thead>\n",
       "  <tbody>\n",
       "    <tr>\n",
       "      <th>0</th>\n",
       "      <td>15</td>\n",
       "    </tr>\n",
       "    <tr>\n",
       "      <th>1</th>\n",
       "      <td>29</td>\n",
       "    </tr>\n",
       "    <tr>\n",
       "      <th>2</th>\n",
       "      <td>23</td>\n",
       "    </tr>\n",
       "  </tbody>\n",
       "</table>\n",
       "</div>"
      ],
      "text/plain": [
       "    0\n",
       "0  15\n",
       "1  29\n",
       "2  23"
      ]
     },
     "execution_count": 146,
     "metadata": {},
     "output_type": "execute_result"
    }
   ],
   "source": [
    "# Converting inverse binomial distribution results to dataframe\n",
    "df_binom_type1 = pd.DataFrame(binom_type1)\n",
    "df_binom_type1.head(3)"
   ]
  },
  {
   "cell_type": "code",
   "execution_count": 147,
   "id": "7f511f26",
   "metadata": {},
   "outputs": [
    {
     "data": {
      "text/html": [
       "<div>\n",
       "<style scoped>\n",
       "    .dataframe tbody tr th:only-of-type {\n",
       "        vertical-align: middle;\n",
       "    }\n",
       "\n",
       "    .dataframe tbody tr th {\n",
       "        vertical-align: top;\n",
       "    }\n",
       "\n",
       "    .dataframe thead th {\n",
       "        text-align: right;\n",
       "    }\n",
       "</style>\n",
       "<table border=\"1\" class=\"dataframe\">\n",
       "  <thead>\n",
       "    <tr style=\"text-align: right;\">\n",
       "      <th></th>\n",
       "      <th>Binom_type1</th>\n",
       "    </tr>\n",
       "  </thead>\n",
       "  <tbody>\n",
       "    <tr>\n",
       "      <th>0</th>\n",
       "      <td>15</td>\n",
       "    </tr>\n",
       "    <tr>\n",
       "      <th>1</th>\n",
       "      <td>29</td>\n",
       "    </tr>\n",
       "    <tr>\n",
       "      <th>2</th>\n",
       "      <td>23</td>\n",
       "    </tr>\n",
       "  </tbody>\n",
       "</table>\n",
       "</div>"
      ],
      "text/plain": [
       "   Binom_type1\n",
       "0           15\n",
       "1           29\n",
       "2           23"
      ]
     },
     "execution_count": 147,
     "metadata": {},
     "output_type": "execute_result"
    }
   ],
   "source": [
    "# Renaming columns\n",
    "df_binom_type1 = df_binom_type1.rename(columns = {0: 'Binom_type1'})\n",
    "df_binom_type1.head(3)"
   ]
  },
  {
   "cell_type": "markdown",
   "id": "e069d5c9",
   "metadata": {},
   "source": [
    "2. Inverse Binomial Distribution Type 2"
   ]
  },
  {
   "cell_type": "code",
   "execution_count": 148,
   "id": "b56bc470",
   "metadata": {},
   "outputs": [
    {
     "data": {
      "text/html": [
       "<div>\n",
       "<style scoped>\n",
       "    .dataframe tbody tr th:only-of-type {\n",
       "        vertical-align: middle;\n",
       "    }\n",
       "\n",
       "    .dataframe tbody tr th {\n",
       "        vertical-align: top;\n",
       "    }\n",
       "\n",
       "    .dataframe thead th {\n",
       "        text-align: right;\n",
       "    }\n",
       "</style>\n",
       "<table border=\"1\" class=\"dataframe\">\n",
       "  <thead>\n",
       "    <tr style=\"text-align: right;\">\n",
       "      <th></th>\n",
       "      <th>0</th>\n",
       "    </tr>\n",
       "  </thead>\n",
       "  <tbody>\n",
       "    <tr>\n",
       "      <th>0</th>\n",
       "      <td>0</td>\n",
       "    </tr>\n",
       "    <tr>\n",
       "      <th>1</th>\n",
       "      <td>14</td>\n",
       "    </tr>\n",
       "    <tr>\n",
       "      <th>2</th>\n",
       "      <td>4</td>\n",
       "    </tr>\n",
       "  </tbody>\n",
       "</table>\n",
       "</div>"
      ],
      "text/plain": [
       "    0\n",
       "0   0\n",
       "1  14\n",
       "2   4"
      ]
     },
     "execution_count": 148,
     "metadata": {},
     "output_type": "execute_result"
    }
   ],
   "source": [
    "# Converting inverse binomial distribution results to dataframe\n",
    "df_binom_type2 = pd.DataFrame(binom_type2)\n",
    "df_binom_type2.head(3)"
   ]
  },
  {
   "cell_type": "code",
   "execution_count": 149,
   "id": "2958af6c",
   "metadata": {},
   "outputs": [
    {
     "data": {
      "text/html": [
       "<div>\n",
       "<style scoped>\n",
       "    .dataframe tbody tr th:only-of-type {\n",
       "        vertical-align: middle;\n",
       "    }\n",
       "\n",
       "    .dataframe tbody tr th {\n",
       "        vertical-align: top;\n",
       "    }\n",
       "\n",
       "    .dataframe thead th {\n",
       "        text-align: right;\n",
       "    }\n",
       "</style>\n",
       "<table border=\"1\" class=\"dataframe\">\n",
       "  <thead>\n",
       "    <tr style=\"text-align: right;\">\n",
       "      <th></th>\n",
       "      <th>Binom_type2</th>\n",
       "    </tr>\n",
       "  </thead>\n",
       "  <tbody>\n",
       "    <tr>\n",
       "      <th>0</th>\n",
       "      <td>0</td>\n",
       "    </tr>\n",
       "    <tr>\n",
       "      <th>1</th>\n",
       "      <td>14</td>\n",
       "    </tr>\n",
       "    <tr>\n",
       "      <th>2</th>\n",
       "      <td>4</td>\n",
       "    </tr>\n",
       "  </tbody>\n",
       "</table>\n",
       "</div>"
      ],
      "text/plain": [
       "   Binom_type2\n",
       "0            0\n",
       "1           14\n",
       "2            4"
      ]
     },
     "execution_count": 149,
     "metadata": {},
     "output_type": "execute_result"
    }
   ],
   "source": [
    "# Renaming columns\n",
    "df_binom_type2 = df_binom_type2.rename(columns = {0: 'Binom_type2'})\n",
    "df_binom_type2.head(3)"
   ]
  },
  {
   "cell_type": "markdown",
   "id": "407f0b5b",
   "metadata": {},
   "source": [
    "3. Inverse Binomial Distribution Type 3"
   ]
  },
  {
   "cell_type": "code",
   "execution_count": 150,
   "id": "f9347fee",
   "metadata": {},
   "outputs": [
    {
     "data": {
      "text/html": [
       "<div>\n",
       "<style scoped>\n",
       "    .dataframe tbody tr th:only-of-type {\n",
       "        vertical-align: middle;\n",
       "    }\n",
       "\n",
       "    .dataframe tbody tr th {\n",
       "        vertical-align: top;\n",
       "    }\n",
       "\n",
       "    .dataframe thead th {\n",
       "        text-align: right;\n",
       "    }\n",
       "</style>\n",
       "<table border=\"1\" class=\"dataframe\">\n",
       "  <thead>\n",
       "    <tr style=\"text-align: right;\">\n",
       "      <th></th>\n",
       "      <th>0</th>\n",
       "    </tr>\n",
       "  </thead>\n",
       "  <tbody>\n",
       "    <tr>\n",
       "      <th>0</th>\n",
       "      <td>32</td>\n",
       "    </tr>\n",
       "    <tr>\n",
       "      <th>1</th>\n",
       "      <td>21</td>\n",
       "    </tr>\n",
       "    <tr>\n",
       "      <th>2</th>\n",
       "      <td>88</td>\n",
       "    </tr>\n",
       "  </tbody>\n",
       "</table>\n",
       "</div>"
      ],
      "text/plain": [
       "    0\n",
       "0  32\n",
       "1  21\n",
       "2  88"
      ]
     },
     "execution_count": 150,
     "metadata": {},
     "output_type": "execute_result"
    }
   ],
   "source": [
    "# Converting inverse binomial distribution results to dataframe\n",
    "df_binom_type3 = pd.DataFrame(binom_type3)\n",
    "df_binom_type3.head(3)"
   ]
  },
  {
   "cell_type": "code",
   "execution_count": 151,
   "id": "f1cad886",
   "metadata": {},
   "outputs": [
    {
     "data": {
      "text/html": [
       "<div>\n",
       "<style scoped>\n",
       "    .dataframe tbody tr th:only-of-type {\n",
       "        vertical-align: middle;\n",
       "    }\n",
       "\n",
       "    .dataframe tbody tr th {\n",
       "        vertical-align: top;\n",
       "    }\n",
       "\n",
       "    .dataframe thead th {\n",
       "        text-align: right;\n",
       "    }\n",
       "</style>\n",
       "<table border=\"1\" class=\"dataframe\">\n",
       "  <thead>\n",
       "    <tr style=\"text-align: right;\">\n",
       "      <th></th>\n",
       "      <th>Binom_type3</th>\n",
       "    </tr>\n",
       "  </thead>\n",
       "  <tbody>\n",
       "    <tr>\n",
       "      <th>0</th>\n",
       "      <td>32</td>\n",
       "    </tr>\n",
       "    <tr>\n",
       "      <th>1</th>\n",
       "      <td>21</td>\n",
       "    </tr>\n",
       "    <tr>\n",
       "      <th>2</th>\n",
       "      <td>88</td>\n",
       "    </tr>\n",
       "  </tbody>\n",
       "</table>\n",
       "</div>"
      ],
      "text/plain": [
       "   Binom_type3\n",
       "0           32\n",
       "1           21\n",
       "2           88"
      ]
     },
     "execution_count": 151,
     "metadata": {},
     "output_type": "execute_result"
    }
   ],
   "source": [
    "# Renaming columns\n",
    "df_binom_type3 = df_binom_type3.rename(columns = {0: 'Binom_type3'})\n",
    "df_binom_type3.head(3)"
   ]
  },
  {
   "cell_type": "markdown",
   "id": "402ebe73",
   "metadata": {},
   "source": [
    "4. Inverse Binomial Distribution Type 4"
   ]
  },
  {
   "cell_type": "code",
   "execution_count": 152,
   "id": "0a8fc84b",
   "metadata": {},
   "outputs": [
    {
     "data": {
      "text/html": [
       "<div>\n",
       "<style scoped>\n",
       "    .dataframe tbody tr th:only-of-type {\n",
       "        vertical-align: middle;\n",
       "    }\n",
       "\n",
       "    .dataframe tbody tr th {\n",
       "        vertical-align: top;\n",
       "    }\n",
       "\n",
       "    .dataframe thead th {\n",
       "        text-align: right;\n",
       "    }\n",
       "</style>\n",
       "<table border=\"1\" class=\"dataframe\">\n",
       "  <thead>\n",
       "    <tr style=\"text-align: right;\">\n",
       "      <th></th>\n",
       "      <th>0</th>\n",
       "    </tr>\n",
       "  </thead>\n",
       "  <tbody>\n",
       "    <tr>\n",
       "      <th>0</th>\n",
       "      <td>40</td>\n",
       "    </tr>\n",
       "    <tr>\n",
       "      <th>1</th>\n",
       "      <td>3</td>\n",
       "    </tr>\n",
       "    <tr>\n",
       "      <th>2</th>\n",
       "      <td>26</td>\n",
       "    </tr>\n",
       "  </tbody>\n",
       "</table>\n",
       "</div>"
      ],
      "text/plain": [
       "    0\n",
       "0  40\n",
       "1   3\n",
       "2  26"
      ]
     },
     "execution_count": 152,
     "metadata": {},
     "output_type": "execute_result"
    }
   ],
   "source": [
    "# Converting inverse binomial distribution results to dataframe\n",
    "df_binom_type4 = pd.DataFrame(binom_type4)\n",
    "df_binom_type4.head(3)"
   ]
  },
  {
   "cell_type": "code",
   "execution_count": 153,
   "id": "5f0c0f16",
   "metadata": {},
   "outputs": [
    {
     "data": {
      "text/html": [
       "<div>\n",
       "<style scoped>\n",
       "    .dataframe tbody tr th:only-of-type {\n",
       "        vertical-align: middle;\n",
       "    }\n",
       "\n",
       "    .dataframe tbody tr th {\n",
       "        vertical-align: top;\n",
       "    }\n",
       "\n",
       "    .dataframe thead th {\n",
       "        text-align: right;\n",
       "    }\n",
       "</style>\n",
       "<table border=\"1\" class=\"dataframe\">\n",
       "  <thead>\n",
       "    <tr style=\"text-align: right;\">\n",
       "      <th></th>\n",
       "      <th>Binom_type4</th>\n",
       "    </tr>\n",
       "  </thead>\n",
       "  <tbody>\n",
       "    <tr>\n",
       "      <th>0</th>\n",
       "      <td>40</td>\n",
       "    </tr>\n",
       "    <tr>\n",
       "      <th>1</th>\n",
       "      <td>3</td>\n",
       "    </tr>\n",
       "    <tr>\n",
       "      <th>2</th>\n",
       "      <td>26</td>\n",
       "    </tr>\n",
       "  </tbody>\n",
       "</table>\n",
       "</div>"
      ],
      "text/plain": [
       "   Binom_type4\n",
       "0           40\n",
       "1            3\n",
       "2           26"
      ]
     },
     "execution_count": 153,
     "metadata": {},
     "output_type": "execute_result"
    }
   ],
   "source": [
    "# Renaming columns\n",
    "df_binom_type4 = df_binom_type4.rename(columns = {0: 'Binom_type4'})\n",
    "df_binom_type4.head(3)"
   ]
  },
  {
   "cell_type": "markdown",
   "id": "10da48d8",
   "metadata": {},
   "source": [
    "5. Inverse Lognormal Distribution Type 1"
   ]
  },
  {
   "cell_type": "code",
   "execution_count": 154,
   "id": "1c62d3ad",
   "metadata": {},
   "outputs": [
    {
     "data": {
      "text/html": [
       "<div>\n",
       "<style scoped>\n",
       "    .dataframe tbody tr th:only-of-type {\n",
       "        vertical-align: middle;\n",
       "    }\n",
       "\n",
       "    .dataframe tbody tr th {\n",
       "        vertical-align: top;\n",
       "    }\n",
       "\n",
       "    .dataframe thead th {\n",
       "        text-align: right;\n",
       "    }\n",
       "</style>\n",
       "<table border=\"1\" class=\"dataframe\">\n",
       "  <thead>\n",
       "    <tr style=\"text-align: right;\">\n",
       "      <th></th>\n",
       "      <th>0</th>\n",
       "    </tr>\n",
       "  </thead>\n",
       "  <tbody>\n",
       "    <tr>\n",
       "      <th>0</th>\n",
       "      <td>882.521838</td>\n",
       "    </tr>\n",
       "    <tr>\n",
       "      <th>1</th>\n",
       "      <td>1360.074925</td>\n",
       "    </tr>\n",
       "    <tr>\n",
       "      <th>2</th>\n",
       "      <td>508.687648</td>\n",
       "    </tr>\n",
       "  </tbody>\n",
       "</table>\n",
       "</div>"
      ],
      "text/plain": [
       "             0\n",
       "0   882.521838\n",
       "1  1360.074925\n",
       "2   508.687648"
      ]
     },
     "execution_count": 154,
     "metadata": {},
     "output_type": "execute_result"
    }
   ],
   "source": [
    "# Converting inverse Lognormal distribution results to dataframe\n",
    "df_impact_type1 = pd.DataFrame(inverse_lognorm_type1)\n",
    "df_impact_type1.head(3)"
   ]
  },
  {
   "cell_type": "code",
   "execution_count": 155,
   "id": "c11b7e07",
   "metadata": {},
   "outputs": [
    {
     "data": {
      "text/html": [
       "<div>\n",
       "<style scoped>\n",
       "    .dataframe tbody tr th:only-of-type {\n",
       "        vertical-align: middle;\n",
       "    }\n",
       "\n",
       "    .dataframe tbody tr th {\n",
       "        vertical-align: top;\n",
       "    }\n",
       "\n",
       "    .dataframe thead th {\n",
       "        text-align: right;\n",
       "    }\n",
       "</style>\n",
       "<table border=\"1\" class=\"dataframe\">\n",
       "  <thead>\n",
       "    <tr style=\"text-align: right;\">\n",
       "      <th></th>\n",
       "      <th>Impact_type1</th>\n",
       "    </tr>\n",
       "  </thead>\n",
       "  <tbody>\n",
       "    <tr>\n",
       "      <th>0</th>\n",
       "      <td>882.521838</td>\n",
       "    </tr>\n",
       "    <tr>\n",
       "      <th>1</th>\n",
       "      <td>1360.074925</td>\n",
       "    </tr>\n",
       "    <tr>\n",
       "      <th>2</th>\n",
       "      <td>508.687648</td>\n",
       "    </tr>\n",
       "  </tbody>\n",
       "</table>\n",
       "</div>"
      ],
      "text/plain": [
       "   Impact_type1\n",
       "0    882.521838\n",
       "1   1360.074925\n",
       "2    508.687648"
      ]
     },
     "execution_count": 155,
     "metadata": {},
     "output_type": "execute_result"
    }
   ],
   "source": [
    "# Renaming columns\n",
    "df_impact_type1 = df_impact_type1.rename(columns = {0: 'Impact_type1'})\n",
    "df_impact_type1.head(3)"
   ]
  },
  {
   "cell_type": "markdown",
   "id": "d85e64b7",
   "metadata": {},
   "source": [
    "6. Inverse Lognormal Distribution Type 2"
   ]
  },
  {
   "cell_type": "code",
   "execution_count": 156,
   "id": "9f8b4a83",
   "metadata": {},
   "outputs": [
    {
     "data": {
      "text/html": [
       "<div>\n",
       "<style scoped>\n",
       "    .dataframe tbody tr th:only-of-type {\n",
       "        vertical-align: middle;\n",
       "    }\n",
       "\n",
       "    .dataframe tbody tr th {\n",
       "        vertical-align: top;\n",
       "    }\n",
       "\n",
       "    .dataframe thead th {\n",
       "        text-align: right;\n",
       "    }\n",
       "</style>\n",
       "<table border=\"1\" class=\"dataframe\">\n",
       "  <thead>\n",
       "    <tr style=\"text-align: right;\">\n",
       "      <th></th>\n",
       "      <th>0</th>\n",
       "    </tr>\n",
       "  </thead>\n",
       "  <tbody>\n",
       "    <tr>\n",
       "      <th>0</th>\n",
       "      <td>377.622176</td>\n",
       "    </tr>\n",
       "    <tr>\n",
       "      <th>1</th>\n",
       "      <td>325.445409</td>\n",
       "    </tr>\n",
       "    <tr>\n",
       "      <th>2</th>\n",
       "      <td>753.263240</td>\n",
       "    </tr>\n",
       "  </tbody>\n",
       "</table>\n",
       "</div>"
      ],
      "text/plain": [
       "            0\n",
       "0  377.622176\n",
       "1  325.445409\n",
       "2  753.263240"
      ]
     },
     "execution_count": 156,
     "metadata": {},
     "output_type": "execute_result"
    }
   ],
   "source": [
    "# Converting inverse Lognormal distribution results to dataframe\n",
    "df_impact_type2 = pd.DataFrame(inverse_lognorm_type2)\n",
    "df_impact_type2.head(3)"
   ]
  },
  {
   "cell_type": "code",
   "execution_count": 157,
   "id": "7748c96f",
   "metadata": {},
   "outputs": [
    {
     "data": {
      "text/html": [
       "<div>\n",
       "<style scoped>\n",
       "    .dataframe tbody tr th:only-of-type {\n",
       "        vertical-align: middle;\n",
       "    }\n",
       "\n",
       "    .dataframe tbody tr th {\n",
       "        vertical-align: top;\n",
       "    }\n",
       "\n",
       "    .dataframe thead th {\n",
       "        text-align: right;\n",
       "    }\n",
       "</style>\n",
       "<table border=\"1\" class=\"dataframe\">\n",
       "  <thead>\n",
       "    <tr style=\"text-align: right;\">\n",
       "      <th></th>\n",
       "      <th>Impact_type2</th>\n",
       "    </tr>\n",
       "  </thead>\n",
       "  <tbody>\n",
       "    <tr>\n",
       "      <th>0</th>\n",
       "      <td>377.622176</td>\n",
       "    </tr>\n",
       "    <tr>\n",
       "      <th>1</th>\n",
       "      <td>325.445409</td>\n",
       "    </tr>\n",
       "    <tr>\n",
       "      <th>2</th>\n",
       "      <td>753.263240</td>\n",
       "    </tr>\n",
       "  </tbody>\n",
       "</table>\n",
       "</div>"
      ],
      "text/plain": [
       "   Impact_type2\n",
       "0    377.622176\n",
       "1    325.445409\n",
       "2    753.263240"
      ]
     },
     "execution_count": 157,
     "metadata": {},
     "output_type": "execute_result"
    }
   ],
   "source": [
    "# Renaming columns\n",
    "df_impact_type2 = df_impact_type2.rename(columns = {0: 'Impact_type2'})\n",
    "df_impact_type2.head(3)"
   ]
  },
  {
   "cell_type": "markdown",
   "id": "5b7887fb",
   "metadata": {},
   "source": [
    "7. Inverse Lognormal Distribution Type 3"
   ]
  },
  {
   "cell_type": "code",
   "execution_count": 158,
   "id": "3e136721",
   "metadata": {},
   "outputs": [
    {
     "data": {
      "text/html": [
       "<div>\n",
       "<style scoped>\n",
       "    .dataframe tbody tr th:only-of-type {\n",
       "        vertical-align: middle;\n",
       "    }\n",
       "\n",
       "    .dataframe tbody tr th {\n",
       "        vertical-align: top;\n",
       "    }\n",
       "\n",
       "    .dataframe thead th {\n",
       "        text-align: right;\n",
       "    }\n",
       "</style>\n",
       "<table border=\"1\" class=\"dataframe\">\n",
       "  <thead>\n",
       "    <tr style=\"text-align: right;\">\n",
       "      <th></th>\n",
       "      <th>0</th>\n",
       "    </tr>\n",
       "  </thead>\n",
       "  <tbody>\n",
       "    <tr>\n",
       "      <th>0</th>\n",
       "      <td>513.026132</td>\n",
       "    </tr>\n",
       "    <tr>\n",
       "      <th>1</th>\n",
       "      <td>2167.434823</td>\n",
       "    </tr>\n",
       "    <tr>\n",
       "      <th>2</th>\n",
       "      <td>435.338250</td>\n",
       "    </tr>\n",
       "  </tbody>\n",
       "</table>\n",
       "</div>"
      ],
      "text/plain": [
       "             0\n",
       "0   513.026132\n",
       "1  2167.434823\n",
       "2   435.338250"
      ]
     },
     "execution_count": 158,
     "metadata": {},
     "output_type": "execute_result"
    }
   ],
   "source": [
    "# Converting inverse Lognormal distribution results to dataframe\n",
    "df_impact_type3 = pd.DataFrame(inverse_lognorm_type3)\n",
    "df_impact_type3.head(3)"
   ]
  },
  {
   "cell_type": "code",
   "execution_count": 159,
   "id": "cf028a96",
   "metadata": {},
   "outputs": [
    {
     "data": {
      "text/html": [
       "<div>\n",
       "<style scoped>\n",
       "    .dataframe tbody tr th:only-of-type {\n",
       "        vertical-align: middle;\n",
       "    }\n",
       "\n",
       "    .dataframe tbody tr th {\n",
       "        vertical-align: top;\n",
       "    }\n",
       "\n",
       "    .dataframe thead th {\n",
       "        text-align: right;\n",
       "    }\n",
       "</style>\n",
       "<table border=\"1\" class=\"dataframe\">\n",
       "  <thead>\n",
       "    <tr style=\"text-align: right;\">\n",
       "      <th></th>\n",
       "      <th>Impact_type3</th>\n",
       "    </tr>\n",
       "  </thead>\n",
       "  <tbody>\n",
       "    <tr>\n",
       "      <th>0</th>\n",
       "      <td>513.026132</td>\n",
       "    </tr>\n",
       "    <tr>\n",
       "      <th>1</th>\n",
       "      <td>2167.434823</td>\n",
       "    </tr>\n",
       "    <tr>\n",
       "      <th>2</th>\n",
       "      <td>435.338250</td>\n",
       "    </tr>\n",
       "  </tbody>\n",
       "</table>\n",
       "</div>"
      ],
      "text/plain": [
       "   Impact_type3\n",
       "0    513.026132\n",
       "1   2167.434823\n",
       "2    435.338250"
      ]
     },
     "execution_count": 159,
     "metadata": {},
     "output_type": "execute_result"
    }
   ],
   "source": [
    "# Renaming columns\n",
    "df_impact_type3 = df_impact_type3.rename(columns = {0: 'Impact_type3'})\n",
    "df_impact_type3.head(3)"
   ]
  },
  {
   "cell_type": "markdown",
   "id": "93c7b8bb",
   "metadata": {},
   "source": [
    "8. Inverse Lognormal Distribution Type 4"
   ]
  },
  {
   "cell_type": "code",
   "execution_count": 160,
   "id": "ba39fe7a",
   "metadata": {},
   "outputs": [
    {
     "data": {
      "text/html": [
       "<div>\n",
       "<style scoped>\n",
       "    .dataframe tbody tr th:only-of-type {\n",
       "        vertical-align: middle;\n",
       "    }\n",
       "\n",
       "    .dataframe tbody tr th {\n",
       "        vertical-align: top;\n",
       "    }\n",
       "\n",
       "    .dataframe thead th {\n",
       "        text-align: right;\n",
       "    }\n",
       "</style>\n",
       "<table border=\"1\" class=\"dataframe\">\n",
       "  <thead>\n",
       "    <tr style=\"text-align: right;\">\n",
       "      <th></th>\n",
       "      <th>0</th>\n",
       "    </tr>\n",
       "  </thead>\n",
       "  <tbody>\n",
       "    <tr>\n",
       "      <th>0</th>\n",
       "      <td>277.608744</td>\n",
       "    </tr>\n",
       "    <tr>\n",
       "      <th>1</th>\n",
       "      <td>571.128085</td>\n",
       "    </tr>\n",
       "    <tr>\n",
       "      <th>2</th>\n",
       "      <td>201.308848</td>\n",
       "    </tr>\n",
       "  </tbody>\n",
       "</table>\n",
       "</div>"
      ],
      "text/plain": [
       "            0\n",
       "0  277.608744\n",
       "1  571.128085\n",
       "2  201.308848"
      ]
     },
     "execution_count": 160,
     "metadata": {},
     "output_type": "execute_result"
    }
   ],
   "source": [
    "# Converting inverse Lognormal distribution results to dataframe\n",
    "df_impact_type4 = pd.DataFrame(inverse_lognorm_type4)\n",
    "df_impact_type4.head(3)"
   ]
  },
  {
   "cell_type": "code",
   "execution_count": 161,
   "id": "082a1384",
   "metadata": {},
   "outputs": [
    {
     "data": {
      "text/html": [
       "<div>\n",
       "<style scoped>\n",
       "    .dataframe tbody tr th:only-of-type {\n",
       "        vertical-align: middle;\n",
       "    }\n",
       "\n",
       "    .dataframe tbody tr th {\n",
       "        vertical-align: top;\n",
       "    }\n",
       "\n",
       "    .dataframe thead th {\n",
       "        text-align: right;\n",
       "    }\n",
       "</style>\n",
       "<table border=\"1\" class=\"dataframe\">\n",
       "  <thead>\n",
       "    <tr style=\"text-align: right;\">\n",
       "      <th></th>\n",
       "      <th>Impact_type4</th>\n",
       "    </tr>\n",
       "  </thead>\n",
       "  <tbody>\n",
       "    <tr>\n",
       "      <th>0</th>\n",
       "      <td>277.608744</td>\n",
       "    </tr>\n",
       "    <tr>\n",
       "      <th>1</th>\n",
       "      <td>571.128085</td>\n",
       "    </tr>\n",
       "    <tr>\n",
       "      <th>2</th>\n",
       "      <td>201.308848</td>\n",
       "    </tr>\n",
       "  </tbody>\n",
       "</table>\n",
       "</div>"
      ],
      "text/plain": [
       "   Impact_type4\n",
       "0    277.608744\n",
       "1    571.128085\n",
       "2    201.308848"
      ]
     },
     "execution_count": 161,
     "metadata": {},
     "output_type": "execute_result"
    }
   ],
   "source": [
    "# Renaming columns\n",
    "df_impact_type4 = df_impact_type4.rename(columns = {0: 'Impact_type4'})\n",
    "df_impact_type4.head(3)"
   ]
  },
  {
   "cell_type": "markdown",
   "id": "966a3e6f",
   "metadata": {},
   "source": [
    "9. Poisson Distribution Type 1"
   ]
  },
  {
   "cell_type": "code",
   "execution_count": 162,
   "id": "e50696f4",
   "metadata": {},
   "outputs": [
    {
     "data": {
      "text/html": [
       "<div>\n",
       "<style scoped>\n",
       "    .dataframe tbody tr th:only-of-type {\n",
       "        vertical-align: middle;\n",
       "    }\n",
       "\n",
       "    .dataframe tbody tr th {\n",
       "        vertical-align: top;\n",
       "    }\n",
       "\n",
       "    .dataframe thead th {\n",
       "        text-align: right;\n",
       "    }\n",
       "</style>\n",
       "<table border=\"1\" class=\"dataframe\">\n",
       "  <thead>\n",
       "    <tr style=\"text-align: right;\">\n",
       "      <th></th>\n",
       "      <th>0</th>\n",
       "    </tr>\n",
       "  </thead>\n",
       "  <tbody>\n",
       "    <tr>\n",
       "      <th>0</th>\n",
       "      <td>17</td>\n",
       "    </tr>\n",
       "    <tr>\n",
       "      <th>1</th>\n",
       "      <td>20</td>\n",
       "    </tr>\n",
       "    <tr>\n",
       "      <th>2</th>\n",
       "      <td>16</td>\n",
       "    </tr>\n",
       "  </tbody>\n",
       "</table>\n",
       "</div>"
      ],
      "text/plain": [
       "    0\n",
       "0  17\n",
       "1  20\n",
       "2  16"
      ]
     },
     "execution_count": 162,
     "metadata": {},
     "output_type": "execute_result"
    }
   ],
   "source": [
    "# Converting Poisson distribution results to dataframe\n",
    "df_poisson_type1 = pd.DataFrame(poisson_type1)\n",
    "df_poisson_type1.head(3)"
   ]
  },
  {
   "cell_type": "code",
   "execution_count": 163,
   "id": "23da60b5",
   "metadata": {},
   "outputs": [
    {
     "data": {
      "text/html": [
       "<div>\n",
       "<style scoped>\n",
       "    .dataframe tbody tr th:only-of-type {\n",
       "        vertical-align: middle;\n",
       "    }\n",
       "\n",
       "    .dataframe tbody tr th {\n",
       "        vertical-align: top;\n",
       "    }\n",
       "\n",
       "    .dataframe thead th {\n",
       "        text-align: right;\n",
       "    }\n",
       "</style>\n",
       "<table border=\"1\" class=\"dataframe\">\n",
       "  <thead>\n",
       "    <tr style=\"text-align: right;\">\n",
       "      <th></th>\n",
       "      <th>Poisson_type1</th>\n",
       "    </tr>\n",
       "  </thead>\n",
       "  <tbody>\n",
       "    <tr>\n",
       "      <th>0</th>\n",
       "      <td>17</td>\n",
       "    </tr>\n",
       "    <tr>\n",
       "      <th>1</th>\n",
       "      <td>20</td>\n",
       "    </tr>\n",
       "    <tr>\n",
       "      <th>2</th>\n",
       "      <td>16</td>\n",
       "    </tr>\n",
       "  </tbody>\n",
       "</table>\n",
       "</div>"
      ],
      "text/plain": [
       "   Poisson_type1\n",
       "0             17\n",
       "1             20\n",
       "2             16"
      ]
     },
     "execution_count": 163,
     "metadata": {},
     "output_type": "execute_result"
    }
   ],
   "source": [
    "# Renaming columns\n",
    "df_poisson_type1  = df_poisson_type1.rename(columns = {0: 'Poisson_type1'})\n",
    "df_poisson_type1.head(3)"
   ]
  },
  {
   "cell_type": "markdown",
   "id": "db8dbe2d",
   "metadata": {},
   "source": [
    "10. Poisson Distribution Type 2"
   ]
  },
  {
   "cell_type": "code",
   "execution_count": 164,
   "id": "8ae2d8f4",
   "metadata": {},
   "outputs": [
    {
     "data": {
      "text/html": [
       "<div>\n",
       "<style scoped>\n",
       "    .dataframe tbody tr th:only-of-type {\n",
       "        vertical-align: middle;\n",
       "    }\n",
       "\n",
       "    .dataframe tbody tr th {\n",
       "        vertical-align: top;\n",
       "    }\n",
       "\n",
       "    .dataframe thead th {\n",
       "        text-align: right;\n",
       "    }\n",
       "</style>\n",
       "<table border=\"1\" class=\"dataframe\">\n",
       "  <thead>\n",
       "    <tr style=\"text-align: right;\">\n",
       "      <th></th>\n",
       "      <th>0</th>\n",
       "    </tr>\n",
       "  </thead>\n",
       "  <tbody>\n",
       "    <tr>\n",
       "      <th>0</th>\n",
       "      <td>14</td>\n",
       "    </tr>\n",
       "    <tr>\n",
       "      <th>1</th>\n",
       "      <td>15</td>\n",
       "    </tr>\n",
       "    <tr>\n",
       "      <th>2</th>\n",
       "      <td>13</td>\n",
       "    </tr>\n",
       "  </tbody>\n",
       "</table>\n",
       "</div>"
      ],
      "text/plain": [
       "    0\n",
       "0  14\n",
       "1  15\n",
       "2  13"
      ]
     },
     "execution_count": 164,
     "metadata": {},
     "output_type": "execute_result"
    }
   ],
   "source": [
    "# Converting Poisson distribution results to dataframe\n",
    "df_poisson_type2 = pd.DataFrame(poisson_type2)\n",
    "df_poisson_type2.head(3)"
   ]
  },
  {
   "cell_type": "code",
   "execution_count": 165,
   "id": "a46cdd73",
   "metadata": {},
   "outputs": [
    {
     "data": {
      "text/html": [
       "<div>\n",
       "<style scoped>\n",
       "    .dataframe tbody tr th:only-of-type {\n",
       "        vertical-align: middle;\n",
       "    }\n",
       "\n",
       "    .dataframe tbody tr th {\n",
       "        vertical-align: top;\n",
       "    }\n",
       "\n",
       "    .dataframe thead th {\n",
       "        text-align: right;\n",
       "    }\n",
       "</style>\n",
       "<table border=\"1\" class=\"dataframe\">\n",
       "  <thead>\n",
       "    <tr style=\"text-align: right;\">\n",
       "      <th></th>\n",
       "      <th>Poisson_type2</th>\n",
       "    </tr>\n",
       "  </thead>\n",
       "  <tbody>\n",
       "    <tr>\n",
       "      <th>0</th>\n",
       "      <td>14</td>\n",
       "    </tr>\n",
       "    <tr>\n",
       "      <th>1</th>\n",
       "      <td>15</td>\n",
       "    </tr>\n",
       "    <tr>\n",
       "      <th>2</th>\n",
       "      <td>13</td>\n",
       "    </tr>\n",
       "  </tbody>\n",
       "</table>\n",
       "</div>"
      ],
      "text/plain": [
       "   Poisson_type2\n",
       "0             14\n",
       "1             15\n",
       "2             13"
      ]
     },
     "execution_count": 165,
     "metadata": {},
     "output_type": "execute_result"
    }
   ],
   "source": [
    "# Renaming columns\n",
    "df_poisson_type2  = df_poisson_type2.rename(columns = {0: 'Poisson_type2'})\n",
    "df_poisson_type2.head(3)"
   ]
  },
  {
   "cell_type": "markdown",
   "id": "17988660",
   "metadata": {},
   "source": [
    "11. Poisson Distribution Type 3"
   ]
  },
  {
   "cell_type": "code",
   "execution_count": 166,
   "id": "b34dcc21",
   "metadata": {},
   "outputs": [
    {
     "data": {
      "text/html": [
       "<div>\n",
       "<style scoped>\n",
       "    .dataframe tbody tr th:only-of-type {\n",
       "        vertical-align: middle;\n",
       "    }\n",
       "\n",
       "    .dataframe tbody tr th {\n",
       "        vertical-align: top;\n",
       "    }\n",
       "\n",
       "    .dataframe thead th {\n",
       "        text-align: right;\n",
       "    }\n",
       "</style>\n",
       "<table border=\"1\" class=\"dataframe\">\n",
       "  <thead>\n",
       "    <tr style=\"text-align: right;\">\n",
       "      <th></th>\n",
       "      <th>0</th>\n",
       "    </tr>\n",
       "  </thead>\n",
       "  <tbody>\n",
       "    <tr>\n",
       "      <th>0</th>\n",
       "      <td>23</td>\n",
       "    </tr>\n",
       "    <tr>\n",
       "      <th>1</th>\n",
       "      <td>15</td>\n",
       "    </tr>\n",
       "    <tr>\n",
       "      <th>2</th>\n",
       "      <td>11</td>\n",
       "    </tr>\n",
       "  </tbody>\n",
       "</table>\n",
       "</div>"
      ],
      "text/plain": [
       "    0\n",
       "0  23\n",
       "1  15\n",
       "2  11"
      ]
     },
     "execution_count": 166,
     "metadata": {},
     "output_type": "execute_result"
    }
   ],
   "source": [
    "# Converting Poisson distribution results to dataframe\n",
    "df_poisson_type3 = pd.DataFrame(poisson_type3)\n",
    "df_poisson_type3.head(3)"
   ]
  },
  {
   "cell_type": "code",
   "execution_count": 167,
   "id": "2315daf5",
   "metadata": {},
   "outputs": [
    {
     "data": {
      "text/html": [
       "<div>\n",
       "<style scoped>\n",
       "    .dataframe tbody tr th:only-of-type {\n",
       "        vertical-align: middle;\n",
       "    }\n",
       "\n",
       "    .dataframe tbody tr th {\n",
       "        vertical-align: top;\n",
       "    }\n",
       "\n",
       "    .dataframe thead th {\n",
       "        text-align: right;\n",
       "    }\n",
       "</style>\n",
       "<table border=\"1\" class=\"dataframe\">\n",
       "  <thead>\n",
       "    <tr style=\"text-align: right;\">\n",
       "      <th></th>\n",
       "      <th>Poisson_type3</th>\n",
       "    </tr>\n",
       "  </thead>\n",
       "  <tbody>\n",
       "    <tr>\n",
       "      <th>0</th>\n",
       "      <td>23</td>\n",
       "    </tr>\n",
       "    <tr>\n",
       "      <th>1</th>\n",
       "      <td>15</td>\n",
       "    </tr>\n",
       "    <tr>\n",
       "      <th>2</th>\n",
       "      <td>11</td>\n",
       "    </tr>\n",
       "  </tbody>\n",
       "</table>\n",
       "</div>"
      ],
      "text/plain": [
       "   Poisson_type3\n",
       "0             23\n",
       "1             15\n",
       "2             11"
      ]
     },
     "execution_count": 167,
     "metadata": {},
     "output_type": "execute_result"
    }
   ],
   "source": [
    "# Renaming columns\n",
    "df_poisson_type3  = df_poisson_type3.rename(columns = {0: 'Poisson_type3'})\n",
    "df_poisson_type3.head(3)"
   ]
  },
  {
   "cell_type": "markdown",
   "id": "e0063347",
   "metadata": {},
   "source": [
    "12. Poisson Distribution Type 4"
   ]
  },
  {
   "cell_type": "code",
   "execution_count": 168,
   "id": "76810aa8",
   "metadata": {},
   "outputs": [
    {
     "data": {
      "text/html": [
       "<div>\n",
       "<style scoped>\n",
       "    .dataframe tbody tr th:only-of-type {\n",
       "        vertical-align: middle;\n",
       "    }\n",
       "\n",
       "    .dataframe tbody tr th {\n",
       "        vertical-align: top;\n",
       "    }\n",
       "\n",
       "    .dataframe thead th {\n",
       "        text-align: right;\n",
       "    }\n",
       "</style>\n",
       "<table border=\"1\" class=\"dataframe\">\n",
       "  <thead>\n",
       "    <tr style=\"text-align: right;\">\n",
       "      <th></th>\n",
       "      <th>0</th>\n",
       "    </tr>\n",
       "  </thead>\n",
       "  <tbody>\n",
       "    <tr>\n",
       "      <th>0</th>\n",
       "      <td>10</td>\n",
       "    </tr>\n",
       "    <tr>\n",
       "      <th>1</th>\n",
       "      <td>11</td>\n",
       "    </tr>\n",
       "    <tr>\n",
       "      <th>2</th>\n",
       "      <td>13</td>\n",
       "    </tr>\n",
       "  </tbody>\n",
       "</table>\n",
       "</div>"
      ],
      "text/plain": [
       "    0\n",
       "0  10\n",
       "1  11\n",
       "2  13"
      ]
     },
     "execution_count": 168,
     "metadata": {},
     "output_type": "execute_result"
    }
   ],
   "source": [
    "# Converting Poisson distribution results to dataframe\n",
    "df_poisson_type4 = pd.DataFrame(poisson_type4)\n",
    "df_poisson_type4.head(3)"
   ]
  },
  {
   "cell_type": "code",
   "execution_count": 169,
   "id": "9a4e044a",
   "metadata": {},
   "outputs": [
    {
     "data": {
      "text/html": [
       "<div>\n",
       "<style scoped>\n",
       "    .dataframe tbody tr th:only-of-type {\n",
       "        vertical-align: middle;\n",
       "    }\n",
       "\n",
       "    .dataframe tbody tr th {\n",
       "        vertical-align: top;\n",
       "    }\n",
       "\n",
       "    .dataframe thead th {\n",
       "        text-align: right;\n",
       "    }\n",
       "</style>\n",
       "<table border=\"1\" class=\"dataframe\">\n",
       "  <thead>\n",
       "    <tr style=\"text-align: right;\">\n",
       "      <th></th>\n",
       "      <th>Poisson_type4</th>\n",
       "    </tr>\n",
       "  </thead>\n",
       "  <tbody>\n",
       "    <tr>\n",
       "      <th>0</th>\n",
       "      <td>10</td>\n",
       "    </tr>\n",
       "    <tr>\n",
       "      <th>1</th>\n",
       "      <td>11</td>\n",
       "    </tr>\n",
       "    <tr>\n",
       "      <th>2</th>\n",
       "      <td>13</td>\n",
       "    </tr>\n",
       "  </tbody>\n",
       "</table>\n",
       "</div>"
      ],
      "text/plain": [
       "   Poisson_type4\n",
       "0             10\n",
       "1             11\n",
       "2             13"
      ]
     },
     "execution_count": 169,
     "metadata": {},
     "output_type": "execute_result"
    }
   ],
   "source": [
    "# Renaming columns\n",
    "df_poisson_type4  = df_poisson_type4.rename(columns = {0: 'Poisson_type4'})\n",
    "df_poisson_type4.head(3)"
   ]
  },
  {
   "cell_type": "markdown",
   "id": "4ee48f50",
   "metadata": {},
   "source": [
    "Checking dataframes"
   ]
  },
  {
   "cell_type": "code",
   "execution_count": 170,
   "id": "aeb05c71",
   "metadata": {},
   "outputs": [
    {
     "name": "stdout",
     "output_type": "stream",
     "text": [
      "<class 'pandas.core.frame.DataFrame'>\n",
      "RangeIndex: 10000 entries, 0 to 9999\n",
      "Data columns (total 1 columns):\n",
      " #   Column       Non-Null Count  Dtype\n",
      "---  ------       --------------  -----\n",
      " 0   Binom_type1  10000 non-null  int32\n",
      "dtypes: int32(1)\n",
      "memory usage: 39.2 KB\n"
     ]
    }
   ],
   "source": [
    "#Checking dataframes\n",
    "df_binom_type1.info()"
   ]
  },
  {
   "cell_type": "code",
   "execution_count": 171,
   "id": "47ad6b5c",
   "metadata": {},
   "outputs": [
    {
     "name": "stdout",
     "output_type": "stream",
     "text": [
      "<class 'pandas.core.frame.DataFrame'>\n",
      "RangeIndex: 10000 entries, 0 to 9999\n",
      "Data columns (total 1 columns):\n",
      " #   Column       Non-Null Count  Dtype\n",
      "---  ------       --------------  -----\n",
      " 0   Binom_type2  10000 non-null  int32\n",
      "dtypes: int32(1)\n",
      "memory usage: 39.2 KB\n"
     ]
    }
   ],
   "source": [
    "df_binom_type2.info()"
   ]
  },
  {
   "cell_type": "code",
   "execution_count": 172,
   "id": "d51347bb",
   "metadata": {},
   "outputs": [
    {
     "name": "stdout",
     "output_type": "stream",
     "text": [
      "<class 'pandas.core.frame.DataFrame'>\n",
      "RangeIndex: 10000 entries, 0 to 9999\n",
      "Data columns (total 1 columns):\n",
      " #   Column       Non-Null Count  Dtype\n",
      "---  ------       --------------  -----\n",
      " 0   Binom_type3  10000 non-null  int32\n",
      "dtypes: int32(1)\n",
      "memory usage: 39.2 KB\n"
     ]
    }
   ],
   "source": [
    "df_binom_type3.info()"
   ]
  },
  {
   "cell_type": "code",
   "execution_count": 173,
   "id": "82c90294",
   "metadata": {},
   "outputs": [
    {
     "name": "stdout",
     "output_type": "stream",
     "text": [
      "<class 'pandas.core.frame.DataFrame'>\n",
      "RangeIndex: 10000 entries, 0 to 9999\n",
      "Data columns (total 1 columns):\n",
      " #   Column       Non-Null Count  Dtype\n",
      "---  ------       --------------  -----\n",
      " 0   Binom_type4  10000 non-null  int32\n",
      "dtypes: int32(1)\n",
      "memory usage: 39.2 KB\n"
     ]
    }
   ],
   "source": [
    "df_binom_type4.info()"
   ]
  },
  {
   "cell_type": "code",
   "execution_count": 174,
   "id": "59d3f07a",
   "metadata": {},
   "outputs": [
    {
     "name": "stdout",
     "output_type": "stream",
     "text": [
      "<class 'pandas.core.frame.DataFrame'>\n",
      "RangeIndex: 10000 entries, 0 to 9999\n",
      "Data columns (total 1 columns):\n",
      " #   Column        Non-Null Count  Dtype  \n",
      "---  ------        --------------  -----  \n",
      " 0   Impact_type1  10000 non-null  float64\n",
      "dtypes: float64(1)\n",
      "memory usage: 78.2 KB\n"
     ]
    }
   ],
   "source": [
    "df_impact_type1.info()"
   ]
  },
  {
   "cell_type": "code",
   "execution_count": 175,
   "id": "5b3b84c8",
   "metadata": {},
   "outputs": [
    {
     "name": "stdout",
     "output_type": "stream",
     "text": [
      "<class 'pandas.core.frame.DataFrame'>\n",
      "RangeIndex: 10000 entries, 0 to 9999\n",
      "Data columns (total 1 columns):\n",
      " #   Column        Non-Null Count  Dtype  \n",
      "---  ------        --------------  -----  \n",
      " 0   Impact_type2  10000 non-null  float64\n",
      "dtypes: float64(1)\n",
      "memory usage: 78.2 KB\n"
     ]
    }
   ],
   "source": [
    "df_impact_type2.info()"
   ]
  },
  {
   "cell_type": "code",
   "execution_count": 176,
   "id": "dbfd44f7",
   "metadata": {},
   "outputs": [
    {
     "name": "stdout",
     "output_type": "stream",
     "text": [
      "<class 'pandas.core.frame.DataFrame'>\n",
      "RangeIndex: 10000 entries, 0 to 9999\n",
      "Data columns (total 1 columns):\n",
      " #   Column        Non-Null Count  Dtype  \n",
      "---  ------        --------------  -----  \n",
      " 0   Impact_type3  10000 non-null  float64\n",
      "dtypes: float64(1)\n",
      "memory usage: 78.2 KB\n"
     ]
    }
   ],
   "source": [
    "df_impact_type3.info()"
   ]
  },
  {
   "cell_type": "code",
   "execution_count": 177,
   "id": "07141178",
   "metadata": {},
   "outputs": [
    {
     "name": "stdout",
     "output_type": "stream",
     "text": [
      "<class 'pandas.core.frame.DataFrame'>\n",
      "RangeIndex: 10000 entries, 0 to 9999\n",
      "Data columns (total 1 columns):\n",
      " #   Column        Non-Null Count  Dtype  \n",
      "---  ------        --------------  -----  \n",
      " 0   Impact_type4  10000 non-null  float64\n",
      "dtypes: float64(1)\n",
      "memory usage: 78.2 KB\n"
     ]
    }
   ],
   "source": [
    "df_impact_type4.info()"
   ]
  },
  {
   "cell_type": "code",
   "execution_count": 178,
   "id": "2eab512e",
   "metadata": {},
   "outputs": [
    {
     "name": "stdout",
     "output_type": "stream",
     "text": [
      "<class 'pandas.core.frame.DataFrame'>\n",
      "RangeIndex: 10000 entries, 0 to 9999\n",
      "Data columns (total 1 columns):\n",
      " #   Column         Non-Null Count  Dtype\n",
      "---  ------         --------------  -----\n",
      " 0   Poisson_type1  10000 non-null  int32\n",
      "dtypes: int32(1)\n",
      "memory usage: 39.2 KB\n"
     ]
    }
   ],
   "source": [
    "df_poisson_type1.info()"
   ]
  },
  {
   "cell_type": "code",
   "execution_count": 179,
   "id": "63d9688a",
   "metadata": {},
   "outputs": [
    {
     "name": "stdout",
     "output_type": "stream",
     "text": [
      "<class 'pandas.core.frame.DataFrame'>\n",
      "RangeIndex: 10000 entries, 0 to 9999\n",
      "Data columns (total 1 columns):\n",
      " #   Column         Non-Null Count  Dtype\n",
      "---  ------         --------------  -----\n",
      " 0   Poisson_type2  10000 non-null  int32\n",
      "dtypes: int32(1)\n",
      "memory usage: 39.2 KB\n"
     ]
    }
   ],
   "source": [
    "df_poisson_type2.info()"
   ]
  },
  {
   "cell_type": "code",
   "execution_count": 180,
   "id": "40fb0e53",
   "metadata": {},
   "outputs": [
    {
     "name": "stdout",
     "output_type": "stream",
     "text": [
      "<class 'pandas.core.frame.DataFrame'>\n",
      "RangeIndex: 10000 entries, 0 to 9999\n",
      "Data columns (total 1 columns):\n",
      " #   Column         Non-Null Count  Dtype\n",
      "---  ------         --------------  -----\n",
      " 0   Poisson_type3  10000 non-null  int32\n",
      "dtypes: int32(1)\n",
      "memory usage: 39.2 KB\n"
     ]
    }
   ],
   "source": [
    "df_poisson_type3.info()"
   ]
  },
  {
   "cell_type": "code",
   "execution_count": 181,
   "id": "04bc760f",
   "metadata": {},
   "outputs": [
    {
     "name": "stdout",
     "output_type": "stream",
     "text": [
      "<class 'pandas.core.frame.DataFrame'>\n",
      "RangeIndex: 10000 entries, 0 to 9999\n",
      "Data columns (total 1 columns):\n",
      " #   Column         Non-Null Count  Dtype\n",
      "---  ------         --------------  -----\n",
      " 0   Poisson_type1  10000 non-null  int32\n",
      "dtypes: int32(1)\n",
      "memory usage: 39.2 KB\n"
     ]
    }
   ],
   "source": [
    "df_poisson_type1.info()"
   ]
  },
  {
   "cell_type": "markdown",
   "id": "250e9cdb",
   "metadata": {},
   "source": [
    "# 7. Creating combined dataframe"
   ]
  },
  {
   "cell_type": "code",
   "execution_count": 182,
   "id": "eec24cb1",
   "metadata": {},
   "outputs": [
    {
     "data": {
      "text/html": [
       "<div>\n",
       "<style scoped>\n",
       "    .dataframe tbody tr th:only-of-type {\n",
       "        vertical-align: middle;\n",
       "    }\n",
       "\n",
       "    .dataframe tbody tr th {\n",
       "        vertical-align: top;\n",
       "    }\n",
       "\n",
       "    .dataframe thead th {\n",
       "        text-align: right;\n",
       "    }\n",
       "</style>\n",
       "<table border=\"1\" class=\"dataframe\">\n",
       "  <thead>\n",
       "    <tr style=\"text-align: right;\">\n",
       "      <th></th>\n",
       "      <th>Binom_type1</th>\n",
       "      <th>Binom_type2</th>\n",
       "      <th>Binom_type3</th>\n",
       "      <th>Binom_type4</th>\n",
       "      <th>Poisson_type1</th>\n",
       "      <th>Poisson_type2</th>\n",
       "      <th>Poisson_type3</th>\n",
       "      <th>Poisson_type4</th>\n",
       "      <th>Impact_type1</th>\n",
       "      <th>Impact_type2</th>\n",
       "      <th>Impact_type3</th>\n",
       "      <th>Impact_type4</th>\n",
       "    </tr>\n",
       "  </thead>\n",
       "  <tbody>\n",
       "    <tr>\n",
       "      <th>0</th>\n",
       "      <td>15</td>\n",
       "      <td>0</td>\n",
       "      <td>32</td>\n",
       "      <td>40</td>\n",
       "      <td>17</td>\n",
       "      <td>14</td>\n",
       "      <td>23</td>\n",
       "      <td>10</td>\n",
       "      <td>882.521838</td>\n",
       "      <td>377.622176</td>\n",
       "      <td>513.026132</td>\n",
       "      <td>277.608744</td>\n",
       "    </tr>\n",
       "    <tr>\n",
       "      <th>1</th>\n",
       "      <td>29</td>\n",
       "      <td>14</td>\n",
       "      <td>21</td>\n",
       "      <td>3</td>\n",
       "      <td>20</td>\n",
       "      <td>15</td>\n",
       "      <td>15</td>\n",
       "      <td>11</td>\n",
       "      <td>1360.074925</td>\n",
       "      <td>325.445409</td>\n",
       "      <td>2167.434823</td>\n",
       "      <td>571.128085</td>\n",
       "    </tr>\n",
       "    <tr>\n",
       "      <th>2</th>\n",
       "      <td>23</td>\n",
       "      <td>4</td>\n",
       "      <td>88</td>\n",
       "      <td>26</td>\n",
       "      <td>16</td>\n",
       "      <td>13</td>\n",
       "      <td>11</td>\n",
       "      <td>13</td>\n",
       "      <td>508.687648</td>\n",
       "      <td>753.263240</td>\n",
       "      <td>435.338250</td>\n",
       "      <td>201.308848</td>\n",
       "    </tr>\n",
       "    <tr>\n",
       "      <th>3</th>\n",
       "      <td>37</td>\n",
       "      <td>33</td>\n",
       "      <td>32</td>\n",
       "      <td>1</td>\n",
       "      <td>24</td>\n",
       "      <td>23</td>\n",
       "      <td>14</td>\n",
       "      <td>21</td>\n",
       "      <td>241.242946</td>\n",
       "      <td>230.827209</td>\n",
       "      <td>463.628617</td>\n",
       "      <td>482.659741</td>\n",
       "    </tr>\n",
       "    <tr>\n",
       "      <th>4</th>\n",
       "      <td>16</td>\n",
       "      <td>11</td>\n",
       "      <td>26</td>\n",
       "      <td>4</td>\n",
       "      <td>19</td>\n",
       "      <td>12</td>\n",
       "      <td>23</td>\n",
       "      <td>13</td>\n",
       "      <td>35.169128</td>\n",
       "      <td>129.777576</td>\n",
       "      <td>1515.726631</td>\n",
       "      <td>868.779109</td>\n",
       "    </tr>\n",
       "  </tbody>\n",
       "</table>\n",
       "</div>"
      ],
      "text/plain": [
       "   Binom_type1  Binom_type2  Binom_type3  Binom_type4  Poisson_type1  \\\n",
       "0           15            0           32           40             17   \n",
       "1           29           14           21            3             20   \n",
       "2           23            4           88           26             16   \n",
       "3           37           33           32            1             24   \n",
       "4           16           11           26            4             19   \n",
       "\n",
       "   Poisson_type2  Poisson_type3  Poisson_type4  Impact_type1  Impact_type2  \\\n",
       "0             14             23             10    882.521838    377.622176   \n",
       "1             15             15             11   1360.074925    325.445409   \n",
       "2             13             11             13    508.687648    753.263240   \n",
       "3             23             14             21    241.242946    230.827209   \n",
       "4             12             23             13     35.169128    129.777576   \n",
       "\n",
       "   Impact_type3  Impact_type4  \n",
       "0    513.026132    277.608744  \n",
       "1   2167.434823    571.128085  \n",
       "2    435.338250    201.308848  \n",
       "3    463.628617    482.659741  \n",
       "4   1515.726631    868.779109  "
      ]
     },
     "execution_count": 182,
     "metadata": {},
     "output_type": "execute_result"
    }
   ],
   "source": [
    "OpRisk = pd.concat([df_binom_type1, df_binom_type2, df_binom_type3, df_binom_type4, df_poisson_type1, df_poisson_type2, df_poisson_type3, df_poisson_type4, df_impact_type1, df_impact_type2, df_impact_type3, df_impact_type4], axis = 1)\n",
    "OpRisk.head()"
   ]
  },
  {
   "cell_type": "markdown",
   "id": "ad23303c",
   "metadata": {},
   "source": [
    "## Adding new column with product of distributions (Inverse Binomial and Inverse Lognormal) to combined dataframe"
   ]
  },
  {
   "cell_type": "code",
   "execution_count": 183,
   "id": "376fe180",
   "metadata": {},
   "outputs": [
    {
     "data": {
      "text/html": [
       "<div>\n",
       "<style scoped>\n",
       "    .dataframe tbody tr th:only-of-type {\n",
       "        vertical-align: middle;\n",
       "    }\n",
       "\n",
       "    .dataframe tbody tr th {\n",
       "        vertical-align: top;\n",
       "    }\n",
       "\n",
       "    .dataframe thead th {\n",
       "        text-align: right;\n",
       "    }\n",
       "</style>\n",
       "<table border=\"1\" class=\"dataframe\">\n",
       "  <thead>\n",
       "    <tr style=\"text-align: right;\">\n",
       "      <th></th>\n",
       "      <th>Binom_type1</th>\n",
       "      <th>Binom_type2</th>\n",
       "      <th>Binom_type3</th>\n",
       "      <th>Binom_type4</th>\n",
       "      <th>Poisson_type1</th>\n",
       "      <th>Poisson_type2</th>\n",
       "      <th>Poisson_type3</th>\n",
       "      <th>Poisson_type4</th>\n",
       "      <th>Impact_type1</th>\n",
       "      <th>Impact_type2</th>\n",
       "      <th>Impact_type3</th>\n",
       "      <th>Impact_type4</th>\n",
       "      <th>Binom_Monthly_Loss</th>\n",
       "    </tr>\n",
       "  </thead>\n",
       "  <tbody>\n",
       "    <tr>\n",
       "      <th>0</th>\n",
       "      <td>15</td>\n",
       "      <td>0</td>\n",
       "      <td>32</td>\n",
       "      <td>40</td>\n",
       "      <td>17</td>\n",
       "      <td>14</td>\n",
       "      <td>23</td>\n",
       "      <td>10</td>\n",
       "      <td>882.521838</td>\n",
       "      <td>377.622176</td>\n",
       "      <td>513.026132</td>\n",
       "      <td>277.608744</td>\n",
       "      <td>40759.013576</td>\n",
       "    </tr>\n",
       "    <tr>\n",
       "      <th>1</th>\n",
       "      <td>29</td>\n",
       "      <td>14</td>\n",
       "      <td>21</td>\n",
       "      <td>3</td>\n",
       "      <td>20</td>\n",
       "      <td>15</td>\n",
       "      <td>15</td>\n",
       "      <td>11</td>\n",
       "      <td>1360.074925</td>\n",
       "      <td>325.445409</td>\n",
       "      <td>2167.434823</td>\n",
       "      <td>571.128085</td>\n",
       "      <td>91227.924075</td>\n",
       "    </tr>\n",
       "    <tr>\n",
       "      <th>2</th>\n",
       "      <td>23</td>\n",
       "      <td>4</td>\n",
       "      <td>88</td>\n",
       "      <td>26</td>\n",
       "      <td>16</td>\n",
       "      <td>13</td>\n",
       "      <td>11</td>\n",
       "      <td>13</td>\n",
       "      <td>508.687648</td>\n",
       "      <td>753.263240</td>\n",
       "      <td>435.338250</td>\n",
       "      <td>201.308848</td>\n",
       "      <td>58256.664903</td>\n",
       "    </tr>\n",
       "    <tr>\n",
       "      <th>3</th>\n",
       "      <td>37</td>\n",
       "      <td>33</td>\n",
       "      <td>32</td>\n",
       "      <td>1</td>\n",
       "      <td>24</td>\n",
       "      <td>23</td>\n",
       "      <td>14</td>\n",
       "      <td>21</td>\n",
       "      <td>241.242946</td>\n",
       "      <td>230.827209</td>\n",
       "      <td>463.628617</td>\n",
       "      <td>482.659741</td>\n",
       "      <td>31862.062390</td>\n",
       "    </tr>\n",
       "    <tr>\n",
       "      <th>4</th>\n",
       "      <td>16</td>\n",
       "      <td>11</td>\n",
       "      <td>26</td>\n",
       "      <td>4</td>\n",
       "      <td>19</td>\n",
       "      <td>12</td>\n",
       "      <td>23</td>\n",
       "      <td>13</td>\n",
       "      <td>35.169128</td>\n",
       "      <td>129.777576</td>\n",
       "      <td>1515.726631</td>\n",
       "      <td>868.779109</td>\n",
       "      <td>44874.268222</td>\n",
       "    </tr>\n",
       "  </tbody>\n",
       "</table>\n",
       "</div>"
      ],
      "text/plain": [
       "   Binom_type1  Binom_type2  Binom_type3  Binom_type4  Poisson_type1  \\\n",
       "0           15            0           32           40             17   \n",
       "1           29           14           21            3             20   \n",
       "2           23            4           88           26             16   \n",
       "3           37           33           32            1             24   \n",
       "4           16           11           26            4             19   \n",
       "\n",
       "   Poisson_type2  Poisson_type3  Poisson_type4  Impact_type1  Impact_type2  \\\n",
       "0             14             23             10    882.521838    377.622176   \n",
       "1             15             15             11   1360.074925    325.445409   \n",
       "2             13             11             13    508.687648    753.263240   \n",
       "3             23             14             21    241.242946    230.827209   \n",
       "4             12             23             13     35.169128    129.777576   \n",
       "\n",
       "   Impact_type3  Impact_type4  Binom_Monthly_Loss  \n",
       "0    513.026132    277.608744        40759.013576  \n",
       "1   2167.434823    571.128085        91227.924075  \n",
       "2    435.338250    201.308848        58256.664903  \n",
       "3    463.628617    482.659741        31862.062390  \n",
       "4   1515.726631    868.779109        44874.268222  "
      ]
     },
     "execution_count": 183,
     "metadata": {},
     "output_type": "execute_result"
    }
   ],
   "source": [
    "OpRisk['Binom_Monthly_Loss'] = (OpRisk['Binom_type1'] * OpRisk['Impact_type1']) + (OpRisk['Binom_type2'] * OpRisk['Impact_type2']) + (OpRisk['Binom_type3'] * OpRisk['Impact_type3']) + (OpRisk['Binom_type4'] * OpRisk['Impact_type4'])\n",
    "OpRisk.head()"
   ]
  },
  {
   "cell_type": "markdown",
   "id": "ddbdab8b",
   "metadata": {},
   "source": [
    "## Adding new column with product of distributions (Poisson and Inverse Lognormal) to combined dataframe"
   ]
  },
  {
   "cell_type": "code",
   "execution_count": 185,
   "id": "e82956e9",
   "metadata": {},
   "outputs": [
    {
     "data": {
      "text/html": [
       "<div>\n",
       "<style scoped>\n",
       "    .dataframe tbody tr th:only-of-type {\n",
       "        vertical-align: middle;\n",
       "    }\n",
       "\n",
       "    .dataframe tbody tr th {\n",
       "        vertical-align: top;\n",
       "    }\n",
       "\n",
       "    .dataframe thead th {\n",
       "        text-align: right;\n",
       "    }\n",
       "</style>\n",
       "<table border=\"1\" class=\"dataframe\">\n",
       "  <thead>\n",
       "    <tr style=\"text-align: right;\">\n",
       "      <th></th>\n",
       "      <th>Binom_type1</th>\n",
       "      <th>Binom_type2</th>\n",
       "      <th>Binom_type3</th>\n",
       "      <th>Binom_type4</th>\n",
       "      <th>Poisson_type1</th>\n",
       "      <th>Poisson_type2</th>\n",
       "      <th>Poisson_type3</th>\n",
       "      <th>Poisson_type4</th>\n",
       "      <th>Impact_type1</th>\n",
       "      <th>Impact_type2</th>\n",
       "      <th>Impact_type3</th>\n",
       "      <th>Impact_type4</th>\n",
       "      <th>Binom_Monthly_Loss</th>\n",
       "      <th>Poisson_Monthly_Loss</th>\n",
       "    </tr>\n",
       "  </thead>\n",
       "  <tbody>\n",
       "    <tr>\n",
       "      <th>0</th>\n",
       "      <td>15</td>\n",
       "      <td>0</td>\n",
       "      <td>32</td>\n",
       "      <td>40</td>\n",
       "      <td>17</td>\n",
       "      <td>14</td>\n",
       "      <td>23</td>\n",
       "      <td>10</td>\n",
       "      <td>882.521838</td>\n",
       "      <td>377.622176</td>\n",
       "      <td>513.026132</td>\n",
       "      <td>277.608744</td>\n",
       "      <td>40759.013576</td>\n",
       "      <td>34865.270191</td>\n",
       "    </tr>\n",
       "    <tr>\n",
       "      <th>1</th>\n",
       "      <td>29</td>\n",
       "      <td>14</td>\n",
       "      <td>21</td>\n",
       "      <td>3</td>\n",
       "      <td>20</td>\n",
       "      <td>15</td>\n",
       "      <td>15</td>\n",
       "      <td>11</td>\n",
       "      <td>1360.074925</td>\n",
       "      <td>325.445409</td>\n",
       "      <td>2167.434823</td>\n",
       "      <td>571.128085</td>\n",
       "      <td>91227.924075</td>\n",
       "      <td>70877.110898</td>\n",
       "    </tr>\n",
       "    <tr>\n",
       "      <th>2</th>\n",
       "      <td>23</td>\n",
       "      <td>4</td>\n",
       "      <td>88</td>\n",
       "      <td>26</td>\n",
       "      <td>16</td>\n",
       "      <td>13</td>\n",
       "      <td>11</td>\n",
       "      <td>13</td>\n",
       "      <td>508.687648</td>\n",
       "      <td>753.263240</td>\n",
       "      <td>435.338250</td>\n",
       "      <td>201.308848</td>\n",
       "      <td>58256.664903</td>\n",
       "      <td>25337.160267</td>\n",
       "    </tr>\n",
       "    <tr>\n",
       "      <th>3</th>\n",
       "      <td>37</td>\n",
       "      <td>33</td>\n",
       "      <td>32</td>\n",
       "      <td>1</td>\n",
       "      <td>24</td>\n",
       "      <td>23</td>\n",
       "      <td>14</td>\n",
       "      <td>21</td>\n",
       "      <td>241.242946</td>\n",
       "      <td>230.827209</td>\n",
       "      <td>463.628617</td>\n",
       "      <td>482.659741</td>\n",
       "      <td>31862.062390</td>\n",
       "      <td>27725.511708</td>\n",
       "    </tr>\n",
       "    <tr>\n",
       "      <th>4</th>\n",
       "      <td>16</td>\n",
       "      <td>11</td>\n",
       "      <td>26</td>\n",
       "      <td>4</td>\n",
       "      <td>19</td>\n",
       "      <td>12</td>\n",
       "      <td>23</td>\n",
       "      <td>13</td>\n",
       "      <td>35.169128</td>\n",
       "      <td>129.777576</td>\n",
       "      <td>1515.726631</td>\n",
       "      <td>868.779109</td>\n",
       "      <td>44874.268222</td>\n",
       "      <td>48381.385275</td>\n",
       "    </tr>\n",
       "  </tbody>\n",
       "</table>\n",
       "</div>"
      ],
      "text/plain": [
       "   Binom_type1  Binom_type2  Binom_type3  Binom_type4  Poisson_type1  \\\n",
       "0           15            0           32           40             17   \n",
       "1           29           14           21            3             20   \n",
       "2           23            4           88           26             16   \n",
       "3           37           33           32            1             24   \n",
       "4           16           11           26            4             19   \n",
       "\n",
       "   Poisson_type2  Poisson_type3  Poisson_type4  Impact_type1  Impact_type2  \\\n",
       "0             14             23             10    882.521838    377.622176   \n",
       "1             15             15             11   1360.074925    325.445409   \n",
       "2             13             11             13    508.687648    753.263240   \n",
       "3             23             14             21    241.242946    230.827209   \n",
       "4             12             23             13     35.169128    129.777576   \n",
       "\n",
       "   Impact_type3  Impact_type4  Binom_Monthly_Loss  Poisson_Monthly_Loss  \n",
       "0    513.026132    277.608744        40759.013576          34865.270191  \n",
       "1   2167.434823    571.128085        91227.924075          70877.110898  \n",
       "2    435.338250    201.308848        58256.664903          25337.160267  \n",
       "3    463.628617    482.659741        31862.062390          27725.511708  \n",
       "4   1515.726631    868.779109        44874.268222          48381.385275  "
      ]
     },
     "execution_count": 185,
     "metadata": {},
     "output_type": "execute_result"
    }
   ],
   "source": [
    "OpRisk['Poisson_Monthly_Loss'] = (OpRisk['Poisson_type1'] * OpRisk['Impact_type1']) + (OpRisk['Poisson_type2'] * OpRisk['Impact_type2']) + (OpRisk['Poisson_type3'] * OpRisk['Impact_type3']) + (OpRisk['Poisson_type4'] * OpRisk['Impact_type4'])\n",
    "OpRisk.head()"
   ]
  },
  {
   "cell_type": "markdown",
   "id": "e99b7982",
   "metadata": {},
   "source": [
    "# Getting Statistical Information on combined dataframe"
   ]
  },
  {
   "cell_type": "code",
   "execution_count": 186,
   "id": "d7b5e322",
   "metadata": {},
   "outputs": [
    {
     "data": {
      "text/html": [
       "<div>\n",
       "<style scoped>\n",
       "    .dataframe tbody tr th:only-of-type {\n",
       "        vertical-align: middle;\n",
       "    }\n",
       "\n",
       "    .dataframe tbody tr th {\n",
       "        vertical-align: top;\n",
       "    }\n",
       "\n",
       "    .dataframe thead th {\n",
       "        text-align: right;\n",
       "    }\n",
       "</style>\n",
       "<table border=\"1\" class=\"dataframe\">\n",
       "  <thead>\n",
       "    <tr style=\"text-align: right;\">\n",
       "      <th></th>\n",
       "      <th>Binom_type1</th>\n",
       "      <th>Binom_type2</th>\n",
       "      <th>Binom_type3</th>\n",
       "      <th>Binom_type4</th>\n",
       "      <th>Poisson_type1</th>\n",
       "      <th>Poisson_type2</th>\n",
       "      <th>Poisson_type3</th>\n",
       "      <th>Poisson_type4</th>\n",
       "      <th>Impact_type1</th>\n",
       "      <th>Impact_type2</th>\n",
       "      <th>Impact_type3</th>\n",
       "      <th>Impact_type4</th>\n",
       "      <th>Binom_Monthly_Loss</th>\n",
       "      <th>Poisson_Monthly_Loss</th>\n",
       "    </tr>\n",
       "  </thead>\n",
       "  <tbody>\n",
       "    <tr>\n",
       "      <th>count</th>\n",
       "      <td>10000.000000</td>\n",
       "      <td>10000.000000</td>\n",
       "      <td>10000.000000</td>\n",
       "      <td>10000.000000</td>\n",
       "      <td>10000.000000</td>\n",
       "      <td>10000.000000</td>\n",
       "      <td>10000.000000</td>\n",
       "      <td>10000.000000</td>\n",
       "      <td>10000.000000</td>\n",
       "      <td>10000.000000</td>\n",
       "      <td>10000.000000</td>\n",
       "      <td>10000.000000</td>\n",
       "      <td>1.000000e+04</td>\n",
       "      <td>10000.000000</td>\n",
       "    </tr>\n",
       "    <tr>\n",
       "      <th>mean</th>\n",
       "      <td>16.643100</td>\n",
       "      <td>16.864000</td>\n",
       "      <td>16.627200</td>\n",
       "      <td>16.319900</td>\n",
       "      <td>16.370400</td>\n",
       "      <td>16.880900</td>\n",
       "      <td>16.662800</td>\n",
       "      <td>16.121200</td>\n",
       "      <td>1206.214047</td>\n",
       "      <td>1365.961041</td>\n",
       "      <td>1053.195282</td>\n",
       "      <td>974.492969</td>\n",
       "      <td>7.575753e+04</td>\n",
       "      <td>76317.967367</td>\n",
       "    </tr>\n",
       "    <tr>\n",
       "      <th>std</th>\n",
       "      <td>15.107069</td>\n",
       "      <td>18.756191</td>\n",
       "      <td>17.368258</td>\n",
       "      <td>16.841696</td>\n",
       "      <td>4.038643</td>\n",
       "      <td>4.142298</td>\n",
       "      <td>4.058318</td>\n",
       "      <td>3.985536</td>\n",
       "      <td>1835.754611</td>\n",
       "      <td>2080.582807</td>\n",
       "      <td>929.744939</td>\n",
       "      <td>814.082165</td>\n",
       "      <td>7.912660e+04</td>\n",
       "      <td>53758.086660</td>\n",
       "    </tr>\n",
       "    <tr>\n",
       "      <th>min</th>\n",
       "      <td>0.000000</td>\n",
       "      <td>0.000000</td>\n",
       "      <td>0.000000</td>\n",
       "      <td>0.000000</td>\n",
       "      <td>3.000000</td>\n",
       "      <td>5.000000</td>\n",
       "      <td>3.000000</td>\n",
       "      <td>4.000000</td>\n",
       "      <td>12.881780</td>\n",
       "      <td>8.633193</td>\n",
       "      <td>46.458521</td>\n",
       "      <td>43.800565</td>\n",
       "      <td>1.171765e+03</td>\n",
       "      <td>10165.275422</td>\n",
       "    </tr>\n",
       "    <tr>\n",
       "      <th>25%</th>\n",
       "      <td>6.000000</td>\n",
       "      <td>4.000000</td>\n",
       "      <td>4.000000</td>\n",
       "      <td>4.000000</td>\n",
       "      <td>14.000000</td>\n",
       "      <td>14.000000</td>\n",
       "      <td>14.000000</td>\n",
       "      <td>13.000000</td>\n",
       "      <td>322.739628</td>\n",
       "      <td>347.922684</td>\n",
       "      <td>470.277835</td>\n",
       "      <td>450.813984</td>\n",
       "      <td>3.160999e+04</td>\n",
       "      <td>44048.328426</td>\n",
       "    </tr>\n",
       "    <tr>\n",
       "      <th>50%</th>\n",
       "      <td>12.000000</td>\n",
       "      <td>11.000000</td>\n",
       "      <td>11.000000</td>\n",
       "      <td>11.000000</td>\n",
       "      <td>16.000000</td>\n",
       "      <td>17.000000</td>\n",
       "      <td>16.000000</td>\n",
       "      <td>16.000000</td>\n",
       "      <td>660.279637</td>\n",
       "      <td>722.295130</td>\n",
       "      <td>781.253778</td>\n",
       "      <td>735.234783</td>\n",
       "      <td>5.430477e+04</td>\n",
       "      <td>63245.786136</td>\n",
       "    </tr>\n",
       "    <tr>\n",
       "      <th>75%</th>\n",
       "      <td>23.000000</td>\n",
       "      <td>24.000000</td>\n",
       "      <td>23.000000</td>\n",
       "      <td>23.000000</td>\n",
       "      <td>19.000000</td>\n",
       "      <td>20.000000</td>\n",
       "      <td>19.000000</td>\n",
       "      <td>19.000000</td>\n",
       "      <td>1384.658684</td>\n",
       "      <td>1526.585948</td>\n",
       "      <td>1323.323045</td>\n",
       "      <td>1230.185799</td>\n",
       "      <td>9.284177e+04</td>\n",
       "      <td>91551.970368</td>\n",
       "    </tr>\n",
       "    <tr>\n",
       "      <th>max</th>\n",
       "      <td>142.000000</td>\n",
       "      <td>160.000000</td>\n",
       "      <td>181.000000</td>\n",
       "      <td>157.000000</td>\n",
       "      <td>35.000000</td>\n",
       "      <td>33.000000</td>\n",
       "      <td>33.000000</td>\n",
       "      <td>32.000000</td>\n",
       "      <td>51565.504767</td>\n",
       "      <td>31836.294146</td>\n",
       "      <td>11486.762585</td>\n",
       "      <td>14151.546484</td>\n",
       "      <td>2.049926e+06</td>\n",
       "      <td>763418.069322</td>\n",
       "    </tr>\n",
       "  </tbody>\n",
       "</table>\n",
       "</div>"
      ],
      "text/plain": [
       "        Binom_type1   Binom_type2   Binom_type3   Binom_type4  Poisson_type1  \\\n",
       "count  10000.000000  10000.000000  10000.000000  10000.000000   10000.000000   \n",
       "mean      16.643100     16.864000     16.627200     16.319900      16.370400   \n",
       "std       15.107069     18.756191     17.368258     16.841696       4.038643   \n",
       "min        0.000000      0.000000      0.000000      0.000000       3.000000   \n",
       "25%        6.000000      4.000000      4.000000      4.000000      14.000000   \n",
       "50%       12.000000     11.000000     11.000000     11.000000      16.000000   \n",
       "75%       23.000000     24.000000     23.000000     23.000000      19.000000   \n",
       "max      142.000000    160.000000    181.000000    157.000000      35.000000   \n",
       "\n",
       "       Poisson_type2  Poisson_type3  Poisson_type4  Impact_type1  \\\n",
       "count   10000.000000   10000.000000   10000.000000  10000.000000   \n",
       "mean       16.880900      16.662800      16.121200   1206.214047   \n",
       "std         4.142298       4.058318       3.985536   1835.754611   \n",
       "min         5.000000       3.000000       4.000000     12.881780   \n",
       "25%        14.000000      14.000000      13.000000    322.739628   \n",
       "50%        17.000000      16.000000      16.000000    660.279637   \n",
       "75%        20.000000      19.000000      19.000000   1384.658684   \n",
       "max        33.000000      33.000000      32.000000  51565.504767   \n",
       "\n",
       "       Impact_type2  Impact_type3  Impact_type4  Binom_Monthly_Loss  \\\n",
       "count  10000.000000  10000.000000  10000.000000        1.000000e+04   \n",
       "mean    1365.961041   1053.195282    974.492969        7.575753e+04   \n",
       "std     2080.582807    929.744939    814.082165        7.912660e+04   \n",
       "min        8.633193     46.458521     43.800565        1.171765e+03   \n",
       "25%      347.922684    470.277835    450.813984        3.160999e+04   \n",
       "50%      722.295130    781.253778    735.234783        5.430477e+04   \n",
       "75%     1526.585948   1323.323045   1230.185799        9.284177e+04   \n",
       "max    31836.294146  11486.762585  14151.546484        2.049926e+06   \n",
       "\n",
       "       Poisson_Monthly_Loss  \n",
       "count          10000.000000  \n",
       "mean           76317.967367  \n",
       "std            53758.086660  \n",
       "min            10165.275422  \n",
       "25%            44048.328426  \n",
       "50%            63245.786136  \n",
       "75%            91551.970368  \n",
       "max           763418.069322  "
      ]
     },
     "execution_count": 186,
     "metadata": {},
     "output_type": "execute_result"
    }
   ],
   "source": [
    "OpRisk.describe()"
   ]
  },
  {
   "cell_type": "markdown",
   "id": "af46d9d8",
   "metadata": {},
   "source": [
    "# 8. Operational Risk Value at Risk Computation"
   ]
  },
  {
   "cell_type": "markdown",
   "id": "1081f4cc",
   "metadata": {},
   "source": [
    "1. Operational Risk Value at Risk using Inverse Binomial and Lognormal Distributions"
   ]
  },
  {
   "cell_type": "code",
   "execution_count": 187,
   "id": "30f13e55",
   "metadata": {},
   "outputs": [
    {
     "name": "stdout",
     "output_type": "stream",
     "text": [
      "Monthly Operational Risk Value at Risk with 95% confidence =   206914.24\n",
      "Maximum Operational Risk Loss =   2049925.56\n",
      "Monthly Operational Risk Value at Risk as per Basel 99% confidence requirements =   377533.47\n",
      "Monthly Operational Risk Expected Loss (Mean)  75757.53\n",
      "Monthly Operational Risk Expected Loss (Median)  54304.77\n",
      "Monthly Operational Risk Unexpected Loss  301775.94\n",
      "Annual Operational Risk Value at Risk with 95% confidence =   716771.94\n"
     ]
    }
   ],
   "source": [
    "# Calculation of Operational Value at Risk using Inverse Binomial and Inverse Lognormal Distributions\n",
    "OpRisk_Monthly_Binom_VaR_95 = OpRisk['Binom_Monthly_Loss'].quantile(0.95)\n",
    "print('Monthly Operational Risk Value at Risk with 95% confidence = ', f\"{OpRisk_Monthly_Binom_VaR_95: .2f}\")\n",
    "OpRisk_Max_Binom_Loss = OpRisk['Binom_Monthly_Loss'].max()\n",
    "print('Maximum Operational Risk Loss = ', f\"{OpRisk_Max_Binom_Loss: .2f}\")\n",
    "OpRisk_Basel_Binom_VaR_99 = OpRisk['Binom_Monthly_Loss'].quantile(0.99)\n",
    "print('Monthly Operational Risk Value at Risk as per Basel 99% confidence requirements = ', f\"{OpRisk_Basel_Binom_VaR_99: .2f}\")\n",
    "OpRisk_Monthly_Binom_EL = OpRisk['Binom_Monthly_Loss'].mean()\n",
    "print('Monthly Operational Risk Expected Loss (Mean)', f\"{OpRisk_Monthly_Binom_EL: .2f}\")\n",
    "OpRisk_Monthly_Binom_Median = OpRisk['Binom_Monthly_Loss'].median()\n",
    "print('Monthly Operational Risk Expected Loss (Median)', f\"{OpRisk_Monthly_Binom_Median: .2f}\")\n",
    "OpRisk_Monthly_Binom_UL = OpRisk_Basel_Binom_VaR_99 - OpRisk_Monthly_Binom_EL\n",
    "print('Monthly Operational Risk Unexpected Loss', f\"{OpRisk_Monthly_Binom_UL: .2f}\")\n",
    "OpRisk_Annual_Binom_VaR_95 = OpRisk_Monthly_Binom_VaR_95 * np.sqrt(12)\n",
    "print('Annual Operational Risk Value at Risk with 95% confidence = ', f\"{OpRisk_Annual_Binom_VaR_95: .2f}\")"
   ]
  },
  {
   "cell_type": "markdown",
   "id": "20b2fb1f",
   "metadata": {},
   "source": [
    "2. Operational Risk Value at Risk using Poisson and Lognormal Distributions"
   ]
  },
  {
   "cell_type": "code",
   "execution_count": 188,
   "id": "fbdcf6eb",
   "metadata": {},
   "outputs": [
    {
     "data": {
      "image/png": "[encoded data removed]",
      "text/plain": [
       "<Figure size 1000x600 with 2 Axes>"
      ]
     },
     "metadata": {},
     "output_type": "display_data"
    }
   ],
   "source": [
    "import matplotlib.ticker as ticker\n",
    "plt.figure(figsize = (10, 6))\n",
    "def format_ticks(x, pos):\n",
    "    return '{:,.0f}'.format(x)\n",
    "plt.subplot(1, 2, 1)\n",
    "sns.histplot(OpRisk['Binom_Monthly_Loss'], bins = 10, color = 'red', edgecolor = 'black')\n",
    "plt.xlabel('Operational Risk Losses')\n",
    "plt.xticks(rotation = 45)\n",
    "plt.ylabel('Frequency of Losses')\n",
    "plt.title('Histogram of Binomial Distribution')\n",
    "plt.gca().xaxis.set_major_formatter(ticker.FuncFormatter(format_ticks))\n",
    "\n",
    "plt.subplot(1, 2, 2)\n",
    "sns.histplot(OpRisk['Poisson_Monthly_Loss'], bins = 10, color = 'green', edgecolor = 'black')\n",
    "plt.xlabel('Operational Risk Losses')\n",
    "plt.xticks(rotation = 45)\n",
    "plt.ylabel('Frequency of Losses')\n",
    "plt.title('Histogram of Poisson Distribution')\n",
    "plt.tight_layout()  \n",
    "plt.show()"
   ]
  },
  {
   "cell_type": "code",
   "execution_count": 189,
   "id": "9c4583f0",
   "metadata": {},
   "outputs": [
    {
     "data": {
      "text/plain": [
       "Text(0.5, 1.0, 'Boxplot Operational Loss using Binomial Distribution')"
      ]
     },
     "execution_count": 189,
     "metadata": {},
     "output_type": "execute_result"
    },
    {
     "data": {
      "image/png": "[encoded data removed]",
      "text/plain": [
       "<Figure size 640x480 with 1 Axes>"
      ]
     },
     "metadata": {},
     "output_type": "display_data"
    }
   ],
   "source": [
    "def format_ticks(x, pos):\n",
    "    return '{:,.0f}'.format(x)\n",
    "sns.boxplot(x = 'Binom_Monthly_Loss', data = OpRisk, showfliers = True, showbox = True)\n",
    "plt.gca().xaxis.set_major_formatter(ticker.FuncFormatter(format_ticks))\n",
    "plt.title('Boxplot Operational Loss using Binomial Distribution')"
   ]
  },
  {
   "cell_type": "code",
   "execution_count": 190,
   "id": "ab534b9e",
   "metadata": {},
   "outputs": [
    {
     "data": {
      "text/plain": [
       "Text(0.5, 1.0, 'Boxplot Operational Loss using Poisson Distribution')"
      ]
     },
     "execution_count": 190,
     "metadata": {},
     "output_type": "execute_result"
    },
    {
     "data": {
      "image/png": "[encoded data removed]",
      "text/plain": [
       "<Figure size 640x480 with 1 Axes>"
      ]
     },
     "metadata": {},
     "output_type": "display_data"
    }
   ],
   "source": [
    "sns.boxplot(x = 'Poisson_Monthly_Loss', data = OpRisk, showfliers = True, showbox = True)\n",
    "plt.title('Boxplot Operational Loss using Poisson Distribution')"
   ]
  },
  {
   "cell_type": "markdown",
   "id": "cfaa0dda",
   "metadata": {},
   "source": [
    "# Observation\n",
    "The histograms of distributions are skewed to the left and show concentration of losses of relatively small amounts, but also tell about presence of esential amounts of outliers with big amounts above 200000."
   ]
  },
  {
   "cell_type": "code",
   "execution_count": 191,
   "id": "6d317fe5",
   "metadata": {},
   "outputs": [
    {
     "name": "stdout",
     "output_type": "stream",
     "text": [
      "Monthly Operational Risk Value at Risk with 95% confidence =  166997.0223834223\n",
      "Maximul Operational Risk Loss =  763418.0693216583\n",
      "Monthly Operational Risk Value at Risk as per Basel 99% confidence requirements =  276556.29697360954\n",
      "Monthly Operational Risk Expected Loss (Mean) 76317.96736674529\n",
      "Monthly Operational Risk Expected Loss (Median) 63245.78613570266\n",
      "Monthly Operational Risk Unexpected Loss 200238.32960686425\n",
      "Annual Operational Risk Value at Risk with 95% confidence =  578494.6549616089\n"
     ]
    }
   ],
   "source": [
    "# Calculation of Operational Value at Risk using Poisson and Inverse Lognormal Distributions\n",
    "OpRisk_Monthly_Poisson_VaR_95 = OpRisk['Poisson_Monthly_Loss'].quantile(0.95)\n",
    "print('Monthly Operational Risk Value at Risk with 95% confidence = ', OpRisk_Monthly_Poisson_VaR_95)\n",
    "OpRisk_Max_Poisson_Loss = OpRisk['Poisson_Monthly_Loss'].max()\n",
    "print('Maximul Operational Risk Loss = ', OpRisk_Max_Poisson_Loss)\n",
    "OpRisk_Basel_Poisson_VaR_99 = OpRisk['Poisson_Monthly_Loss'].quantile(0.99)\n",
    "print('Monthly Operational Risk Value at Risk as per Basel 99% confidence requirements = ', OpRisk_Basel_Poisson_VaR_99)\n",
    "OpRisk_Monthly_Poisson_EL = OpRisk['Poisson_Monthly_Loss'].mean()\n",
    "print('Monthly Operational Risk Expected Loss (Mean)', OpRisk_Monthly_Poisson_EL)\n",
    "OpRisk_Monthly_Poisson_Median = OpRisk['Poisson_Monthly_Loss'].median()\n",
    "print('Monthly Operational Risk Expected Loss (Median)', OpRisk_Monthly_Poisson_Median)\n",
    "OpRisk_Monthly_Poisson_UL = OpRisk_Basel_Poisson_VaR_99 - OpRisk_Monthly_Poisson_EL\n",
    "print('Monthly Operational Risk Unexpected Loss', OpRisk_Monthly_Poisson_UL)\n",
    "OpRisk_Annual_Poisson_VaR_95 = OpRisk_Monthly_Poisson_VaR_95 * np.sqrt(12)\n",
    "print('Annual Operational Risk Value at Risk with 95% confidence = ', OpRisk_Annual_Poisson_VaR_95)"
   ]
  },
  {
   "cell_type": "code",
   "execution_count": 192,
   "id": "7404a18b",
   "metadata": {},
   "outputs": [
    {
     "name": "stdout",
     "output_type": "stream",
     "text": [
      "Operational Risk Value at Risk Calculation using Inverse Binomial Distribution :\n",
      "Monthly Operational Risk Value at Risk with 95% confidence =   206914.24\n",
      "Maximum Operational Risk Loss =   2049925.56\n",
      "Monthly Operational Risk Value at Risk as per Basel with 99% confidence requirements =   377533.47\n",
      "Monthly Operational Risk Expected Loss (Mean)  75757.53\n",
      "Monthly Operational Risk Expected Loss (Median)  54304.77\n",
      "Monthly Operational Risk Unexpected Loss  301775.94\n",
      "Annual Operational Risk Value at Risk with 95% confidence =   716771.94\n",
      "\n",
      "\n",
      "Operational Risk Value at Risk Calculation using Poisson Distribution :\n",
      "Monthly Operational Risk Value at Risk with 95% confidence =   166997.02\n",
      "Maximum Operational Risk Loss =   763418.07\n",
      "Monthly Operational Risk Value at Risk as per Basel with 99% confidence requirements =   276556.30\n",
      "Monthly Operational Risk Expected Loss (Mean)  76317.97\n",
      "Monthly Operational Risk Expected Loss (Median)  63245.79\n",
      "Monthly Operational Risk Unexpected Loss  200238.33\n",
      "Annual Operational Risk Value at Risk with 95% confidence =   578494.65\n"
     ]
    }
   ],
   "source": [
    "# Comparison of results of different approaches (Inverse Binomial and Poisson Distributions) for Operational Risk Value at Risk Calculations\n",
    "\n",
    "print('Operational Risk Value at Risk Calculation using Inverse Binomial Distribution :')\n",
    "print('Monthly Operational Risk Value at Risk with 95% confidence = ', f\"{OpRisk_Monthly_Binom_VaR_95: .2f}\")\n",
    "print('Maximum Operational Risk Loss = ', f\"{OpRisk_Max_Binom_Loss: .2f}\")\n",
    "print('Monthly Operational Risk Value at Risk as per Basel with 99% confidence requirements = ', f\"{OpRisk_Basel_Binom_VaR_99: .2f}\")\n",
    "print('Monthly Operational Risk Expected Loss (Mean)', f\"{OpRisk_Monthly_Binom_EL: .2f}\")\n",
    "print('Monthly Operational Risk Expected Loss (Median)', f\"{OpRisk_Monthly_Binom_Median: .2f}\")\n",
    "print('Monthly Operational Risk Unexpected Loss', f\"{OpRisk_Monthly_Binom_UL: .2f}\")\n",
    "print('Annual Operational Risk Value at Risk with 95% confidence = ', f\"{OpRisk_Annual_Binom_VaR_95: .2f}\")\n",
    "print('')\n",
    "print('')\n",
    "print('Operational Risk Value at Risk Calculation using Poisson Distribution :')\n",
    "print('Monthly Operational Risk Value at Risk with 95% confidence = ', f\"{OpRisk_Monthly_Poisson_VaR_95: .2f}\")\n",
    "print('Maximum Operational Risk Loss = ', f\"{OpRisk_Max_Poisson_Loss: .2f}\")\n",
    "print('Monthly Operational Risk Value at Risk as per Basel with 99% confidence requirements = ', f\"{OpRisk_Basel_Poisson_VaR_99: .2f}\")\n",
    "print('Monthly Operational Risk Expected Loss (Mean)', f\"{OpRisk_Monthly_Poisson_EL: .2f}\")\n",
    "print('Monthly Operational Risk Expected Loss (Median)', f\"{OpRisk_Monthly_Poisson_Median: .2f}\")\n",
    "print('Monthly Operational Risk Unexpected Loss', f\"{OpRisk_Monthly_Poisson_UL: .2f}\")\n",
    "print('Annual Operational Risk Value at Risk with 95% confidence = ', f\"{OpRisk_Annual_Poisson_VaR_95: .2f}\")"
   ]
  },
  {
   "cell_type": "markdown",
   "id": "6b5d2bc2",
   "metadata": {},
   "source": [
    "# Conclusion:\n",
    "Computation of Operational Risk Value at Risk given 2 different approaches for generating operational risk events like Inverse Binomial Distribution and Poisson Distribution and Inverse Lognormal Distribution for generating operational risk losses show significantly different results.\n",
    "For example, Monthly Value at Risk (VaR) with 95% confidence using Binomial Distribution is 206 914.24 and the same using Poisson Distribution is 166 997.02.\n",
    "Monthly VaR with 99% confidence as per Basel Requirements for Binomial Distribution is 377 533.47 and Poisson is 276 556.30.\n",
    "Monthly Expected Loss or Mathematical Expectations (Mean) for Binomial is 75 757.53 and Poisson is 76 317.97, which show relatevly similar values, the same using Median values are for Binomial 54 304.77 and for Poisson 63 245.79. As our distributions are skewed to the left and show many outliers it is recommended to take Median values for Expected Loss instead of Mean values.\n",
    "But Monthly Unexpected Loss for Binomial is 301 775.94 and Poisson is 200 238.33 that has essentially other amounts.\n",
    "Comparison of Annual VaR with 95% confidence also show distinct resuls like 716 771.94 for Binomial and 578 494.65 for Poisson distribution."
   ]
  }
 ],
 "metadata": {
  "kernelspec": {
   "display_name": "Python 3 (ipykernel)",
   "language": "python",
   "name": "python3"
  },
  "language_info": {
   "codemirror_mode": {
    "name": "ipython",
    "version": 3
   },
   "file_extension": ".py",
   "mimetype": "text/x-python",
   "name": "python",
   "nbconvert_exporter": "python",
   "pygments_lexer": "ipython3",
   "version": "3.10.9"
  }
 },
 "nbformat": 4,
 "nbformat_minor": 5
}
